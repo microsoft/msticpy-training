{
 "cells": [
  {
   "attachments": {},
   "cell_type": "markdown",
   "metadata": {},
   "source": [
    "## MSTICPy and Notebooks in InfoSec\n",
    "---\n",
    "\n",
    "# <a style=\"border: solid; padding:5pt; color:black; background-color:#909090\">Session 3 - Acquiring Data Using MSTICPy</a>\n",
    "\n",
    "---\n",
    "\n",
    "## What this session covers:\n",
    " - Setting up query providers\n",
    " - Connecting to providers\n",
    " - Querying for data\n",
    " - Offline data options\n",
    "\n",
    "## Prerequisites\n",
    "- Python >= 3.8 Environment\n",
    "- Jupyter installed\n",
    "- MSTICPy\n",
    "- The msticpyconfig.yaml file you recently populated\n"
   ]
  },
  {
   "attachments": {},
   "cell_type": "markdown",
   "metadata": {},
   "source": [
    "### MSTICPy has a number of supported data providers\n",
    "- Microsoft Sentinel\n",
    "- Microsoft Defender/Defender for Endpoint\n",
    "- Splunk\n",
    "- Sumologic\n",
    "- Microsoft Graph\n",
    "- Local data\n",
    "- Mordor/Security Datasets\n",
    "- Kusto/Azure Data Explorer\n",
    "- Azure Resource Graph\n",
    "\n",
    "These provide way to connect to and query data from these sources in a structured and standardized way.<br>\n",
    "The providers also provide a way to create, store and call templated queries simply and easily.\n",
    "\n",
    "Ref: https://msticpy.readthedocs.io/en/latest/DataAcquisition.html"
   ]
  },
  {
   "cell_type": "code",
   "execution_count": null,
   "metadata": {},
   "outputs": [],
   "source": [
    "#Set up MSTICPy\n",
    "import msticpy as mp \n",
    "mp.init_notebook()"
   ]
  },
  {
   "attachments": {},
   "cell_type": "markdown",
   "metadata": {},
   "source": [
    "The QueryProvider handles this functionality and can be configured to work with the supported data sources.\n",
    "\n",
    "`list_data_environments` shows us the names of the providers available to us."
   ]
  },
  {
   "cell_type": "code",
   "execution_count": null,
   "metadata": {},
   "outputs": [],
   "source": [
    "mp.QueryProvider.list_data_environments()"
   ]
  },
  {
   "attachments": {},
   "cell_type": "markdown",
   "metadata": {},
   "source": [
    "You can then pass the name of the required provider to `QueryProvider`."
   ]
  },
  {
   "cell_type": "code",
   "execution_count": null,
   "metadata": {},
   "outputs": [],
   "source": [
    "qry_prov = mp.QueryProvider(\"MSSentinel\")"
   ]
  },
  {
   "attachments": {},
   "cell_type": "markdown",
   "metadata": {},
   "source": [
    "---\n",
    "\n",
    "# <a style=\"border: solid; padding:5pt; color:black; background-color:#909090\">Authenticating to Providers</a>\n",
    "\n",
    "---\n",
    "\n",
    "Once we have created our QueryProvider for the data source we want the next step is to connect the provider to the source and authenticate. <br>\n",
    "In order to connect we need to tell the provider which instance to connect to, i.e. what workspace, cluster, or database.<br>\n",
    "\n",
    "To do that we need to provide a set of connection parameters or a *connection string*.<br> \n",
    "We can do this **manually** or we can store these details in our `msticpyconfig file` and pull them directly from there.<br>\n",
    "\n",
    "First, we are going to connect using a manually-created connection string, and later using our config file, which is a much more manageable way of handling it.\n",
    "\n",
    "The connection parameters typically require the following information:\n",
    "- An ID of the resource to connect to\n",
    "- An indicator of the credential type you want to use to authenticate\n",
    "- The ID of the authority (AAD) that will authenticate/authorize the connection.\n",
    "- Data source specific parameters (e.g. DefaultDatabase)\n",
    "\n",
    "> Note: Some of these may inherit from your account or other settings\n",
    "\n",
    "The authentication method for the provider will depend on the type of providers, and what is supported.<br>\n",
    "We don't have the breadth to cover all of the options here today but most providers have a authentication method that requires the user to log in each time, either via an interactive login, or device code login.<br>\n",
    "However we can also configure most providers to use tokens already on a host, such as MSI and Azure CLI tokens. This removes the need to authenticate each time.<br>\n",
    "\n",
    "Generally for Microsoft services the following options are supported:\n",
    " - Interactive/Device Code \n",
    " - Azure CLI\n",
    " - MSI\n",
    " - Creds stored as Environment Variables\n",
    " - VSCode or PowerShell Credentials\n",
    "\n",
    "Some other providers (such as Defender) use app level authentication instead. The documentation will detail what authentication options are possible for each provider.\n",
    "\n",
    "### Using an connection string to connect\n",
    "Below we will connect with a specific connection string, and the default auth method for this provider - Device Code.\n",
    "\n",
    "Ref: https://msticpy.readthedocs.io/en/latest/data_acquisition/DataProviders.html"
   ]
  },
  {
   "cell_type": "code",
   "execution_count": null,
   "metadata": {},
   "outputs": [],
   "source": [
    "la_connection_string = f'loganalytics://code().tenant(\"72f988bf-86f1-41af-91ab-2d7cd011db47\").workspace(\"8ecf8077-cf51-4820-aadd-14040956f35d\")'\n",
    "qry_prov.connect(connection_str=la_connection_string)"
   ]
  },
  {
   "attachments": {},
   "cell_type": "markdown",
   "metadata": {},
   "source": [
    "As we can see the above method is a bit cumbersome for every day use - having a more seamless authentication method, and storing workspace details in config is much smoother.\n",
    "\n",
    "To use the a settings from our config instead of the connection string we can use the<br>\n",
    "`workspace` parameter pull the settings from file and pass them to the connection method.<br>\n",
    "\n",
    "We are also going explicitly request to use Azure CLI credentials using the `auth_methods` parameter.<br>\n",
    "You typically don't need to do this unless you want to override the defaults in `msticpyconfig.yaml`\n",
    "<br>\n",
    "\n",
    "---\n",
    "**Note -**\n",
    "You only need to perform the CLI authentication once per token lifetime rather than every time you connect.<br>\n",
    "If you've done this already today, you probably don't need to do it again."
   ]
  },
  {
   "cell_type": "code",
   "execution_count": null,
   "metadata": {},
   "outputs": [],
   "source": [
    "!az login"
   ]
  },
  {
   "attachments": {},
   "cell_type": "markdown",
   "metadata": {},
   "source": [
    "Now when we connect to our QueryProvider we can tell the provider to use CLI authentication. \n",
    "\n",
    "---\n",
    "**Note -**\n",
    "The authentication methods are passed as a list, this is because you can often provide multiple options that it will use in order until it successfully authenticates.\n",
    "\n",
    "If you have configured default credential types in your `msticpyconfig.yaml`,\n",
    "you don't need to use the `auth_methods` parameter unless you\n",
    "need to override these.\n",
    "\n",
    "```yaml\n",
    "Azure:\n",
    "  auth_methods:\n",
    "  - cli\n",
    "  - msi\n",
    "  - devicecode\n",
    "  cloud: global\n",
    "```"
   ]
  },
  {
   "cell_type": "code",
   "execution_count": null,
   "metadata": {},
   "outputs": [],
   "source": [
    "qry_prov = mp.QueryProvider(\"MSSentinel_New\")\n",
    "qry_prov.connect(workspace=\"Default\", auth_methods=['cli'])"
   ]
  },
  {
   "attachments": {},
   "cell_type": "markdown",
   "metadata": {},
   "source": [
    "Once connected we can start running queries to get data.\n",
    "We can do this with the built in queries or with our own queries.\n",
    "\n",
    "We will start with the built in queries. We can list the available queries with `list_queries`.\n",
    "\n",
    "Ref: https://msticpy.readthedocs.io/en/latest/DataAcquisition.html#built-in-data-queries"
   ]
  },
  {
   "cell_type": "code",
   "execution_count": null,
   "metadata": {},
   "outputs": [],
   "source": [
    "qry_prov.list_queries()"
   ]
  },
  {
   "attachments": {},
   "cell_type": "markdown",
   "metadata": {},
   "source": [
    "We can also use `browse` to get a clearer view of what's available\n",
    "\n",
    "<div style=\"border: solid; padding: 5pt; background-color: blue\"><b>Warning</b> BUG - browser is broken</div>"
   ]
  },
  {
   "cell_type": "code",
   "execution_count": null,
   "metadata": {},
   "outputs": [],
   "source": [
    "qry_prov.browse()"
   ]
  },
  {
   "attachments": {},
   "cell_type": "markdown",
   "metadata": {},
   "source": [
    "You can also search for a query:\n",
    "- just supply a string or regex (or a list of search terms) to search over all query metadata\n",
    "- search for queries using a specific table name (`table=\"DeviceProcessEvents\")\n",
    "- search for queries using a specific parameter name\n",
    "\n",
    "Examples:\n",
    "```python\n",
    "qry_prov.search(\"ip_address\")\n",
    "qry_prov.search(\"ip_address\", table=\"Office\")\n",
    "qry_prov.search(param=\"URL\")\n",
    "```"
   ]
  },
  {
   "cell_type": "code",
   "execution_count": null,
   "metadata": {},
   "outputs": [],
   "source": [
    "qry_prov.search(\"Network\")\n"
   ]
  },
  {
   "cell_type": "code",
   "execution_count": null,
   "metadata": {},
   "outputs": [],
   "source": [
    "qry_prov.search(param=\"url\")"
   ]
  },
  {
   "attachments": {},
   "cell_type": "markdown",
   "metadata": {},
   "source": [
    "### Running a query is a function call\n",
    "\n",
    "```python3\n",
    "qry_prov.list_queries()\n",
    "```\n",
    "```\n",
    "['Azure.get_vmcomputer_for_host',\n",
    " 'Azure.get_vmcomputer_for_ip',\n",
    " 'Azure.list_aad_signins_for_account',\n",
    " 'Azure.list_aad_signins_for_ip',\n",
    " 'Azure.list_all_signins_geo',  <<<<--- The query we want\n",
    " 'Azure.list_azure_activity_for_account',\n",
    " 'Azure.list_azure_activity_for_ip',\n",
    " 'Azure.list_azure_activity_for_resource',\n",
    "```\n",
    "\n",
    "Append to the query provider with a dot\n",
    "```python3\n",
    "qry_prov.Azure.list_all_signins_geo()\n",
    "```"
   ]
  },
  {
   "cell_type": "code",
   "execution_count": null,
   "metadata": {},
   "outputs": [],
   "source": [
    "df = qry_prov.Azure.list_all_signins_geo()\n",
    "df.head()"
   ]
  },
  {
   "attachments": {},
   "cell_type": "markdown",
   "metadata": {},
   "source": [
    "Some queries require parameters such as a account or host name to search for results in."
   ]
  },
  {
   "cell_type": "code",
   "execution_count": null,
   "metadata": {},
   "outputs": [],
   "source": [
    "help(qry_prov.Office365.list_activity_for_account)"
   ]
  },
  {
   "cell_type": "code",
   "execution_count": null,
   "metadata": {},
   "outputs": [],
   "source": [
    "office_activity = qry_prov.Office365.list_activity_for_account(account_name=\"KDickens@seccxp.ninja\")\n",
    "office_activity.head()"
   ]
  },
  {
   "attachments": {},
   "cell_type": "markdown",
   "metadata": {},
   "source": [
    "### Debug Tip\n",
    "\n",
    "You can get a clearer view of what a built in query actually is by adding the `\"print\"` keyword as the first parameter when calling it.<br>\n",
    "This will printed the parameterized query rather than run it. The printed query will include any parameter values you passed it."
   ]
  },
  {
   "cell_type": "code",
   "execution_count": null,
   "metadata": {},
   "outputs": [],
   "source": [
    "from pprint import pprint\n",
    "query_text = qry_prov.Office365.list_activity_for_account(\"print\", account_name=\"KDickens@seccxp.ninja\")\n",
    "pprint(query_text)\n"
   ]
  },
  {
   "cell_type": "code",
   "execution_count": null,
   "metadata": {},
   "outputs": [],
   "source": [
    "from rich import print as rprint\n",
    "rprint(qry_prov.Office365.list_activity_for_account(\"print\", account_name=\"KDickens@seccxp.ninja\"))"
   ]
  },
  {
   "attachments": {},
   "cell_type": "markdown",
   "metadata": {},
   "source": [
    "## Where is it getting the start/end time parameters from?\n",
    "\n",
    "Every query provider has a `query_time` attribute that you can set\n",
    "the time boundaries of the query.\n",
    "\n",
    "Having a single query timespan is useful when you are doing lots\n",
    "of related queries.\n"
   ]
  },
  {
   "cell_type": "code",
   "execution_count": null,
   "metadata": {},
   "outputs": [],
   "source": [
    "qry_prov.query_time"
   ]
  },
  {
   "attachments": {},
   "cell_type": "markdown",
   "metadata": {},
   "source": [
    "You can also supply these parameters manually\n",
    "- as datetimes\n",
    "- as a parsable datestring"
   ]
  },
  {
   "cell_type": "code",
   "execution_count": null,
   "metadata": {},
   "outputs": [],
   "source": [
    "office_activity = qry_prov.Office365.list_activity_for_account(\n",
    "    account_name=\"KDickens@seccxp.ninja\",\n",
    "    start=\"2023-06-22 00:00:00\",\n",
    "    end=\"2023-06-23 00:00:00\"\n",
    ")\n",
    "office_activity.head()"
   ]
  },
  {
   "cell_type": "code",
   "execution_count": null,
   "metadata": {},
   "outputs": [],
   "source": [
    "from msticpy.nbwidgets import QueryTime\n",
    "qt = QueryTime(start=\"2023-06-20 00:00:00\", end=\"2023-06-21 00:00:00\")\n",
    "display(qt)\n",
    "qry_prov.Office365.list_activity_for_account(\n",
    "    account_name=\"KDickens@seccxp.ninja\",\n",
    "    start=qt.start,\n",
    "    end=qt.end,\n",
    ")\n"
   ]
  },
  {
   "attachments": {},
   "cell_type": "markdown",
   "metadata": {},
   "source": [
    "## Extending queries with the `add_query_items` parameter\n",
    "\n",
    "We can also customize built in queries with by adding query items to them."
   ]
  },
  {
   "cell_type": "code",
   "execution_count": null,
   "metadata": {},
   "outputs": [],
   "source": [
    "office_activity_filtered = qry_prov.Office365.list_activity_for_account(\n",
    "    account_name=\"KDickens@seccxp.ninja\",\n",
    "    add_query_items=\"| where Operation != 'MailItemsAccessed'\"\n",
    ")\n",
    "office_activity_filtered.head()"
   ]
  },
  {
   "attachments": {},
   "cell_type": "markdown",
   "metadata": {},
   "source": [
    "You can also add your own built in queries by specifying them in a yaml file and adding the required path to your msticpyconfig.yaml file. "
   ]
  },
  {
   "attachments": {},
   "cell_type": "markdown",
   "metadata": {},
   "source": [
    "We can also use `exec_query` to run our own queries."
   ]
  },
  {
   "cell_type": "code",
   "execution_count": null,
   "metadata": {},
   "outputs": [],
   "source": [
    "query = \"\"\"\n",
    "OfficeActivity \n",
    "| where TimeGenerated > ago(7d) \n",
    "| where UserId =~ 'KDickens@seccxp.ninja' \n",
    "| summarize count() by Operation\n",
    "\"\"\"\n",
    "custom_query_df = qry_prov.exec_query(query)\n",
    "custom_query_df"
   ]
  },
  {
   "attachments": {},
   "cell_type": "markdown",
   "metadata": {},
   "source": [
    "When writing our own queries for a Log Analytics (or Kusto) based data source we can check the schema of any table in our connected workspace with `.schema`.<br>\n",
    "This will return a dictionary with all the tables, their column names, and the data type of each field."
   ]
  },
  {
   "cell_type": "code",
   "execution_count": null,
   "metadata": {},
   "outputs": [],
   "source": [
    "qry_prov.schema['W3CIISLog']"
   ]
  },
  {
   "attachments": {},
   "cell_type": "markdown",
   "metadata": {},
   "source": [
    "---\n",
    "**Extra**\n",
    "\n",
    "It is also possible to add your own queries to the built in queries in MSTICPy.<br>\n",
    "See this document in our ReadTheDocs documentation\n",
    "In addition our documentation shows how to structure the required files and reference them in your configuration.<br>\n",
    "Adding queries to MSTICPy: https://msticpy.readthedocs.io/en/latest/extending/Queries.html<br>\n",
    "Also see this notebook: https://github.com/ianhelle/pycon2021/blob/main/Extending-MSTICPy.ipynb<br>\n"
   ]
  },
  {
   "attachments": {},
   "cell_type": "markdown",
   "metadata": {},
   "source": [
    "## <a style=\"border: solid; padding:5pt; color:black; background-color:#309030\">1st Exercise - Run a query</a>\n",
    "\n",
    "Execute a query against the created `qry_prov`. This can be a built in query or a custom query - its up to you.\n",
    "\n",
    "If using a built-in query, experiment with changing the `qry_prov.query_time` time range.\n",
    "\n",
    "<details>\n",
    "<summary>Hints...</summary>\n",
    "<ul>\n",
    "<li>If you add \"print\" as a parameter when calling a query it will print out the query rather than executing it.</li>\n",
    "<li>help(qry_prov.CAT.query_name) will show you the code and required params need to run each query in there</li>\n",
    "<li>qry_prov.SecurityAlert.list_alerts() doesn't need any extra parameters - uses the time defaults</li>\n",
    "</ul>\n",
    "</details>\n"
   ]
  },
  {
   "cell_type": "code",
   "execution_count": null,
   "metadata": {},
   "outputs": [],
   "source": [
    "qry_prov.SecurityAlert.list_alerts()"
   ]
  },
  {
   "attachments": {},
   "cell_type": "markdown",
   "metadata": {},
   "source": [
    "---\n",
    "\n",
    "# <a style=\"border: solid; padding:5pt; color:black; background-color:#909090\">Kusto</a>\n",
    "\n",
    "---\n",
    "\n",
    "Sentinel isn't the only data provider available and we have plenty more that we can use to connect to.<br>\n",
    "Kusto is a popular data source for a lot of uses.\n",
    "\n",
    "We added Kusto cluster to our `msticpyconfig.yaml` file in the previous session. We will use this Kusto cluster (`https://msticpytraining.eastus.kusto.windows.net`)."
   ]
  },
  {
   "cell_type": "code",
   "execution_count": null,
   "metadata": {},
   "outputs": [],
   "source": [
    "from msticpy.config import  MpConfigEdit\n",
    "\n",
    "mp.get_config(\"KustoClusters\")"
   ]
  },
  {
   "attachments": {},
   "cell_type": "markdown",
   "metadata": {},
   "source": [
    "\n",
    "\n",
    "## <a style=\"border: solid; padding:5pt; color:black; background-color:#309030\">2nd Exercise - Kusto</a>\n",
    "\n",
    "1. Connect to the Kusto cluster https://msticpytraining.eastus.kusto.windows.net/ and the `msticpydata` database. <br>\n",
    "2. Run a query to understand the schema of the Syslog table and get some data\n",
    "\n",
    "\n",
    "<details>\n",
    "<summary>Hints...</summary>\n",
    "<ul>\n",
    "<li>You need to specify a cluster to connect to - the cluster can be specified as:\n",
    "    <ul>\n",
    "    <li>A cluster friendly name - the entry name in our configuration</li>\n",
    "    <li>The full URL</li>\n",
    "    <li>Just the host part of the URL - e.g. \"msticpytraining\"</li>\n",
    "    </ul>\n",
    "</li>\n",
    "<li>We gave the Kusto cluster the short name \"Kusto-Firecon23\" in our config.</li>\n",
    "<li>https://msticpy.readthedocs.io/en/latest/data_acquisition/DataProv-Kusto-New.html has the details you need</li>\n",
    "<li>The query <pre>`Syslog | getschema`</pre> returns the schema of the Syslog table.</li>\n",
    "<li>You can specify the default database in the 'connect' call (database=\"msticpydata\") or passing this parameter\n",
    "to 'exec_query()'\n",
    "</li>\n",
    "<li>You can also get the schema using the qry_prov.get_database_schema() function</li>\n",
    "</ul>\n",
    "</details>\n"
   ]
  },
  {
   "cell_type": "code",
   "execution_count": null,
   "metadata": {},
   "outputs": [],
   "source": [
    "kusto_prov = mp.QueryProvider(\"Kusto_New\")\n",
    "# your answer here...\n"
   ]
  },
  {
   "attachments": {},
   "cell_type": "markdown",
   "metadata": {},
   "source": [
    "There are also some helper functions in the Kusto query provider\n",
    "to retrieve the schema:\n",
    "- `qry_prov.get_database_schema(<database>)`\n",
    "- `qry_prov.schema[<TableName>]`"
   ]
  },
  {
   "cell_type": "code",
   "execution_count": null,
   "metadata": {},
   "outputs": [],
   "source": [
    "# Using the get_database_schema method\n",
    "print(\"get_database_schema\")\n",
    "display(kusto_prov.get_database_schema(\"msticpydata\")[\"Syslog\"])\n",
    "\n",
    "# setting a default database and using the schema property\n",
    "print(\"schema attribute\")\n",
    "kusto_prov.set_database(\"msticpydata\")\n",
    "kusto_prov.schema[\"Syslog\"]"
   ]
  },
  {
   "attachments": {},
   "cell_type": "markdown",
   "metadata": {},
   "source": [
    "---\n",
    "\n",
    "# <a style=\"border: solid; padding:5pt; color:black; background-color:#909090\">Microsoft Defender</a>\n",
    "\n",
    "---\n",
    "Some data providers have different connection options, for example the Microsoft Defender for Endpoint and Microsoft 365 Defender APIs require a client application to handle authentication.<br>\n",
    "You can pass in these application details when connecting but if we are using an application secret its better to keep these in KeyVault and reference them in our config file."
   ]
  },
  {
   "cell_type": "code",
   "execution_count": null,
   "metadata": {},
   "outputs": [],
   "source": [
    "# if you didn't run these earlier in the notebook\n",
    "# import msticpy as mp \n",
    "# mp.init_notebook()"
   ]
  },
  {
   "attachments": {},
   "cell_type": "markdown",
   "metadata": {},
   "source": [
    "You can store multiple instances in your config file. To select what instance to connect to use the `instance` keyword.<br>\n",
    "In this example we will connect to our pre-configured Training instance.\n",
    "\n",
    "Ref: https://msticpy.readthedocs.io/en/latest/data_acquisition/DataProv-MSDefender.html#connecting-to-m365-defender"
   ]
  },
  {
   "cell_type": "code",
   "execution_count": null,
   "metadata": {},
   "outputs": [],
   "source": [
    "defender_prov = mp.QueryProvider(\"M365D\")\n",
    "defender_prov.connect()"
   ]
  },
  {
   "cell_type": "code",
   "execution_count": null,
   "metadata": {},
   "outputs": [],
   "source": [
    "defender_prov.list_queries()"
   ]
  },
  {
   "attachments": {},
   "cell_type": "markdown",
   "metadata": {},
   "source": [
    "We can also execute our own queries in the same format as with the other providers."
   ]
  },
  {
   "cell_type": "code",
   "execution_count": null,
   "metadata": {},
   "outputs": [],
   "source": [
    "defender_prov.exec_query(\"DeviceInfo | take 10\")"
   ]
  },
  {
   "attachments": {},
   "cell_type": "markdown",
   "metadata": {},
   "source": [
    "## <a style=\"border: solid; padding:5pt; color:black; background-color:#309030\">3rd Exercise - Defender Investigation</a>\n",
    "\n",
    "1. Find the remote IP address associated MDE connections to the URL 'davlenwindows.com' on 10/14/2022\n",
    "2. Find all the hosts that have connected to that URL address since 10/01/2022\n",
    "3. Get the file hash of the initiating process for these connections on 10/14/2022 and get all the files names associated with this hash on that day\n",
    "\n",
    "\n",
    "<details>\n",
    "<summary>Hints...</summary>\n",
    "<ul>\n",
    "<li>You can do this with built in queries or your own queries</li>\n",
    "<li>The Query Browser is your friend `qry_prov.browse()`</li>\n",
    "<li>Don't forget you can use add_query_items to add to the built in queries to customize the returned data.</li>\n",
    "</ul>\n",
    "</details>"
   ]
  },
  {
   "cell_type": "code",
   "execution_count": null,
   "metadata": {},
   "outputs": [],
   "source": []
  },
  {
   "attachments": {},
   "cell_type": "markdown",
   "metadata": {},
   "source": [
    "---\n",
    "\n",
    "# <a style=\"border: solid; padding:5pt; color:black; background-color:#909090\">Azure Resource Graph</a>\n",
    "\n",
    "---\n",
    "\n",
    "\n",
    "The Azure Resource graph provides a way to get details about Azure Resources using KQL, this is something that is really useful to adding context during an investigation.<br>\n",
    "Below we are going to load our Resource Graph provider and connect using the Azure CLI tokens that we generated earlier."
   ]
  },
  {
   "cell_type": "code",
   "execution_count": null,
   "metadata": {},
   "outputs": [],
   "source": [
    "res_qry_prov = mp.QueryProvider(\"ResourceGraph\")\n",
    "res_qry_prov.connect()"
   ]
  },
  {
   "attachments": {},
   "cell_type": "markdown",
   "metadata": {},
   "source": [
    "As with the other providers we can use in built queries or write our own custom queries. Hopefully by now you are familiar with this model and concept."
   ]
  },
  {
   "attachments": {},
   "cell_type": "markdown",
   "metadata": {},
   "source": [
    "\n",
    "## <a style=\"border: solid; padding:5pt; color:black; background-color:#309030\">4th Exercise - Azure Resource Graph</a>\n",
    "\n",
    " 1 . Find out how many KeyVaults that you have access to. <br>\n",
    " 2. What resources exist in the msticpy resource group.<br>\n",
    " 3. Find the Key Vault that is detailed in your msticpyconfig.yaml file<br>\n",
    "\n",
    "\n",
    "<details>\n",
    "<summary>Hints...</summary>\n",
    "<ul>\n",
    "<li>All data in the Resource Graph is in the Resources table</li>\n",
    "<li>https://learn.microsoft.com/en-us/azure/governance/resource-graph/samples/starter?tabs=azure-cli gives you some query examples</li>\n",
    "<li>`Resources | where type =~ 'microsoft.keyvault/vaults' will show you all Keyvaults</li>\n",
    "<li>You will need to use .exec_query here</li>\n",
    "</ul>\n",
    "</details>\n"
   ]
  },
  {
   "cell_type": "code",
   "execution_count": null,
   "metadata": {},
   "outputs": [],
   "source": [
    "res_qry_prov.exec_query(\"\"\"\n",
    "Resources \n",
    "| where type contains 'key' \n",
    "| summarize count() by type, kind \n",
    "| order by count_ desc\n",
    "\"\"\")"
   ]
  },
  {
   "attachments": {},
   "cell_type": "markdown",
   "metadata": {},
   "source": [
    "\n",
    "## <a style=\"border: solid; padding:5pt; color:black; background-color:#309030\">Bonus Exercise - Azure Resource Graph</a>\n",
    "\n",
    "CDOC received a report that the VM MSTICAlertsWin1 has been compromised.\n",
    "You need to answer the following questions:\n",
    "1. Is this a real host?\n",
    "2. Is it currently in use?\n",
    "3. What IPs is it associated with?\n",
    "4. Is it a production host?\n",
    "5. What other resources might have been compromised?\n",
    "6. Are there any users we can contact about this host?\n",
    "\n",
    "\n",
    "Hints:\n",
    "VMs type = \"microsoft.compute/virtualmachines\"\n",
    "NetInterface type = \"microsoft.network/networkinterfaces\"\n",
    "Interface VM = \"properties.virtualMachine.id\"\n",
    "\n",
    "\n"
   ]
  },
  {
   "cell_type": "code",
   "execution_count": null,
   "metadata": {},
   "outputs": [],
   "source": [
    "vm_df = res_qry_prov.exec_query(\"\"\"\n",
    "Resources \n",
    "| where type == 'microsoft.compute/virtualmachines' \n",
    "| where name contains 'MSTIC'\n",
    "\"\"\").dropna(axis=1)\n",
    "vm_df.head()"
   ]
  },
  {
   "cell_type": "code",
   "execution_count": null,
   "metadata": {},
   "outputs": [],
   "source": [
    "id = vm_df.iloc[0].id\n",
    "interface_df = res_qry_prov.exec_query(f\"\"\"\n",
    "Resources \n",
    "| where type == 'microsoft.network/networkinterfaces' \n",
    "| where properties.virtualMachine.id == '{id}'\n",
    "\"\"\").dropna(axis=1)\n",
    "interface_df.head()"
   ]
  },
  {
   "cell_type": "code",
   "execution_count": null,
   "metadata": {},
   "outputs": [],
   "source": [
    "interface_df.iloc[0][\"properties.ipConfigurations\"]"
   ]
  },
  {
   "cell_type": "code",
   "execution_count": null,
   "metadata": {},
   "outputs": [],
   "source": [
    "public_ip = interface_df.iloc[0][\"properties.ipConfigurations\"][0][\"properties\"][\"publicIPAddress\"][\"id\"]\n",
    "\n",
    "pub_ip_df = res_qry_prov.exec_query(f\"\"\"\n",
    "Resources \n",
    "| where id == '{public_ip}'\n",
    "\"\"\").dropna(axis=1)\n",
    "pub_ip_df.head()"
   ]
  },
  {
   "attachments": {},
   "cell_type": "markdown",
   "metadata": {},
   "source": [
    "---\n",
    "\n",
    "# <a style=\"border: solid; padding:5pt; color:black; background-color:#909090\">The <b>Panel</b> DataViewer</a>\n",
    "\n",
    "---\n",
    "\n",
    "\n",
    "- Uses [Holoviz Panel](https://panel.holoviz.org/) to display interactive data widget\n",
    "- Uses the [Tabulator widget](https://panel.holoviz.org/reference/widgets/Tabulator.html)\n",
    "- Requires `panel` to be installed (you should have this installed - `pip install msticpy[all]`)\n",
    "\n",
    "Benefits\n",
    "- Allows interactive:\n",
    "  - Filtering\n",
    "  - Sorting\n",
    "  - Column selection\n",
    "- Uses paging and scrolling by default\n",
    "- Row selection can return indices or dataframe subset\n",
    "- Works in most notebook environments - does not require Jupyter or Jupyterlab extension\n",
    "- Has many built-in capabilities - parameters passed to underlying control"
   ]
  },
  {
   "cell_type": "code",
   "execution_count": null,
   "metadata": {},
   "outputs": [],
   "source": [
    "# Get some data to display\n",
    "result_df = qry_prov.MDE.list_host_processes(host_name=\"workstation8.seccxp.ninja\")"
   ]
  },
  {
   "cell_type": "code",
   "execution_count": null,
   "metadata": {},
   "outputs": [],
   "source": [
    "result_df.head()"
   ]
  },
  {
   "cell_type": "code",
   "execution_count": null,
   "metadata": {},
   "outputs": [],
   "source": [
    "from msticpy.vis.data_viewer import DataViewer\n",
    "dv = DataViewer(result_df)\n",
    "dv"
   ]
  },
  {
   "cell_type": "code",
   "execution_count": null,
   "metadata": {},
   "outputs": [],
   "source": [
    "result_df.columns"
   ]
  },
  {
   "cell_type": "code",
   "execution_count": null,
   "metadata": {},
   "outputs": [],
   "source": [
    "selected_columns = [\n",
    "    \"TimeGenerated\"\n",
    "    \"AccountName\",\n",
    "    \"FileName\",\n",
    "    \"ProcessCommandLine\",\n",
    "    \"InitiatingProcessFileName\",\n",
    "    \"InitiatingProcessCommandLine\",\n",
    "]\n",
    "dv = DataViewer(\n",
    "    data=result_df, \n",
    "    selected_cols=selected_columns,\n",
    ")\n",
    "dv"
   ]
  },
  {
   "cell_type": "code",
   "execution_count": null,
   "metadata": {},
   "outputs": [],
   "source": [
    "dv = DataViewer(\n",
    "    data=result_df, \n",
    "    selected_cols=selected_columns,\n",
    "    detail_cols=[\"ProcessCommandLine\", \"InitiatingProcessCommandLine\"],\n",
    ")\n",
    "dv"
   ]
  },
  {
   "cell_type": "code",
   "execution_count": null,
   "metadata": {},
   "outputs": [],
   "source": [
    "dv.selection"
   ]
  },
  {
   "cell_type": "code",
   "execution_count": null,
   "metadata": {},
   "outputs": [],
   "source": [
    "dv.selected_dataframe"
   ]
  }
 ],
 "metadata": {
  "kernelspec": {
   "display_name": "Python 3.8.10 ('dev38')",
   "language": "python",
   "name": "python3"
  },
  "language_info": {
   "codemirror_mode": {
    "name": "ipython",
    "version": 3
   },
   "file_extension": ".py",
   "mimetype": "text/x-python",
   "name": "python",
   "nbconvert_exporter": "python",
   "pygments_lexer": "ipython3",
   "version": "3.11.3"
  },
  "orig_nbformat": 4,
  "vscode": {
   "interpreter": {
    "hash": "739aa94d41434660cad201339437bbf6f0b217d6c8b6dd6d17fce87baec5c88f"
   }
  }
 },
 "nbformat": 4,
 "nbformat_minor": 2
}
