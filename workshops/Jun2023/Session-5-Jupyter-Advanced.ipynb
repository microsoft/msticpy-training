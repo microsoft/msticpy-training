{
 "cells": [
  {
   "cell_type": "markdown",
   "metadata": {},
   "source": [
    "## MSTICPy and Notebooks in InfoSec\n",
    "\n",
    "---\n",
    "\n",
    "<h1 style=\"border: solid; padding:5pt; color:black; background-color:#909090\">Session 5 - Jupyter Notebooks (more) Advanced</h1>\n",
    "\n",
    "---\n",
    "\n",
    "## What this session covers:\n",
    "\n",
    "* Jupyter Kernels & Python environments\n",
    "* Notebook magics\n",
    "* Widgets introduction\n",
    "* Troubleshooting and debugging notebooks\n",
    "\n",
    "\n",
    "## Prerequisites\n",
    "- Python >= 3.8 Environment\n",
    "- Jupyter installed\n",
    "- MSTICPy installed\n",
    "\n",
    "## Recommended\n",
    "- VS Code\n"
   ]
  },
  {
   "cell_type": "markdown",
   "metadata": {},
   "source": [
    "---\n",
    "\n",
    "# <a style=\"border: solid; padding:5pt; color:black; background-color:#909090\">Jupyter Kernels & Python environments</a>\n",
    "\n",
    "---\n",
    "\n",
    "Python environments let you create \"isolated\" installations with independent versions of packages.\n",
    "\n",
    "This is usually **A VERY GOOD IDEA**!\n"
   ]
  },
  {
   "cell_type": "markdown",
   "metadata": {},
   "source": [
    "## <a style=\"border: solid; padding:5pt; color:black; background-color:#309030\">Task 1 - Create a Python/Conda Environment</a>\n",
    "\n",
    "1. Open a terminal (in VS Code/Anaconda prompt)\n",
    "2. Enter the following commands (depending on your environment)\n",
    "\n",
    "Conda\n",
    "\n",
    "```\n",
    "conda create -n firecon22\n",
    "conda activate firecon22\n",
    "conda install pip\n",
    "```\n",
    "\n",
    "Linux\n",
    "\n",
    "```\n",
    "python -m venv firecon22\n",
    "source ./firecon22/Scripts/activate\n",
    "```\n",
    "\n",
    "Windows\n",
    "\n",
    "```\n",
    "python -m venv firecon22\n",
    ".\\firecon22\\Scripts\\activate\n",
    "```\n",
    "\n"
   ]
  },
  {
   "cell_type": "markdown",
   "metadata": {},
   "source": [
    "\n",
    "## Using different Python Kernels with Jupyter\n",
    "\n",
    "> Note: VSCode seems to be able to use Python or Conda environments for notebooks without installing a kernel.<br>\n",
    "> However, installing a dedicated ipykernel is needed for debugging.\n",
    "\n",
    "## <a style=\"border: solid; padding:5pt; color:black; background-color:#309030\">Task 2 - install an IPython kernel for your environment</a>\n",
    "\n",
    "1. Install `ipykernel`\n",
    "    ```\n",
    "        python -m pip install ipykernel\n",
    "    ```\n",
    "    ....or\n",
    "    ```\n",
    "        conda install ipykernel\n",
    "    ```\n",
    "\n",
    "2. Create an IPython kernel for notebooks for your environment\n",
    "    ```\n",
    "        python -m ipykernel install --user --name firecon22 --display-name \"Python3 (firecon22)\"\n",
    "    ```"
   ]
  },
  {
   "cell_type": "markdown",
   "metadata": {},
   "source": [
    "---\n",
    "\n",
    "## Addendum - removing unneeded kernels/environments\n",
    "\n",
    "```\n",
    "jupyter kernelspec remove KERNELNAME\n",
    "\n",
    "```\n",
    "\n",
    "Example\n",
    "\n",
    "```\n",
    "(base) e:\\src\\test>jupyter kernelspec list\n",
    "Available kernels:\n",
    "  firecon22              C:\\Users\\Ian\\AppData\\Roaming\\jupyter\\kernels\\firecon22\n",
    "  msticpy                C:\\Users\\Ian\\AppData\\Roaming\\jupyter\\kernels\\msticpy\n",
    "  py-jupyter-sentinel    C:\\Users\\Ian\\AppData\\Roaming\\jupyter\\kernels\\py-jupyter-sentinel\n",
    "  python3                C:\\Users\\Ian\\AppData\\Roaming\\jupyter\\kernels\\python3\n",
    "  bluehound              C:\\ProgramData\\jupyter\\kernels\\bluehoundon\n",
    "\n",
    "\n",
    "(base) e:\\src\\test>jupyter kernelspec remove firecon22\n",
    "Kernel specs to remove:\n",
    "  firecon22         C:\\Users\\Ian\\AppData\\Roaming\\jupyter\\kernels\\firecon22\n",
    "Remove 1 kernel specs [y/N]: y\n",
    "[RemoveKernelSpec] Removed C:\\Users\\Ian\\AppData\\Roaming\\jupyter\\kernels\\firecon22\n",
    "```\n",
    "\n",
    "Remove the environment if you don't need it\n",
    "\n",
    "Python venv - just delete the venv folder\n",
    "\n",
    "Conda\n",
    "```\n",
    "conda remove --all -n MyNewCondaEnv\n",
    "```"
   ]
  },
  {
   "cell_type": "markdown",
   "metadata": {},
   "source": [
    "---\n",
    "\n",
    "# <a style=\"border: solid; padding:5pt; color:black; background-color:#909090\">Troubleshooting exceptions and debugging</a>\n",
    "\n",
    "---\n",
    "\n",
    "### A Python exception"
   ]
  },
  {
   "cell_type": "code",
   "execution_count": null,
   "metadata": {},
   "outputs": [],
   "source": [
    "# Bad code example\n",
    "\n",
    "def bad_func(param1, param2):\n",
    "    \"\"\"What could possibly go wrong.\"\"\"\n",
    "    return param1 + param2\n",
    "\n",
    "def func_in_middle(*args):\n",
    "    \"\"\"It's not my problem\"\"\"\n",
    "    return bad_func(*args)\n",
    "\n",
    "def hapless():\n",
    "    \"\"\"I'm just hoping for the best.\"\"\"\n",
    "    print(func_in_middle(1, 2))\n",
    "    print(func_in_middle(\"Hello\", \"World\"))\n",
    "    print(func_in_middle(\"Hello\", 1))\n",
    "\n",
    "\n",
    "hapless()"
   ]
  },
  {
   "cell_type": "markdown",
   "metadata": {},
   "source": [
    "### Use %tb to review last traceback\n",
    "<p style=\"font-family:consolas; font-size:15pt; color:green\">\n",
    "%tb\n",
    "</p>\n"
   ]
  },
  {
   "cell_type": "code",
   "execution_count": null,
   "metadata": {},
   "outputs": [],
   "source": [
    "%tb"
   ]
  },
  {
   "cell_type": "markdown",
   "metadata": {},
   "source": [
    "## <a style=\"border: solid; padding:5pt; color:black; background-color:#309030\">Task 3 - Use `%xmode` magic to diagnose the error</a>\n",
    "\n",
    "1. Turn on verbose traceback mode\n",
    "2. Redisplay the traceback and identify the code error\n",
    "\n",
    "Syntax:\n",
    "<p style=\"font-family:consolas; font-size:15pt; color:green\">\n",
    "%mode { Verbose | Context | Plain | Minimal }\n",
    "</p>\n",
    "\n",
    "<details>\n",
    "<summary>Hints...</summary>\n",
    "<ul>\n",
    "<li>Type the following into a cell and run to turn on parameter values.\n",
    "<pre>%xmode verbose</pre> </li>\n",
    "<li>Type the following into a cell to view the last error.\n",
    "<pre>%tb</pre>\n",
    "</li>\n",
    "<ul>\n",
    "</details>"
   ]
  },
  {
   "cell_type": "code",
   "execution_count": null,
   "metadata": {},
   "outputs": [],
   "source": []
  },
  {
   "cell_type": "code",
   "execution_count": null,
   "metadata": {},
   "outputs": [],
   "source": []
  },
  {
   "cell_type": "markdown",
   "metadata": {},
   "source": [
    "## Exceptions within Exceptions"
   ]
  },
  {
   "cell_type": "code",
   "execution_count": null,
   "metadata": {},
   "outputs": [],
   "source": [
    "def func_in_middle2(*args):\n",
    "    \"\"\"It's not my problem but let me try to fix things\"\"\"\n",
    "    try:\n",
    "        return bad_func(*args)\n",
    "    except TypeError as err:\n",
    "        return \"\".join(str(arg.value) for arg in args)\n",
    "    except Exception as err:\n",
    "        raise RuntimeError(\"Something terrible happened\") from err\n",
    "\n",
    "def hapless2():\n",
    "    \"\"\"I'm just hoping for the best.\"\"\"\n",
    "    print(func_in_middle(1, 2))\n",
    "    print(func_in_middle(\"Hello\", \"World\"))\n",
    "    print(func_in_middle2(\"Hello\", 1))\n",
    "\n",
    "\n",
    "hapless2()"
   ]
  },
  {
   "cell_type": "markdown",
   "metadata": {},
   "source": [
    "## <a style=\"border: solid; padding:5pt; color:black; background-color:#309030\">Task 4 - Debugging from VS Code</a>\n",
    "\n",
    "If you are running in VS Code do one of the following:\n",
    "- Hover mouse to the right of the line number and click on the red circle\n",
    "- Put the cursor on the line and press F9\n",
    "- Ctrl-Shift-P -> debug toggle breakpoint\n",
    "\n",
    "Then\n",
    "- Hover over execution arrow and select Debug\n",
    "- Press Ctrl-Shift-Alt-Enter\n"
   ]
  },
  {
   "cell_type": "code",
   "execution_count": null,
   "metadata": {},
   "outputs": [],
   "source": [
    "hapless()"
   ]
  },
  {
   "cell_type": "markdown",
   "metadata": {},
   "source": [
    "---\n",
    "\n",
    "# <a style=\"border: solid; padding:5pt; color:black; background-color:#909090\">IPython Magics</a>\n",
    "\n",
    "---\n",
    "\n",
    "[https://ipython.readthedocs.io/en/stable/interactive/magics.html](https://ipython.readthedocs.io/en/stable/interactive/magics.html)\n",
    "\n",
    "## What are they?\n",
    "\n",
    "Magics are a kind of macro/function that allows you to invoke functionality\n",
    "of the notebook or OS independent of the kernel language.\n",
    "\n",
    "### Line magics - single %\n",
    "- Only operate on the arguments on the remainder of the line\n",
    "- Can be mixed with other code\n",
    "\n",
    "### Cell magics - double %%\n",
    "- Operate on whole cell contents\n",
    "- Must be in their own cell and at the start of the cell (even comments!)\n",
    "\n",
    "## Popular magics - \n",
    "<p style=\"font-family:consolas; font-size:15pt; color:green\">\n",
    "%magic %env %readfile %writefile %run %hmtl %pip %logstart \n",
    "</p>\n",
    "\n",
    "**%magic** - lists all magic functions (LONG!)\n",
    "\n",
    "**%logstart** log_file - very useful if you are prone to deleting/overwriting your code and then regret it\n",
    "\n",
    "**%env** - get or set an environment variable\n",
    "\n",
    "**%tb** and **%xmode** covered in later section\n",
    "\n",
    "**%pdb** - if you are not running in VSCode or Jupyterlab"
   ]
  },
  {
   "cell_type": "markdown",
   "metadata": {},
   "source": [
    "## Invoking shell commands\n",
    "\n",
    "Prefix with !\n",
    "\n",
    "These are not magics - they directly invoke underlying OS commands.\n",
    "\n",
    "Like line magics, can use these mixed with other code"
   ]
  },
  {
   "cell_type": "code",
   "execution_count": null,
   "metadata": {},
   "outputs": [],
   "source": [
    "!dir"
   ]
  },
  {
   "cell_type": "code",
   "execution_count": null,
   "metadata": {},
   "outputs": [],
   "source": [
    "# Use a shell command to get current directory files\n",
    "cd_files = !dir\n",
    "\n",
    "# If the line contains the word \"Session\", split out the filename\n",
    "# and save to a list\n",
    "notebooks = [\n",
    "    ''.join(line.split()[3:])\n",
    "    for line in cd_files\n",
    "    if \"Session\" in line\n",
    "]\n",
    "\n",
    "print(notebooks)"
   ]
  },
  {
   "cell_type": "markdown",
   "metadata": {},
   "source": [
    "---\n",
    "\n",
    "# <a style=\"border: solid; padding:5pt; color:black; background-color:#909090\">Notebook Widgets</a>\n",
    "\n",
    "---\n",
    "\n",
    "Get input in a controllable way"
   ]
  },
  {
   "cell_type": "markdown",
   "metadata": {},
   "source": [
    "### Text Widget"
   ]
  },
  {
   "cell_type": "code",
   "execution_count": null,
   "metadata": {},
   "outputs": [],
   "source": [
    "import ipywidgets as widgets\n",
    "\n",
    "txt = widgets.Text(description=\"Type something long\")\n",
    "display(txt)"
   ]
  },
  {
   "cell_type": "markdown",
   "metadata": {},
   "source": [
    "Use widget `Layout` and `style` to make things look better"
   ]
  },
  {
   "cell_type": "code",
   "execution_count": null,
   "metadata": {},
   "outputs": [],
   "source": [
    "txt = widgets.Text(\n",
    "    description=\"Type something long\",\n",
    "    layout=widgets.Layout(width=\"50%\", padding=\"5pt\"),\n",
    "    style={\"description_width\": \"initial\"}\n",
    ")\n",
    "display(txt)\n",
    "\n",
    "# You can re-use the style/layout by saving to a dict variable.\n",
    "WIDGET_DEFAULTS = {\n",
    "    \"layout\": widgets.Layout(width=\"50%\", padding=\"5pt\"),\n",
    "    \"style\": {\"description_width\": \"initial\"},\n",
    "}\n",
    "txt2 = widgets.Text(description=\"Type something extremely long\", **WIDGET_DEFAULTS)\n",
    "display(txt2)"
   ]
  },
  {
   "cell_type": "markdown",
   "metadata": {},
   "source": [
    "### Select Widget"
   ]
  },
  {
   "cell_type": "code",
   "execution_count": null,
   "metadata": {},
   "outputs": [],
   "source": [
    "sm = widgets.Select(\n",
    "    options=['Option1', 'Option2', 'Option3'],\n",
    "    # rows=10,\n",
    "    description='Modules',\n",
    "    disabled=False,\n",
    "    **WIDGET_DEFAULTS,\n",
    ")\n",
    "display(sm)"
   ]
  },
  {
   "cell_type": "code",
   "execution_count": null,
   "metadata": {},
   "outputs": [],
   "source": [
    "sm.value"
   ]
  },
  {
   "cell_type": "markdown",
   "metadata": {},
   "source": [
    "## <a style=\"border: solid; padding:5pt; color:black; background-color:#309030\">Task 5 - Create a selection list of notebooks</a>\n",
    "\n",
    "Use the code examples to build a Selection list of Session notebooks in the current directory.\n",
    "1. Get a list of notebook titles from the current directory\n",
    "2. Create an option list to select a notebook name.\n",
    "\n",
    "<details>\n",
    "<summary>Hints...</summary>\n",
    "<ul>\n",
    "<li>Use Python list `notebooks` from the <b>Invoking shell commands</b> section</li>\n",
    "<li>Use a `widgets.Select` control</li>\n",
    "<li>Pass `notebooks` as the `options` parameter</li>\n",
    "<li>Bonus points for making it look pretty</li>\n",
    "</ul>\n",
    "</details>"
   ]
  },
  {
   "cell_type": "code",
   "execution_count": null,
   "metadata": {},
   "outputs": [],
   "source": [
    "nb_select = # your code here\n",
    "\n",
    "\n",
    "nb_select # display the widget"
   ]
  },
  {
   "cell_type": "code",
   "execution_count": null,
   "metadata": {},
   "outputs": [],
   "source": [
    "# test\n",
    "assert \"Session\" in nb_select.value"
   ]
  },
  {
   "cell_type": "markdown",
   "metadata": {},
   "source": [
    "### And there are a lot more widgets..."
   ]
  },
  {
   "cell_type": "code",
   "execution_count": null,
   "metadata": {},
   "outputs": [],
   "source": [
    "from datetime import datetime\n",
    "w_date = widgets.DatePicker(\n",
    "    description='Pick a Date',\n",
    "    disabled=False,\n",
    "    value=datetime.utcnow(),\n",
    ")\n",
    "w_multi = widgets.SelectMultiple(description=\"MultiSelect\", options=sm.options, value=[\"Option1\", \"Option3\"])\n",
    "w_slide = widgets.IntSlider(description=\"Int value\", value=42)\n",
    "\n",
    "# Put them all in a horizontal box\n",
    "widgets.HBox([w_date, w_multi, w_slide], layout=widgets.Layout(padding=\"10pt\"))"
   ]
  },
  {
   "cell_type": "markdown",
   "metadata": {},
   "source": [
    "### MSTICPy also includes a number of composite widgets.\n",
    "\n",
    "- QueryTime\n",
    "- QueryBrowser\n",
    "- MultiSelect"
   ]
  },
  {
   "cell_type": "code",
   "execution_count": null,
   "metadata": {},
   "outputs": [],
   "source": [
    "import msticpy as mp\n",
    "mp.nbwidgets.QueryTime()"
   ]
  },
  {
   "cell_type": "markdown",
   "metadata": {},
   "source": [
    "---\n",
    "# End of Session\n"
   ]
  }
 ],
 "metadata": {
  "kernelspec": {
   "display_name": "Python 3.9.7 ('msticpy')",
   "language": "python",
   "name": "python3"
  },
  "language_info": {
   "codemirror_mode": {
    "name": "ipython",
    "version": 3
   },
   "file_extension": ".py",
   "mimetype": "text/x-python",
   "name": "python",
   "nbconvert_exporter": "python",
   "pygments_lexer": "ipython3",
   "version": "3.9.7"
  },
  "orig_nbformat": 4,
  "vscode": {
   "interpreter": {
    "hash": "0f1a8e166ce5c1ec1911a36e4fdbd34b2f623e2a3442791008b8ac429a1d6070"
   }
  }
 },
 "nbformat": 4,
 "nbformat_minor": 2
}
