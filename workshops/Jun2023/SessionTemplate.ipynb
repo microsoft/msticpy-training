{
 "cells": [
  {
   "cell_type": "markdown",
   "metadata": {},
   "source": [
    "## MSTICPy and Notebooks in InfoSec\n",
    "\n",
    "---\n",
    "\n",
    "# Session X - *Session Title*\n",
    "\n",
    "---\n",
    "\n",
    "## What this session covers:\n",
    "\n",
    "\n",
    "## Prerequisites\n",
    "- Python >= 3.8 Environment\n",
    "- Jupyter installed\n",
    "- MSTICPy installed\n",
    "\n",
    "## Recommended\n",
    "- Azure CLI installed\n",
    "\n",
    "## Data"
   ]
  },
  {
   "cell_type": "code",
   "execution_count": 1,
   "metadata": {},
   "outputs": [
    {
     "name": "stdout",
     "output_type": "stream",
     "text": [
      "env: MSTICPYCONFIG=./msticpyconfig.yaml\n"
     ]
    },
    {
     "data": {
      "text/html": [
       "\n",
       "This product includes GeoLite2 data created by MaxMind, available from\n",
       "<a href=\"https://www.maxmind.com\">https://www.maxmind.com</a>.\n"
      ],
      "text/plain": [
       "<IPython.core.display.HTML object>"
      ]
     },
     "metadata": {},
     "output_type": "display_data"
    },
    {
     "data": {
      "text/html": [
       "\n",
       "This library uses services provided by ipstack.\n",
       "<a href=\"https://ipstack.com\">https://ipstack.com</a>"
      ],
      "text/plain": [
       "<IPython.core.display.HTML object>"
      ]
     },
     "metadata": {},
     "output_type": "display_data"
    },
    {
     "data": {
      "text/html": [
       "<p style=''><font color='orange'><h3>Notebook setup completed with some warnings.</h3></p>"
      ],
      "text/plain": [
       "<IPython.core.display.HTML object>"
      ]
     },
     "metadata": {},
     "output_type": "display_data"
    },
    {
     "data": {
      "text/html": [
       "<p style=''>One or more configuration items were missing or set incorrectly.</p>"
      ],
      "text/plain": [
       "<IPython.core.display.HTML object>"
      ]
     },
     "metadata": {},
     "output_type": "display_data"
    },
    {
     "data": {
      "text/html": [
       "<p style=''>Please run the <i>Getting Started Guide for Azure Sentinel ML Notebooks</i> notebook. and the <a href='https://msticpy.readthedocs.io/en/latest/getting_started/msticpyconfig.html'>msticpy configuration guide</a>.</p>"
      ],
      "text/plain": [
       "<IPython.core.display.HTML object>"
      ]
     },
     "metadata": {},
     "output_type": "display_data"
    },
    {
     "data": {
      "text/html": [
       "<p style=''>This notebook may still run but with reduced functionality.</p>"
      ],
      "text/plain": [
       "<IPython.core.display.HTML object>"
      ]
     },
     "metadata": {},
     "output_type": "display_data"
    }
   ],
   "source": [
    "%env MSTICPYCONFIG=./msticpyconfig.yaml\n",
    "\n",
    "import msticpy as mp\n",
    "mp.init_notebook()\n",
    "\n",
    "qry_local = mp.QueryProvider(\"LocalData\")"
   ]
  },
  {
   "cell_type": "code",
   "execution_count": 2,
   "metadata": {},
   "outputs": [
    {
     "data": {
      "text/plain": [
       "['Azure.get_vmcomputer_for_host',\n",
       " 'Azure.get_vmcomputer_for_ip',\n",
       " 'Azure.list_aad_signins_for_account',\n",
       " 'Azure.list_aad_signins_for_ip',\n",
       " 'Azure.list_all_signins_geo',\n",
       " 'Azure.list_azure_activity_for_account',\n",
       " 'Azure.list_azure_activity_for_ip',\n",
       " 'AzureSentinel.list_bookmarks_for_entity',\n",
       " 'LinuxSyslog.list_logons_for_account',\n",
       " 'LinuxSyslog.list_logons_for_source_ip',\n",
       " 'LinuxSyslog.summarize_events',\n",
       " 'Network.get_heartbeat_for_host',\n",
       " 'Network.get_heartbeat_for_ip',\n",
       " 'Network.get_host_for_ip',\n",
       " 'Network.get_ips_for_host',\n",
       " 'Network.list_azure_network_flows_by_host',\n",
       " 'Network.list_azure_network_flows_by_ip',\n",
       " 'Office365.list_activity_for_account',\n",
       " 'Office365.list_activity_for_ip',\n",
       " 'SecurityAlert.list_alerts',\n",
       " 'SecurityAlert.list_alerts_for_ip',\n",
       " 'SecurityAlert.list_related_alerts',\n",
       " 'WindowsSecurity.account_change_events',\n",
       " 'WindowsSecurity.get_process_tree',\n",
       " 'WindowsSecurity.list_all_logons_by_host',\n",
       " 'WindowsSecurity.list_host_events',\n",
       " 'WindowsSecurity.list_host_logon_failures',\n",
       " 'WindowsSecurity.list_host_logons',\n",
       " 'WindowsSecurity.list_host_processes',\n",
       " 'WindowsSecurity.list_logon_attempts_by_account',\n",
       " 'WindowsSecurity.notable_events',\n",
       " 'WindowsSecurity.schdld_tasks_and_services',\n",
       " 'WindowsSecurity.summarize_events']"
      ]
     },
     "execution_count": 2,
     "metadata": {},
     "output_type": "execute_result"
    }
   ],
   "source": [
    "qry_local.list_queries()"
   ]
  }
 ],
 "metadata": {
  "kernelspec": {
   "display_name": "Python 3.9.7 ('msticpy')",
   "language": "python",
   "name": "python3"
  },
  "language_info": {
   "codemirror_mode": {
    "name": "ipython",
    "version": 3
   },
   "file_extension": ".py",
   "mimetype": "text/x-python",
   "name": "python",
   "nbconvert_exporter": "python",
   "pygments_lexer": "ipython3",
   "version": "3.9.7 (default, Sep 16 2021, 16:59:28) [MSC v.1916 64 bit (AMD64)]"
  },
  "orig_nbformat": 4,
  "vscode": {
   "interpreter": {
    "hash": "0f1a8e166ce5c1ec1911a36e4fdbd34b2f623e2a3442791008b8ac429a1d6070"
   }
  }
 },
 "nbformat": 4,
 "nbformat_minor": 2
}
