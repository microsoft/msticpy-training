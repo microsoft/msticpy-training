{
 "cells": [
  {
   "attachments": {},
   "cell_type": "markdown",
   "metadata": {},
   "source": [
    "# Test setup for MSTICPy 2023 workshops"
   ]
  },
  {
   "cell_type": "code",
   "execution_count": 6,
   "metadata": {},
   "outputs": [
    {
     "name": "stdout",
     "output_type": "stream",
     "text": [
      "Using MSTICPYCONFIG: ./msticpyconfig.yaml\n",
      "Expected content in ./msticpyconfig.yaml\n"
     ]
    }
   ],
   "source": [
    "# Test MSTICPYCONFIG is set correctly\n",
    "import yaml\n",
    "import os\n",
    "from pathlib import Path\n",
    "\n",
    "mp_conf_path = os.environ.get(\"MSTICPYCONFIG\")\n",
    "assert mp_conf_path\n",
    "assert Path(mp_conf_path).is_file()\n",
    "print(f\"Using MSTICPYCONFIG: {mp_conf_path}\")\n",
    "\n",
    "mp_text = Path(mp_conf_path).read_text(encoding=\"utf-8\")\n",
    "mp_conf = yaml.safe_load(mp_text)\n",
    "\n",
    "assert all(key in mp_conf.keys() for key in ['AzureSentinel', 'TIProviders', 'KeyVault', 'DataProviders'])\n",
    "assert all(ws in mp_conf[\"AzureSentinel\"][\"Workspaces\"] for ws in [\"Default\", \"CyberSecuritySOC\"])\n",
    "print(f\"Expected content in {mp_conf_path}\")\n"
   ]
  },
  {
   "cell_type": "code",
   "execution_count": 7,
   "metadata": {},
   "outputs": [
    {
     "name": "stdout",
     "output_type": "stream",
     "text": [
      "Expected notebooks in current folder\n"
     ]
    }
   ],
   "source": [
    "# Test for notebooks\n",
    "notebooks = [nb.name for nb in Path(\".\").glob(\"*.ipynb\")]\n",
    "\n",
    "expected = [\n",
    "    'Session-1-IntroToMsticpy.ipynb', \n",
    "    'Session-2-MSTICPy-Configuration.ipynb', \n",
    "    'Session-3-AcquiringData.ipynb', \n",
    "    'Session-4-Visualization.ipynb', \n",
    "    'Session-5-Enrichment.ipynb', \n",
    "    'Session-6-Data-Analysis.ipynb',\n",
    "    'Session-7-Troubleshooting and Advanced Topics.ipynb'\n",
    "]\n",
    "assert all(nb in notebooks for nb in expected)\n",
    "print(f\"Expected notebooks in current folder\")"
   ]
  },
  {
   "cell_type": "code",
   "execution_count": 8,
   "metadata": {},
   "outputs": [
    {
     "name": "stdout",
     "output_type": "stream",
     "text": [
      "Expected packages installed\n"
     ]
    }
   ],
   "source": [
    "# Test for expected packages\n",
    "pip_packages = !python -m pip list\n",
    "pip_packages = \"\\n\".join(pip_packages)\n",
    "assert \"azure-cli\" in pip_packages\n",
    "assert \"msticpy\" in pip_packages\n",
    "assert \"jupyter-bokeh\" in pip_packages\n",
    "\n",
    "print(\"Expected packages installed\")"
   ]
  }
 ],
 "metadata": {
  "kernelspec": {
   "display_name": "base",
   "language": "python",
   "name": "python3"
  },
  "language_info": {
   "codemirror_mode": {
    "name": "ipython",
    "version": 3
   },
   "file_extension": ".py",
   "mimetype": "text/x-python",
   "name": "python",
   "nbconvert_exporter": "python",
   "pygments_lexer": "ipython3",
   "version": "3.11.3"
  },
  "orig_nbformat": 4
 },
 "nbformat": 4,
 "nbformat_minor": 2
}
