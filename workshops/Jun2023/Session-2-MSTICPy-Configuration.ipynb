{
 "cells": [
  {
   "cell_type": "markdown",
   "metadata": {},
   "source": [
    "## MSTICPy and Notebooks in InfoSec\n",
    "\n",
    "---\n",
    "\n",
    "<h1 style=\"border: solid; padding:5pt; color:black; background-color:#909090\">Session 2 - MSTICPy Configuration</h1>\n",
    "\n",
    "---\n",
    "\n",
    "## What this session covers:\n",
    "\n",
    "- Viewing current settings\n",
    "- Configuration tools\n",
    "- Add a Sentinel Workspace\n",
    "- Add a Kusto Cluster\n",
    "- Configure KeyVault settings\n",
    "- Add a Threat Intel Provider\n",
    "- Add a GeoIP Provider\n",
    "- Verifying Azure configuration\n",
    "\n",
    "\n",
    "## Prerequisites\n",
    "- Python >= 3.8 Environment\n",
    "- Jupyter installed\n",
    "- MSTICPy installed\n",
    "- Azure CLI installed\n",
    "- Run `az login`\n",
    "- Account and API key for one or more TI providers\n",
    "- Account and API key for MaxMind GeoLite\n"
   ]
  },
  {
   "cell_type": "code",
   "execution_count": 1,
   "metadata": {},
   "outputs": [
    {
     "data": {
      "text/html": [
       "Attempting connection to Key Vault using cli credentials..."
      ],
      "text/plain": [
       "<IPython.core.display.HTML object>"
      ]
     },
     "metadata": {},
     "output_type": "display_data"
    },
    {
     "data": {
      "text/html": [
       "done<br>"
      ],
      "text/plain": [
       "<IPython.core.display.HTML object>"
      ]
     },
     "metadata": {},
     "output_type": "display_data"
    }
   ],
   "source": [
    "import msticpy as mp\n",
    "mp.init_notebook()"
   ]
  },
  {
   "cell_type": "markdown",
   "metadata": {},
   "source": [
    "---\n",
    "\n",
    "# <a style=\"border: solid; padding:5pt; color:black; background-color:#909090\"><i>msticpyconfig.yaml</i> Structure</a>\n",
    "\n",
    "---\n",
    "\n",
    "### [Reference: MSTICPy Package Configuration](https://msticpy.readthedocs.io/en/latest/getting_started/msticpyconfig.html)\n",
    "> Note document covers most but not all configuration options (it's difficult to keep this up-to-date).\n",
    "\n",
    "\n",
    "## msticpyconfig.yaml\n",
    "\n",
    "```yaml\n",
    "Azure:\n",
    "  auth_methods: [cli, msi, devicecode]\n",
    "  cloud: global\n",
    "DataProviders:\n",
    "  # Miscellaneous Data providers\n",
    "  Browshot:\n",
    "    Args:\n",
    "      # AuthKey: [PLACEHOLDER]\n",
    "  # Previous Kusto cluster definition\n",
    "  Kusto-MDE: \n",
    "    Args:\n",
    "      # Cluster: https://wcdscrubbedservice.kusto.windows.net\n",
    "      # IntegratedAuth: true\n",
    "TIProviders:\n",
    "  TorExitNodes:\n",
    "    Primary: true\n",
    "    Provider: Tor\n",
    "  VirusTotal:\n",
    "    Args:\n",
    "      AuthKey:\n",
    "        KeyVault: null\n",
    "    Primary: true\n",
    "    Provider: VirusTotal\n",
    "OtherProviders:\n",
    "  # GeoIP providers - should be in DataProviders!\n",
    "  GeoIPLite:\n",
    "    Args:\n",
    "      AuthKey:\n",
    "        KeyVault: null\n",
    "      DBFolder: ~/.msticpy\n",
    "    Provider: GeoLiteLookup\n",
    "AzureSentinel:\n",
    "  # Sentinel workspace configuration\n",
    "  Workspaces:\n",
    "    Workspace_Tag:\n",
    "      # workspace ID, tenant, ext\n",
    "    Workspace2_Tag:\n",
    "      # ...\n",
    "KustoClusters:\n",
    "  # Kusto cluster definitions (for NEW Kusto driver)\n",
    "  ClusterDefaults:\n",
    "    Args:\n",
    "      TenantId: 69d28fd7-42a5-48bc-a619-af56397b9f28\n",
    "  Cluster1:\n",
    "    Args:\n",
    "      Cluster: https://uscluster.kusto.windows.net\n",
    "  Cluster2:\n",
    "    Args:\n",
    "      Cluster: https://eucluster.kusto.windows.net\n",
    "KeyVault:\n",
    "  # Optional - KV tenant, sub, vault name\n",
    "\n",
    "```"
   ]
  },
  {
   "cell_type": "markdown",
   "metadata": {},
   "source": [
    "---\n",
    "\n",
    "# <a style=\"border: solid; padding:5pt; color:black; background-color:#909090\">Show current settings</a>\n",
    "\n",
    "---\n",
    "\n",
    "You can print out current settings from `msticpy.settings.get_config()`\n",
    "\n",
    "> **Note**: internally we do some additional mappings so you might\n",
    "> see things in here that are not in your config file."
   ]
  },
  {
   "cell_type": "code",
   "execution_count": 2,
   "metadata": {},
   "outputs": [
    {
     "data": {
      "text/plain": [
       "{'msticpy': {'FriendlyExceptions': True},\n",
       " 'QueryDefinitions': {'Default': ['queries']},\n",
       " 'Azure': {'auth_methods': ['cli', 'interactive'], 'cloud': 'global'},\n",
       " 'AzureSentinel': {'Workspaces': {'ASIHuntOMSWorkspaceV4': {'ResourceGroup': 'asihuntomsworkspacerg',\n",
       "    'SubscriptionId': '40dcc8bf-0478-4f3b-b275-ed0a94f2c013',\n",
       "    'TenantId': '72f988bf-86f1-41af-91ab-2d7cd011db47',\n",
       "    'WorkspaceId': '52b1ab41-869e-4138-9e40-2a4457f09bf0',\n",
       "    'WorkspaceName': 'ASIHuntOMSWorkspaceV4'},\n",
       "   'CCIS': {'ResourceGroup': 'securityinsightsrg',\n",
       "    'SubscriptionId': 'b5fe39b7-119a-4622-a921-236607a8d59a',\n",
       "    'TenantId': '72f988bf-86f1-41af-91ab-2d7cd011db47',\n",
       "    'WorkspaceId': 'd2a20a39-c646-4783-a490-59899e3a6591',\n",
       "    'WorkspaceName': 'Security-Insights'},\n",
       "   'Centrica': {'ResourceGroup': 'azsu-rg-azure-sentinel',\n",
       "    'SubscriptionId': '23d6e98b-d73d-476e-8381-1faf272fd0f4',\n",
       "    'TenantId': '72f988bf-86f1-41af-91ab-2d7cd011db47',\n",
       "    'WorkspaceId': '1ab17267-66c0-473e-8a80-da21cc7a0828',\n",
       "    'WorkspaceName': 'azsu-oms-p-azure-sentinel'},\n",
       "   'CyberSecuritySoc': {'ResourceGroup': 'soc',\n",
       "    'SubscriptionId': 'd1d8779d-38d7-4f06-91db-9cbc8de0176f',\n",
       "    'TenantId': '72f988bf-86f1-41af-91ab-2d7cd011db47',\n",
       "    'WorkspaceId': '8ecf8077-cf51-4820-aadd-14040956f35d',\n",
       "    'WorkspaceName': 'CyberSecuritySOC'},\n",
       "   'Default': {'ResourceGroup': 'soc',\n",
       "    'SubscriptionId': 'd1d8779d-38d7-4f06-91db-9cbc8de0176f',\n",
       "    'TenantId': '72f988bf-86f1-41af-91ab-2d7cd011db47',\n",
       "    'WorkspaceId': '8ecf8077-cf51-4820-aadd-14040956f35d',\n",
       "    'WorkspaceName': 'CyberSecuritySOC'},\n",
       "   'GovCyberSecuritySOC': {'ResourceGroup': 'USGov Arizona',\n",
       "    'SubscriptionId': '04110ca7-4fe3-4c2d-9ff7-23aa92b86c79',\n",
       "    'TenantId': '61611e58-abbd-4826-9d63-f23b5a919686',\n",
       "    'WorkspaceId': 'b6834116-d716-4ac6-8c37-586faaf66d01'},\n",
       "   'NationalGrid': {'ResourceGroup': 'ng-pd-eus-centralmon-rg',\n",
       "    'SubscriptionId': '74d15849-ba7b-4be6-8ba1-330a178ba88d',\n",
       "    'TenantId': '72f988bf-86f1-41af-91ab-2d7cd011db47',\n",
       "    'WorkspaceId': 'affed4b9-3762-4cba-8826-d1bf7e515771',\n",
       "    'WorkspaceName': 'ng-pd-eus-claw-01'},\n",
       "   'RedmondSentinelDemoEnvironment': {'TenantId': '35a9e601-82db-42da-b521-efc4a2f6783c',\n",
       "    'WorkspaceId': 'a927809c-8142-43e1-96b3-4ad87cfe95a3'}}},\n",
       " 'DataProviders': {'Browshot': {'Args': {'AuthKey': 'mUYf6Q3GXbtyjye0y3JDchbGmLk'}},\n",
       "  'Kusto-MDE': {'Args': {'Cluster': 'https://wcdscrubbedservice.kusto.windows.net',\n",
       "    'IntegratedAuth': True}},\n",
       "  'Kusto-MSTICTI': {'Args': {'Cluster': 'https://msticti.kusto.windows.net',\n",
       "    'IntegratedAuth': True}},\n",
       "  'MicrosoftDefender': {'Args': {'ClientId': '66b9818a-26cd-4584-8eb0-7f7a499242aa',\n",
       "    'ClientSecret': {'KeyVault': None},\n",
       "    'TenantId': '8360dd21-0294-4240-9128-89611f415c53'}},\n",
       "  'MicrosoftGraph': {'Args': {'ClientId': '66b9818a-26cd-4584-8eb0-7f7a499242aa',\n",
       "    'ClientSecret': {'KeyVault': None},\n",
       "    'TenantId': '8360dd21-0294-4240-9128-89611f415c53'}},\n",
       "  'Mordor': {'save_folder': '~/.msticpy/mordor', 'use_cached': True},\n",
       "  'AzureSentinel_ASIHuntOMSWorkspaceV4': {'Args': {'ResourceGroup': 'asihuntomsworkspacerg',\n",
       "    'SubscriptionId': '40dcc8bf-0478-4f3b-b275-ed0a94f2c013',\n",
       "    'TenantId': '72f988bf-86f1-41af-91ab-2d7cd011db47',\n",
       "    'WorkspaceId': '52b1ab41-869e-4138-9e40-2a4457f09bf0',\n",
       "    'WorkspaceName': 'ASIHuntOMSWorkspaceV4'}},\n",
       "  'AzureSentinel_CCIS': {'Args': {'ResourceGroup': 'securityinsightsrg',\n",
       "    'SubscriptionId': 'b5fe39b7-119a-4622-a921-236607a8d59a',\n",
       "    'TenantId': '72f988bf-86f1-41af-91ab-2d7cd011db47',\n",
       "    'WorkspaceId': 'd2a20a39-c646-4783-a490-59899e3a6591',\n",
       "    'WorkspaceName': 'Security-Insights'}},\n",
       "  'AzureSentinel_Centrica': {'Args': {'ResourceGroup': 'azsu-rg-azure-sentinel',\n",
       "    'SubscriptionId': '23d6e98b-d73d-476e-8381-1faf272fd0f4',\n",
       "    'TenantId': '72f988bf-86f1-41af-91ab-2d7cd011db47',\n",
       "    'WorkspaceId': '1ab17267-66c0-473e-8a80-da21cc7a0828',\n",
       "    'WorkspaceName': 'azsu-oms-p-azure-sentinel'}},\n",
       "  'AzureSentinel_CyberSecuritySoc': {'Args': {'ResourceGroup': 'soc',\n",
       "    'SubscriptionId': 'd1d8779d-38d7-4f06-91db-9cbc8de0176f',\n",
       "    'TenantId': '72f988bf-86f1-41af-91ab-2d7cd011db47',\n",
       "    'WorkspaceId': '8ecf8077-cf51-4820-aadd-14040956f35d',\n",
       "    'WorkspaceName': 'CyberSecuritySOC'}},\n",
       "  'AzureSentinel_Default': {'Args': {'ResourceGroup': 'soc',\n",
       "    'SubscriptionId': 'd1d8779d-38d7-4f06-91db-9cbc8de0176f',\n",
       "    'TenantId': '72f988bf-86f1-41af-91ab-2d7cd011db47',\n",
       "    'WorkspaceId': '8ecf8077-cf51-4820-aadd-14040956f35d',\n",
       "    'WorkspaceName': 'CyberSecuritySOC'}},\n",
       "  'AzureSentinel_GovCyberSecuritySOC': {'Args': {'ResourceGroup': 'USGov Arizona',\n",
       "    'SubscriptionId': '04110ca7-4fe3-4c2d-9ff7-23aa92b86c79',\n",
       "    'TenantId': '61611e58-abbd-4826-9d63-f23b5a919686',\n",
       "    'WorkspaceId': 'b6834116-d716-4ac6-8c37-586faaf66d01'}},\n",
       "  'AzureSentinel_NationalGrid': {'Args': {'ResourceGroup': 'ng-pd-eus-centralmon-rg',\n",
       "    'SubscriptionId': '74d15849-ba7b-4be6-8ba1-330a178ba88d',\n",
       "    'TenantId': '72f988bf-86f1-41af-91ab-2d7cd011db47',\n",
       "    'WorkspaceId': 'affed4b9-3762-4cba-8826-d1bf7e515771',\n",
       "    'WorkspaceName': 'ng-pd-eus-claw-01'}},\n",
       "  'AzureSentinel_RedmondSentinelDemoEnvironment': {'Args': {'TenantId': '35a9e601-82db-42da-b521-efc4a2f6783c',\n",
       "    'WorkspaceId': 'a927809c-8142-43e1-96b3-4ad87cfe95a3'}}},\n",
       " 'KeyVault': {'Authority': 'global',\n",
       "  'AzureRegion': 'East US',\n",
       "  'ResourceGroup': 'ASIHuntOMSWorkspaceRG',\n",
       "  'SubscriptionId': '40dcc8bf-0478-4f3b-b275-ed0a94f2c013',\n",
       "  'TenantId': '72f988bf-86f1-41af-91ab-2d7cd011db47',\n",
       "  'UseKeyring': False,\n",
       "  'VaultName': 'mstic-ianhelle'},\n",
       " 'OtherProviders': {'GeoIPLite': {'Args': {'AuthKey': {'KeyVault': None},\n",
       "    'DBFolder': '~/.msticpy'},\n",
       "   'Provider': 'GeoLiteLookup'},\n",
       "  'IPStack': {'Args': {'AuthKey': {'KeyVault': None}},\n",
       "   'Provider': 'IPStackLookup'}},\n",
       " 'TIProviders': {'GreyNoise': {'Args': {'AuthKey': {'KeyVault': None}},\n",
       "   'Primary': True,\n",
       "   'Provider': 'GreyNoise'},\n",
       "  'OTX': {'Args': {'AuthKey': {'KeyVault': None}},\n",
       "   'Primary': True,\n",
       "   'Provider': 'OTX'},\n",
       "  'OpenPageRank': {'Args': {'AuthKey': {'KeyVault': None}},\n",
       "   'Primary': True,\n",
       "   'Provider': 'OPR'},\n",
       "  'RiskIQ': {'Args': {'ApiID': 'ianhelle@microsoft.com',\n",
       "    'AuthKey': {'KeyVault': None}},\n",
       "   'Primary': True,\n",
       "   'Provider': 'RiskIQ'},\n",
       "  'TorExitNodes': {'Primary': True, 'Provider': 'Tor'},\n",
       "  'VirusTotal': {'Args': {'AuthKey': {'KeyVault': None}},\n",
       "   'Primary': True,\n",
       "   'Provider': 'VirusTotal'},\n",
       "  'XForce': {'Args': {'ApiID': {'KeyVault': None},\n",
       "    'AuthKey': {'KeyVault': None}},\n",
       "   'Primary': True,\n",
       "   'Provider': 'XForce'}},\n",
       " 'UserDefaults': {'LoadComponents': {}, 'QueryProviders': {}}}"
      ]
     },
     "execution_count": 2,
     "metadata": {},
     "output_type": "execute_result"
    }
   ],
   "source": [
    "mp.settings.get_config()"
   ]
  },
  {
   "cell_type": "markdown",
   "metadata": {},
   "source": [
    "---\n",
    "\n",
    "# <a style=\"border: solid; padding:5pt; color:black; background-color:#909090\">Settings Tools - MpConfigFile and MpConfigEdit</a>\n",
    "\n",
    "---\n",
    "\n",
    "### [Reference: MSTICPy Settings Editor](https://msticpy.readthedocs.io/en/latest/getting_started/SettingsEditor.html)\n",
    "\n",
    "## MpConfigFile - settings utilities interactive and command line"
   ]
  },
  {
   "cell_type": "code",
   "execution_count": 3,
   "metadata": {},
   "outputs": [
    {
     "data": {
      "application/vnd.jupyter.widget-view+json": {
       "model_id": "26b387dea9594545814f803a4225e637",
       "version_major": 2,
       "version_minor": 0
      },
      "text/plain": [
       "VBox(children=(HTML(value='<h3>MSTICPy settings</h3>'), VBox(children=(VBox(children=(Label(value='Operations'…"
      ]
     },
     "metadata": {},
     "output_type": "display_data"
    }
   ],
   "source": [
    "config_file = mp.MpConfigFile()\n",
    "config_file"
   ]
  },
  {
   "cell_type": "code",
   "execution_count": 4,
   "metadata": {},
   "outputs": [
    {
     "data": {
      "application/vnd.jupyter.widget-view+json": {
       "model_id": "b213689609cf4d60ab28803840ace99a",
       "version_major": 2,
       "version_minor": 0
      },
      "text/plain": [
       "VBox(children=(Textarea(value=\"{'Azure': {'auth_methods': ['cli', 'interactive'], 'cloud': 'global'},\\n 'Azure…"
      ]
     },
     "metadata": {},
     "output_type": "display_data"
    }
   ],
   "source": [
    "config_file.view_settings()"
   ]
  },
  {
   "cell_type": "markdown",
   "metadata": {},
   "source": [
    "\n",
    "### MpConfigEdit - interactive settings editor\n",
    "\n",
    "If you haven't authenticated using Azure CLI, do that now (in a console window or the notebook) before running the `az_connect()` cell.\n",
    "\n",
    "```bash\n",
    "c:\\users\\ian > az login\n",
    "/home/ian $ az login\n",
    "```\n",
    "\n",
    "You may need to go through a \"device code\" login:\n",
    "- copy the code\n",
    "- navigate to the login page given in the URL\n",
    "- paste the code\n",
    "- authenticate as normal\n",
    "\n",
    "You can also do this in the notebook by uncommenting and running the following cell"
   ]
  },
  {
   "cell_type": "code",
   "execution_count": null,
   "metadata": {
    "collapsed": true
   },
   "outputs": [],
   "source": [
    "# !az login"
   ]
  },
  {
   "cell_type": "code",
   "execution_count": 8,
   "metadata": {},
   "outputs": [
    {
     "data": {
      "text/html": [
       "Attempting connection to Key Vault using cli credentials..."
      ],
      "text/plain": [
       "<IPython.core.display.HTML object>"
      ]
     },
     "metadata": {},
     "output_type": "display_data"
    },
    {
     "data": {
      "text/html": [
       "done<br>"
      ],
      "text/plain": [
       "<IPython.core.display.HTML object>"
      ]
     },
     "metadata": {},
     "output_type": "display_data"
    },
    {
     "data": {
      "text/plain": [
       "AzCredentials(legacy=<msticpy.auth.cred_wrapper.CredentialWrapper object at 0x7fdbc2561000>, modern=<azure.identity._credentials.chained.ChainedTokenCredential object at 0x7fdbbe305660>)"
      ]
     },
     "execution_count": 8,
     "metadata": {},
     "output_type": "execute_result"
    }
   ],
   "source": [
    "# We'll need to authenticate to Azure to use Workspace details resolution\n",
    "mp.az_connect()"
   ]
  },
  {
   "cell_type": "markdown",
   "metadata": {},
   "source": [
    "## Example - Adding a Sentinel Workspace\n",
    "\n",
    "We will: \n",
    "\n",
    "1. Add a new workspace with the following values:\n",
    "```\n",
    "    - WorkspaceID: 52b1ab41-869e-4138-9e40-2a4457f09bf0\n",
    "    - TenantId: 72f988bf-86f1-41af-91ab-2d7cd011db47\n",
    "```\n",
    "2. Resolve all settings for the workspace\n",
    "3. DO NOT set it as the Default Workspace\n",
    "4. Update and Save Settings\n",
    "5. Verify Settings have been re-read"
   ]
  },
  {
   "cell_type": "code",
   "execution_count": 9,
   "metadata": {},
   "outputs": [
    {
     "data": {
      "application/vnd.jupyter.widget-view+json": {
       "model_id": "75797f18ee2b4be99f811511e93877ad",
       "version_major": 2,
       "version_minor": 0
      },
      "text/plain": [
       "Label(value='Loading. Please wait.')"
      ]
     },
     "metadata": {},
     "output_type": "display_data"
    },
    {
     "data": {
      "application/vnd.jupyter.widget-view+json": {
       "model_id": "b16cd38bef764fbcb89b30d859d25b6a",
       "version_major": 2,
       "version_minor": 0
      },
      "text/plain": [
       "VBox(children=(Tab(children=(VBox(children=(Label(value='MSTICPy Settings'), HBox(children=(VBox(children=(VBo…"
      ]
     },
     "metadata": {},
     "output_type": "display_data"
    }
   ],
   "source": [
    "# WorkspaceID: 52b1ab41-869e-4138-9e40-2a4457f09bf0\n",
    "# TenantId: 72f988bf-86f1-41af-91ab-2d7cd011db47\n",
    "mp.MpConfigEdit()"
   ]
  },
  {
   "cell_type": "code",
   "execution_count": null,
   "metadata": {},
   "outputs": [],
   "source": [
    "mp.MpConfigFile().view_settings()"
   ]
  },
  {
   "cell_type": "code",
   "execution_count": 12,
   "metadata": {},
   "outputs": [],
   "source": [
    "# test\n",
    "sentinel_settings = mp.settings.get_config(\"AzureSentinel.Workspaces\")\n",
    "expected_keys = {\"ResourceGroup\", \"SubscriptionId\", \"TenantId\", \"WorkspaceId\", \"WorkspaceName\"}\n",
    "assert \"CyberSecuritySOC\" in sentinel_settings\n",
    "assert \"Default\" in sentinel_settings\n",
    "\n",
    "assert all(key in expected_keys for key in sentinel_settings[\"CyberSecuritySOC\"])\n",
    "assert all(val is not None for val in sentinel_settings[\"CyberSecuritySOC\"].values())\n",
    "\n",
    "# If all is well you should see a green tick with no other output"
   ]
  },
  {
   "attachments": {},
   "cell_type": "markdown",
   "metadata": {},
   "source": [
    "## <a style=\"border: solid; padding:5pt; color:black; background-color:#309030\">Task 1 - Add a Kusto Cluster</a>\n",
    "\n",
    "We've recently updated the Kusto driver and it now uses a more logical layout\n",
    "of cluster settings. \n",
    "\n",
    "<div style=\"border: solid; padding:5pt\">The Config editor doesn't support this yet - so we're going to do this the old-fashioned way!</div>\n",
    "\n",
    "1. Open the `msticpyconfig.yaml` in VSCode or editor of your choice\n",
    "2. If the `KustoClusters` top-level key does not exist, add it.\n",
    "3. Add a cluster `Kusto-Firecon23`:\n",
    "4. Add an `Args` sub-key and then add the following values.\n",
    "```\n",
    "   - Cluster: https://msticpytraining.eastus.kusto.windows.net/\n",
    "   - TenantId: 72f988bf-86f1-41af-91ab-2d7cd011db47\n",
    "   - IntegratedAuth: True\n",
    "```\n",
    "5. Save the file\n",
    "6. Run the following cell to re-read the settings from disk\n",
    "\n",
    "\n",
    "The format of a Kusto cluster entry that you need to add looks like this:\n",
    "```yaml\n",
    "KustoClusters:\n",
    "   Kusto-Firecon23:\n",
    "      Args:\n",
    "         Cluster: https://msticpytraining.eastus.kusto.windows.net/\n",
    "         IntegratedAuth: True\n",
    "         TenantId: 72f988bf-86f1-41af-91ab-2d7cd011db47\n",
    "      ...\n",
    "```\n",
    "\n",
    "`Kusto-Firecon23` is the cluster instance name (can be anything)<br>\n",
    "`ClientId` and `ClientSecret` are not needed if `IntegratedAuth` is true"
   ]
  },
  {
   "cell_type": "code",
   "execution_count": 5,
   "metadata": {},
   "outputs": [],
   "source": [
    "# tell msticpy to refresh its config from the file\n",
    "mp.refresh_config()"
   ]
  },
  {
   "cell_type": "code",
   "execution_count": null,
   "metadata": {},
   "outputs": [],
   "source": [
    "# test\n",
    "kusto_settings = mp.settings.get_config(\"KustoClusters\")\n",
    "assert \"Kusto-Firecon23\" in kusto_settings\n",
    "\n",
    "assert \"Cluster\" in kusto_settings[\"Kusto-Firecon23\"][\"Args\"]\n",
    "assert \"TenantId\" in kusto_settings[\"Kusto-Firecon23\"][\"Args\"]\n",
    "assert \"IntegratedAuth\" in kusto_settings[\"Kusto-Firecon23\"][\"Args\"]\n"
   ]
  },
  {
   "cell_type": "markdown",
   "metadata": {},
   "source": [
    "You should be able to authenticate to this cluster"
   ]
  },
  {
   "cell_type": "code",
   "execution_count": 19,
   "metadata": {},
   "outputs": [],
   "source": [
    "qry_prov = mp.QueryProvider(\"Kusto_New\")\n",
    "qry_prov.connect(cluster=\"Kusto-Firecon23\")"
   ]
  },
  {
   "cell_type": "markdown",
   "metadata": {},
   "source": [
    "## <a style=\"border: solid; padding:5pt; color:black; background-color:#309030\">Task 2 - KeyVault Settings</a>\n",
    "\n",
    "Since we only need to read to and write from the KeyVault, we only need a subset of\n",
    "the settings.\n",
    "- Authority: global\n",
    "- TenantId: <tenant-guid>\n",
    "- UseKeyring: false\n",
    "- VaultName: <name>\n",
    "\n",
    "If we needed to create a vault from MSTICPy we would also need:\n",
    "- AzureRegion, SubscriptionId, ResourceGroup\n",
    "\n",
    "### Steps:\n",
    "1. Use the Key Vault tab\n",
    "2. Confirm or enter values for:\n",
    "```\n",
    "    - Authority: global\n",
    "    - TenantId: 72f988bf-86f1-41af-91ab-2d7cd011db47\n",
    "    - UseKeyring: False (unchecked)\n",
    "    - VaultName: msticpy-training\n",
    "```\n",
    "3. Optional settings:\n",
    "```\n",
    "    - AzureRegion: East US\n",
    "    - SubscriptionId: 40dcc8bf-0478-4f3b-b275-ed0a94f2c013\n",
    "    - ResourceGroup: MSTICPy\n",
    "```\n",
    "4. Update and save settings\n"
   ]
  },
  {
   "cell_type": "code",
   "execution_count": 7,
   "metadata": {},
   "outputs": [
    {
     "data": {
      "application/vnd.jupyter.widget-view+json": {
       "model_id": "49ab9c170ff743feb8a0e25e2c4f856c",
       "version_major": 2,
       "version_minor": 0
      },
      "text/plain": [
       "Label(value='Loading. Please wait.')"
      ]
     },
     "metadata": {},
     "output_type": "display_data"
    },
    {
     "data": {
      "application/vnd.jupyter.widget-view+json": {
       "model_id": "cee95dfd79e9468c97612467304ea812",
       "version_major": 2,
       "version_minor": 0
      },
      "text/plain": [
       "VBox(children=(Tab(children=(VBox(children=(Label(value='MSTICPy Settings'), HBox(children=(VBox(children=(VBo…"
      ]
     },
     "metadata": {},
     "output_type": "display_data"
    }
   ],
   "source": [
    "mp.MpConfigEdit()"
   ]
  },
  {
   "cell_type": "code",
   "execution_count": 21,
   "metadata": {},
   "outputs": [
    {
     "data": {
      "application/vnd.jupyter.widget-view+json": {
       "model_id": "25ef3d1c088b4c4fbc076e238d9a7454",
       "version_major": 2,
       "version_minor": 0
      },
      "text/plain": [
       "VBox(children=(Textarea(value=\"{'Azure': {'auth_methods': ['cli', 'msi', 'devicecode'], 'cloud': 'global'},\\n …"
      ]
     },
     "metadata": {},
     "output_type": "display_data"
    }
   ],
   "source": [
    "mp.MpConfigFile().view_settings()"
   ]
  },
  {
   "cell_type": "code",
   "execution_count": 23,
   "metadata": {},
   "outputs": [],
   "source": [
    "# test\n",
    "kv_settings = mp.settings.get_config(\"KeyVault\")\n",
    "\n",
    "assert kv_settings[\"Authority\"] == \"global\"\n",
    "assert kv_settings[\"TenantId\"] == \"72f988bf-86f1-41af-91ab-2d7cd011db47\"\n",
    "assert kv_settings[\"UseKeyring\"] == False\n",
    "assert kv_settings[\"VaultName\"] == \"msticpy-training\"\n"
   ]
  },
  {
   "cell_type": "markdown",
   "metadata": {},
   "source": [
    "## <a style=\"border: solid; padding:5pt; color:black; background-color:#309030\">Task 3 - Add Threat Intel. Providers</a>\n",
    "\n",
    "Add configuration for a TI provider\n",
    "\n",
    "1. Use the TI Providers tab\n",
    "2. Pick a TI provider and add it\n",
    "3. Fill in details (use the Text option) and Update\n",
    "4. Save the settings\n",
    "\n",
    "If you have API keys for other providers, add these.\n",
    "\n",
    "You should have API keys for:\n",
    "* VirusTotal\n",
    "* AlientVault OTX\n",
    "* IBM XForce\\*\n",
    "\n",
    "> \\* Note XForce has both an API Key and and API Password<br>\n",
    "> The API Key goes in the **ApiID** box, the password goes in the **AuthKey** box\n",
    "\n",
    "Don't worry if you don't have accounts/keys for all of these providers - just one or two will be fine."
   ]
  },
  {
   "cell_type": "code",
   "execution_count": null,
   "metadata": {},
   "outputs": [],
   "source": [
    "mp.MpConfigEdit()"
   ]
  },
  {
   "cell_type": "code",
   "execution_count": null,
   "metadata": {},
   "outputs": [],
   "source": [
    "mp.MpConfigFile().view_settings()"
   ]
  },
  {
   "cell_type": "code",
   "execution_count": null,
   "metadata": {},
   "outputs": [],
   "source": [
    "# test\n",
    "ti_settings = mp.settings.get_config(\"TIProviders\")\n",
    "assert \"VirusTotal\" in ti_settings\n",
    "\n",
    "assert ti_settings[\"VirusTotal\"][\"Primary\"]\n",
    "assert ti_settings[\"VirusTotal\"][\"Provider\"] == \"VirusTotal\"\n",
    "assert \"AuthKey\" in ti_settings[\"VirusTotal\"][\"Args\"]\n"
   ]
  },
  {
   "cell_type": "markdown",
   "metadata": {},
   "source": [
    "Settings for TI Providers should look like this\n",
    "```\n",
    "'TIProviders': {'TorExitNodes': {'Primary': True, 'Provider': 'Tor'},\n",
    "                 'VirusTotal': {'Args': {'AuthKey': '[YOUR VT API KEY]',\n",
    "                                         'UseVT3PrivateAPI': False},\n",
    "                                'Primary': True,\n",
    "                                'Provider': 'VirusTotal'}}}\n",
    "```"
   ]
  },
  {
   "cell_type": "code",
   "execution_count": null,
   "metadata": {},
   "outputs": [],
   "source": [
    "# Test\n",
    "\n",
    "mp.TILookup().lookup_iocs([\"54.69.246.204\"])\n"
   ]
  },
  {
   "cell_type": "markdown",
   "metadata": {},
   "source": [
    "## Alternatives to storing keys in your config file\n",
    "- You can use the **EnvironmentVar** option to store secrets in environment variables\n",
    "- You can upload secrets to KeyVault and use them from there.\n",
    "- You need to configure settings of your vault on the Key Vault tab to do this.\n",
    "- You can use KeyRing on supported platforms without Key Vault backing (message me for details on this)\n",
    "\n",
    "Default Key Vault secret names are built from the path of the value. E.g.:\n",
    "```\n",
    "    TIProviders-VirusTotal-Args-AuthKey\n",
    "```\n",
    "\n",
    "If you have a secret already in a Key Vault, uncheck `Def KV Path` and\n",
    "type the name of your secret. \n",
    "\n",
    "You can also specify `Vaultname/Secretname` to \n",
    "us a secret from a named Vault rather than the default."
   ]
  },
  {
   "cell_type": "markdown",
   "metadata": {},
   "source": [
    "## <a style=\"border: solid; padding:5pt; color:black; background-color:#309030\">Task 4 - Add a GeoIP Provider</a>\n",
    "\n",
    "1. Use the GeoIP Providers tab\n",
    "2. Add an entry for GeoIPLite\n",
    "   - AuthKey: *your_auth_key*\n",
    "   - DBFolder:  `./.msticpy`\n",
    "3. Save settings\n",
    "4. View settings\n",
    "5. Test that the settings work\n"
   ]
  },
  {
   "cell_type": "code",
   "execution_count": null,
   "metadata": {},
   "outputs": [],
   "source": [
    "# configure\n",
    "mp.MpConfigEdit()"
   ]
  },
  {
   "cell_type": "code",
   "execution_count": null,
   "metadata": {},
   "outputs": [],
   "source": [
    "mp.MpConfigFile().view_settings()"
   ]
  },
  {
   "cell_type": "markdown",
   "metadata": {},
   "source": [
    "Settings for OtherProviders should look like this\n",
    "```\n",
    "'OtherProviders': {'GeoIPLite': {'Args': {'AuthKey': 'YOUR_GEO_LITE_KEY',\n",
    "                                           'DBFolder': './.msticpy'},\n",
    "                                  'Provider': 'GeoLiteLookup'}},\n",
    "```"
   ]
  },
  {
   "cell_type": "code",
   "execution_count": null,
   "metadata": {},
   "outputs": [],
   "source": [
    "# Test\n",
    "\n",
    "IpAddress.geoloc(\"174.34.43.21\")"
   ]
  },
  {
   "cell_type": "markdown",
   "metadata": {},
   "source": [
    "## <a style=\"border: solid; padding:5pt; color:black; background-color:#309030\">Task 5 - Confirm Azure Settings</a>\n",
    "\n",
    "1. Use the Azure tab\n",
    "2. Confirm cloud is set to global (or change it to this)\n",
    "3. Confirm msi, cli and devicecode are selected\n"
   ]
  },
  {
   "cell_type": "code",
   "execution_count": null,
   "metadata": {},
   "outputs": [],
   "source": [
    "# configure\n",
    "mp.MpConfigEdit()"
   ]
  },
  {
   "cell_type": "code",
   "execution_count": null,
   "metadata": {},
   "outputs": [],
   "source": [
    "mp.MpConfigFile().view_settings()"
   ]
  },
  {
   "cell_type": "code",
   "execution_count": null,
   "metadata": {},
   "outputs": [],
   "source": [
    "# test\n",
    "az_settings = mp.settings.settings[\"Azure\"]\n",
    "\n",
    "assert az_settings[\"cloud\"] == \"global\"\n",
    "assert all(meth in az_settings[\"auth_methods\"] for meth in ['cli', 'msi', 'devicecode'])\n"
   ]
  },
  {
   "cell_type": "markdown",
   "metadata": {},
   "source": [
    "Settings for Azure section should look like this:\n",
    "```\n",
    "{'Azure': {'auth_methods': ['cli', 'msi', 'devicecode'], 'cloud': 'global'},\n",
    "```"
   ]
  },
  {
   "attachments": {},
   "cell_type": "markdown",
   "metadata": {},
   "source": [
    "---\n",
    "\n",
    "# <a style=\"border: solid; padding:5pt; color:black; background-color:#909090\">Finding your msticpyconfig.yaml</a>\n",
    "\n",
    "---\n",
    "\n",
    "MSTICPy uses the following to logic find a configuration file:\n",
    "- If you specify a path using the `MSTICPYCONFIG` environment variable, it will use that\n",
    "- If you have a msticpyconfig.yaml in ~/.msticpy, it will use that.\n",
    "  <br>Note: - this is `$HOME/.msticpy` on Linux/Mac<br> and `%UserProfile%/.msticpy` on Windows\n",
    "\n",
    "- If there is a msticpyconfig.yaml in the current directory, it will use that\n",
    "\n",
    "- If you specify a path using the `config` parameter of `init_notebook`, it will use that\n",
    "  and **override all of the above**.\n",
    "\n",
    "---\n",
    "\n",
    "You can run without a config file but you will get warnings.\n",
    "<br>\n",
    "\n",
    "You can supply\n",
    "keys, connection strings, etc. to most components when you initialize them but...\n",
    "#### ... who wants to do that?\n"
   ]
  },
  {
   "cell_type": "markdown",
   "metadata": {},
   "source": [
    "---\n",
    "\n",
    "# <a style=\"border: solid; padding:5pt; color:black; background-color:#909090\">Troubleshooting settings</a>\n",
    "\n",
    "---\n",
    "\n",
    "1. Turn on logging before running `init_notebook`\n",
    "```python\n",
    "    mp.set_logging_level(\"INFO\")\n",
    "```\n",
    "2. Run `mp.init_notebook` with `verbosity=2` parameter\n",
    "```python\n",
    "    mp.init_notebook(verbosity=2)\n",
    "```\n",
    "3. Comment out sections to isolate the problem section.\n"
   ]
  },
  {
   "cell_type": "markdown",
   "metadata": {},
   "source": [
    "---\n",
    "\n",
    "# <a style=\"border: solid; padding:5pt; color:black; background-color:#909090\">Appendix - Sample msticpyconfig.yaml</a>\n",
    "\n",
    "---\n",
    "\n",
    "```yaml\n",
    "Azure:\n",
    "  auth_methods:\n",
    "  - cli\n",
    "  - interactive\n",
    "  cloud: global\n",
    "AzureSentinel:\n",
    "  Workspaces:\n",
    "    MainWorkspace: &id001\n",
    "      ResourceGroup: <ResGroup>\n",
    "      SubscriptionId: <subscription-guid>\n",
    "      TenantId: <tenant-guid>\n",
    "      WorkspaceId: <workspace-guid>\n",
    "      WorkspaceName: <ws-name>\n",
    "    Default: *id001\n",
    "    OtherWorkspace:\n",
    "      ResourceGroup: ResGroup\n",
    "      SubscriptionId: <subscription-guid>\n",
    "      TenantId: <tenant-guid>\n",
    "      WorkspaceId: <workspace-guid>\n",
    "      WorkspaceName: <ws-name>\n",
    "DataProviders:\n",
    "  Kusto-ABC:\n",
    "    Args:\n",
    "      Cluster: <cluster-url>\n",
    "      IntegratedAuth: true\n",
    "  Kusto-XYZ:\n",
    "    Args:\n",
    "      Cluster: <cluster-url>\n",
    "      IntegratedAuth: true\n",
    "  MicrosoftDefender:\n",
    "    Args:\n",
    "      ClientId: <client-guid>\n",
    "      ClientSecret:\n",
    "        KeyVault: null\n",
    "      TenantId: <tenant-guid>\n",
    "  MicrosoftGraph:\n",
    "    Args:\n",
    "      ClientId: <client-guid>\n",
    "      ClientSecret:\n",
    "        KeyVault: null\n",
    "      TenantId: <tenant-guid>\n",
    "  Mordor:\n",
    "    save_folder: ~/.msticpy/mordor\n",
    "    use_cached: true\n",
    "KustoClusters:\n",
    "  # Kusto cluster definitions (for NEW Kusto driver)\n",
    "  ClusterDefaults:\n",
    "    Args:\n",
    "      TenantId: 69d28fd7-42a5-48bc-a619-af56397b9f28\n",
    "  Cluster1:\n",
    "    Args:\n",
    "      Cluster: <cluster-url>\n",
    "  Cluster2:\n",
    "    Args:\n",
    "      Cluster: <cluster-url>\n",
    "      Database: EventLogs\n",
    "KeyVault:\n",
    "  Authority: global\n",
    "  AzureRegion: East US\n",
    "  ResourceGroup: <ResGroup>\n",
    "  SubscriptionId: <subscription-guid>\n",
    "  TenantId: <tenant-guid>\n",
    "  UseKeyring: false\n",
    "  VaultName: <name>\n",
    "OtherProviders:\n",
    "  GeoIPLite:\n",
    "    Args:\n",
    "      AuthKey:\n",
    "        KeyVault: null\n",
    "      DBFolder: ~/.msticpy\n",
    "    Provider: GeoLiteLookup\n",
    "  IPStack:\n",
    "    Args:\n",
    "      AuthKey:\n",
    "        KeyVault: null\n",
    "    Provider: IPStackLookup\n",
    "TIProviders:\n",
    "  GreyNoise:\n",
    "    Args:\n",
    "      AuthKey:\n",
    "        KeyVault: null\n",
    "    Primary: true\n",
    "    Provider: GreyNoise\n",
    "  OTX:\n",
    "    Args:\n",
    "      AuthKey:\n",
    "        KeyVault: null\n",
    "    Primary: true\n",
    "    Provider: OTX\n",
    "  OpenPageRank:\n",
    "    Args:\n",
    "      AuthKey:\n",
    "        KeyVault: null\n",
    "    Primary: true\n",
    "    Provider: OPR\n",
    "  RiskIQ:\n",
    "    Args:\n",
    "      ApiID: \n",
    "      AuthKey:\n",
    "        KeyVault: null\n",
    "    Primary: true\n",
    "    Provider: RiskIQ\n",
    "  TorExitNodes:\n",
    "    Primary: true\n",
    "    Provider: Tor\n",
    "  VirusTotal:\n",
    "    Args:\n",
    "      AuthKey:\n",
    "        KeyVault: null\n",
    "    Primary: true\n",
    "    Provider: VirusTotal\n",
    "  XForce:\n",
    "    Args:\n",
    "      ApiID:\n",
    "        KeyVault: null\n",
    "      AuthKey:\n",
    "        KeyVault: null\n",
    "    Primary: true\n",
    "    Provider: XForce\n",
    "```"
   ]
  }
 ],
 "metadata": {
  "kernelspec": {
   "display_name": "Python 3 (ipykernel)",
   "language": "python",
   "name": "python3"
  },
  "language_info": {
   "codemirror_mode": {
    "name": "ipython",
    "version": 3
   },
   "file_extension": ".py",
   "mimetype": "text/x-python",
   "name": "python",
   "nbconvert_exporter": "python",
   "pygments_lexer": "ipython3",
   "version": "3.11.3"
  },
  "vscode": {
   "interpreter": {
    "hash": "0f1a8e166ce5c1ec1911a36e4fdbd34b2f623e2a3442791008b8ac429a1d6070"
   }
  }
 },
 "nbformat": 4,
 "nbformat_minor": 2
}
