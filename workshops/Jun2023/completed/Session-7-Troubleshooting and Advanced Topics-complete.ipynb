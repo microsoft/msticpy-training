{
 "cells": [
  {
   "attachments": {},
   "cell_type": "markdown",
   "metadata": {},
   "source": [
    "## MSTICPy and Notebooks in InfoSec\n",
    "\n",
    "---\n",
    "\n",
    "<h1 style=\"border: solid; padding:5pt; color:black; background-color:#909090\">Session 7 - Troubleshooting and Advanced Jupyter Topics</h1>\n",
    "\n",
    "---\n",
    "\n",
    "## What this session covers:\n",
    "\n",
    "* Jupyter Kernels & Python environments\n",
    "* Notebook magics\n",
    "* Widgets introduction\n",
    "* Troubleshooting and debugging notebooks\n",
    "\n",
    "\n",
    "## Prerequisites\n",
    "- Python >= 3.8 Environment\n",
    "- Jupyter installed\n",
    "- MSTICPy installed\n",
    "\n",
    "## Recommended\n",
    "- VS Code\n"
   ]
  },
  {
   "cell_type": "markdown",
   "metadata": {},
   "source": [
    "---\n",
    "\n",
    "# <a style=\"border: solid; padding:5pt; color:black; background-color:#909090\">Jupyter Kernels & Python environments</a>\n",
    "\n",
    "---\n",
    "\n",
    "Python environments let you create \"isolated\" installations with independent versions of packages.\n",
    "\n",
    "This is usually **A VERY GOOD IDEA**!\n"
   ]
  },
  {
   "cell_type": "markdown",
   "metadata": {},
   "source": [
    "## <a style=\"border: solid; padding:5pt; color:black; background-color:#309030\">Task 1 - Create a Python/Conda Environment</a>\n",
    "\n",
    "1. Open a terminal (in VS Code/Anaconda prompt)\n",
    "2. Enter the following commands (depending on your environment)\n",
    "\n",
    "Conda\n",
    "\n",
    "```\n",
    "conda create -n firecon22\n",
    "conda activate firecon22\n",
    "conda install pip\n",
    "```\n",
    "\n",
    "Linux\n",
    "\n",
    "```\n",
    "python -m venv firecon22\n",
    "source ./firecon22/Scripts/activate\n",
    "```\n",
    "\n",
    "Windows\n",
    "\n",
    "```\n",
    "python -m venv firecon22\n",
    ".\\firecon22\\Scripts\\activate\n",
    "```\n",
    "\n"
   ]
  },
  {
   "cell_type": "markdown",
   "metadata": {},
   "source": [
    "\n",
    "## Using different Python Kernels with Jupyter\n",
    "\n",
    "> Note: VSCode seems to be able to use Python or Conda environments for notebooks without installing a kernel.<br>\n",
    "> However, installing a dedicated ipykernel is needed for debugging.\n",
    "\n",
    "## <a style=\"border: solid; padding:5pt; color:black; background-color:#309030\">Task 2 - install an IPython kernel for your environment</a>\n",
    "\n",
    "1. Install `ipykernel`\n",
    "    ```\n",
    "        python -m pip install ipykernel\n",
    "    ```\n",
    "    ....or\n",
    "    ```\n",
    "        conda install ipykernel\n",
    "    ```\n",
    "\n",
    "2. Create an IPython kernel for notebooks for your environment\n",
    "    ```\n",
    "        python -m ipykernel install --user --name firecon22 --display-name \"Python3 (firecon22)\"\n",
    "    ```"
   ]
  },
  {
   "cell_type": "markdown",
   "metadata": {},
   "source": [
    "---\n",
    "\n",
    "## Addendum - removing unneeded kernels/environments\n",
    "\n",
    "```\n",
    "jupyter kernelspec remove KERNELNAME\n",
    "\n",
    "```\n",
    "\n",
    "Example\n",
    "\n",
    "```\n",
    "(base) e:\\src\\test>jupyter kernelspec list\n",
    "Available kernels:\n",
    "  firecon22              C:\\Users\\Ian\\AppData\\Roaming\\jupyter\\kernels\\firecon22\n",
    "  msticpy                C:\\Users\\Ian\\AppData\\Roaming\\jupyter\\kernels\\msticpy\n",
    "  py-jupyter-sentinel    C:\\Users\\Ian\\AppData\\Roaming\\jupyter\\kernels\\py-jupyter-sentinel\n",
    "  python3                C:\\Users\\Ian\\AppData\\Roaming\\jupyter\\kernels\\python3\n",
    "  bluehound              C:\\ProgramData\\jupyter\\kernels\\bluehoundon\n",
    "\n",
    "\n",
    "(base) e:\\src\\test>jupyter kernelspec remove firecon22\n",
    "Kernel specs to remove:\n",
    "  firecon22         C:\\Users\\Ian\\AppData\\Roaming\\jupyter\\kernels\\firecon22\n",
    "Remove 1 kernel specs [y/N]: y\n",
    "[RemoveKernelSpec] Removed C:\\Users\\Ian\\AppData\\Roaming\\jupyter\\kernels\\firecon22\n",
    "```\n",
    "\n",
    "Remove the environment if you don't need it\n",
    "\n",
    "Python venv - just delete the venv folder\n",
    "\n",
    "Conda\n",
    "```\n",
    "conda remove --all -n MyNewCondaEnv\n",
    "```"
   ]
  },
  {
   "cell_type": "markdown",
   "metadata": {},
   "source": [
    "---\n",
    "\n",
    "# <a style=\"border: solid; padding:5pt; color:black; background-color:#909090\">Troubleshooting exceptions and debugging</a>\n",
    "\n",
    "---\n",
    "\n",
    "### A Python exception"
   ]
  },
  {
   "cell_type": "code",
   "execution_count": 1,
   "metadata": {},
   "outputs": [
    {
     "name": "stdout",
     "output_type": "stream",
     "text": [
      "3\n",
      "HelloWorld\n"
     ]
    },
    {
     "ename": "TypeError",
     "evalue": "can only concatenate str (not \"int\") to str",
     "output_type": "error",
     "traceback": [
      "\u001b[1;31m---------------------------------------------------------------------------\u001b[0m",
      "\u001b[1;31mTypeError\u001b[0m                                 Traceback (most recent call last)",
      "Cell \u001b[1;32mIn[1], line 18\u001b[0m\n\u001b[0;32m     14\u001b[0m     \u001b[39mprint\u001b[39m(func_in_middle(\u001b[39m\"\u001b[39m\u001b[39mHello\u001b[39m\u001b[39m\"\u001b[39m, \u001b[39m\"\u001b[39m\u001b[39mWorld\u001b[39m\u001b[39m\"\u001b[39m))\n\u001b[0;32m     15\u001b[0m     \u001b[39mprint\u001b[39m(func_in_middle(\u001b[39m\"\u001b[39m\u001b[39mHello\u001b[39m\u001b[39m\"\u001b[39m, \u001b[39m1\u001b[39m))\n\u001b[1;32m---> 18\u001b[0m hapless()\n",
      "Cell \u001b[1;32mIn[1], line 15\u001b[0m, in \u001b[0;36mhapless\u001b[1;34m()\u001b[0m\n\u001b[0;32m     13\u001b[0m \u001b[39mprint\u001b[39m(func_in_middle(\u001b[39m1\u001b[39m, \u001b[39m2\u001b[39m))\n\u001b[0;32m     14\u001b[0m \u001b[39mprint\u001b[39m(func_in_middle(\u001b[39m\"\u001b[39m\u001b[39mHello\u001b[39m\u001b[39m\"\u001b[39m, \u001b[39m\"\u001b[39m\u001b[39mWorld\u001b[39m\u001b[39m\"\u001b[39m))\n\u001b[1;32m---> 15\u001b[0m \u001b[39mprint\u001b[39m(func_in_middle(\u001b[39m\"\u001b[39;49m\u001b[39mHello\u001b[39;49m\u001b[39m\"\u001b[39;49m, \u001b[39m1\u001b[39;49m))\n",
      "Cell \u001b[1;32mIn[1], line 9\u001b[0m, in \u001b[0;36mfunc_in_middle\u001b[1;34m(*args)\u001b[0m\n\u001b[0;32m      7\u001b[0m \u001b[39mdef\u001b[39;00m \u001b[39mfunc_in_middle\u001b[39m(\u001b[39m*\u001b[39margs):\n\u001b[0;32m      8\u001b[0m \u001b[39m    \u001b[39m\u001b[39m\"\"\"It's not my problem\"\"\"\u001b[39;00m\n\u001b[1;32m----> 9\u001b[0m     \u001b[39mreturn\u001b[39;00m bad_func(\u001b[39m*\u001b[39;49margs)\n",
      "Cell \u001b[1;32mIn[1], line 5\u001b[0m, in \u001b[0;36mbad_func\u001b[1;34m(param1, param2)\u001b[0m\n\u001b[0;32m      3\u001b[0m \u001b[39mdef\u001b[39;00m \u001b[39mbad_func\u001b[39m(param1, param2):\n\u001b[0;32m      4\u001b[0m \u001b[39m    \u001b[39m\u001b[39m\"\"\"What could possibly go wrong.\"\"\"\u001b[39;00m\n\u001b[1;32m----> 5\u001b[0m     \u001b[39mreturn\u001b[39;00m param1 \u001b[39m+\u001b[39;49m param2\n",
      "\u001b[1;31mTypeError\u001b[0m: can only concatenate str (not \"int\") to str"
     ]
    }
   ],
   "source": [
    "# Bad code example\n",
    "\n",
    "def bad_func(param1, param2):\n",
    "    \"\"\"What could possibly go wrong.\"\"\"\n",
    "    return param1 + param2\n",
    "\n",
    "def func_in_middle(*args):\n",
    "    \"\"\"It's not my problem\"\"\"\n",
    "    return bad_func(*args)\n",
    "\n",
    "def hapless():\n",
    "    \"\"\"I'm just hoping for the best.\"\"\"\n",
    "    print(func_in_middle(1, 2))\n",
    "    print(func_in_middle(\"Hello\", \"World\"))\n",
    "    print(func_in_middle(\"Hello\", 1))\n",
    "\n",
    "\n",
    "hapless()"
   ]
  },
  {
   "cell_type": "markdown",
   "metadata": {},
   "source": [
    "### Use %tb to review last traceback\n",
    "<p style=\"font-family:consolas; font-size:15pt; color:green\">\n",
    "%tb\n",
    "</p>\n"
   ]
  },
  {
   "cell_type": "code",
   "execution_count": 2,
   "metadata": {},
   "outputs": [
    {
     "ename": "TypeError",
     "evalue": "can only concatenate str (not \"int\") to str",
     "output_type": "error",
     "traceback": [
      "\u001b[1;31m---------------------------------------------------------------------------\u001b[0m",
      "\u001b[1;31mTypeError\u001b[0m                                 Traceback (most recent call last)",
      "Cell \u001b[1;32mIn[1], line 18\u001b[0m\n\u001b[0;32m     14\u001b[0m     \u001b[39mprint\u001b[39m(func_in_middle(\u001b[39m\"\u001b[39m\u001b[39mHello\u001b[39m\u001b[39m\"\u001b[39m, \u001b[39m\"\u001b[39m\u001b[39mWorld\u001b[39m\u001b[39m\"\u001b[39m))\n\u001b[0;32m     15\u001b[0m     \u001b[39mprint\u001b[39m(func_in_middle(\u001b[39m\"\u001b[39m\u001b[39mHello\u001b[39m\u001b[39m\"\u001b[39m, \u001b[39m1\u001b[39m))\n\u001b[1;32m---> 18\u001b[0m hapless()\n",
      "Cell \u001b[1;32mIn[1], line 15\u001b[0m, in \u001b[0;36mhapless\u001b[1;34m()\u001b[0m\n\u001b[0;32m     13\u001b[0m \u001b[39mprint\u001b[39m(func_in_middle(\u001b[39m1\u001b[39m, \u001b[39m2\u001b[39m))\n\u001b[0;32m     14\u001b[0m \u001b[39mprint\u001b[39m(func_in_middle(\u001b[39m\"\u001b[39m\u001b[39mHello\u001b[39m\u001b[39m\"\u001b[39m, \u001b[39m\"\u001b[39m\u001b[39mWorld\u001b[39m\u001b[39m\"\u001b[39m))\n\u001b[1;32m---> 15\u001b[0m \u001b[39mprint\u001b[39m(func_in_middle(\u001b[39m\"\u001b[39;49m\u001b[39mHello\u001b[39;49m\u001b[39m\"\u001b[39;49m, \u001b[39m1\u001b[39;49m))\n",
      "Cell \u001b[1;32mIn[1], line 9\u001b[0m, in \u001b[0;36mfunc_in_middle\u001b[1;34m(*args)\u001b[0m\n\u001b[0;32m      7\u001b[0m \u001b[39mdef\u001b[39;00m \u001b[39mfunc_in_middle\u001b[39m(\u001b[39m*\u001b[39margs):\n\u001b[0;32m      8\u001b[0m \u001b[39m    \u001b[39m\u001b[39m\"\"\"It's not my problem\"\"\"\u001b[39;00m\n\u001b[1;32m----> 9\u001b[0m     \u001b[39mreturn\u001b[39;00m bad_func(\u001b[39m*\u001b[39;49margs)\n",
      "Cell \u001b[1;32mIn[1], line 5\u001b[0m, in \u001b[0;36mbad_func\u001b[1;34m(param1, param2)\u001b[0m\n\u001b[0;32m      3\u001b[0m \u001b[39mdef\u001b[39;00m \u001b[39mbad_func\u001b[39m(param1, param2):\n\u001b[0;32m      4\u001b[0m \u001b[39m    \u001b[39m\u001b[39m\"\"\"What could possibly go wrong.\"\"\"\u001b[39;00m\n\u001b[1;32m----> 5\u001b[0m     \u001b[39mreturn\u001b[39;00m param1 \u001b[39m+\u001b[39;49m param2\n",
      "\u001b[1;31mTypeError\u001b[0m: can only concatenate str (not \"int\") to str"
     ]
    }
   ],
   "source": [
    "%tb"
   ]
  },
  {
   "cell_type": "markdown",
   "metadata": {},
   "source": [
    "## <a style=\"border: solid; padding:5pt; color:black; background-color:#309030\">Task 3 - Use `%xmode` magic to diagnose the error</a>\n",
    "\n",
    "1. Turn on verbose traceback mode\n",
    "2. Redisplay the traceback and identify the code error\n",
    "\n",
    "Syntax:\n",
    "<p style=\"font-family:consolas; font-size:15pt; color:green\">\n",
    "%mode { Verbose | Context | Plain | Minimal }\n",
    "</p>\n",
    "\n",
    "<details>\n",
    "<summary>Hints...</summary>\n",
    "<ul>\n",
    "<li>Type the following into a cell and run to turn on parameter values.\n",
    "<pre>%xmode verbose</pre> </li>\n",
    "<li>Type the following into a cell to view the last error.\n",
    "<pre>%tb</pre>\n",
    "</li>\n",
    "<ul>\n",
    "</details>"
   ]
  },
  {
   "cell_type": "code",
   "execution_count": 3,
   "metadata": {},
   "outputs": [
    {
     "name": "stdout",
     "output_type": "stream",
     "text": [
      "Exception reporting mode: Verbose\n",
      "3\n",
      "HelloWorld\n"
     ]
    },
    {
     "ename": "TypeError",
     "evalue": "can only concatenate str (not \"int\") to str",
     "output_type": "error",
     "traceback": [
      "\u001b[1;31m---------------------------------------------------------------------------\u001b[0m",
      "\u001b[1;31mTypeError\u001b[0m                                 Traceback (most recent call last)",
      "Cell \u001b[1;32mIn[3], line 2\u001b[0m\n\u001b[0;32m      1\u001b[0m get_ipython()\u001b[39m.\u001b[39mrun_line_magic(\u001b[39m'\u001b[39m\u001b[39mxmode\u001b[39m\u001b[39m'\u001b[39m, \u001b[39m'\u001b[39m\u001b[39mverbose\u001b[39m\u001b[39m'\u001b[39m)\n\u001b[1;32m----> 2\u001b[0m hapless()\n",
      "Cell \u001b[1;32mIn[1], line 15\u001b[0m, in \u001b[0;36mhapless\u001b[1;34m()\u001b[0m\n\u001b[0;32m     13\u001b[0m \u001b[39mprint\u001b[39m(func_in_middle(\u001b[39m1\u001b[39m, \u001b[39m2\u001b[39m))\n\u001b[0;32m     14\u001b[0m \u001b[39mprint\u001b[39m(func_in_middle(\u001b[39m\"\u001b[39m\u001b[39mHello\u001b[39m\u001b[39m\"\u001b[39m, \u001b[39m\"\u001b[39m\u001b[39mWorld\u001b[39m\u001b[39m\"\u001b[39m))\n\u001b[1;32m---> 15\u001b[0m \u001b[39mprint\u001b[39m(func_in_middle(\u001b[39m\"\u001b[39;49m\u001b[39mHello\u001b[39;49m\u001b[39m\"\u001b[39;49m, \u001b[39m1\u001b[39;49m))\n",
      "Cell \u001b[1;32mIn[1], line 9\u001b[0m, in \u001b[0;36mfunc_in_middle\u001b[1;34m(*args=('Hello', 1))\u001b[0m\n\u001b[0;32m      7\u001b[0m \u001b[39mdef\u001b[39;00m \u001b[39mfunc_in_middle\u001b[39m(\u001b[39m*\u001b[39margs):\n\u001b[0;32m      8\u001b[0m \u001b[39m    \u001b[39m\u001b[39m\"\"\"It's not my problem\"\"\"\u001b[39;00m\n\u001b[1;32m----> 9\u001b[0m     \u001b[39mreturn\u001b[39;00m bad_func(\u001b[39m*\u001b[39;49margs)\n        args \u001b[1;34m= ('Hello', 1)\u001b[0m\n",
      "Cell \u001b[1;32mIn[1], line 5\u001b[0m, in \u001b[0;36mbad_func\u001b[1;34m(param1='Hello', param2=1)\u001b[0m\n\u001b[0;32m      3\u001b[0m \u001b[39mdef\u001b[39;00m \u001b[39mbad_func\u001b[39m(param1, param2):\n\u001b[0;32m      4\u001b[0m \u001b[39m    \u001b[39m\u001b[39m\"\"\"What could possibly go wrong.\"\"\"\u001b[39;00m\n\u001b[1;32m----> 5\u001b[0m     \u001b[39mreturn\u001b[39;00m param1 \u001b[39m+\u001b[39;49m param2\n        param1 \u001b[1;34m= 'Hello'\u001b[0m\u001b[1;34m\n        \u001b[0mparam2 \u001b[1;34m= 1\u001b[0m\n",
      "\u001b[1;31mTypeError\u001b[0m: can only concatenate str (not \"int\") to str"
     ]
    }
   ],
   "source": [
    "%xmode verbose\n",
    "hapless()"
   ]
  },
  {
   "cell_type": "markdown",
   "metadata": {},
   "source": [
    "## Exceptions within Exceptions"
   ]
  },
  {
   "cell_type": "code",
   "execution_count": 4,
   "metadata": {},
   "outputs": [
    {
     "name": "stdout",
     "output_type": "stream",
     "text": [
      "3\n",
      "HelloWorld\n"
     ]
    },
    {
     "ename": "AttributeError",
     "evalue": "'str' object has no attribute 'value'",
     "output_type": "error",
     "traceback": [
      "\u001b[1;31m---------------------------------------------------------------------------\u001b[0m",
      "\u001b[1;31mTypeError\u001b[0m                                 Traceback (most recent call last)",
      "Cell \u001b[1;32mIn[4], line 4\u001b[0m, in \u001b[0;36mfunc_in_middle2\u001b[1;34m(*args=('Hello', 1))\u001b[0m\n\u001b[0;32m      3\u001b[0m \u001b[39mtry\u001b[39;00m:\n\u001b[1;32m----> 4\u001b[0m     \u001b[39mreturn\u001b[39;00m bad_func(\u001b[39m*\u001b[39;49margs)\n        args \u001b[1;34m= ('Hello', 1)\u001b[0m\n\u001b[0;32m      5\u001b[0m \u001b[39mexcept\u001b[39;00m \u001b[39mTypeError\u001b[39;00m \u001b[39mas\u001b[39;00m err:\n",
      "Cell \u001b[1;32mIn[1], line 5\u001b[0m, in \u001b[0;36mbad_func\u001b[1;34m(param1='Hello', param2=1)\u001b[0m\n\u001b[0;32m      4\u001b[0m \u001b[39m\u001b[39m\u001b[39m\"\"\"What could possibly go wrong.\"\"\"\u001b[39;00m\n\u001b[1;32m----> 5\u001b[0m \u001b[39mreturn\u001b[39;00m param1 \u001b[39m+\u001b[39;49m param2\n        param1 \u001b[1;34m= 'Hello'\u001b[0m\u001b[1;34m\n        \u001b[0mparam2 \u001b[1;34m= 1\u001b[0m\n",
      "\u001b[1;31mTypeError\u001b[0m: can only concatenate str (not \"int\") to str",
      "\nDuring handling of the above exception, another exception occurred:\n",
      "\u001b[1;31mAttributeError\u001b[0m                            Traceback (most recent call last)",
      "Cell \u001b[1;32mIn[4], line 17\u001b[0m\n\u001b[0;32m     13\u001b[0m     \u001b[39mprint\u001b[39m(func_in_middle(\u001b[39m\"\u001b[39m\u001b[39mHello\u001b[39m\u001b[39m\"\u001b[39m, \u001b[39m\"\u001b[39m\u001b[39mWorld\u001b[39m\u001b[39m\"\u001b[39m))\n\u001b[0;32m     14\u001b[0m     \u001b[39mprint\u001b[39m(func_in_middle2(\u001b[39m\"\u001b[39m\u001b[39mHello\u001b[39m\u001b[39m\"\u001b[39m, \u001b[39m1\u001b[39m))\n\u001b[1;32m---> 17\u001b[0m hapless2()\n",
      "Cell \u001b[1;32mIn[4], line 14\u001b[0m, in \u001b[0;36mhapless2\u001b[1;34m()\u001b[0m\n\u001b[0;32m     12\u001b[0m \u001b[39mprint\u001b[39m(func_in_middle(\u001b[39m1\u001b[39m, \u001b[39m2\u001b[39m))\n\u001b[0;32m     13\u001b[0m \u001b[39mprint\u001b[39m(func_in_middle(\u001b[39m\"\u001b[39m\u001b[39mHello\u001b[39m\u001b[39m\"\u001b[39m, \u001b[39m\"\u001b[39m\u001b[39mWorld\u001b[39m\u001b[39m\"\u001b[39m))\n\u001b[1;32m---> 14\u001b[0m \u001b[39mprint\u001b[39m(func_in_middle2(\u001b[39m\"\u001b[39;49m\u001b[39mHello\u001b[39;49m\u001b[39m\"\u001b[39;49m, \u001b[39m1\u001b[39;49m))\n",
      "Cell \u001b[1;32mIn[4], line 6\u001b[0m, in \u001b[0;36mfunc_in_middle2\u001b[1;34m(*args=('Hello', 1))\u001b[0m\n\u001b[0;32m      4\u001b[0m     \u001b[39mreturn\u001b[39;00m bad_func(\u001b[39m*\u001b[39margs)\n\u001b[0;32m      5\u001b[0m \u001b[39mexcept\u001b[39;00m \u001b[39mTypeError\u001b[39;00m \u001b[39mas\u001b[39;00m err:\n\u001b[1;32m----> 6\u001b[0m     \u001b[39mreturn\u001b[39;00m \u001b[39m\"\u001b[39;49m\u001b[39m\"\u001b[39;49m\u001b[39m.\u001b[39;49mjoin(\u001b[39mstr\u001b[39;49m(arg\u001b[39m.\u001b[39;49mvalue) \u001b[39mfor\u001b[39;49;00m arg \u001b[39min\u001b[39;49;00m args)\n        args \u001b[1;34m= ('Hello', 1)\u001b[0m\n\u001b[0;32m      7\u001b[0m \u001b[39mexcept\u001b[39;00m \u001b[39mException\u001b[39;00m \u001b[39mas\u001b[39;00m err:\n\u001b[0;32m      8\u001b[0m     \u001b[39mraise\u001b[39;00m \u001b[39mRuntimeError\u001b[39;00m(\u001b[39m\"\u001b[39m\u001b[39mSomething terrible happened\u001b[39m\u001b[39m\"\u001b[39m) \u001b[39mfrom\u001b[39;00m \u001b[39merr\u001b[39;00m\n",
      "Cell \u001b[1;32mIn[4], line 6\u001b[0m, in \u001b[0;36m<genexpr>\u001b[1;34m(.0=<tuple_iterator object>)\u001b[0m\n\u001b[0;32m      4\u001b[0m     \u001b[39mreturn\u001b[39;00m bad_func(\u001b[39m*\u001b[39margs)\n\u001b[0;32m      5\u001b[0m \u001b[39mexcept\u001b[39;00m \u001b[39mTypeError\u001b[39;00m \u001b[39mas\u001b[39;00m err:\n\u001b[1;32m----> 6\u001b[0m     \u001b[39mreturn\u001b[39;00m \u001b[39m\"\u001b[39m\u001b[39m\"\u001b[39m\u001b[39m.\u001b[39mjoin(\u001b[39mstr\u001b[39m(arg\u001b[39m.\u001b[39;49mvalue) \u001b[39mfor\u001b[39;00m arg \u001b[39min\u001b[39;00m args)\n        arg \u001b[1;34m= 'Hello'\u001b[0m\n\u001b[0;32m      7\u001b[0m \u001b[39mexcept\u001b[39;00m \u001b[39mException\u001b[39;00m \u001b[39mas\u001b[39;00m err:\n\u001b[0;32m      8\u001b[0m     \u001b[39mraise\u001b[39;00m \u001b[39mRuntimeError\u001b[39;00m(\u001b[39m\"\u001b[39m\u001b[39mSomething terrible happened\u001b[39m\u001b[39m\"\u001b[39m) \u001b[39mfrom\u001b[39;00m \u001b[39merr\u001b[39;00m\n",
      "\u001b[1;31mAttributeError\u001b[0m: 'str' object has no attribute 'value'"
     ]
    }
   ],
   "source": [
    "def func_in_middle2(*args):\n",
    "    \"\"\"It's not my problem but let me try to fix things\"\"\"\n",
    "    try:\n",
    "        return bad_func(*args)\n",
    "    except TypeError as err:\n",
    "        return \"\".join(str(arg.value) for arg in args)\n",
    "    except Exception as err:\n",
    "        raise RuntimeError(\"Something terrible happened\") from err\n",
    "\n",
    "def hapless2():\n",
    "    \"\"\"I'm just hoping for the best.\"\"\"\n",
    "    print(func_in_middle(1, 2))\n",
    "    print(func_in_middle(\"Hello\", \"World\"))\n",
    "    print(func_in_middle2(\"Hello\", 1))\n",
    "\n",
    "\n",
    "hapless2()"
   ]
  },
  {
   "cell_type": "markdown",
   "metadata": {},
   "source": [
    "## <a style=\"border: solid; padding:5pt; color:black; background-color:#309030\">Task 4 - Debugging from VS Code</a>\n",
    "\n",
    "If you are running in VS Code do one of the following:\n",
    "- Hover mouse to the right of the line number and click on the red circle\n",
    "- Put the cursor on the line and press F9\n",
    "- Ctrl-Shift-P -> debug toggle breakpoint\n",
    "\n",
    "Then\n",
    "- Hover over execution arrow and select Debug\n",
    "- Press Ctrl-Shift-Alt-Enter\n"
   ]
  },
  {
   "cell_type": "code",
   "execution_count": 5,
   "metadata": {},
   "outputs": [
    {
     "name": "stdout",
     "output_type": "stream",
     "text": [
      "3\n",
      "HelloWorld\n"
     ]
    },
    {
     "ename": "TypeError",
     "evalue": "can only concatenate str (not \"int\") to str",
     "output_type": "error",
     "traceback": [
      "\u001b[1;31m---------------------------------------------------------------------------\u001b[0m",
      "\u001b[1;31mTypeError\u001b[0m                                 Traceback (most recent call last)",
      "Cell \u001b[1;32mIn[5], line 1\u001b[0m\n\u001b[1;32m----> 1\u001b[0m hapless()\n",
      "Cell \u001b[1;32mIn[1], line 15\u001b[0m, in \u001b[0;36mhapless\u001b[1;34m()\u001b[0m\n\u001b[0;32m     13\u001b[0m \u001b[39mprint\u001b[39m(func_in_middle(\u001b[39m1\u001b[39m, \u001b[39m2\u001b[39m))\n\u001b[0;32m     14\u001b[0m \u001b[39mprint\u001b[39m(func_in_middle(\u001b[39m\"\u001b[39m\u001b[39mHello\u001b[39m\u001b[39m\"\u001b[39m, \u001b[39m\"\u001b[39m\u001b[39mWorld\u001b[39m\u001b[39m\"\u001b[39m))\n\u001b[1;32m---> 15\u001b[0m \u001b[39mprint\u001b[39m(func_in_middle(\u001b[39m\"\u001b[39;49m\u001b[39mHello\u001b[39;49m\u001b[39m\"\u001b[39;49m, \u001b[39m1\u001b[39;49m))\n",
      "Cell \u001b[1;32mIn[1], line 9\u001b[0m, in \u001b[0;36mfunc_in_middle\u001b[1;34m(*args=('Hello', 1))\u001b[0m\n\u001b[0;32m      7\u001b[0m \u001b[39mdef\u001b[39;00m \u001b[39mfunc_in_middle\u001b[39m(\u001b[39m*\u001b[39margs):\n\u001b[0;32m      8\u001b[0m \u001b[39m    \u001b[39m\u001b[39m\"\"\"It's not my problem\"\"\"\u001b[39;00m\n\u001b[1;32m----> 9\u001b[0m     \u001b[39mreturn\u001b[39;00m bad_func(\u001b[39m*\u001b[39;49margs)\n        args \u001b[1;34m= ('Hello', 1)\u001b[0m\n",
      "Cell \u001b[1;32mIn[1], line 5\u001b[0m, in \u001b[0;36mbad_func\u001b[1;34m(param1='Hello', param2=1)\u001b[0m\n\u001b[0;32m      3\u001b[0m \u001b[39mdef\u001b[39;00m \u001b[39mbad_func\u001b[39m(param1, param2):\n\u001b[0;32m      4\u001b[0m \u001b[39m    \u001b[39m\u001b[39m\"\"\"What could possibly go wrong.\"\"\"\u001b[39;00m\n\u001b[1;32m----> 5\u001b[0m     \u001b[39mreturn\u001b[39;00m param1 \u001b[39m+\u001b[39;49m param2\n        param1 \u001b[1;34m= 'Hello'\u001b[0m\u001b[1;34m\n        \u001b[0mparam2 \u001b[1;34m= 1\u001b[0m\n",
      "\u001b[1;31mTypeError\u001b[0m: can only concatenate str (not \"int\") to str"
     ]
    }
   ],
   "source": [
    "hapless()"
   ]
  },
  {
   "attachments": {},
   "cell_type": "markdown",
   "metadata": {},
   "source": [
    "## MSTICPy Exceptions\n"
   ]
  },
  {
   "cell_type": "code",
   "execution_count": 6,
   "metadata": {},
   "outputs": [
    {
     "name": "stdout",
     "output_type": "stream",
     "text": [
      "3\n"
     ]
    },
    {
     "ename": "MsticpyParameterError",
     "evalue": "('Bad param1', 'param1 must be an int', 'One or more parameters were incorrect.', 'param1', ('Dataproviders documentation', 'https://msticpy.readthedocs.io/en/latest/data_acquisition/DataProviders.html'))",
     "output_type": "error",
     "traceback": [
      "\u001b[1;31m---------------------------------------------------------------------------\u001b[0m",
      "\u001b[1;31mMsticpyParameterError\u001b[0m                     Traceback (most recent call last)",
      "Cell \u001b[1;32mIn[6], line 31\u001b[0m\n\u001b[0;32m     27\u001b[0m     \u001b[39mprint\u001b[39m(func_in_middle(\u001b[39m\"\u001b[39m\u001b[39mHello\u001b[39m\u001b[39m\"\u001b[39m, \u001b[39m\"\u001b[39m\u001b[39mWorld\u001b[39m\u001b[39m\"\u001b[39m))\n\u001b[0;32m     28\u001b[0m     \u001b[39mprint\u001b[39m(func_in_middle(\u001b[39m\"\u001b[39m\u001b[39mHello\u001b[39m\u001b[39m\"\u001b[39m, \u001b[39m1\u001b[39m))\n\u001b[1;32m---> 31\u001b[0m hapless()\n",
      "Cell \u001b[1;32mIn[6], line 27\u001b[0m, in \u001b[0;36mhapless\u001b[1;34m()\u001b[0m\n\u001b[0;32m     25\u001b[0m \u001b[39m\u001b[39m\u001b[39m\"\"\"I'm just hoping for the best.\"\"\"\u001b[39;00m\n\u001b[0;32m     26\u001b[0m \u001b[39mprint\u001b[39m(func_in_middle(\u001b[39m1\u001b[39m, \u001b[39m2\u001b[39m))\n\u001b[1;32m---> 27\u001b[0m \u001b[39mprint\u001b[39m(func_in_middle(\u001b[39m\"\u001b[39;49m\u001b[39mHello\u001b[39;49m\u001b[39m\"\u001b[39;49m, \u001b[39m\"\u001b[39;49m\u001b[39mWorld\u001b[39;49m\u001b[39m\"\u001b[39;49m))\n\u001b[0;32m     28\u001b[0m \u001b[39mprint\u001b[39m(func_in_middle(\u001b[39m\"\u001b[39m\u001b[39mHello\u001b[39m\u001b[39m\"\u001b[39m, \u001b[39m1\u001b[39m))\n",
      "Cell \u001b[1;32mIn[6], line 21\u001b[0m, in \u001b[0;36mfunc_in_middle\u001b[1;34m(*args=('Hello', 'World'))\u001b[0m\n\u001b[0;32m     19\u001b[0m \u001b[39mdef\u001b[39;00m \u001b[39mfunc_in_middle\u001b[39m(\u001b[39m*\u001b[39margs):\n\u001b[0;32m     20\u001b[0m \u001b[39m    \u001b[39m\u001b[39m\"\"\"It's not my problem\"\"\"\u001b[39;00m\n\u001b[1;32m---> 21\u001b[0m     \u001b[39mreturn\u001b[39;00m bad_func(\u001b[39m*\u001b[39;49margs)\n        args \u001b[1;34m= ('Hello', 'World')\u001b[0m\n",
      "Cell \u001b[1;32mIn[6], line 7\u001b[0m, in \u001b[0;36mbad_func\u001b[1;34m(param1='Hello', param2='World')\u001b[0m\n\u001b[0;32m      5\u001b[0m \u001b[39m\u001b[39m\u001b[39m\"\"\"What could possibly go wrong.\"\"\"\u001b[39;00m\n\u001b[0;32m      6\u001b[0m \u001b[39mif\u001b[39;00m \u001b[39mnot\u001b[39;00m \u001b[39misinstance\u001b[39m(param1, \u001b[39mint\u001b[39m):\n\u001b[1;32m----> 7\u001b[0m     \u001b[39mraise\u001b[39;00m MsticpyParameterError(\n\u001b[0;32m      8\u001b[0m         \u001b[39m\"\u001b[39m\u001b[39mparam1 must be an int\u001b[39m\u001b[39m\"\u001b[39m,\n\u001b[0;32m      9\u001b[0m         title\u001b[39m=\u001b[39m\u001b[39m\"\u001b[39m\u001b[39mBad param1\u001b[39m\u001b[39m\"\u001b[39m,\n\u001b[0;32m     10\u001b[0m         parameter\u001b[39m=\u001b[39m[\u001b[39m\"\u001b[39m\u001b[39mparam1\u001b[39m\u001b[39m\"\u001b[39m],\n\u001b[0;32m     11\u001b[0m         help_uri\u001b[39m=\u001b[39m(\n\u001b[0;32m     12\u001b[0m             \u001b[39m\"\u001b[39m\u001b[39mDataproviders documentation\u001b[39m\u001b[39m\"\u001b[39m,\n\u001b[0;32m     13\u001b[0m             \u001b[39m\"\u001b[39m\u001b[39mhttps://msticpy.readthedocs.io/en/latest/data_acquisition/DataProviders.html\u001b[39m\u001b[39m\"\u001b[39m,\n\u001b[0;32m     14\u001b[0m         ),\n\u001b[0;32m     15\u001b[0m     )\n\u001b[0;32m     16\u001b[0m \u001b[39mreturn\u001b[39;00m param1 \u001b[39m+\u001b[39m param2\n",
      "\u001b[1;31mMsticpyParameterError\u001b[0m: ('Bad param1', 'param1 must be an int', 'One or more parameters were incorrect.', 'param1', ('Dataproviders documentation', 'https://msticpy.readthedocs.io/en/latest/data_acquisition/DataProviders.html'))"
     ]
    }
   ],
   "source": [
    "from msticpy.common.exceptions import MsticpyParameterError\n",
    "\n",
    "\n",
    "def bad_func(param1, param2):\n",
    "    \"\"\"What could possibly go wrong.\"\"\"\n",
    "    if not isinstance(param1, int):\n",
    "        raise MsticpyParameterError(\n",
    "            \"param1 must be an int\",\n",
    "            title=\"Bad param1\",\n",
    "            parameter=[\"param1\"],\n",
    "            help_uri=(\n",
    "                \"Dataproviders documentation\",\n",
    "                \"https://msticpy.readthedocs.io/en/latest/data_acquisition/DataProviders.html\",\n",
    "            ),\n",
    "        )\n",
    "    return param1 + param2\n",
    "\n",
    "\n",
    "def func_in_middle(*args):\n",
    "    \"\"\"It's not my problem\"\"\"\n",
    "    return bad_func(*args)\n",
    "\n",
    "\n",
    "def hapless():\n",
    "    \"\"\"I'm just hoping for the best.\"\"\"\n",
    "    print(func_in_middle(1, 2))\n",
    "    print(func_in_middle(\"Hello\", \"World\"))\n",
    "    print(func_in_middle(\"Hello\", 1))\n",
    "\n",
    "\n",
    "hapless()"
   ]
  },
  {
   "cell_type": "code",
   "execution_count": null,
   "metadata": {},
   "outputs": [],
   "source": [
    "import msticpy as mp\n",
    "mp.init_notebook()\n"
   ]
  },
  {
   "cell_type": "code",
   "execution_count": 8,
   "metadata": {},
   "outputs": [
    {
     "name": "stdout",
     "output_type": "stream",
     "text": [
      "3\n"
     ]
    },
    {
     "data": {
      "text/html": [
       "\n",
       "        <style>\n",
       "            div.solid {border: thin solid black; padding:10px;}\n",
       "            p.title {background-color:Tomato; padding:5px;}\n",
       "            ul.circle {list-style-type: circle;}\n",
       "            div.indent {text-indent: 20px; padding: 0px}\n",
       "        </style>\n",
       "        <div class='solid'><h3><p class='title'>MsticpyParameterError - Bad param1</p></h3>param1 must be an int<br>One or more parameters were incorrect.<br>param1<br><br>For more help on fixing this error see:<br><ul class='circle'><li><a href='https://msticpy.readthedocs.io/en/latest/data_acquisition/DataProviders.html' target='_blank' rel='noopener noreferrer'>Dataproviders documentation</a></li></ul><summary>Additional context<details><div class='indent'>Stack:</div><div class='indent'>  File \"C:\\Users\\Ian\\AppData\\Local\\Temp\\ipykernel_43964\\1297823245.py\", line 27, in hapless\n",
       "    print(func_in_middle(\"Hello\", \"World\"))\n",
       "</div><div class='indent'>  File \"C:\\Users\\Ian\\AppData\\Local\\Temp\\ipykernel_43964\\1297823245.py\", line 21, in func_in_middle\n",
       "    return bad_func(*args)\n",
       "</div><div class='indent'>  File \"C:\\Users\\Ian\\AppData\\Local\\Temp\\ipykernel_43964\\1297823245.py\", line 7, in bad_func\n",
       "    raise MsticpyParameterError(\n",
       "</div><div class='indent'>  File \"f:\\anaconda\\envs\\firecon23\\Lib\\site-packages\\msticpy\\common\\exceptions.py\", line 520, in __init__\n",
       "    super().__init__(*add_args, help_uri=uri, **kwargs)\n",
       "</div><div class='indent'>  File \"f:\\anaconda\\envs\\firecon23\\Lib\\site-packages\\msticpy\\common\\exceptions.py\", line 119, in __init__\n",
       "    stack=traceback.format_stack(limit=5),\n",
       "</div><div class='indent'>---</div><div class='indent'>Locals:</div><div class='indent'>self (MsticpyParameterError) = param1 must be an int</div><div class='indent'>help_uri (tuple) = ('Dataproviders documentation', 'https://msticpy.readthedocs.io/en/latest/data_acquisition/DataProviders.html')</div><div class='indent'>args (tuple) = ('param1 must be an int',)</div><div class='indent'>kwargs (dict) = {'title': 'Bad param1'}</div><div class='indent'>parameter (list) = ['param1']</div><div class='indent'>mssg (str) = One or more parameters were incorrect.</div><div class='indent'>add_args (list) = ['param1 must be an int', 'One or more parameters were incorrect.', 'param1']</div><div class='indent'>uri (tuple) = ('Dataproviders documentation', 'https://msticpy.readthedocs.io/en/latest/data_acquisition/DataProviders.html')</div><div class='indent'>__class__ (type) = <class 'msticpy.common.exceptions.MsticpyParameterError'></div></details></summary></div>"
      ],
      "text/plain": [
       "msticpy.common.exceptions.MsticpyParameterError('Bad param1',\n",
       "                                                'param1 must be an int',\n",
       "                                                'One or more parameters were incorrect.',\n",
       "                                                'param1',\n",
       "                                                ('Dataproviders documentation',\n",
       "                                                 'https://msticpy.readthedocs.io/en/latest/data_acquisition/DataProviders.html'))"
      ]
     },
     "metadata": {},
     "output_type": "display_data"
    }
   ],
   "source": [
    "hapless()"
   ]
  },
  {
   "attachments": {},
   "cell_type": "markdown",
   "metadata": {},
   "source": [
    "---\n",
    "\n",
    "# <a style=\"border: solid; padding:5pt; color:black; background-color:#909090\">Logging/Tracing</a>\n",
    "\n",
    "---\n",
    "\n",
    "- Use the `verbosity` parameter with `init_notebook` to understand what's going on during startup"
   ]
  },
  {
   "cell_type": "code",
   "execution_count": 1,
   "metadata": {},
   "outputs": [
    {
     "data": {
      "text/html": [
       "<hr><h4>Starting Notebook initialization...</h4> <br>"
      ],
      "text/plain": [
       "<IPython.core.display.HTML object>"
      ]
     },
     "metadata": {},
     "output_type": "display_data"
    },
    {
     "data": {
      "text/html": [
       "msticpy version installed: 2.5.3 latest published: 2.5.3<br>Latest known version is installed.<br> <br>"
      ],
      "text/plain": [
       "<IPython.core.display.HTML object>"
      ]
     },
     "metadata": {},
     "output_type": "display_data"
    },
    {
     "data": {
      "text/html": [
       "Processing imports.... <br>"
      ],
      "text/plain": [
       "<IPython.core.display.HTML object>"
      ]
     },
     "metadata": {},
     "output_type": "display_data"
    },
    {
     "data": {
      "text/html": [
       "pandas imported (alias=pd) <br>"
      ],
      "text/plain": [
       "<IPython.core.display.HTML object>"
      ]
     },
     "metadata": {},
     "output_type": "display_data"
    },
    {
     "data": {
      "text/html": [
       "get_ipython imported from IPython (alias=None) <br>"
      ],
      "text/plain": [
       "<IPython.core.display.HTML object>"
      ]
     },
     "metadata": {},
     "output_type": "display_data"
    },
    {
     "data": {
      "text/html": [
       "display imported from IPython.display (alias=None) <br>"
      ],
      "text/plain": [
       "<IPython.core.display.HTML object>"
      ]
     },
     "metadata": {},
     "output_type": "display_data"
    },
    {
     "data": {
      "text/html": [
       "HTML imported from IPython.display (alias=None) <br>"
      ],
      "text/plain": [
       "<IPython.core.display.HTML object>"
      ]
     },
     "metadata": {},
     "output_type": "display_data"
    },
    {
     "data": {
      "text/html": [
       "Markdown imported from IPython.display (alias=None) <br>"
      ],
      "text/plain": [
       "<IPython.core.display.HTML object>"
      ]
     },
     "metadata": {},
     "output_type": "display_data"
    },
    {
     "data": {
      "text/html": [
       "ipywidgets imported (alias=widgets) <br>"
      ],
      "text/plain": [
       "<IPython.core.display.HTML object>"
      ]
     },
     "metadata": {},
     "output_type": "display_data"
    },
    {
     "data": {
      "text/html": [
       "Path imported from pathlib (alias=None) <br>"
      ],
      "text/plain": [
       "<IPython.core.display.HTML object>"
      ]
     },
     "metadata": {},
     "output_type": "display_data"
    },
    {
     "data": {
      "text/html": [
       "numpy imported (alias=np) <br>"
      ],
      "text/plain": [
       "<IPython.core.display.HTML object>"
      ]
     },
     "metadata": {},
     "output_type": "display_data"
    },
    {
     "data": {
      "text/html": [
       "msticpy imported (alias=None) <br>"
      ],
      "text/plain": [
       "<IPython.core.display.HTML object>"
      ]
     },
     "metadata": {},
     "output_type": "display_data"
    },
    {
     "data": {
      "text/html": [
       "QueryProvider imported from msticpy.data (alias=None) <br>"
      ],
      "text/plain": [
       "<IPython.core.display.HTML object>"
      ]
     },
     "metadata": {},
     "output_type": "display_data"
    },
    {
     "data": {
      "text/html": [
       "FoliumMap imported from msticpy.vis.foliummap (alias=None) <br>"
      ],
      "text/plain": [
       "<IPython.core.display.HTML object>"
      ]
     },
     "metadata": {},
     "output_type": "display_data"
    },
    {
     "data": {
      "text/html": [
       "TILookup imported from msticpy.context (alias=None) <br>"
      ],
      "text/plain": [
       "<IPython.core.display.HTML object>"
      ]
     },
     "metadata": {},
     "output_type": "display_data"
    },
    {
     "data": {
      "text/html": [
       "GeoLiteLookup imported from msticpy.context (alias=None) <br>"
      ],
      "text/plain": [
       "<IPython.core.display.HTML object>"
      ]
     },
     "metadata": {},
     "output_type": "display_data"
    },
    {
     "data": {
      "text/html": [
       "IPStackLookup imported from msticpy.context (alias=None) <br>"
      ],
      "text/plain": [
       "<IPython.core.display.HTML object>"
      ]
     },
     "metadata": {},
     "output_type": "display_data"
    },
    {
     "data": {
      "text/html": [
       "IoCExtract imported from msticpy.transform (alias=None) <br>"
      ],
      "text/plain": [
       "<IPython.core.display.HTML object>"
      ]
     },
     "metadata": {},
     "output_type": "display_data"
    },
    {
     "data": {
      "text/html": [
       "md imported from msticpy.common.utility (alias=None) <br>"
      ],
      "text/plain": [
       "<IPython.core.display.HTML object>"
      ]
     },
     "metadata": {},
     "output_type": "display_data"
    },
    {
     "data": {
      "text/html": [
       "md_warn imported from msticpy.common.utility (alias=None) <br>"
      ],
      "text/plain": [
       "<IPython.core.display.HTML object>"
      ]
     },
     "metadata": {},
     "output_type": "display_data"
    },
    {
     "data": {
      "text/html": [
       "WorkspaceConfig imported from msticpy.common.wsconfig (alias=None) <br>"
      ],
      "text/plain": [
       "<IPython.core.display.HTML object>"
      ]
     },
     "metadata": {},
     "output_type": "display_data"
    },
    {
     "data": {
      "text/html": [
       "Pivot imported from msticpy.init.pivot (alias=None) <br>"
      ],
      "text/plain": [
       "<IPython.core.display.HTML object>"
      ]
     },
     "metadata": {},
     "output_type": "display_data"
    },
    {
     "data": {
      "text/html": [
       "entities imported from msticpy.datamodel (alias=None) <br>"
      ],
      "text/plain": [
       "<IPython.core.display.HTML object>"
      ]
     },
     "metadata": {},
     "output_type": "display_data"
    },
    {
     "data": {
      "text/html": [
       "nbmagics imported from msticpy.init (alias=None) <br>"
      ],
      "text/plain": [
       "<IPython.core.display.HTML object>"
      ]
     },
     "metadata": {},
     "output_type": "display_data"
    },
    {
     "data": {
      "text/html": [
       "SecurityAlert imported from msticpy.nbtools (alias=None) <br>"
      ],
      "text/plain": [
       "<IPython.core.display.HTML object>"
      ]
     },
     "metadata": {},
     "output_type": "display_data"
    },
    {
     "data": {
      "text/html": [
       "mp_pandas_plot imported from msticpy.vis (alias=None) <br>"
      ],
      "text/plain": [
       "<IPython.core.display.HTML object>"
      ]
     },
     "metadata": {},
     "output_type": "display_data"
    },
    {
     "data": {
      "text/html": [
       "nbdisplay imported from msticpy.vis (alias=None) <br>"
      ],
      "text/plain": [
       "<IPython.core.display.HTML object>"
      ]
     },
     "metadata": {},
     "output_type": "display_data"
    },
    {
     "data": {
      "text/html": [
       "mp_pandas_accessors imported from msticpy.init (alias=None) <br>"
      ],
      "text/plain": [
       "<IPython.core.display.HTML object>"
      ]
     },
     "metadata": {},
     "output_type": "display_data"
    },
    {
     "data": {
      "text/html": [
       "nbwidgets imported from msticpy (alias=None) <br>"
      ],
      "text/plain": [
       "<IPython.core.display.HTML object>"
      ]
     },
     "metadata": {},
     "output_type": "display_data"
    },
    {
     "data": {
      "text/html": [
       "All items imported from msticpy.datamodel.entities <br>"
      ],
      "text/plain": [
       "<IPython.core.display.HTML object>"
      ]
     },
     "metadata": {},
     "output_type": "display_data"
    },
    {
     "data": {
      "text/html": [
       "pandas imported version 1.5.3 <br>"
      ],
      "text/plain": [
       "<IPython.core.display.HTML object>"
      ]
     },
     "metadata": {},
     "output_type": "display_data"
    },
    {
     "data": {
      "text/html": [
       "Imported:pd (pandas), IPython.get_ipython, IPython.display.display, IPython.display.HTML, IPython.display.Markdown, widgets (ipywidgets), pathlib.Path, np (numpy), msticpy, msticpy.data.QueryProvider, msticpy.vis.foliummap.FoliumMap, msticpy.context.TILookup, msticpy.context.GeoLiteLookup, msticpy.context.IPStackLookup, msticpy.transform.IoCExtract, msticpy.common.utility.md, msticpy.common.utility.md_warn, msticpy.common.wsconfig.WorkspaceConfig, msticpy.init.pivot.Pivot, msticpy.datamodel.entities, msticpy.init.nbmagics, msticpy.nbtools.SecurityAlert, msticpy.vis.mp_pandas_plot, msticpy.vis.nbdisplay, msticpy.init.mp_pandas_accessors, msticpy.nbwidgets <br>"
      ],
      "text/plain": [
       "<IPython.core.display.HTML object>"
      ]
     },
     "metadata": {},
     "output_type": "display_data"
    },
    {
     "data": {
      "text/html": [
       " <br>"
      ],
      "text/plain": [
       "<IPython.core.display.HTML object>"
      ]
     },
     "metadata": {},
     "output_type": "display_data"
    },
    {
     "data": {
      "text/html": [
       "Checking configuration.... <br>"
      ],
      "text/plain": [
       "<IPython.core.display.HTML object>"
      ]
     },
     "metadata": {},
     "output_type": "display_data"
    },
    {
     "data": {
      "text/html": [
       "Setting notebook options.... <br>"
      ],
      "text/plain": [
       "<IPython.core.display.HTML object>"
      ]
     },
     "metadata": {},
     "output_type": "display_data"
    },
    {
     "data": {
      "text/html": [
       "Friendly exceptions enabled. <br>"
      ],
      "text/plain": [
       "<IPython.core.display.HTML object>"
      ]
     },
     "metadata": {},
     "output_type": "display_data"
    },
    {
     "data": {
      "text/html": [
       "Loading pivots. <br>"
      ],
      "text/plain": [
       "<IPython.core.display.HTML object>"
      ]
     },
     "metadata": {},
     "output_type": "display_data"
    },
    {
     "data": {
      "text/html": [
       "Attempting connection to Key Vault using cli credentials..."
      ],
      "text/plain": [
       "<IPython.core.display.HTML object>"
      ]
     },
     "metadata": {},
     "output_type": "display_data"
    },
    {
     "data": {
      "text/html": [
       "done<br>"
      ],
      "text/plain": [
       "<IPython.core.display.HTML object>"
      ]
     },
     "metadata": {},
     "output_type": "display_data"
    },
    {
     "data": {
      "text/html": [
       "Using Open PageRank. See https://www.domcop.com/openpagerank/what-is-openpagerank<br> <br>"
      ],
      "text/plain": [
       "<IPython.core.display.HTML object>"
      ]
     },
     "metadata": {},
     "output_type": "display_data"
    },
    {
     "data": {
      "text/html": [
       "Loading user defaults. <br>"
      ],
      "text/plain": [
       "<IPython.core.display.HTML object>"
      ]
     },
     "metadata": {},
     "output_type": "display_data"
    },
    {
     "data": {
      "text/html": [
       " <br>"
      ],
      "text/plain": [
       "<IPython.core.display.HTML object>"
      ]
     },
     "metadata": {},
     "output_type": "display_data"
    },
    {
     "data": {
      "text/html": [
       "<h4>Notebook initialization complete</h4> <br>"
      ],
      "text/plain": [
       "<IPython.core.display.HTML object>"
      ]
     },
     "metadata": {},
     "output_type": "display_data"
    }
   ],
   "source": [
    "import msticpy as mp\n",
    "mp.init_notebook(verbosity=2)"
   ]
  },
  {
   "attachments": {},
   "cell_type": "markdown",
   "metadata": {},
   "source": [
    "## Python logging\n",
    "\n",
    "By default this is set to \"WARNING\"\n",
    "\n",
    "- Use `mp.set_logging_level(\"INFO\") to see more detailed output\n",
    "\n",
    "\n",
    "<div style=\"border: solid; padding: 5pt\"><b>Note:</b>\n",
    "We've only recently started instrumenting logging across MSTICPy\n",
    "so not all areas are covered.\n",
    "</div>\n",
    "\n",
    "Things with good coverage:\n",
    "- Authentication\n",
    "- QueryProvider (especially newer ones)\n",
    "- `init_notebook`\n"
   ]
  },
  {
   "cell_type": "code",
   "execution_count": 2,
   "metadata": {},
   "outputs": [
    {
     "name": "stderr",
     "output_type": "stream",
     "text": [
      "2023-06-24 18:11:32,393: INFO - Starting Notebook initialization (nbinit#413)\n",
      "2023-06-24 18:11:32,821: INFO - msticpy version installed: 2.5.3 latest published: 2.5.3\n",
      "Latest known version is installed.\n",
      " (nbinit#424)\n",
      "2023-06-24 18:11:32,824: INFO - Imported:pd (pandas), IPython.get_ipython, IPython.display.display, IPython.display.HTML, IPython.display.Markdown, widgets (ipywidgets), pathlib.Path, np (numpy), msticpy, msticpy.data.QueryProvider, msticpy.vis.foliummap.FoliumMap, msticpy.context.TILookup, msticpy.context.GeoLiteLookup, msticpy.context.IPStackLookup, msticpy.transform.IoCExtract, msticpy.common.utility.md, msticpy.common.utility.md_warn, msticpy.common.wsconfig.WorkspaceConfig, msticpy.init.pivot.Pivot, msticpy.datamodel.entities, msticpy.init.nbmagics, msticpy.nbtools.SecurityAlert, msticpy.vis.mp_pandas_plot, msticpy.vis.nbdisplay, msticpy.init.mp_pandas_accessors, msticpy.nbwidgets (nbinit#620)\n",
      "2023-06-24 18:11:32,825: INFO -  (nbinit#441)\n",
      "2023-06-24 18:11:32,829: INFO -  (nbinit#471)\n",
      "2023-06-24 18:11:32,830: INFO -  (nbinit#480)\n",
      "2023-06-24 18:11:32,831: INFO - Notebook initialization complete (nbinit#490)\n"
     ]
    }
   ],
   "source": [
    "mp.set_logging_level(\"INFO\")\n",
    "mp.init_notebook()"
   ]
  },
  {
   "cell_type": "code",
   "execution_count": 4,
   "metadata": {},
   "outputs": [
    {
     "name": "stderr",
     "output_type": "stream",
     "text": [
      "2023-06-24 18:12:29,966: INFO - AzureMonitorDriver loaded. connect_str  None, kwargs: {'data_environment': <DataEnvironment.MSSentinel_New: 16>} (azure_monitor_driver#146)\n",
      "2023-06-24 18:12:29,997: INFO - Read 5 queries from F:\\anaconda\\envs\\firecon23\\Lib\\site-packages\\msticpy\\data\\queries\\mssentinel\\kql_sent_alert.yaml (data_query_reader#83)\n",
      "2023-06-24 18:12:30,043: INFO - Read 10 queries from F:\\anaconda\\envs\\firecon23\\Lib\\site-packages\\msticpy\\data\\queries\\mssentinel\\kql_sent_azure.yaml (data_query_reader#83)\n",
      "2023-06-24 18:12:30,101: INFO - Read 8 queries from F:\\anaconda\\envs\\firecon23\\Lib\\site-packages\\msticpy\\data\\queries\\mssentinel\\kql_sent_azuresentinel.yaml (data_query_reader#83)\n",
      "2023-06-24 18:12:30,120: INFO - Read 3 queries from F:\\anaconda\\envs\\firecon23\\Lib\\site-packages\\msticpy\\data\\queries\\mssentinel\\kql_sent_az_dns.yaml (data_query_reader#83)\n",
      "2023-06-24 18:12:30,143: INFO - Read 1 queries from F:\\anaconda\\envs\\firecon23\\Lib\\site-packages\\msticpy\\data\\queries\\mssentinel\\kql_sent_az_network.yaml (data_query_reader#83)\n",
      "2023-06-24 18:12:30,163: INFO - Read 2 queries from F:\\anaconda\\envs\\firecon23\\Lib\\site-packages\\msticpy\\data\\queries\\mssentinel\\kql_sent_heartbeat_info.yaml (data_query_reader#83)\n",
      "2023-06-24 18:12:30,180: INFO - Read 1 queries from F:\\anaconda\\envs\\firecon23\\Lib\\site-packages\\msticpy\\data\\queries\\mssentinel\\kql_sent_lxauditd.yaml (data_query_reader#83)\n",
      "2023-06-24 18:12:30,203: INFO - Read 6 queries from F:\\anaconda\\envs\\firecon23\\Lib\\site-packages\\msticpy\\data\\queries\\mssentinel\\kql_sent_lxsyslog_activity.yaml (data_query_reader#83)\n",
      "2023-06-24 18:12:30,222: INFO - Read 1 queries from F:\\anaconda\\envs\\firecon23\\Lib\\site-packages\\msticpy\\data\\queries\\mssentinel\\kql_sent_lxsyslog_apps.yaml (data_query_reader#83)\n",
      "2023-06-24 18:12:30,263: INFO - Read 8 queries from F:\\anaconda\\envs\\firecon23\\Lib\\site-packages\\msticpy\\data\\queries\\mssentinel\\kql_sent_lxsyslog_logon.yaml (data_query_reader#83)\n",
      "2023-06-24 18:12:30,281: INFO - Read 1 queries from F:\\anaconda\\envs\\firecon23\\Lib\\site-packages\\msticpy\\data\\queries\\mssentinel\\kql_sent_lxsyslog_sysmon.yaml (data_query_reader#83)\n",
      "2023-06-24 18:12:30,327: INFO - Read 12 queries from F:\\anaconda\\envs\\firecon23\\Lib\\site-packages\\msticpy\\data\\queries\\mssentinel\\kql_sent_net.yaml (data_query_reader#83)\n",
      "2023-06-24 18:12:30,345: INFO - Read 3 queries from F:\\anaconda\\envs\\firecon23\\Lib\\site-packages\\msticpy\\data\\queries\\mssentinel\\kql_sent_o365.yaml (data_query_reader#83)\n",
      "2023-06-24 18:12:30,369: INFO - Read 7 queries from F:\\anaconda\\envs\\firecon23\\Lib\\site-packages\\msticpy\\data\\queries\\mssentinel\\kql_sent_threatintel.yaml (data_query_reader#83)\n",
      "2023-06-24 18:12:30,392: INFO - Read 5 queries from F:\\anaconda\\envs\\firecon23\\Lib\\site-packages\\msticpy\\data\\queries\\mssentinel\\kql_sent_timeseries.yaml (data_query_reader#83)\n",
      "2023-06-24 18:12:30,424: INFO - Read 9 queries from F:\\anaconda\\envs\\firecon23\\Lib\\site-packages\\msticpy\\data\\queries\\mssentinel\\kql_sent_winevent.yaml (data_query_reader#83)\n",
      "2023-06-24 18:12:30,454: INFO - Read 8 queries from F:\\anaconda\\envs\\firecon23\\Lib\\site-packages\\msticpy\\data\\queries\\mssentinel\\kql_sent_winevent_logon.yaml (data_query_reader#83)\n",
      "2023-06-24 18:12:30,491: INFO - Read 6 queries from F:\\anaconda\\envs\\firecon23\\Lib\\site-packages\\msticpy\\data\\queries\\mssentinel\\kql_sent_winevent_proc.yaml (data_query_reader#83)\n",
      "2023-06-24 18:12:30,522: INFO - Read 13 queries from F:\\anaconda\\envs\\firecon23\\Lib\\site-packages\\msticpy\\data\\queries\\m365d\\kql_mdatp_alerts.yaml (data_query_reader#83)\n",
      "2023-06-24 18:12:30,537: INFO - Read 3 queries from F:\\anaconda\\envs\\firecon23\\Lib\\site-packages\\msticpy\\data\\queries\\m365d\\kql_mdatp_file.yaml (data_query_reader#83)\n",
      "2023-06-24 18:12:30,587: INFO - Read 20 queries from F:\\anaconda\\envs\\firecon23\\Lib\\site-packages\\msticpy\\data\\queries\\m365d\\kql_mdatp_hunting.yaml (data_query_reader#83)\n",
      "2023-06-24 18:12:30,607: INFO - Read 5 queries from F:\\anaconda\\envs\\firecon23\\Lib\\site-packages\\msticpy\\data\\queries\\m365d\\kql_mdatp_network.yaml (data_query_reader#83)\n",
      "2023-06-24 18:12:30,626: INFO - Read 4 queries from F:\\anaconda\\envs\\firecon23\\Lib\\site-packages\\msticpy\\data\\queries\\m365d\\kql_mdatp_process.yaml (data_query_reader#83)\n",
      "2023-06-24 18:12:30,644: INFO - Read 4 queries from F:\\anaconda\\envs\\firecon23\\Lib\\site-packages\\msticpy\\data\\queries\\m365d\\kql_mdatp_user.yaml (data_query_reader#83)\n",
      "2023-06-24 18:12:30,715: INFO - WorkspaceConfig created from workspace name None (azure_monitor_driver#385)\n",
      "2023-06-24 18:12:30,716: INFO - az_connect_core - using global cloud and endpoint: https://login.microsoftonline.com (azure_auth_core#250)\n",
      "2023-06-24 18:12:30,717: INFO - TenantId:  72f988bf-86f1-41af-91ab-2d7cd011db47, requested auth methods: cli, interactive (azure_auth_core#254)\n",
      "2023-06-24 18:12:30,718: INFO - Cred types added to chained credential: AzureCliCredential, InteractiveBrowserCredential (azure_auth_core#344)\n",
      "2023-06-24 18:12:30,720: INFO - Created query client. Auth type: <class 'azure.identity._credentials.chained.ChainedTokenCredential'>, Url: https://api.loganalytics.io/v1, Proxies: None (azure_monitor_driver#356)\n",
      "2023-06-24 18:12:30,721: INFO - az_connect_core - using global cloud and endpoint: https://login.microsoftonline.com (azure_auth_core#250)\n",
      "2023-06-24 18:12:30,722: INFO - TenantId:  72f988bf-86f1-41af-91ab-2d7cd011db47, requested auth methods: cli, interactive (azure_auth_core#254)\n",
      "2023-06-24 18:12:30,723: INFO - Cred types added to chained credential: AzureCliCredential, InteractiveBrowserCredential (azure_auth_core#344)\n",
      "2023-06-24 18:12:32,124: INFO - Schema request to https://management.azure.com/subscriptions/d1d8779d-38d7-4f06-91db-9cbc8de0176f/resourcegroups/soc/providers/Microsoft.OperationalInsights/workspaces/CyberSecuritySOC/tables?api-version=2021-12-01-preview (azure_monitor_driver#538)\n",
      "2023-06-24 18:12:35,058: INFO - Schema retrieved from workspace. 648 tables found. (azure_monitor_driver#549)\n"
     ]
    },
    {
     "name": "stdout",
     "output_type": "stream",
     "text": [
      "connected\n"
     ]
    }
   ],
   "source": [
    "qry_prov = mp.QueryProvider(\"MSSentinel_New\")\n",
    "qry_prov.connect()"
   ]
  },
  {
   "attachments": {},
   "cell_type": "markdown",
   "metadata": {},
   "source": [
    "---\n",
    "\n",
    "# <a style=\"border: solid; padding:5pt; color:black; background-color:#909090\">Additional Material</a>\n",
    "\n",
    "---"
   ]
  },
  {
   "cell_type": "markdown",
   "metadata": {},
   "source": [
    "---\n",
    "\n",
    "# <a style=\"border: solid; padding:5pt; color:black; background-color:#909090\">IPython Magics</a>\n",
    "\n",
    "---\n",
    "\n",
    "[https://ipython.readthedocs.io/en/stable/interactive/magics.html](https://ipython.readthedocs.io/en/stable/interactive/magics.html)\n",
    "\n",
    "## What are they?\n",
    "\n",
    "Magics are a kind of macro/function that allows you to invoke functionality\n",
    "of the notebook or OS independent of the kernel language.\n",
    "\n",
    "### Line magics - single %\n",
    "- Only operate on the arguments on the remainder of the line\n",
    "- Can be mixed with other code\n",
    "\n",
    "### Cell magics - double %%\n",
    "- Operate on whole cell contents\n",
    "- Must be in their own cell and at the start of the cell (even comments!)\n",
    "\n",
    "## Popular magics - \n",
    "<p style=\"font-family:consolas; font-size:15pt; color:green\">\n",
    "%magic %env %readfile %writefile %run %hmtl %pip %logstart \n",
    "</p>\n",
    "\n",
    "**%magic** - lists all magic functions (LONG!)\n",
    "\n",
    "**%logstart** log_file - very useful if you are prone to deleting/overwriting your code and then regret it\n",
    "\n",
    "**%env** - get or set an environment variable\n",
    "\n",
    "**%tb** and **%xmode** covered in later section\n",
    "\n",
    "**%pdb** - if you are not running in VSCode or Jupyterlab"
   ]
  },
  {
   "cell_type": "markdown",
   "metadata": {},
   "source": [
    "## Invoking shell commands\n",
    "\n",
    "Prefix with !\n",
    "\n",
    "These are not magics - they directly invoke underlying OS commands.\n",
    "\n",
    "Like line magics, can use these mixed with other code"
   ]
  },
  {
   "cell_type": "code",
   "execution_count": 9,
   "metadata": {},
   "outputs": [
    {
     "name": "stdout",
     "output_type": "stream",
     "text": [
      " Volume in drive E has no label.\n",
      " Volume Serial Number is 7E50-19F7\n",
      "\n",
      " Directory of e:\\src\\msticpy-training\\workshops\\Jun2023\\completed\n",
      "\n",
      "2023-06-26  17:10    <DIR>          .\n",
      "2023-06-26  16:10    <DIR>          ..\n",
      "2023-06-26  14:15         2,024,479 Session-1-IntroToMsticpy-complete.ipynb\n",
      "2023-06-24  18:07            36,454 Session-2-MSTICPy-Configuration-complete.ipynb\n",
      "2023-06-26  16:56           342,362 Session-3-AcquiringData-complete.ipynb\n",
      "2023-06-26  16:09        19,321,557 Session-4-Visualization-complete.ipynb\n",
      "2023-06-26  16:46           505,000 Session-5-Enrichment-complete.ipynb\n",
      "2023-06-26  17:09           110,183 Session-6-Data-Analysis-complete.ipynb\n",
      "2023-06-26  17:13            64,030 Session-7-Troubleshooting and Advanced Topics.ipynb\n",
      "2022-10-26  12:41             4,000 Session-8-AutomatedNotebooks.ipynb\n",
      "               8 File(s)     22,408,065 bytes\n",
      "               2 Dir(s)  156,314,730,496 bytes free\n"
     ]
    }
   ],
   "source": [
    "!dir"
   ]
  },
  {
   "cell_type": "code",
   "execution_count": 10,
   "metadata": {},
   "outputs": [
    {
     "name": "stdout",
     "output_type": "stream",
     "text": [
      "['Session-1-IntroToMsticpy-complete.ipynb', 'Session-2-MSTICPy-Configuration-complete.ipynb', 'Session-3-AcquiringData-complete.ipynb', 'Session-4-Visualization-complete.ipynb', 'Session-5-Enrichment-complete.ipynb', 'Session-6-Data-Analysis-complete.ipynb', 'Session-7-TroubleshootingandAdvancedTopics.ipynb', 'Session-8-AutomatedNotebooks.ipynb']\n"
     ]
    }
   ],
   "source": [
    "# Use a shell command to get current directory files\n",
    "cd_files = !dir\n",
    "\n",
    "# If the line contains the word \"Session\", split out the filename\n",
    "# and save to a list\n",
    "notebooks = [\n",
    "    ''.join(line.split()[3:])\n",
    "    for line in cd_files\n",
    "    if \"Session\" in line\n",
    "]\n",
    "\n",
    "print(notebooks)"
   ]
  },
  {
   "cell_type": "markdown",
   "metadata": {},
   "source": [
    "---\n",
    "\n",
    "# <a style=\"border: solid; padding:5pt; color:black; background-color:#909090\">Notebook Widgets</a>\n",
    "\n",
    "---\n",
    "\n",
    "Get input in a controllable way"
   ]
  },
  {
   "cell_type": "markdown",
   "metadata": {},
   "source": [
    "### Text Widget"
   ]
  },
  {
   "cell_type": "code",
   "execution_count": 11,
   "metadata": {},
   "outputs": [
    {
     "data": {
      "application/vnd.jupyter.widget-view+json": {
       "model_id": "b657af245c8c4f458912dc2c57183fed",
       "version_major": 2,
       "version_minor": 0
      },
      "text/plain": [
       "Text(value='', description='Type something long')"
      ]
     },
     "metadata": {},
     "output_type": "display_data"
    }
   ],
   "source": [
    "import ipywidgets as widgets\n",
    "\n",
    "txt = widgets.Text(description=\"Type something long\")\n",
    "display(txt)"
   ]
  },
  {
   "cell_type": "markdown",
   "metadata": {},
   "source": [
    "Use widget `Layout` and `style` to make things look better"
   ]
  },
  {
   "cell_type": "code",
   "execution_count": 12,
   "metadata": {},
   "outputs": [
    {
     "data": {
      "application/vnd.jupyter.widget-view+json": {
       "model_id": "2f61cd8873a848e4a30cd5e08b1cf2cc",
       "version_major": 2,
       "version_minor": 0
      },
      "text/plain": [
       "Text(value='', description='Type something long', layout=Layout(padding='5pt', width='50%'), style=TextStyle(d…"
      ]
     },
     "metadata": {},
     "output_type": "display_data"
    },
    {
     "data": {
      "application/vnd.jupyter.widget-view+json": {
       "model_id": "e09d432d1604479d8bbd9c14f48d124b",
       "version_major": 2,
       "version_minor": 0
      },
      "text/plain": [
       "Text(value='', description='Type something extremely long', layout=Layout(padding='5pt', width='50%'), style=T…"
      ]
     },
     "metadata": {},
     "output_type": "display_data"
    }
   ],
   "source": [
    "txt = widgets.Text(\n",
    "    description=\"Type something long\",\n",
    "    layout=widgets.Layout(width=\"50%\", padding=\"5pt\"),\n",
    "    style={\"description_width\": \"initial\"}\n",
    ")\n",
    "display(txt)\n",
    "\n",
    "# You can re-use the style/layout by saving to a dict variable.\n",
    "WIDGET_DEFAULTS = {\n",
    "    \"layout\": widgets.Layout(width=\"50%\", padding=\"5pt\"),\n",
    "    \"style\": {\"description_width\": \"initial\"},\n",
    "}\n",
    "txt2 = widgets.Text(description=\"Type something extremely long\", **WIDGET_DEFAULTS)\n",
    "display(txt2)"
   ]
  },
  {
   "cell_type": "markdown",
   "metadata": {},
   "source": [
    "### Select Widget"
   ]
  },
  {
   "cell_type": "code",
   "execution_count": 13,
   "metadata": {},
   "outputs": [
    {
     "data": {
      "application/vnd.jupyter.widget-view+json": {
       "model_id": "9329e7fbcc944dd09b9fe97554476f01",
       "version_major": 2,
       "version_minor": 0
      },
      "text/plain": [
       "Select(description='Modules', layout=Layout(padding='5pt', width='50%'), options=('Option1', 'Option2', 'Optio…"
      ]
     },
     "metadata": {},
     "output_type": "display_data"
    }
   ],
   "source": [
    "sm = widgets.Select(\n",
    "    options=['Option1', 'Option2', 'Option3'],\n",
    "    # rows=10,\n",
    "    description='Modules',\n",
    "    disabled=False,\n",
    "    **WIDGET_DEFAULTS,\n",
    ")\n",
    "display(sm)"
   ]
  },
  {
   "cell_type": "code",
   "execution_count": 15,
   "metadata": {},
   "outputs": [
    {
     "data": {
      "text/plain": [
       "'Option2'"
      ]
     },
     "execution_count": 15,
     "metadata": {},
     "output_type": "execute_result"
    }
   ],
   "source": [
    "sm.value"
   ]
  },
  {
   "cell_type": "markdown",
   "metadata": {},
   "source": [
    "## <a style=\"border: solid; padding:5pt; color:black; background-color:#309030\">Task 5 - Create a selection list of notebooks</a>\n",
    "\n",
    "Use the code examples to build a Selection list of Session notebooks in the current directory.\n",
    "1. Get a list of notebook titles from the current directory\n",
    "2. Create an option list to select a notebook name.\n",
    "\n",
    "<details>\n",
    "<summary>Hints...</summary>\n",
    "<ul>\n",
    "<li>Use Python list `notebooks` from the <b>Invoking shell commands</b> section</li>\n",
    "<li>Use a `widgets.Select` control</li>\n",
    "<li>Pass `notebooks` as the `options` parameter</li>\n",
    "<li>Bonus points for making it look pretty</li>\n",
    "</ul>\n",
    "</details>"
   ]
  },
  {
   "cell_type": "code",
   "execution_count": 16,
   "metadata": {},
   "outputs": [
    {
     "data": {
      "application/vnd.jupyter.widget-view+json": {
       "model_id": "dec7b44220a64ab3ac661dd5d167fb0d",
       "version_major": 2,
       "version_minor": 0
      },
      "text/plain": [
       "Select(description='Notebooks', layout=Layout(padding='5pt', width='50%'), options=('Session-1-IntroToMsticpy-…"
      ]
     },
     "execution_count": 16,
     "metadata": {},
     "output_type": "execute_result"
    }
   ],
   "source": [
    "nb_select = widgets.Select(\n",
    "    options=notebooks,\n",
    "    # rows=10,\n",
    "    description='Notebooks',\n",
    "    disabled=False,\n",
    "    **WIDGET_DEFAULTS,\n",
    ")\n",
    "nb_select\n",
    "\n",
    "nb_select # display the widget"
   ]
  },
  {
   "cell_type": "code",
   "execution_count": 17,
   "metadata": {},
   "outputs": [],
   "source": [
    "# test\n",
    "assert \"Session\" in nb_select.value"
   ]
  },
  {
   "cell_type": "markdown",
   "metadata": {},
   "source": [
    "### And there are a lot more widgets..."
   ]
  },
  {
   "cell_type": "code",
   "execution_count": 18,
   "metadata": {},
   "outputs": [
    {
     "data": {
      "application/vnd.jupyter.widget-view+json": {
       "model_id": "8c905adc86db4dd981257f48200f6ba0",
       "version_major": 2,
       "version_minor": 0
      },
      "text/plain": [
       "HBox(children=(DatePicker(value=datetime.datetime(2023, 6, 27, 0, 17, 9, 287113), description='Pick a Date', s…"
      ]
     },
     "execution_count": 18,
     "metadata": {},
     "output_type": "execute_result"
    }
   ],
   "source": [
    "from datetime import datetime\n",
    "w_date = widgets.DatePicker(\n",
    "    description='Pick a Date',\n",
    "    disabled=False,\n",
    "    value=datetime.utcnow(),\n",
    ")\n",
    "w_multi = widgets.SelectMultiple(description=\"MultiSelect\", options=sm.options, value=[\"Option1\", \"Option3\"])\n",
    "w_slide = widgets.IntSlider(description=\"Int value\", value=42)\n",
    "\n",
    "# Put them all in a horizontal box\n",
    "widgets.HBox([w_date, w_multi, w_slide], layout=widgets.Layout(padding=\"10pt\"))"
   ]
  },
  {
   "cell_type": "markdown",
   "metadata": {},
   "source": [
    "### MSTICPy also includes a number of composite widgets.\n",
    "\n",
    "- QueryTime\n",
    "- QueryBrowser\n",
    "- MultiSelect"
   ]
  },
  {
   "cell_type": "code",
   "execution_count": 19,
   "metadata": {},
   "outputs": [
    {
     "data": {
      "application/vnd.jupyter.widget-view+json": {
       "model_id": "30e08c6a10b84e1080b76113e05ec92c",
       "version_major": 2,
       "version_minor": 0
      },
      "text/plain": [
       "VBox(children=(HTML(value='<h4>Set query time boundaries</h4>'), HBox(children=(DatePicker(value=datetime.date…"
      ]
     },
     "metadata": {},
     "output_type": "display_data"
    }
   ],
   "source": [
    "import msticpy as mp\n",
    "mp.nbwidgets.QueryTime()"
   ]
  },
  {
   "cell_type": "markdown",
   "metadata": {},
   "source": [
    "---\n",
    "# End of Session\n"
   ]
  }
 ],
 "metadata": {
  "kernelspec": {
   "display_name": "Python 3.9.7 ('msticpy')",
   "language": "python",
   "name": "python3"
  },
  "language_info": {
   "codemirror_mode": {
    "name": "ipython",
    "version": 3
   },
   "file_extension": ".py",
   "mimetype": "text/x-python",
   "name": "python",
   "nbconvert_exporter": "python",
   "pygments_lexer": "ipython3",
   "version": "3.11.3"
  },
  "orig_nbformat": 4,
  "vscode": {
   "interpreter": {
    "hash": "0f1a8e166ce5c1ec1911a36e4fdbd34b2f623e2a3442791008b8ac429a1d6070"
   }
  }
 },
 "nbformat": 4,
 "nbformat_minor": 2
}
