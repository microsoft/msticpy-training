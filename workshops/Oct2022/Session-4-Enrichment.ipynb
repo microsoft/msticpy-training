{
 "cells": [
  {
   "cell_type": "markdown",
   "metadata": {},
   "source": [
    "## MSTICPy and Notebooks in InfoSec\n",
    "\n",
    "---\n",
    "\n",
    "<h1 style=\"border: solid; padding:5pt; color:black; background-color:#909090\">Session 4 - Enrichment and Context</h1>\n",
    "\n",
    "---\n",
    "\n",
    "## What this session covers:\n",
    "\n",
    "- Pivot functions\n",
    "  - Basics\n",
    "  - Data queries\n",
    "  - Chained pivot functions\n",
    "- Beyond pivots - Threat Intelligence providers\n",
    "- Azure APIs - Sentinel\n",
    "\n",
    "\n",
    "## Prerequisites\n",
    "- Python >= 3.8 Environment\n",
    "- Jupyter installed\n",
    "- MSTICPy installed\n",
    "- Run az login\n",
    "\n",
    "## Recommended\n",
    "- VS Code\n"
   ]
  },
  {
   "cell_type": "markdown",
   "metadata": {},
   "source": [
    "---\n",
    "\n",
    "# <a style=\"border: solid; padding:5pt; color:black; background-color:#909090\">Notebook Setup</a>\n",
    "\n",
    "---"
   ]
  },
  {
   "cell_type": "code",
   "execution_count": null,
   "metadata": {},
   "outputs": [],
   "source": [
    "%env MSTICPYCONFIG=./msticpyconfig.yaml\n",
    "import msticpy as mp\n",
    "mp.init_notebook()"
   ]
  },
  {
   "cell_type": "markdown",
   "metadata": {},
   "source": [
    "---\n",
    "\n",
    "# <a style=\"border: solid; padding:5pt; color:black; background-color:#909090\">What is enrichment?</a>\n",
    "\n",
    "---\n",
    "\n",
    "### Answering questions about an entity to give you insight into intent and activity\n"
   ]
  },
  {
   "cell_type": "code",
   "execution_count": null,
   "metadata": {},
   "outputs": [],
   "source": [
    "from IPython.display import Image, Markdown\n",
    "from time import sleep\n",
    "\n",
    "display(Markdown(\"## Answering questions about an entity to give you insight into intent and activity\"))\n",
    "sleep(1)\n",
    "display(Image(\"./media/enrichment_1.png\", width=\"70%\"))"
   ]
  },
  {
   "cell_type": "code",
   "execution_count": null,
   "metadata": {},
   "outputs": [],
   "source": [
    "display(Markdown(\"## ...and for a whole range of entities\"))\n",
    "\n",
    "for entity in dir(mp.entities):\n",
    "    cls = getattr(mp.entities, entity)\n",
    "    if isinstance(cls, type) and issubclass(cls, mp.entities.Entity):\n",
    "        print(entity, end=\"  \")\n",
    "        sleep(0.1)"
   ]
  },
  {
   "cell_type": "markdown",
   "metadata": {},
   "source": [
    "---\n",
    "\n",
    "# <a style=\"border: solid; padding:5pt; color:black; background-color:#909090\">MSTICPy Pivots</a>\n",
    "\n",
    "---\n",
    "\n",
    "## **Pivots** or **Pivot Functions** are contextual functions attached to **Entities**\n",
    "### [Reference: Pivot Documentation](https://msticpy.readthedocs.io/en/latest/data_analysis/PivotFunctions.html)"
   ]
  },
  {
   "cell_type": "code",
   "execution_count": null,
   "metadata": {},
   "outputs": [],
   "source": [
    "IpAddress.pivots()"
   ]
  },
  {
   "cell_type": "code",
   "execution_count": null,
   "metadata": {},
   "outputs": [],
   "source": [
    "mp.Pivot().browse()"
   ]
  },
  {
   "cell_type": "markdown",
   "metadata": {},
   "source": [
    "## Example utility functions"
   ]
  },
  {
   "cell_type": "markdown",
   "metadata": {},
   "source": [
    "- Entities are auto-imported by `mp.init_notebook()`\n",
    "- Support auto/tabbed completion"
   ]
  },
  {
   "cell_type": "code",
   "execution_count": null,
   "metadata": {},
   "outputs": [],
   "source": [
    "IpAddress"
   ]
  },
  {
   "cell_type": "code",
   "execution_count": null,
   "metadata": {},
   "outputs": [],
   "source": [
    "IpAddress.whois(\"54.69.246.204\")"
   ]
  },
  {
   "cell_type": "code",
   "execution_count": null,
   "metadata": {},
   "outputs": [],
   "source": [
    "Dns.util.dns_components(\"www.microsoft.com\")"
   ]
  },
  {
   "cell_type": "code",
   "execution_count": null,
   "metadata": {},
   "outputs": [],
   "source": [
    "Url.util.url_components(\"https://ms.web.azuresynapse.net/en/authoring/orchestrate/pipeline/Notebook%20test%20simple?workspace=%2Fsubscriptions%2F40dcc8bf-0478-4f3b-b275-ed0a94f2c013%2FresourceGroups%2FASIHuntOMSWorkspaceRG%2Fproviders%2FMicrosoft.Synapse%2Fworkspaces%2Fianhelle-synapse1&livyId=18&sparkPoolName=ianhellespark1&snapshotId=d941f342-272e-4898-9eee-19aa90f05f44\")"
   ]
  },
  {
   "cell_type": "code",
   "execution_count": null,
   "metadata": {},
   "outputs": [],
   "source": [
    "Dns.util.dns_resolve(\"www.microsoft.com\")"
   ]
  },
  {
   "cell_type": "markdown",
   "metadata": {},
   "source": [
    "## Threat Intel providers"
   ]
  },
  {
   "cell_type": "code",
   "execution_count": null,
   "metadata": {},
   "outputs": [],
   "source": [
    "IpAddress.tilookup_ip(\"54.69.246.204\") #, providers=[\"VirusTotal\"])"
   ]
  },
  {
   "cell_type": "markdown",
   "metadata": {},
   "source": [
    "## Support lists as inputs\n",
    "\n",
    "### Actually support iterables: list, tuple, set, generator, pandas series."
   ]
  },
  {
   "cell_type": "code",
   "execution_count": null,
   "metadata": {},
   "outputs": [],
   "source": [
    "IpAddress.geoloc([\"54.69.246.204\", \"104.73.1.162\"])"
   ]
  },
  {
   "cell_type": "markdown",
   "metadata": {},
   "source": [
    "## DataFrames as inputs"
   ]
  },
  {
   "cell_type": "code",
   "execution_count": null,
   "metadata": {},
   "outputs": [],
   "source": [
    "qry_local = mp.QueryProvider(\"LocalData\")\n",
    "ip_flow_df = qry_local.Network.list_azure_network_flows_by_host()\n",
    "ip_flow_df.head(2)"
   ]
  },
  {
   "cell_type": "code",
   "execution_count": null,
   "metadata": {},
   "outputs": [],
   "source": [
    "IpAddress.whois(ip_flow_df.head(5), column=\"AllExtIPs\")"
   ]
  },
  {
   "cell_type": "markdown",
   "metadata": {},
   "source": [
    "## <a style=\"border: solid; padding:5pt; color:black; background-color:#309030\">Task 1 - Find WhoIs and GeoLocation info for Domain/Hosts</a>\n",
    "\n",
    "1. Use pivot function to resolve domains (`Dns`) to IP Addresses\n",
    "2. Find the Geo Location and WhoIs info for these addresses.\n",
    "\n",
    "<details>\n",
    "<summary>Hints...</summary>\n",
    "<ul>\n",
    "<li>Use the Dns class to resolve the domains to IP Addresses.</li>\n",
    "<li>The IP address is returned in the 'rrest' column</li>\n",
    "<li>Use the IpAddress \"whois\" and \"geoip\" functions to find the details</li>\n",
    "</ul>\n",
    "</details>"
   ]
  },
  {
   "cell_type": "code",
   "execution_count": null,
   "metadata": {},
   "outputs": [],
   "source": [
    "domains = [\n",
    "    \"www.microsoft.com\",\n",
    "    \"python.org\",\n",
    "    \"kexp.org\"\n",
    "]\n",
    "\n",
    "dns_df = # resolve domains\n",
    "dns_df"
   ]
  },
  {
   "cell_type": "code",
   "execution_count": null,
   "metadata": {},
   "outputs": [],
   "source": [
    "# show whois results\n",
    "\n",
    "# show geolocation resolution"
   ]
  },
  {
   "cell_type": "markdown",
   "metadata": {},
   "source": [
    "---\n",
    "\n",
    "# <a style=\"border: solid; padding:5pt; color:black; background-color:#909090\">Pivot functions can be queries.</a>\n",
    "\n",
    "---\n",
    "\n",
    "## Loading data providers adds new pivot functions dynamically"
   ]
  },
  {
   "cell_type": "markdown",
   "metadata": {},
   "source": [
    "### Previous IP Address pivots\n",
    "```python\n",
    "['geoloc',\n",
    " 'ip_type',\n",
    " 'ti.lookup_ip',\n",
    " 'tilookup_ip',\n",
    " 'util.geoloc',\n",
    " 'util.geoloc_ips',\n",
    " 'util.ip_rev_resolve',\n",
    " 'util.ip_type',\n",
    " 'util.whois',\n",
    " 'util.whois_asn',\n",
    " 'whois',\n",
    " 'whois_asn']\n",
    "```\n",
    "\n",
    "### Create a Data provider"
   ]
  },
  {
   "cell_type": "code",
   "execution_count": null,
   "metadata": {},
   "outputs": [],
   "source": [
    "qry_prov = mp.QueryProvider(\"MSSentinel\")\n",
    "qry_prov.connect(workspace=\"Default\")"
   ]
  },
  {
   "cell_type": "code",
   "execution_count": null,
   "metadata": {},
   "outputs": [],
   "source": [
    "IpAddress.pivots()"
   ]
  },
  {
   "cell_type": "markdown",
   "metadata": {},
   "source": [
    "## Adding queries is a very easy way of adding custom pivot functions\n",
    "\n",
    "### You can also add arbitrary functions (see appendix)\n",
    "\n",
    "If you create a query with one of these parameters it will be automatically added\n",
    "to the mapped entity as a pivot function.\n",
    "\n",
    "| Query Parameter  | Entity                               |\n",
    "|------------------|--------------------------------------|\n",
    "| account_name     | Account                              |\n",
    "| user             | Account                              |\n",
    "| host_name        | Host                                 |\n",
    "| process_name     | Process                              |\n",
    "| source_ip_list   | IpAddress                            |\n",
    "| ip_address_list  | IpAddress                            |\n",
    "| ip_address       | IpAddress                            |\n",
    "| logon_session_id | Process, , HostLogonSession, Account |\n",
    "| process_id       | Process                              |\n",
    "| commandline      | Process                              |\n",
    "| user             | Account                              |\n",
    "| url              | Url                                  |\n",
    "| file_hash        | File                                 |\n",
    "| domain           | Dns                                  |\n",
    "| resource_id      | AzureResource                        |\n"
   ]
  },
  {
   "cell_type": "markdown",
   "metadata": {},
   "source": [
    "---\n",
    "\n",
    "# <a style=\"border: solid; padding:5pt; color:black; background-color:#909090\">Chaining Pivot functions</a>\n",
    "\n",
    "---\n",
    "\n",
    "### Because Pivot functions use DataFrames as output and input you can use them in a pipeline\n",
    "\n",
    "### Use the Pandas `mp_pivot.run()` function to add steps to the pipeline"
   ]
  },
  {
   "cell_type": "markdown",
   "metadata": {},
   "source": [
    "\n",
    "```python\n",
    "# Take 3 functions from previous task\n",
    "Dns.util.dns_resolve(domains)\n",
    "IpAddress.whois(dns_df, column=\"rrset\")\n",
    "IpAddress.geoloc(dns_df, column=\"rrset\")\n",
    "```"
   ]
  },
  {
   "cell_type": "code",
   "execution_count": null,
   "metadata": {},
   "outputs": [],
   "source": [
    "# Use .mp_pivot.run to pipe output of first to input of second function\n",
    "(\n",
    "    Dns.util.dns_resolve(domains)\n",
    "    .mp_pivot.run(IpAddress.whois, column=\"rrset\")\n",
    ")"
   ]
  },
  {
   "cell_type": "code",
   "execution_count": null,
   "metadata": {},
   "outputs": [],
   "source": [
    "# Add this third function\n",
    "# (note from the output, this function doesn't preserve input columns)\n",
    "(\n",
    "    Dns.util.dns_resolve(domains)\n",
    "    .mp_pivot.run(IpAddress.whois, column=\"rrset\")\n",
    "    .mp_pivot.run(IpAddress.geoloc, column=\"rrset\")\n",
    ")"
   ]
  },
  {
   "cell_type": "code",
   "execution_count": null,
   "metadata": {},
   "outputs": [],
   "source": [
    "# Add a join parameter\n",
    "(\n",
    "    Dns.util.dns_resolve(domains)\n",
    "    .mp_pivot.display()  # add a display() function to display intermediate results\n",
    "    .mp_pivot.run(IpAddress.whois, column=\"rrset\")\n",
    "    .mp_pivot.run(IpAddress.geoloc, column=\"rrset\", join=\"left\")\n",
    ")"
   ]
  },
  {
   "cell_type": "markdown",
   "metadata": {},
   "source": [
    "---\n",
    "\n",
    "# <a style=\"border: solid; padding:5pt; color:black; background-color:#909090\">Beyond Pivots</a>\n",
    "\n",
    "---\n",
    "\n",
    "## Looking up mixed type TI observables\n",
    "\n",
    "### [Reference - Threat Intel Lookup](https://msticpy.readthedocs.io/en/latest/data_acquisition/TIProviders.html)"
   ]
  },
  {
   "cell_type": "code",
   "execution_count": null,
   "metadata": {},
   "outputs": [],
   "source": [
    "ioc_df = pd.read_csv(\"./data/cobalt_strike_c2_otx.csv\")\n",
    "ioc_df[\"Indicator type\"].value_counts()"
   ]
  },
  {
   "cell_type": "code",
   "execution_count": null,
   "metadata": {},
   "outputs": [],
   "source": [
    "ti_lookup = mp.TILookup()\n",
    "ti_results = ti_lookup.lookup_iocs(data=ioc_df.sample(10), obs_col=\"Indicator\")\n",
    "ti_results.query(\"Severity == 'high'\")"
   ]
  },
  {
   "cell_type": "code",
   "execution_count": null,
   "metadata": {},
   "outputs": [],
   "source": [
    "TILookup.browse(ti_results)"
   ]
  },
  {
   "cell_type": "markdown",
   "metadata": {},
   "source": [
    "## <a style=\"border: solid; padding:5pt; color:black; background-color:#309030\">Task 4 (Optional if we have time) Find which IoCs have TI entries and resolve to a certain country</a>\n",
    "\n",
    "Use a subset of the cobalt strike data and answer the following questions\n",
    "\n",
    "1. How many of the IoCs have TI entries?\n",
    "2. If you have configured multiple providers\n",
    "   - Do the same observables appear in all providers?\n",
    "   - Do they have the same severity?\n",
    "3. What does the geographic distribution of the observables look like?\n",
    "   - What is the most common origin country?\n",
    "\n",
    "For the last question you will need to resolve the host/URL to an IP address.\n"
   ]
  },
  {
   "cell_type": "code",
   "execution_count": null,
   "metadata": {},
   "outputs": [],
   "source": [
    "# your answer here"
   ]
  },
  {
   "cell_type": "markdown",
   "metadata": {},
   "source": [
    "---\n",
    "\n",
    "# <a style=\"border: solid; padding:5pt; color:black; background-color:#909090\">Sentinel APIs</a>\n",
    "\n",
    "---\n",
    "\n",
    "### [Reference - MSTICPy Sentinel APIs](https://msticpy.readthedocs.io/en/latest/data_acquisition/Sentinel.html)"
   ]
  },
  {
   "cell_type": "code",
   "execution_count": null,
   "metadata": {},
   "outputs": [],
   "source": [
    "sentinel = mp.MicrosoftSentinel()\n",
    "sentinel.connect(workspace=\"ASIWorkspace\")\n"
   ]
  },
  {
   "cell_type": "code",
   "execution_count": null,
   "metadata": {},
   "outputs": [],
   "source": [
    "sentinel.list_incidents().head(2)"
   ]
  },
  {
   "cell_type": "code",
   "execution_count": null,
   "metadata": {},
   "outputs": [],
   "source": [
    "sentinel.list_data_connectors().head(2)"
   ]
  },
  {
   "cell_type": "code",
   "execution_count": null,
   "metadata": {},
   "outputs": [],
   "source": [
    "sentinel.list_hunting_queries().head(3)"
   ]
  },
  {
   "cell_type": "code",
   "execution_count": null,
   "metadata": {},
   "outputs": [],
   "source": [
    "help(sentinel.create_incident)"
   ]
  },
  {
   "cell_type": "code",
   "execution_count": null,
   "metadata": {},
   "outputs": [],
   "source": [
    "incident = sentinel.create_incident(\n",
    "    title=\"Test incident (ianhelle)\",\n",
    "    severity=\"Informational\",\n",
    "    description=\"Incident caused by testing API.\",\n",
    ")"
   ]
  },
  {
   "cell_type": "code",
   "execution_count": null,
   "metadata": {},
   "outputs": [],
   "source": [
    "sentinel.get_incident(incident)\n"
   ]
  },
  {
   "cell_type": "code",
   "execution_count": null,
   "metadata": {},
   "outputs": [],
   "source": [
    "sentinel.get_incident_comments(incident)"
   ]
  },
  {
   "cell_type": "code",
   "execution_count": null,
   "metadata": {},
   "outputs": [],
   "source": [
    "sentinel.post_comment(\n",
    "    incident,\n",
    "    comment=\"I have something to add...\"\n",
    ")"
   ]
  },
  {
   "cell_type": "code",
   "execution_count": null,
   "metadata": {},
   "outputs": [],
   "source": [
    "sentinel.get_incident_comments(incident)"
   ]
  },
  {
   "cell_type": "markdown",
   "metadata": {},
   "source": [
    "## <a style=\"border: solid; padding:5pt; color:black; background-color:#309030\">Task 5 - Create and update an incident.</a>\n",
    "\n",
    "Create an incident in Sentinel and update properties\n",
    "\n",
    "1. Create an instance of the MicrosoftSentinel provider and connect to the \"SentinelTest\" workspace.\n",
    "2. Create an incident\n",
    "3. Retrieve the incident to confirm it is there\n",
    "4. Add a comment and verify that it has been posted\n",
    "5. Change the incident severity to Medium\n",
    "\n",
    "Incident properties\n",
    "https://docs.microsoft.com/rest/api/securityinsights/stable/incidents/create-or-update\n",
    "\n",
    "<details>\n",
    "<summary>Hints...</summary>\n",
    "<ul>\n",
    "<li>To create an incident, use <pre>sentinel.create_incident()</pre>\n",
    "<ul><li>This returns the incident ID if successful.</li>\n",
    "<li>Supply \"title\", \"severity\" and \"description\" parameters.</li>\n",
    "</ul><br></li>\n",
    "<li>To retrieve an incident (use either incident ID or incident title), use<pre>sentinel.get_incident(incident)</pre></li>\n",
    "<li>To post a comment use<pre>sentinel.post_comment(incident, comment=\"My comment\")</pre></li>\n",
    "<li>To change the incident severity you need to use a dictionary\n",
    "<pre>prop_dict = {\"properties\": {\"severity\": \"Medium\"}}\n",
    "</pre>\n",
    "</li>\n",
    "<li>Pass this to <pre>sentinel.update_incident(incident, update_items=prop_dict)</pre>\n",
    "</ul>\n",
    "</details>\n"
   ]
  },
  {
   "cell_type": "code",
   "execution_count": null,
   "metadata": {},
   "outputs": [],
   "source": [
    "sentinel = mp.MicrosoftSentinel()\n",
    "sentinel.connect(workspace=\"SentinelTest\")\n",
    "\n",
    "# create the incident\n",
    "incident = sentinel.create_incident(\n",
    "    # params\n",
    ")"
   ]
  },
  {
   "cell_type": "code",
   "execution_count": null,
   "metadata": {},
   "outputs": [],
   "source": [
    "# update severity\n",
    "\n",
    "# show the updated incident\n",
    "sentinel.get_incident(incident)"
   ]
  },
  {
   "cell_type": "code",
   "execution_count": null,
   "metadata": {},
   "outputs": [],
   "source": [
    "# post comment \n",
    "\n",
    "# and show new comments\n",
    "sentinel.get_incident_comments(incident)"
   ]
  },
  {
   "cell_type": "markdown",
   "metadata": {},
   "source": [
    "---\n",
    "# End of Session\n"
   ]
  },
  {
   "cell_type": "markdown",
   "metadata": {},
   "source": [
    "---\n",
    "\n",
    "# <a style=\"border: solid; padding:5pt; color:black; background-color:#909090\">Appendix - Adding a custom pivot function</a>\n",
    "\n",
    "---"
   ]
  },
  {
   "cell_type": "markdown",
   "metadata": {},
   "source": [
    "### Here is the function that we want to add to some entities\n",
    "\n",
    "Note it takes a string parameter for the entity value input and returns a string\n"
   ]
  },
  {
   "cell_type": "code",
   "execution_count": null,
   "metadata": {},
   "outputs": [],
   "source": [
    "def defang_ioc(ioc: str, ioc_type: str = None) -> str:\n",
    "    \"\"\"\n",
    "    Return de-fanged observable.\n",
    "\n",
    "    Parameters\n",
    "    ----------\n",
    "    ioc : str\n",
    "        The observable.\n",
    "    ioc_type : str\n",
    "        The type of IoC. If URL or Email it will do\n",
    "        extra processing to neuter the URL protocol and email @ symbol\n",
    "\n",
    "    Returns\n",
    "    -------\n",
    "    str\n",
    "        The de-fanged observable.\n",
    "    \"\"\"\n",
    "    de_fanged = ioc\n",
    "    if ioc_type == \"email\":\n",
    "        de_fanged = de_fanged.replace(\"@\", \"AT\")\n",
    "    elif ioc_type == \"url\":\n",
    "        de_fanged = de_fanged.replace(\"http\", \"hXXp\").replace(\"ftp\", \"fXp\")\n",
    "    return de_fanged.replace(\".\", \"[.]\")"
   ]
  },
  {
   "cell_type": "markdown",
   "metadata": {},
   "source": [
    "### Call `Pivot.add_pivot_function` to add the function to a couple of entities"
   ]
  },
  {
   "cell_type": "code",
   "execution_count": null,
   "metadata": {},
   "outputs": [],
   "source": [
    "from msticpy.init.pivot import PivotRegistration\n",
    "\n",
    "mp.Pivot.add_pivot_function(\n",
    "    func=defang_ioc,\n",
    "    container=\"util\",\n",
    "    input_type=\"value\",\n",
    "    entity_map={\n",
    "        \"IpAddress\": \"Address\",\n",
    "        \"Dns\": \"Domain\",\n",
    "    },\n",
    "    func_input_value_arg=\"ioc\",\n",
    "    func_new_name=\"defang\",\n",
    ")"
   ]
  },
  {
   "cell_type": "markdown",
   "metadata": {},
   "source": [
    "### Now we can defang IP addresses and DNS names\n",
    "\n",
    "#### Note - even though the input and output of our original function was a string, it accepts lists and DataFrames as inputs."
   ]
  },
  {
   "cell_type": "code",
   "execution_count": null,
   "metadata": {},
   "outputs": [],
   "source": [
    "IpAddress.util.defang([\"54.69.246.204\", \"104.73.1.162\"])"
   ]
  },
  {
   "cell_type": "markdown",
   "metadata": {},
   "source": [
    "### For URLs we want to also set the `ioc_type` parameter\n",
    "\n",
    "We can add that as a registration parameter `func_static_params`."
   ]
  },
  {
   "cell_type": "code",
   "execution_count": null,
   "metadata": {},
   "outputs": [],
   "source": [
    "# Adding static parameters to supply ioc_type param\n",
    "mp.Pivot.add_pivot_function(\n",
    "    func=defang_ioc,\n",
    "    container=\"util\",\n",
    "    input_type=\"value\",\n",
    "    entity_map={\n",
    "        \"Url\": \"Url\",\n",
    "    },\n",
    "    func_input_value_arg=\"ioc\",\n",
    "    func_new_name=\"defang\",\n",
    "    func_static_params={\"ioc_type\": \"url\"}\n",
    ")"
   ]
  },
  {
   "cell_type": "code",
   "execution_count": null,
   "metadata": {},
   "outputs": [],
   "source": [
    "Url.util.defang(\"https//some.bad.stuff.org/deeppath?query=foo\")"
   ]
  }
 ],
 "metadata": {
  "kernelspec": {
   "display_name": "msticpy_training",
   "language": "python",
   "name": "python3"
  },
  "language_info": {
   "codemirror_mode": {
    "name": "ipython",
    "version": 3
   },
   "file_extension": ".py",
   "mimetype": "text/x-python",
   "name": "python",
   "nbconvert_exporter": "python",
   "pygments_lexer": "ipython3",
   "version": "3.8.13 (default, Oct 19 2022, 22:38:03) [MSC v.1916 64 bit (AMD64)]"
  },
  "orig_nbformat": 4,
  "vscode": {
   "interpreter": {
    "hash": "6095bcd1f13cf4183aa2ae0e347c65ea7e7069a537781621e1c72af4eaf1e436"
   }
  }
 },
 "nbformat": 4,
 "nbformat_minor": 2
}
