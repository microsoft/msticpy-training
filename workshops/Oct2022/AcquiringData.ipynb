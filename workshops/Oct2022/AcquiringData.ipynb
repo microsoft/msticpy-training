{
 "cells": [
  {
   "cell_type": "markdown",
   "metadata": {},
   "source": [
    "## MSTICPy and Notebooks in InfoSec\n",
    "---\n",
    "\n",
    "# <a style=\"border: solid; padding:5pt; color:black; background-color:#909090\">Acquiring Data Using MSTICPy</a>\n",
    "\n",
    "---\n",
    "\n",
    "## What this session covers:\n",
    " - Setting up query providers\n",
    " - Connecting to providers\n",
    " - Querying for data\n",
    " - Offline data options\n",
    "\n",
    "## Prerequisites\n",
    "- Python >= 3.8 Environment\n",
    "- Jupyter installed\n",
    "- MSTICPy\n",
    "- The msticpyconfig.yaml file you recently populated\n"
   ]
  },
  {
   "cell_type": "markdown",
   "metadata": {},
   "source": [
    "### MSTICPy has a number of supported providers\n",
    "- Microsoft Sentinel\n",
    "- Microsoft Defender/Defender for Endpoint\n",
    "- Splunk\n",
    "- Sumologic\n",
    "- Microsoft Graph\n",
    "- Local data\n",
    "- Mordor/Security Datasets\n",
    "- Kusto/Azure Data Explorer\n",
    "- Azure Resource Graph\n",
    "\n",
    "These provide way to connect to and query data from these sources in a structured and standardized way.<br>\n",
    "The providers also provide a way to create, store and call templated queries simply and easily.\n",
    "\n",
    "Ref: https://msticpy.readthedocs.io/en/latest/DataAcquisition.html"
   ]
  },
  {
   "cell_type": "code",
   "execution_count": null,
   "metadata": {},
   "outputs": [],
   "source": [
    "#Set up MSTICPy\n",
    "%env MSTICPYCONFIG=./msticpyconfig.yaml\n",
    "import msticpy as mp \n",
    "mp.init_notebook()"
   ]
  },
  {
   "cell_type": "markdown",
   "metadata": {},
   "source": [
    "The QueryProvider handles this functionality and can be configured to work with the supported data sources.\n",
    "\n",
    "`list_data_environments` shows us the names of the providers avalibale to us."
   ]
  },
  {
   "cell_type": "code",
   "execution_count": null,
   "metadata": {},
   "outputs": [],
   "source": [
    "mp.QueryProvider.list_data_environments()"
   ]
  },
  {
   "cell_type": "markdown",
   "metadata": {},
   "source": [
    "You can then pass the name of the required provider to `QueryProvider`."
   ]
  },
  {
   "cell_type": "code",
   "execution_count": null,
   "metadata": {},
   "outputs": [],
   "source": [
    "qry_prov = mp.QueryProvider(\"MSSentinel\")"
   ]
  },
  {
   "cell_type": "markdown",
   "metadata": {},
   "source": [
    "Once created the next step is to connect the provider to the source and authenticate. <br>\n",
    "When connecting we need to pass in the connection string of the source to connect to, this can either be as paratmers to the connect function, or from our configuration file.<br>\n",
    "\n",
    "The authentication method for the provider will depend on the type of providers, and what is supported.\n",
    "\n",
    "Below we will connect with a specific connection string, and the default auth method for this provider - Device Code."
   ]
  },
  {
   "cell_type": "code",
   "execution_count": null,
   "metadata": {},
   "outputs": [],
   "source": [
    "la_connection_string = f'loganalytics://code().tenant(\"72f988bf-86f1-41af-91ab-2d7cd011db47\").workspace(\"8ecf8077-cf51-4820-aadd-14040956f35d\")'\n",
    "qry_prov.connect(connection_str=la_connection_string)"
   ]
  },
  {
   "cell_type": "markdown",
   "metadata": {},
   "source": [
    "To use the a settings from our config instead of the connection string we can use WorkspaceConfig to collect those from file and pass them to the connection method.<br>\n",
    "Whilst the default for many providers is Device Code authenication, other methods such as login via the Azure CLI can be easeir to use, so here we are going to use that. The advantage of this is that you don't need to authenticate every time as the Azure CLI credentials are cached on your machine."
   ]
  },
  {
   "cell_type": "code",
   "execution_count": null,
   "metadata": {},
   "outputs": [],
   "source": [
    "!az login"
   ]
  },
  {
   "cell_type": "code",
   "execution_count": null,
   "metadata": {},
   "outputs": [],
   "source": [
    "qry_prov = mp.QueryProvider(\"MSSentinel\")\n",
    "qry_prov.connect(mp.WorkspaceConfig(), mp_az_auth=['cli'])"
   ]
  },
  {
   "cell_type": "markdown",
   "metadata": {},
   "source": [
    "Once connected we can start running queries to get data.\n",
    "We can do this with the built in queries or with our own queries.\n",
    "\n",
    "We will start with the built in queries. We can list the avaliable queries with `list_queries`.\n",
    "\n",
    "Ref: https://msticpy.readthedocs.io/en/latest/DataAcquisition.html#built-in-data-queries"
   ]
  },
  {
   "cell_type": "code",
   "execution_count": null,
   "metadata": {},
   "outputs": [],
   "source": [
    "qry_prov.list_queries()"
   ]
  },
  {
   "cell_type": "markdown",
   "metadata": {},
   "source": [
    "We can also use `browse` to get a clearer view of whats avaliable"
   ]
  },
  {
   "cell_type": "code",
   "execution_count": null,
   "metadata": {},
   "outputs": [],
   "source": [
    "qry_prov.browse()"
   ]
  },
  {
   "cell_type": "code",
   "execution_count": null,
   "metadata": {},
   "outputs": [],
   "source": [
    "qry_prov.Azure.list_all_signins_geo()"
   ]
  },
  {
   "cell_type": "code",
   "execution_count": null,
   "metadata": {},
   "outputs": [],
   "source": [
    "df = qry_prov.Azure.list_all_signins_geo()\n",
    "df.head()"
   ]
  },
  {
   "cell_type": "markdown",
   "metadata": {},
   "source": [
    "Some queries require parameters such as a account or host name to search for results in."
   ]
  },
  {
   "cell_type": "code",
   "execution_count": null,
   "metadata": {},
   "outputs": [],
   "source": [
    "office_activity = qry_prov.Office365.list_activity_for_account(account_name=\"KDickens@seccxp.ninja\")\n",
    "office_activity.head()"
   ]
  },
  {
   "cell_type": "markdown",
   "metadata": {},
   "source": [
    "We can customize built in queries with by adding query items to them."
   ]
  },
  {
   "cell_type": "code",
   "execution_count": null,
   "metadata": {},
   "outputs": [],
   "source": [
    "office_activity_filtered = qry_prov.Office365.list_activity_for_account(\n",
    "    account_name=\"KDickens@seccxp.ninja\",\n",
    "    add_query_items=\"| where Operation != 'MailItemsAccessed'\"\n",
    ")\n",
    "office_activity_filtered.head()"
   ]
  },
  {
   "cell_type": "markdown",
   "metadata": {},
   "source": [
    "You can also add your own built in queries by specifying them in a yaml file and adding the required path to your msticpyconfig.yaml file. "
   ]
  },
  {
   "cell_type": "markdown",
   "metadata": {},
   "source": [
    "We can also use `exec_query` to run our own queries."
   ]
  },
  {
   "cell_type": "code",
   "execution_count": null,
   "metadata": {},
   "outputs": [],
   "source": [
    "query = \"OfficeActivity | where TimeGenerated > ago(7d) | where UserId =~ 'KDickens@seccxp.ninja' | summarize count() by Operation\"\n",
    "custom_query_df = qry_prov.exec_query(query)\n",
    "custom_query_df"
   ]
  },
  {
   "cell_type": "markdown",
   "metadata": {},
   "source": [
    "## <a style=\"border: solid; padding:5pt; color:black; background-color:#309030\">1st Exercise - Run a query</a>\n",
    "\n",
    "Execute a query against the created qry_prov. This can be a built in query or a custom query - its up to you.\n",
    "\n",
    "<details>\n",
    "<summary>Hints...</summary>\n",
    "<ul>\n",
    "<li>If you add \"print\" as a parameter when calling a query it will print out the query rather than executing it.</li>\n",
    "</ul>\n",
    "</details>\n"
   ]
  },
  {
   "cell_type": "code",
   "execution_count": null,
   "metadata": {},
   "outputs": [],
   "source": []
  },
  {
   "cell_type": "markdown",
   "metadata": {},
   "source": [
    "---\n",
    "\n",
    "# <a style=\"border: solid; padding:5pt; color:black; background-color:#909090\">Kusto</a>\n",
    "\n",
    "---\n",
    "\n",
    "Sentinel isn't the only data provider avaliable and we have plenty more that we can use to connect to.<br>\n",
    "Kusto is a popular data source for a lot of uses.\n",
    "\n",
    "Before we can use Kusto we need to set add some more config items to our msticpyconfig.yaml file. In this case we are going to add our Kusto cluster at `https://msticpytraining.eastus.kusto.windows.net`."
   ]
  },
  {
   "cell_type": "code",
   "execution_count": null,
   "metadata": {},
   "outputs": [],
   "source": [
    "from msticpy.config import  MpConfigEdit\n",
    "\n",
    "MpConfigEdit()"
   ]
  },
  {
   "cell_type": "markdown",
   "metadata": {},
   "source": [
    "\n",
    "\n",
    "## <a style=\"border: solid; padding:5pt; color:black; background-color:#309030\">2nd Exercise - Kusto</a>\n",
    "\n",
    "1 . Connect to the kusto cluster https://msticpytraining.eastus.kusto.windows.net/ and the msticpydata database. <br>\n",
    "2. Run a query to understand the schema of the Syslog table\n",
    "\n",
    "\n",
    "<details>\n",
    "<summary>Hints...</summary>\n",
    "<ul>\n",
    "<li>The Kusto data provider is called simply \"Kusto\"</li>\n",
    "<li>The`cluster` and `database` parameters are key here.</li>\n",
    "<li>https://msticpy.readthedocs.io/en/latest/data_acquisition/DataProv-Kusto.html has the details you need</li>\n",
    "</ul>\n",
    "</details>\n"
   ]
  },
  {
   "cell_type": "code",
   "execution_count": null,
   "metadata": {},
   "outputs": [],
   "source": []
  },
  {
   "cell_type": "markdown",
   "metadata": {},
   "source": [
    "---\n",
    "\n",
    "# <a style=\"border: solid; padding:5pt; color:black; background-color:#909090\">Microsoft Defender</a>\n",
    "\n",
    "---\n",
    "Some data providers have different connection options, for example the Microsoft Defender for Endpoint and Microsoft 365 Defender APIs require a client applicaiton to handle authentication.<br>\n",
    "You can pass in these application details when connecting but if we are using an applicaiton secret its better to keep these in KeyVault and refence them in our config file."
   ]
  },
  {
   "cell_type": "code",
   "execution_count": null,
   "metadata": {},
   "outputs": [],
   "source": [
    "import msticpy as mp \n",
    "\n",
    "mp.init_notebook()"
   ]
  },
  {
   "cell_type": "markdown",
   "metadata": {},
   "source": [
    "You can store multiple instances in your config file. To select what instance to connect to use the `instance` keyword.<br>\n",
    "In this example we will connect to our pre-configured Training insance.\n",
    "\n",
    "Ref: https://msticpy.readthedocs.io/en/latest/data_acquisition/DataProv-MSDefender.html#connecting-to-m365-defender"
   ]
  },
  {
   "cell_type": "code",
   "execution_count": null,
   "metadata": {},
   "outputs": [],
   "source": [
    "defender_prov = mp.QueryProvider(\"M365D\")\n",
    "defender_prov.connect(instance=\"Training\")"
   ]
  },
  {
   "cell_type": "code",
   "execution_count": null,
   "metadata": {},
   "outputs": [],
   "source": [
    "defender_prov.browse()"
   ]
  },
  {
   "cell_type": "markdown",
   "metadata": {},
   "source": [
    "We can also execute our own queries in the same format as with the other providers."
   ]
  },
  {
   "cell_type": "code",
   "execution_count": null,
   "metadata": {},
   "outputs": [],
   "source": [
    "defender_prov.exec_query(\"DeviceInfo | take 10\")"
   ]
  },
  {
   "cell_type": "markdown",
   "metadata": {},
   "source": [
    "## <a style=\"border: solid; padding:5pt; color:black; background-color:#309030\">3rd Exercise - Defender Investigation</a>\n",
    "\n",
    "1. Find the IP address associated with alerts relating to the url 'davlenwindows.com' on 10/14/2022\n",
    "2. Find all the hosts that have connected to that IP address since 10/14/2022\n",
    "3. Get the file hash of the initiating process for these connections and get all the files names assocaited with this hash\n",
    "\n",
    "\n",
    "<details>\n",
    "<summary>Hints...</summary>\n",
    "<ul>\n",
    "<li>You can do this with built in queries or your own queries</li>\n",
    "<li>The Query Browser is your friend `qry_prov.browse()`</li>\n",
    "<li>Don't forget you can use add_query_items to add to the built in queries to customize the returned data.</li>\n",
    "</ul>\n",
    "</details>"
   ]
  },
  {
   "cell_type": "code",
   "execution_count": null,
   "metadata": {},
   "outputs": [],
   "source": []
  },
  {
   "cell_type": "markdown",
   "metadata": {},
   "source": [
    "---\n",
    "\n",
    "# <a style=\"border: solid; padding:5pt; color:black; background-color:#909090\">Azure Resource Graph</a>\n",
    "\n",
    "---\n",
    "\n",
    "\n",
    "The Azure Resource graph provides a way to get details about Azure Resources using KQL, this is something that is really useful to adding context during an investigation.<br>\n",
    "Below we are going to load our Resource Graph provider and connect using the Azure CLI tokens that we generated earlier."
   ]
  },
  {
   "cell_type": "code",
   "execution_count": null,
   "metadata": {},
   "outputs": [],
   "source": [
    "res_qry_prov = mp.QueryProvider(\"ResourceGraph\")\n",
    "res_qry_prov.connect(auth_methods=[\"cli\"])"
   ]
  },
  {
   "cell_type": "markdown",
   "metadata": {},
   "source": [
    "As with the other providers we can use in built queries or write our own custom queries. Hopefully by now you are familiar with this model and concept."
   ]
  },
  {
   "cell_type": "markdown",
   "metadata": {},
   "source": [
    "\n",
    "## <a style=\"border: solid; padding:5pt; color:black; background-color:#309030\">4th Exercise - Azure Resource Graph</a>\n",
    "\n",
    " 1 . Find out how many KeyVaults that you have access to. <br>\n",
    " 2. What resources exist in the msticpy resource group.<br>\n",
    " 3. Find the Key Vault that is detailed in your msticpyconfig.yaml file<br>\n",
    "\n",
    "\n",
    "<details>\n",
    "<summary>Hints...</summary>\n",
    "<ul>\n",
    "<li>https://learn.microsoft.com/en-us/azure/governance/resource-graph/samples/starter?tabs=azure-cli gives you some query examples</li>\n",
    "<li>microsoft.keyvault/vaults</li>\n",
    "<li>You will need to use .exec_query here</li>\n",
    "</ul>\n",
    "</details>\n"
   ]
  },
  {
   "cell_type": "code",
   "execution_count": null,
   "metadata": {},
   "outputs": [],
   "source": []
  },
  {
   "cell_type": "markdown",
   "metadata": {},
   "source": [
    "\n",
    "## <a style=\"border: solid; padding:5pt; color:black; background-color:#309030\">Bonus Exercise - Azure Resource Graph</a>\n",
    "\n",
    "CDOC recived a report that the VM MSTIC-DSVM has been compromised. You need to answer the following questions:\n",
    "1. Is this a real host?\n",
    "2. Is it currently in use?\n",
    "3. What IPs is it assocaited with?\n",
    "4. Is it a production host?\n",
    "5. What other resources might have been compromised?\n",
    "6. Are there any users we can contact about this host?\n"
   ]
  },
  {
   "cell_type": "markdown",
   "metadata": {},
   "source": []
  }
 ],
 "metadata": {
  "kernelspec": {
   "display_name": "Python 3.8.10 ('dev38')",
   "language": "python",
   "name": "python3"
  },
  "language_info": {
   "codemirror_mode": {
    "name": "ipython",
    "version": 3
   },
   "file_extension": ".py",
   "mimetype": "text/x-python",
   "name": "python",
   "nbconvert_exporter": "python",
   "pygments_lexer": "ipython3",
   "version": "3.8.10"
  },
  "orig_nbformat": 4,
  "vscode": {
   "interpreter": {
    "hash": "739aa94d41434660cad201339437bbf6f0b217d6c8b6dd6d17fce87baec5c88f"
   }
  }
 },
 "nbformat": 4,
 "nbformat_minor": 2
}
