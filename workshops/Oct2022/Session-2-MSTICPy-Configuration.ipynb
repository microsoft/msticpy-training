{
 "cells": [
  {
   "cell_type": "markdown",
   "metadata": {},
   "source": [
    "## MSTICPy and Notebooks in InfoSec\n",
    "\n",
    "---\n",
    "\n",
    "<h1 style=\"border: solid; padding:5pt; color:black; background-color:#909090\">Session 2 - MSTICPy Configuration</h1>\n",
    "\n",
    "---\n",
    "\n",
    "## What this session covers:\n",
    "\n",
    "- Viewing current settings\n",
    "- Configuration tools\n",
    "- Add a Sentinel Workspace\n",
    "- Add a Kusto Cluster\n",
    "- Configure KeyVault settings\n",
    "- Add a Threat Intel Provider\n",
    "- Add a GeoIP Provider\n",
    "- Verifying Azure configuration\n",
    "\n",
    "\n",
    "## Prerequisites\n",
    "- Python >= 3.8 Environment\n",
    "- Jupyter installed\n",
    "- MSTICPy installed\n",
    "- Azure CLI installed\n",
    "- Run `az login`\n",
    "- Account and API key for one or more TI providers\n",
    "- Account and API key for MaxMind GeoLite\n"
   ]
  },
  {
   "cell_type": "code",
   "execution_count": null,
   "metadata": {},
   "outputs": [],
   "source": [
    "%env MSTICPYCONFIG=./msticpyconfig.yaml\n",
    "\n",
    "import msticpy as mp\n",
    "mp.init_notebook()"
   ]
  },
  {
   "cell_type": "markdown",
   "metadata": {},
   "source": [
    "---\n",
    "\n",
    "# <a style=\"border: solid; padding:5pt; color:black; background-color:#909090\"><i>msticpyconfig.yaml</i> Structure</a>\n",
    "\n",
    "---\n",
    "\n",
    "### [Reference: MSTICPy Package Configuration](https://msticpy.readthedocs.io/en/latest/getting_started/msticpyconfig.html)\n",
    "> Note this is a little out of date.\n",
    "\n",
    "\n",
    "## msticpyconfig.yaml\n",
    "\n",
    "```yaml\n",
    "Azure:\n",
    "  auth_methods: [cli, msi, devicecode]\n",
    "  cloud: global\n",
    "AzureSentinel:\n",
    "  # Sentinel workspace configuration\n",
    "  Workspaces:\n",
    "    Workspace_Tag:\n",
    "      # workspace ID, tenant, ext\n",
    "    Workspace2_Tag:\n",
    "      # ...\n",
    "DataProviders:\n",
    "  # Miscellaneous Data providers\n",
    "  Browshot:\n",
    "    Args:\n",
    "      # AuthKey: [PLACHOLDER]\n",
    "  Kusto-MDE:\n",
    "    Args:\n",
    "      # Cluster: https://wcdscrubbedservice.kusto.windows.net\n",
    "      # IntegratedAuth: true\n",
    "TIProviders:\n",
    "  TorExitNodes:\n",
    "    Primary: true\n",
    "    Provider: Tor\n",
    "  VirusTotal:\n",
    "    Args:\n",
    "      AuthKey:\n",
    "        KeyVault: null\n",
    "    Primary: true\n",
    "    Provider: VirusTotal\n",
    "OtherProviders:\n",
    "  # GeoIP providers - should be in DataProviders!\n",
    "  GeoIPLite:\n",
    "    Args:\n",
    "      AuthKey:\n",
    "        KeyVault: null\n",
    "      DBFolder: ~/.msticpy\n",
    "    Provider: GeoLiteLookup\n",
    "KeyVault:\n",
    "  # Optional - KV tenant, sub, vault name\n",
    "\n",
    "```"
   ]
  },
  {
   "cell_type": "markdown",
   "metadata": {},
   "source": [
    "---\n",
    "\n",
    "# <a style=\"border: solid; padding:5pt; color:black; background-color:#909090\">Show current settings</a>\n",
    "\n",
    "---\n",
    "\n",
    "You can print out current settings from `msticpy.settings.settings`"
   ]
  },
  {
   "cell_type": "code",
   "execution_count": null,
   "metadata": {},
   "outputs": [],
   "source": [
    "mp.settings.settings"
   ]
  },
  {
   "cell_type": "markdown",
   "metadata": {},
   "source": [
    "---\n",
    "\n",
    "# <a style=\"border: solid; padding:5pt; color:black; background-color:#909090\">Settings Tools - MpConfigFile and MpConfigEdit</a>\n",
    "\n",
    "---\n",
    "\n",
    "### [Reference: MSTICPy Settings Editor](https://msticpy.readthedocs.io/en/latest/getting_started/SettingsEditor.html)\n",
    "\n",
    "## MpConfigFile - settings utilities interactive and command line"
   ]
  },
  {
   "cell_type": "code",
   "execution_count": null,
   "metadata": {},
   "outputs": [],
   "source": [
    "config_file = mp.MpConfigFile()\n",
    "config_file"
   ]
  },
  {
   "cell_type": "code",
   "execution_count": null,
   "metadata": {},
   "outputs": [],
   "source": [
    "config_file.view_settings()"
   ]
  },
  {
   "cell_type": "markdown",
   "metadata": {},
   "source": [
    "### MpConfigEdit - interactive settings editor\n",
    "\n",
    "If you haven't authenticated using Azure CLI, do that now (in a console window) before running the following cell."
   ]
  },
  {
   "cell_type": "code",
   "execution_count": null,
   "metadata": {},
   "outputs": [],
   "source": [
    "!az login"
   ]
  },
  {
   "cell_type": "code",
   "execution_count": null,
   "metadata": {},
   "outputs": [],
   "source": [
    "# We'll need to authenticate to Azure to use Workspace details resolution\n",
    "mp.az_connect()"
   ]
  },
  {
   "cell_type": "markdown",
   "metadata": {},
   "source": [
    "## Example - Adding a Sentinel Workspace\n",
    "\n",
    "We will: \n",
    "\n",
    "1. Add a new workspace with the following values:\n",
    "```\n",
    "    - WorkspaceID: 52b1ab41-869e-4138-9e40-2a4457f09bf0\n",
    "    - TenantId: 72f988bf-86f1-41af-91ab-2d7cd011db47\n",
    "```\n",
    "2. Resolve all settings for the workspace\n",
    "3. DO NOT set it as the Default Workspace\n",
    "4. Update and Save Settings\n",
    "5. Verify Settings have been re-read"
   ]
  },
  {
   "cell_type": "code",
   "execution_count": null,
   "metadata": {},
   "outputs": [],
   "source": [
    "# WorkspaceID: 52b1ab41-869e-4138-9e40-2a4457f09bf0\n",
    "# TenantId: 72f988bf-86f1-41af-91ab-2d7cd011db47\n",
    "mp.MpConfigEdit()"
   ]
  },
  {
   "cell_type": "code",
   "execution_count": null,
   "metadata": {},
   "outputs": [],
   "source": [
    "mp.MpConfigFile().view_settings()"
   ]
  },
  {
   "cell_type": "code",
   "execution_count": null,
   "metadata": {},
   "outputs": [],
   "source": [
    "# test\n",
    "sentinel_settings = mp.settings.settings[\"AzureSentinel\"][\"Workspaces\"]\n",
    "expected_keys = {\"ResourceGroup\", \"SubscriptionId\", \"TenantId\", \"WorkspaceId\", \"WorkspaceName\"}\n",
    "assert \"CyberSecuritySOC\" in sentinel_settings\n",
    "assert \"Default\" in sentinel_settings\n",
    "\n",
    "assert all(key in expected_keys for key in sentinel_settings[\"CyberSecuritySOC\"])\n",
    "assert all(val is not None for val in sentinel_settings[\"CyberSecuritySOC\"].values())\n"
   ]
  },
  {
   "cell_type": "markdown",
   "metadata": {},
   "source": [
    "## <a style=\"border: solid; padding:5pt; color:black; background-color:#309030\">Task 1 - Add a Kusto Cluster</a>\n",
    "\n",
    "Add configuration for a Kusto cluster provider\n",
    "\n",
    "1. Use the DataProviders tab\n",
    "2. Pick the Kusto provider and add it\n",
    "3. Fill in details for:\n",
    "```\n",
    "   - Cluster: https://msticpytraining.eastus.kusto.windows.net/\n",
    "   - TenantId: 72f988bf-86f1-41af-91ab-2d7cd011db47\n",
    "   - IntegratedAuth: True\n",
    "```\n",
    "4. and save settings\n",
    "\n",
    "## Late breaking news \n",
    "Due to a bug we found in the the settings editor, we're going to skip adding this here\n",
    "\n",
    "The format of a Kusto cluster entry looks like this\n",
    "```yaml\n",
    "DataProviders:\n",
    "   Kusto-Firecon22:\n",
    "      Args:\n",
    "         ClientId: \n",
    "         ClientSecret:\n",
    "         Cluster: https://msticpytraining.eastus.kusto.windows.net/\n",
    "         IntegratedAuth: True\n",
    "         TenantId: 72f988bf-86f1-41af-91ab-2d7cd011db47\n",
    "   MicrosoftDefender:\n",
    "      ...\n",
    "```\n",
    "`Kusto` identifies the provider type<br>\n",
    "`Firecon22` is the cluster instance name (can be anything)<br>\n",
    "`ClientId` and `ClientSecret` are not needed if `IntegratedAuth` is true"
   ]
  },
  {
   "cell_type": "code",
   "execution_count": null,
   "metadata": {},
   "outputs": [],
   "source": [
    "mp.MpConfigFile().view_settings()"
   ]
  },
  {
   "cell_type": "code",
   "execution_count": null,
   "metadata": {},
   "outputs": [],
   "source": [
    "# test\n",
    "dp_settings = mp.settings.settings[\"DataProviders\"]\n",
    "assert \"Kusto-Firecon22\" in dp_settings\n",
    "\n",
    "assert \"Cluster\" in dp_settings[\"Kusto-Firecon22\"][\"Args\"]\n",
    "assert \"TenantId\" in dp_settings[\"Kusto-Firecon22\"][\"Args\"]\n",
    "assert \"IntegratedAuth\" in dp_settings[\"Kusto-Firecon22\"][\"Args\"]\n"
   ]
  },
  {
   "cell_type": "markdown",
   "metadata": {},
   "source": [
    "## <a style=\"border: solid; padding:5pt; color:black; background-color:#309030\">Task 2 - KeyVault Settings</a>\n",
    "\n",
    "Since we only need to read to and write from the KeyVault, we only need a subset of\n",
    "the settings.\n",
    "- Authority: global\n",
    "- TenantId: <tenant-guid>\n",
    "- UseKeyring: false\n",
    "- VaultName: <name>\n",
    "\n",
    "If we needed to create a vault from MSTICPy we would also need:\n",
    "- AzureRegion, SubscriptionId, ResourceGroup\n",
    "\n",
    "### Steps:\n",
    "1. Use the Key Vault tab\n",
    "2. Confirm or enter values for:\n",
    "```\n",
    "    - Authority: global\n",
    "    - TenantId: 72f988bf-86f1-41af-91ab-2d7cd011db47\n",
    "    - UseKeyring: False (unchecked)\n",
    "    - VaultName: msticpy-training\n",
    "```\n",
    "3. Optional settings:\n",
    "```\n",
    "    - AzureRegion: East US\n",
    "    - SubscriptionId: 40dcc8bf-0478-4f3b-b275-ed0a94f2c013\n",
    "    - ResourceGroup: MSTICPy\n",
    "```\n",
    "4. Update and save settings\n"
   ]
  },
  {
   "cell_type": "code",
   "execution_count": null,
   "metadata": {},
   "outputs": [],
   "source": [
    "mp.MpConfigEdit()"
   ]
  },
  {
   "cell_type": "code",
   "execution_count": null,
   "metadata": {},
   "outputs": [],
   "source": [
    "mp.MpConfigFile().view_settings()"
   ]
  },
  {
   "cell_type": "code",
   "execution_count": null,
   "metadata": {},
   "outputs": [],
   "source": [
    "# test\n",
    "kv_settings = mp.settings.settings[\"KeyVault\"]\n",
    "\n",
    "assert kv_settings[\"Authority\"] == \"global\"\n",
    "assert kv_settings[\"TenantId\"] == \"72f988bf-86f1-41af-91ab-2d7cd011db47\"\n",
    "assert kv_settings[\"UseKeyring\"] == False\n",
    "assert kv_settings[\"VaultName\"] == \"msticpy-training\"\n"
   ]
  },
  {
   "cell_type": "markdown",
   "metadata": {},
   "source": [
    "## <a style=\"border: solid; padding:5pt; color:black; background-color:#309030\">Task 3 - Add Threat Intel. Providers</a>\n",
    "\n",
    "Add configuration for a TI provider\n",
    "\n",
    "1. Use the TI Providers tab\n",
    "2. Pick a TI provider and add it\n",
    "3. Fill in details (use the Text option) and Update\n",
    "4. Save the settings\n",
    "\n",
    "If you have API keys for other providers, add these.\n",
    "\n",
    "You should have API keys for:\n",
    "* VirusTotal\n",
    "* AlientVault OTX\n",
    "* IBM XForce\\*\n",
    "\n",
    "> \\* Note XForce has both an API Key and and API Password<br>\n",
    "> The API Key goes in the **ApiID** box, the password goes in the **AuthKey** box\n",
    "\n",
    "Don't worry if you don't have accounts/keys for all of these providers - just one or two will be fine."
   ]
  },
  {
   "cell_type": "code",
   "execution_count": null,
   "metadata": {},
   "outputs": [],
   "source": [
    "mp.MpConfigEdit()"
   ]
  },
  {
   "cell_type": "code",
   "execution_count": null,
   "metadata": {},
   "outputs": [],
   "source": [
    "mp.MpConfigFile().view_settings()"
   ]
  },
  {
   "cell_type": "code",
   "execution_count": null,
   "metadata": {},
   "outputs": [],
   "source": [
    "# test\n",
    "ti_settings = mp.settings.settings[\"TIProviders\"]\n",
    "assert \"VirusTotal\" in ti_settings\n",
    "\n",
    "assert ti_settings[\"VirusTotal\"][\"Primary\"]\n",
    "assert ti_settings[\"VirusTotal\"][\"Provider\"] == \"VirusTotal\"\n",
    "assert \"AuthKey\" in ti_settings[\"VirusTotal\"][\"Args\"]\n"
   ]
  },
  {
   "cell_type": "markdown",
   "metadata": {},
   "source": [
    "Settings for TI Providers should look like this\n",
    "```\n",
    "'TIProviders': {'TorExitNodes': {'Primary': True, 'Provider': 'Tor'},\n",
    "                 'VirusTotal': {'Args': {'AuthKey': '[YOUR VT API KEY]',\n",
    "                                         'UseVT3PrivateAPI': False},\n",
    "                                'Primary': True,\n",
    "                                'Provider': 'VirusTotal'}}}\n",
    "```"
   ]
  },
  {
   "cell_type": "code",
   "execution_count": null,
   "metadata": {},
   "outputs": [],
   "source": [
    "# Test\n",
    "\n",
    "mp.TILookup().lookup_iocs([\"54.69.246.204\"])\n"
   ]
  },
  {
   "cell_type": "markdown",
   "metadata": {},
   "source": [
    "## Alternatives to storing keys\n",
    "- You can use the **EnvironmentVar** option to store secrets in environment variables\n",
    "- You can upload secrets to KeyVault and use them from there.\n",
    "- You need to configure settings of your vault on the Key Vault tab to do this.\n",
    "- You can use KeyRing on supported platforms without Key Vault backing (message me for details on this)\n",
    "\n",
    "Default Key Vault secret names are built from the path of the value. E.g.:\n",
    "```\n",
    "    TIProviders-VirusTotal-Args-AuthKey\n",
    "```\n",
    "\n",
    "If you have a secret already in a Key Vault, uncheck `Def KV Path` and\n",
    "type the name of your secret. \n",
    "\n",
    "You can also specify `Vaultname/Secretname` to \n",
    "us a secret from a named Vault rather than the default."
   ]
  },
  {
   "cell_type": "markdown",
   "metadata": {},
   "source": [
    "## <a style=\"border: solid; padding:5pt; color:black; background-color:#309030\">Task 4 - Add a GeoIP Provider</a>\n",
    "\n",
    "1. Use the GeoIP Providers tab\n",
    "2. Add an entry for GeoIPLite\n",
    "   - AuthKey: *your_auth_key*\n",
    "   - DBFolder:  `./.msticpy`\n",
    "3. Save settings\n",
    "4. View settings\n",
    "5. Test that the settings work\n"
   ]
  },
  {
   "cell_type": "code",
   "execution_count": null,
   "metadata": {},
   "outputs": [],
   "source": [
    "# configure\n",
    "mp.MpConfigEdit()"
   ]
  },
  {
   "cell_type": "code",
   "execution_count": null,
   "metadata": {},
   "outputs": [],
   "source": [
    "mp.MpConfigFile().view_settings()"
   ]
  },
  {
   "cell_type": "markdown",
   "metadata": {},
   "source": [
    "Settings for OtherProviders should look like this\n",
    "```\n",
    "'OtherProviders': {'GeoIPLite': {'Args': {'AuthKey': 'YOUR_GEO_LITE_KEY',\n",
    "                                           'DBFolder': './.msticpy'},\n",
    "                                  'Provider': 'GeoLiteLookup'}},\n",
    "```"
   ]
  },
  {
   "cell_type": "code",
   "execution_count": null,
   "metadata": {},
   "outputs": [],
   "source": [
    "# Test\n",
    "\n",
    "IpAddress.geoloc(\"174.34.43.21\")"
   ]
  },
  {
   "cell_type": "markdown",
   "metadata": {},
   "source": [
    "## <a style=\"border: solid; padding:5pt; color:black; background-color:#309030\">Task 5 - Confirm Azure Settings</a>\n",
    "\n",
    "1. Use the Azure tab\n",
    "2. Confirm cloud is set to global (or change it to this)\n",
    "3. Confirm msi, cli and devicecode are selected\n"
   ]
  },
  {
   "cell_type": "code",
   "execution_count": null,
   "metadata": {},
   "outputs": [],
   "source": [
    "# configure\n",
    "mp.MpConfigEdit()"
   ]
  },
  {
   "cell_type": "code",
   "execution_count": null,
   "metadata": {},
   "outputs": [],
   "source": [
    "mp.MpConfigFile().view_settings()"
   ]
  },
  {
   "cell_type": "code",
   "execution_count": null,
   "metadata": {},
   "outputs": [],
   "source": [
    "# test\n",
    "az_settings = mp.settings.settings[\"Azure\"]\n",
    "\n",
    "assert az_settings[\"cloud\"] == \"global\"\n",
    "assert all(meth in az_settings[\"auth_methods\"] for meth in ['cli', 'msi', 'devicecode'])\n"
   ]
  },
  {
   "cell_type": "markdown",
   "metadata": {},
   "source": [
    "Settings for Azure section should look like this:\n",
    "```\n",
    "{'Azure': {'auth_methods': ['cli', 'msi', 'devicecode'], 'cloud': 'global'},\n",
    "```"
   ]
  },
  {
   "cell_type": "markdown",
   "metadata": {},
   "source": [
    "---\n",
    "\n",
    "# <a style=\"border: solid; padding:5pt; color:black; background-color:#909090\">Finding your msticpyconfig.yaml</a>\n",
    "\n",
    "---\n",
    "\n",
    "MSTICPy uses the following to find a configuration file:\n",
    "- If you specify a path using the `MSTICPYCONFIG` environment variable, it will use that\n",
    "- If you have a msticpyconfig.yaml in ~/.msticpy, it will use that.\n",
    "  <br>Note: - this is $HOME/.msticpy on Linux/Mac and %UserProfile%/.msticpy on Windows\n",
    "\n",
    "- If there is a msticpyconfig.yaml in the current directory, it will use that\n",
    "\n",
    "- If you specify a path using the `config` parameter of `init_notebook`, it will use that\n",
    "  and override all of the above.\n",
    "\n",
    "---\n",
    "\n",
    "You can run without a config file but you will get warnings. \n",
    "<br>\n",
    "\n",
    "You can supply\n",
    "keys, connection strings, etc. to most components when you initialize them but...\n",
    "#### ... who wants to do that?\n"
   ]
  },
  {
   "cell_type": "markdown",
   "metadata": {},
   "source": [
    "---\n",
    "\n",
    "# <a style=\"border: solid; padding:5pt; color:black; background-color:#909090\">Appendix - Sample msticpyconfig.yaml</a>\n",
    "\n",
    "---\n",
    "\n",
    "```yaml\n",
    "Azure:\n",
    "  auth_methods:\n",
    "  - cli\n",
    "  - interactive\n",
    "  cloud: global\n",
    "AzureSentinel:\n",
    "  Workspaces:\n",
    "    MainWorkspace: &id001\n",
    "      ResourceGroup: <ResGroup>\n",
    "      SubscriptionId: <subscription-guid>\n",
    "      TenantId: <tenant-guid>\n",
    "      WorkspaceId: <workspace-guid>\n",
    "      WorkspaceName: <ws-name>\n",
    "    Default: *id001\n",
    "    OtherWorkspace:\n",
    "      ResourceGroup: ResGroup\n",
    "      SubscriptionId: <subscription-guid>\n",
    "      TenantId: <tenant-guid>\n",
    "      WorkspaceId: <workspace-guid>\n",
    "      WorkspaceName: <ws-name>\n",
    "DataProviders:\n",
    "  Kusto-ABC:\n",
    "    Args:\n",
    "      Cluster: <cluster-url>\n",
    "      IntegratedAuth: true\n",
    "  Kusto-XYZ:\n",
    "    Args:\n",
    "      Cluster: <cluster-url>\n",
    "      IntegratedAuth: true\n",
    "  MicrosoftDefender:\n",
    "    Args:\n",
    "      ClientId: <client-guid>\n",
    "      ClientSecret:\n",
    "        KeyVault: null\n",
    "      TenantId: <tenant-guid>\n",
    "  MicrosoftGraph:\n",
    "    Args:\n",
    "      ClientId: <client-guid>\n",
    "      ClientSecret:\n",
    "        KeyVault: null\n",
    "      TenantId: <tenant-guid>\n",
    "  Mordor:\n",
    "    save_folder: ~/.msticpy/mordor\n",
    "    use_cached: true\n",
    "KeyVault:\n",
    "  Authority: global\n",
    "  AzureRegion: East US\n",
    "  ResourceGroup: <ResGroup>\n",
    "  SubscriptionId: <subscription-guid>\n",
    "  TenantId: <tenant-guid>\n",
    "  UseKeyring: false\n",
    "  VaultName: <name>\n",
    "OtherProviders:\n",
    "  GeoIPLite:\n",
    "    Args:\n",
    "      AuthKey:\n",
    "        KeyVault: null\n",
    "      DBFolder: ~/.msticpy\n",
    "    Provider: GeoLiteLookup\n",
    "  IPStack:\n",
    "    Args:\n",
    "      AuthKey:\n",
    "        KeyVault: null\n",
    "    Provider: IPStackLookup\n",
    "TIProviders:\n",
    "  GreyNoise:\n",
    "    Args:\n",
    "      AuthKey:\n",
    "        KeyVault: null\n",
    "    Primary: true\n",
    "    Provider: GreyNoise\n",
    "  OTX:\n",
    "    Args:\n",
    "      AuthKey:\n",
    "        KeyVault: null\n",
    "    Primary: true\n",
    "    Provider: OTX\n",
    "  OpenPageRank:\n",
    "    Args:\n",
    "      AuthKey:\n",
    "        KeyVault: null\n",
    "    Primary: true\n",
    "    Provider: OPR\n",
    "  RiskIQ:\n",
    "    Args:\n",
    "      ApiID: \n",
    "      AuthKey:\n",
    "        KeyVault: null\n",
    "    Primary: true\n",
    "    Provider: RiskIQ\n",
    "  TorExitNodes:\n",
    "    Primary: true\n",
    "    Provider: Tor\n",
    "  VirusTotal:\n",
    "    Args:\n",
    "      AuthKey:\n",
    "        KeyVault: null\n",
    "    Primary: true\n",
    "    Provider: VirusTotal\n",
    "  XForce:\n",
    "    Args:\n",
    "      ApiID:\n",
    "        KeyVault: null\n",
    "      AuthKey:\n",
    "        KeyVault: null\n",
    "    Primary: true\n",
    "    Provider: XForce\n",
    "```"
   ]
  }
 ],
 "metadata": {
  "kernelspec": {
   "display_name": "msticpy_training",
   "language": "python",
   "name": "python3"
  },
  "language_info": {
   "codemirror_mode": {
    "name": "ipython",
    "version": 3
   },
   "file_extension": ".py",
   "mimetype": "text/x-python",
   "name": "python",
   "nbconvert_exporter": "python",
   "pygments_lexer": "ipython3",
   "version": "3.8.13 (default, Oct 19 2022, 22:38:03) [MSC v.1916 64 bit (AMD64)]"
  },
  "orig_nbformat": 4,
  "vscode": {
   "interpreter": {
    "hash": "6095bcd1f13cf4183aa2ae0e347c65ea7e7069a537781621e1c72af4eaf1e436"
   }
  }
 },
 "nbformat": 4,
 "nbformat_minor": 2
}
