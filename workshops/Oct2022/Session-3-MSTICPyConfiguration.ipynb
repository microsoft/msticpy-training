{
 "cells": [
  {
   "cell_type": "markdown",
   "metadata": {},
   "source": [
    "## MSTICPy and Notebooks in InfoSec\n",
    "\n",
    "---\n",
    "\n",
    "# Session 3 - MSTICPy Configuration\n",
    "\n",
    "---\n",
    "\n",
    "## What this session covers:\n",
    "\n",
    "\n",
    "## Prerequisites\n",
    "- Python >= 3.8 Environment\n",
    "- Jupyter installed\n",
    "- MSTICPy installed\n",
    "- Azure CLI installed\n",
    "- Run `az login`\n"
   ]
  },
  {
   "cell_type": "code",
   "execution_count": 1,
   "metadata": {},
   "outputs": [
    {
     "name": "stdout",
     "output_type": "stream",
     "text": [
      "env: MSTICPYCONFIG=./msticpyconfig.yaml\n"
     ]
    },
    {
     "data": {
      "text/html": [
       "\n",
       "This product includes GeoLite2 data created by MaxMind, available from\n",
       "<a href=\"https://www.maxmind.com\">https://www.maxmind.com</a>.\n"
      ],
      "text/plain": [
       "<IPython.core.display.HTML object>"
      ]
     },
     "metadata": {},
     "output_type": "display_data"
    },
    {
     "data": {
      "text/html": [
       "\n",
       "This library uses services provided by ipstack.\n",
       "<a href=\"https://ipstack.com\">https://ipstack.com</a>"
      ],
      "text/plain": [
       "<IPython.core.display.HTML object>"
      ]
     },
     "metadata": {},
     "output_type": "display_data"
    },
    {
     "data": {
      "text/html": [
       "<p style=''><font color='orange'><h3>Notebook setup completed with some warnings.</h3></p>"
      ],
      "text/plain": [
       "<IPython.core.display.HTML object>"
      ]
     },
     "metadata": {},
     "output_type": "display_data"
    },
    {
     "data": {
      "text/html": [
       "<p style=''>One or more configuration items were missing or set incorrectly.</p>"
      ],
      "text/plain": [
       "<IPython.core.display.HTML object>"
      ]
     },
     "metadata": {},
     "output_type": "display_data"
    },
    {
     "data": {
      "text/html": [
       "<p style=''>Please run the <i>Getting Started Guide for Azure Sentinel ML Notebooks</i> notebook. and the <a href='https://msticpy.readthedocs.io/en/latest/getting_started/msticpyconfig.html'>msticpy configuration guide</a>.</p>"
      ],
      "text/plain": [
       "<IPython.core.display.HTML object>"
      ]
     },
     "metadata": {},
     "output_type": "display_data"
    },
    {
     "data": {
      "text/html": [
       "<p style=''>This notebook may still run but with reduced functionality.</p>"
      ],
      "text/plain": [
       "<IPython.core.display.HTML object>"
      ]
     },
     "metadata": {},
     "output_type": "display_data"
    }
   ],
   "source": [
    "%env MSTICPYCONFIG=./msticpyconfig.yaml\n",
    "\n",
    "import msticpy as mp\n",
    "mp.init_notebook()"
   ]
  },
  {
   "cell_type": "markdown",
   "metadata": {},
   "source": [
    "## 1. msticpyconfig.yaml structure\n",
    "\n",
    "```yaml\n",
    "Azure:\n",
    "  auth_methods: [cli, msi, devicecode]\n",
    "  cloud: global\n",
    "AzureSentinel:\n",
    "  # Sentinel workspace configuration\n",
    "  Workspaces:\n",
    "    Workspace_Tag:\n",
    "      # workspace ID, tenant, ext\n",
    "    Workspace2_Tag::\n",
    "      # ...\n",
    "DataProviders:\n",
    "  # Miscellaneous Data providers\n",
    "  Browshot:\n",
    "    Args:\n",
    "      # AuthKey: [PLACHOLDER]\n",
    "  Kusto-MDE:\n",
    "    Args:\n",
    "      # Cluster: https://wcdscrubbedservice.kusto.windows.net\n",
    "      # IntegratedAuth: true\n",
    "TIProviders:\n",
    "  RiskIQ:\n",
    "    Args:\n",
    "      ApiID: ianhelle@microsoft.com\n",
    "      AuthKey:\n",
    "        KeyVault: null\n",
    "    Primary: true\n",
    "    Provider: RiskIQ\n",
    "  TorExitNodes:\n",
    "    Primary: true\n",
    "    Provider: Tor\n",
    "  VirusTotal:\n",
    "    Args:\n",
    "      AuthKey:\n",
    "        KeyVault: null\n",
    "    Primary: true\n",
    "    Provider: VirusTotal\n",
    "OtherProviders:\n",
    "  # GeoIP providers - should be in DataProviders!\n",
    "  GeoIPLite:\n",
    "    Args:\n",
    "      AuthKey:\n",
    "        KeyVault: null\n",
    "      DBFolder: ~/.msticpy\n",
    "    Provider: GeoLiteLookup\n",
    "\n",
    "KeyVault:\n",
    "  # Optional - KV tenant, sub, vault name\n",
    "\n",
    "```"
   ]
  },
  {
   "cell_type": "code",
   "execution_count": 2,
   "metadata": {},
   "outputs": [
    {
     "data": {
      "text/plain": [
       "{'msticpy': {'FriendlyExceptions': True},\n",
       " 'QueryDefinitions': {'Default': ['queries'], 'Custom': ['./data']},\n",
       " 'Azure': {'auth_methods': ['cli', 'msi', 'devicecode'], 'cloud': 'global'},\n",
       " 'AzureSentinel': {'Workspaces': None},\n",
       " 'TIProviders': {'TorExitNodes': {'Primary': True, 'Provider': 'Tor'}},\n",
       " 'DataProviders': {}}"
      ]
     },
     "execution_count": 2,
     "metadata": {},
     "output_type": "execute_result"
    }
   ],
   "source": [
    "mp.settings.settings"
   ]
  },
  {
   "cell_type": "markdown",
   "metadata": {},
   "source": [
    "## 2. Settings Tools - MpConfigFile and MpConfigEdit\n",
    "\n",
    "### MpConfigFile - settings utilities interactive and command line"
   ]
  },
  {
   "cell_type": "code",
   "execution_count": 3,
   "metadata": {},
   "outputs": [
    {
     "data": {
      "application/vnd.jupyter.widget-view+json": {
       "model_id": "f3a06c8c9a4b483b9a59ddbb446519c0",
       "version_major": 2,
       "version_minor": 0
      },
      "text/plain": [
       "VBox(children=(HTML(value='<h3>MSTICPy settings</h3>'), VBox(children=(VBox(children=(Label(value='Operations'…"
      ]
     },
     "metadata": {},
     "output_type": "display_data"
    }
   ],
   "source": [
    "mp.MpConfigFile()"
   ]
  },
  {
   "cell_type": "code",
   "execution_count": 10,
   "metadata": {},
   "outputs": [
    {
     "data": {
      "application/vnd.jupyter.widget-view+json": {
       "model_id": "6cd539abd2234892af34c46578b85044",
       "version_major": 2,
       "version_minor": 0
      },
      "text/plain": [
       "VBox(children=(Textarea(value=\"{'Azure': {'auth_methods': ['cli', 'msi', 'devicecode'], 'cloud': 'global'},\\n …"
      ]
     },
     "metadata": {},
     "output_type": "display_data"
    }
   ],
   "source": [
    "mp.MpConfigFile().view_settings()"
   ]
  },
  {
   "cell_type": "markdown",
   "metadata": {},
   "source": [
    "### MpConfigEdit - interactive settings editor"
   ]
  },
  {
   "cell_type": "code",
   "execution_count": 4,
   "metadata": {},
   "outputs": [
    {
     "data": {
      "text/plain": [
       "AzCredentials(legacy=<msticpy.auth.cred_wrapper.CredentialWrapper object at 0x000002967FFC03A0>, modern=<azure.identity._credentials.chained.ChainedTokenCredential object at 0x000002967FFB1D60>)"
      ]
     },
     "execution_count": 4,
     "metadata": {},
     "output_type": "execute_result"
    }
   ],
   "source": [
    "mp.az_connect()"
   ]
  },
  {
   "cell_type": "code",
   "execution_count": 5,
   "metadata": {},
   "outputs": [
    {
     "data": {
      "application/vnd.jupyter.widget-view+json": {
       "model_id": "d05e5eb2c11c47b3922620e8878a27be",
       "version_major": 2,
       "version_minor": 0
      },
      "text/plain": [
       "Label(value='Loading. Please wait.')"
      ]
     },
     "metadata": {},
     "output_type": "display_data"
    },
    {
     "data": {
      "application/vnd.jupyter.widget-view+json": {
       "model_id": "7fa3675211344ca3b1525c71ea8d2b80",
       "version_major": 2,
       "version_minor": 0
      },
      "text/plain": [
       "VBox(children=(Tab(children=(VBox(children=(Label(value='Microsoft Sentinel workspace settings'), HBox(childre…"
      ]
     },
     "metadata": {},
     "output_type": "display_data"
    },
    {
     "name": "stdout",
     "output_type": "stream",
     "text": [
      "Connected\n"
     ]
    },
    {
     "ename": "StopIteration",
     "evalue": "",
     "output_type": "error",
     "traceback": [
      "\u001b[1;31m---------------------------------------------------------------------------\u001b[0m",
      "\u001b[1;31mStopIteration\u001b[0m                             Traceback (most recent call last)",
      "\u001b[1;32me:\\src\\msticpy\\msticpy\\config\\ce_azure_sentinel.py\u001b[0m in \u001b[0;36m_resolve_settings\u001b[1;34m(***failed resolving arguments***)\u001b[0m\n\u001b[0;32m    246\u001b[0m             \u001b[1;32mreturn\u001b[0m\u001b[1;33m\u001b[0m\u001b[1;33m\u001b[0m\u001b[0m\n\u001b[0;32m    247\u001b[0m         \u001b[1;32mif\u001b[0m \u001b[0mworkspace_id\u001b[0m\u001b[1;33m:\u001b[0m\u001b[1;33m\u001b[0m\u001b[1;33m\u001b[0m\u001b[0m\n\u001b[1;32m--> 248\u001b[1;33m             self._update_settings(\n\u001b[0m\u001b[0;32m    249\u001b[0m                 \u001b[0mMicrosoftSentinel\u001b[0m\u001b[1;33m.\u001b[0m\u001b[0mget_workspace_settings\u001b[0m\u001b[1;33m(\u001b[0m\u001b[0mworkspace_id\u001b[0m\u001b[1;33m=\u001b[0m\u001b[0mworkspace_id\u001b[0m\u001b[1;33m)\u001b[0m\u001b[1;33m\u001b[0m\u001b[1;33m\u001b[0m\u001b[0m\n\u001b[0;32m    250\u001b[0m             )\n",
      "\u001b[1;32me:\\src\\msticpy\\msticpy\\config\\ce_azure_sentinel.py\u001b[0m in \u001b[0;36m_update_settings\u001b[1;34m(self, ws_settings)\u001b[0m\n\u001b[0;32m    227\u001b[0m         \u001b[0m_get_named_control\u001b[0m\u001b[1;33m(\u001b[0m\u001b[0mself\u001b[0m\u001b[1;33m.\u001b[0m\u001b[0medit_ctrls\u001b[0m\u001b[1;33m,\u001b[0m \u001b[1;34m\"Name\"\u001b[0m\u001b[1;33m)\u001b[0m\u001b[1;33m.\u001b[0m\u001b[0mvalue\u001b[0m \u001b[1;33m=\u001b[0m \u001b[0mws_name\u001b[0m\u001b[1;33m\u001b[0m\u001b[1;33m\u001b[0m\u001b[0m\n\u001b[0;32m    228\u001b[0m         \u001b[1;32mfor\u001b[0m \u001b[0msetting\u001b[0m\u001b[1;33m,\u001b[0m \u001b[0mvalue\u001b[0m \u001b[1;32min\u001b[0m \u001b[0mws_settings\u001b[0m\u001b[1;33m[\u001b[0m\u001b[0mws_name\u001b[0m\u001b[1;33m]\u001b[0m\u001b[1;33m.\u001b[0m\u001b[0mitems\u001b[0m\u001b[1;33m(\u001b[0m\u001b[1;33m)\u001b[0m\u001b[1;33m:\u001b[0m\u001b[1;33m\u001b[0m\u001b[1;33m\u001b[0m\u001b[0m\n\u001b[1;32m--> 229\u001b[1;33m             \u001b[0mctrl\u001b[0m \u001b[1;33m=\u001b[0m \u001b[0m_get_named_control\u001b[0m\u001b[1;33m(\u001b[0m\u001b[0mself\u001b[0m\u001b[1;33m.\u001b[0m\u001b[0medit_ctrls\u001b[0m\u001b[1;33m,\u001b[0m \u001b[0msetting\u001b[0m\u001b[1;33m)\u001b[0m\u001b[1;33m\u001b[0m\u001b[1;33m\u001b[0m\u001b[0m\n\u001b[0m\u001b[0;32m    230\u001b[0m             \u001b[1;32mif\u001b[0m \u001b[0mctrl\u001b[0m\u001b[1;33m.\u001b[0m\u001b[0mvalue\u001b[0m\u001b[1;33m:\u001b[0m\u001b[1;33m\u001b[0m\u001b[1;33m\u001b[0m\u001b[0m\n\u001b[0;32m    231\u001b[0m                 \u001b[1;31m# don't overwrite existing settings\u001b[0m\u001b[1;33m\u001b[0m\u001b[1;33m\u001b[0m\u001b[0m\n",
      "\u001b[1;32me:\\src\\msticpy\\msticpy\\config\\ce_azure_sentinel.py\u001b[0m in \u001b[0;36m_get_named_control\u001b[1;34m(edit_ctrls, name)\u001b[0m\n\u001b[0;32m    288\u001b[0m \u001b[1;32mdef\u001b[0m \u001b[0m_get_named_control\u001b[0m\u001b[1;33m(\u001b[0m\u001b[0medit_ctrls\u001b[0m\u001b[1;33m,\u001b[0m \u001b[0mname\u001b[0m\u001b[1;33m)\u001b[0m\u001b[1;33m:\u001b[0m\u001b[1;33m\u001b[0m\u001b[1;33m\u001b[0m\u001b[0m\n\u001b[0;32m    289\u001b[0m     \u001b[1;34m\"\"\"Get the control with matching name.\"\"\"\u001b[0m\u001b[1;33m\u001b[0m\u001b[1;33m\u001b[0m\u001b[0m\n\u001b[1;32m--> 290\u001b[1;33m     \u001b[1;32mreturn\u001b[0m \u001b[0mnext\u001b[0m\u001b[1;33m(\u001b[0m\u001b[0mctrl\u001b[0m \u001b[1;32mfor\u001b[0m \u001b[0mctrl\u001b[0m \u001b[1;32min\u001b[0m \u001b[0medit_ctrls\u001b[0m\u001b[1;33m.\u001b[0m\u001b[0mchildren\u001b[0m \u001b[1;32mif\u001b[0m \u001b[0mctrl\u001b[0m\u001b[1;33m.\u001b[0m\u001b[0mdescription\u001b[0m \u001b[1;33m==\u001b[0m \u001b[0mname\u001b[0m\u001b[1;33m)\u001b[0m\u001b[1;33m\u001b[0m\u001b[1;33m\u001b[0m\u001b[0m\n\u001b[0m\u001b[0;32m    291\u001b[0m \u001b[1;33m\u001b[0m\u001b[0m\n\u001b[0;32m    292\u001b[0m \u001b[1;33m\u001b[0m\u001b[0m\n",
      "\u001b[1;31mStopIteration\u001b[0m: "
     ]
    }
   ],
   "source": [
    "mp.MpConfigEdit()"
   ]
  },
  {
   "cell_type": "markdown",
   "metadata": {},
   "source": [
    "## Task 1 - Add a Microsoft Sentinel Workspace\n",
    "\n",
    "1. Add a new workspace with the following values\n",
    "    - WorkspaceID: 8ecf8077-cf51-4820-aadd-14040956f35d\n",
    "    - TenantId: 72f988bf-86f1-41af-91ab-2d7cd011db47\n",
    "\n",
    "2. Resolve all settings for the workspace\n",
    "3. Set it as the Default Workspace\n",
    "4. Update and Save Settings\n",
    "5. Verify Settings have been re-read"
   ]
  },
  {
   "cell_type": "code",
   "execution_count": 6,
   "metadata": {},
   "outputs": [
    {
     "data": {
      "application/vnd.jupyter.widget-view+json": {
       "model_id": "600c433cf510477284616c9bd265fe59",
       "version_major": 2,
       "version_minor": 0
      },
      "text/plain": [
       "VBox(children=(Textarea(value=\"{'Azure': {'auth_methods': ['cli', 'msi', 'devicecode'], 'cloud': 'global'},\\n …"
      ]
     },
     "metadata": {},
     "output_type": "display_data"
    }
   ],
   "source": [
    "mp.MpConfigFile().view_settings()"
   ]
  },
  {
   "cell_type": "markdown",
   "metadata": {},
   "source": [
    "## Appendix - Sample msticpyconfig.yaml\n",
    "\n",
    "```yaml\n",
    "Azure:\n",
    "  auth_methods:\n",
    "  - cli\n",
    "  - interactive\n",
    "  cloud: global\n",
    "AzureSentinel:\n",
    "  Workspaces:\n",
    "    ASIHuntOMSWorkspaceV4:\n",
    "      ResourceGroup: asihuntomsworkspacerg\n",
    "      SubscriptionId: 40dcc8bf-0478-4f3b-b275-ed0a94f2c013\n",
    "      TenantId: 72f988bf-86f1-41af-91ab-2d7cd011db47\n",
    "      Workspace Name: ASIHuntOMSWorkspaceV4\n",
    "      WorkspaceId: 52b1ab41-869e-4138-9e40-2a4457f09bf0\n",
    "    CCIS:\n",
    "      TenantId: 72f988bf-86f1-41af-91ab-2d7cd011db47\n",
    "      WorkspaceId: d2a20a39-c646-4783-a490-59899e3a6591\n",
    "    Centrica:\n",
    "      TenantId: 72f988bf-86f1-41af-91ab-2d7cd011db47\n",
    "      WorkspaceId: 1ab17267-66c0-473e-8a80-da21cc7a0828\n",
    "    CyberSecuritySoc:\n",
    "      ResourceGroup: soc\n",
    "      SubscriptionId: d1d8779d-38d7-4f06-91db-9cbc8de0176f\n",
    "      TenantId: 72f988bf-86f1-41af-91ab-2d7cd011db47\n",
    "      Workspace Name: CyberSecuritySOC\n",
    "      WorkspaceId: 8ecf8077-cf51-4820-aadd-14040956f35d\n",
    "    Default:\n",
    "      ResourceGroup: soc\n",
    "      SubscriptionId: d1d8779d-38d7-4f06-91db-9cbc8de0176f\n",
    "      TenantId: 72f988bf-86f1-41af-91ab-2d7cd011db47\n",
    "      WorkspaceId: 8ecf8077-cf51-4820-aadd-14040956f35d\n",
    "    GovCyberSecuritySOC:\n",
    "      ResourceGroup: USGov Arizona\n",
    "      SubscriptionId: 04110ca7-4fe3-4c2d-9ff7-23aa92b86c79\n",
    "      TenantId: 61611e58-abbd-4826-9d63-f23b5a919686\n",
    "      WorkspaceId: b6834116-d716-4ac6-8c37-586faaf66d01\n",
    "    NationalGrid:\n",
    "      SubscriptionId: 74d15849-ba7b-4be6-8ba1-330a178ba88d\n",
    "      TenantId: 72f988bf-86f1-41af-91ab-2d7cd011db47\n",
    "      WorkspaceId: affed4b9-3762-4cba-8826-d1bf7e515771\n",
    "      WorkspaceName: ng-pd-eus-claw-01\n",
    "    RedmondSentinelDemoEnvironment:\n",
    "      TenantId: 35a9e601-82db-42da-b521-efc4a2f6783c\n",
    "      WorkspaceId: a927809c-8142-43e1-96b3-4ad87cfe95a3\n",
    "DataProviders:\n",
    "  Kusto-MDE:\n",
    "    Args:\n",
    "      Cluster: https://wcdscrubbedservice.kusto.windows.net\n",
    "      IntegratedAuth: true\n",
    "  Kusto-MSTICTI:\n",
    "    Args:\n",
    "      Cluster: https://msticti.kusto.windows.net\n",
    "      IntegratedAuth: true\n",
    "  MicrosoftDefender:\n",
    "    Args:\n",
    "      ClientId: 66b9818a-26cd-4584-8eb0-7f7a499242aa\n",
    "      ClientSecret:\n",
    "        KeyVault: null\n",
    "      TenantId: 8360dd21-0294-4240-9128-89611f415c53\n",
    "  MicrosoftGraph:\n",
    "    Args:\n",
    "      ClientId: 66b9818a-26cd-4584-8eb0-7f7a499242aa\n",
    "      ClientSecret:\n",
    "        KeyVault: null\n",
    "      TenantId: 8360dd21-0294-4240-9128-89611f415c53\n",
    "  Mordor:\n",
    "    save_folder: ~/.msticpy/mordor\n",
    "    use_cached: true\n",
    "KeyVault:\n",
    "  Authority: global\n",
    "  AzureRegion: East US\n",
    "  ResourceGroup: ASIHuntOMSWorkspaceRG\n",
    "  SubscriptionId: 40dcc8bf-0478-4f3b-b275-ed0a94f2c013\n",
    "  TenantId: 72f988bf-86f1-41af-91ab-2d7cd011db47\n",
    "  UseKeyring: false\n",
    "  VaultName: mstic-ianhelle\n",
    "OtherProviders:\n",
    "  GeoIPLite:\n",
    "    Args:\n",
    "      AuthKey:\n",
    "        KeyVault: null\n",
    "      DBFolder: ~/.msticpy\n",
    "    Provider: GeoLiteLookup\n",
    "  IPStack:\n",
    "    Args:\n",
    "      AuthKey:\n",
    "        KeyVault: null\n",
    "    Provider: IPStackLookup\n",
    "TIProviders:\n",
    "  GreyNoise:\n",
    "    Args:\n",
    "      AuthKey:\n",
    "        KeyVault: null\n",
    "    Primary: true\n",
    "    Provider: GreyNoise\n",
    "  OTX:\n",
    "    Args:\n",
    "      AuthKey:\n",
    "        KeyVault: null\n",
    "    Primary: true\n",
    "    Provider: OTX\n",
    "  OpenPageRank:\n",
    "    Args:\n",
    "      AuthKey:\n",
    "        KeyVault: null\n",
    "    Primary: true\n",
    "    Provider: OPR\n",
    "  RiskIQ:\n",
    "    Args:\n",
    "      ApiID: ianhelle@microsoft.com\n",
    "      AuthKey:\n",
    "        KeyVault: null\n",
    "    Primary: true\n",
    "    Provider: RiskIQ\n",
    "  TorExitNodes:\n",
    "    Primary: true\n",
    "    Provider: Tor\n",
    "  VirusTotal:\n",
    "    Args:\n",
    "      AuthKey:\n",
    "        KeyVault: null\n",
    "    Primary: true\n",
    "    Provider: VirusTotal\n",
    "  XForce:\n",
    "    Args:\n",
    "      ApiID:\n",
    "        KeyVault: null\n",
    "      AuthKey:\n",
    "        KeyVault: null\n",
    "    Primary: true\n",
    "    Provider: XForce\n",
    "```"
   ]
  },
  {
   "cell_type": "markdown",
   "metadata": {},
   "source": [
    "# Bugs\n",
    "\n",
    "## MpConfigEdit\n",
    "```python\n",
    "---------------------------------------------------------------------------\n",
    "StopIteration                             Traceback (most recent call last)\n",
    "e:\\src\\msticpy\\msticpy\\config\\ce_azure_sentinel.py in _resolve_settings(***failed resolving arguments***)\n",
    "    246             return\n",
    "    247         if workspace_id:\n",
    "--> 248             self._update_settings(\n",
    "    249                 MicrosoftSentinel.get_workspace_settings(workspace_id=workspace_id)\n",
    "    250             )\n",
    "\n",
    "e:\\src\\msticpy\\msticpy\\config\\ce_azure_sentinel.py in _update_settings(self, ws_settings)\n",
    "    227         _get_named_control(self.edit_ctrls, \"Name\").value = ws_name\n",
    "    228         for setting, value in ws_settings[ws_name].items():\n",
    "--> 229             ctrl = _get_named_control(self.edit_ctrls, setting)\n",
    "    230             if ctrl.value:\n",
    "    231                 # don't overwrite existing settings\n",
    "\n",
    "e:\\src\\msticpy\\msticpy\\config\\ce_azure_sentinel.py in _get_named_control(edit_ctrls, name)\n",
    "    288 def _get_named_control(edit_ctrls, name):\n",
    "    289     \"\"\"Get the control with matching name.\"\"\"\n",
    "--> 290     return next(ctrl for ctrl in edit_ctrls.children if ctrl.description == name)\n",
    "    291 \n",
    "    292 \n",
    "\n",
    "StopIteration: \n",
    "```"
   ]
  }
 ],
 "metadata": {
  "kernelspec": {
   "display_name": "Python 3.9.7 ('msticpy')",
   "language": "python",
   "name": "python3"
  },
  "language_info": {
   "codemirror_mode": {
    "name": "ipython",
    "version": 3
   },
   "file_extension": ".py",
   "mimetype": "text/x-python",
   "name": "python",
   "nbconvert_exporter": "python",
   "pygments_lexer": "ipython3",
   "version": "3.9.7"
  },
  "orig_nbformat": 4,
  "vscode": {
   "interpreter": {
    "hash": "0f1a8e166ce5c1ec1911a36e4fdbd34b2f623e2a3442791008b8ac429a1d6070"
   }
  }
 },
 "nbformat": 4,
 "nbformat_minor": 2
}
