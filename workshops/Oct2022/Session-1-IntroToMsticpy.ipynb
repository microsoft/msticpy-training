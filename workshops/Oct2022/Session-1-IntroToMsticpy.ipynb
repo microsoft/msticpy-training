{
 "cells": [
  {
   "cell_type": "markdown",
   "metadata": {},
   "source": [
    "## MSTICPy and Notebooks in InfoSec\n",
    "\n",
    "---\n",
    "\n",
    "# <a style=\"border: solid; padding:5pt; color:black; background-color:#909090\">Session 1 - Introduction to Notebooks & MSTICPy</a>\n",
    "\n",
    "---\n",
    "\n",
    "## What this session covers:\n",
    " - Basics of Jupyter Notebooks\n",
    " - MSTICPy Installation\n",
    " - MSTICPy Basics\n",
    " - Some MSTICPy features\n",
    "\n",
    "## Prerequisites\n",
    "- Python >= 3.8 Environment\n",
    "- Jupyter installed\n",
    "- MSTICPy\n",
    "- The msticpyconfig.yaml file from the training repo    \n"
   ]
  },
  {
   "cell_type": "markdown",
   "metadata": {},
   "source": [
    "---\n",
    "\n",
    "# <a style=\"border: solid; padding:5pt; color:black; background-color:#909090\">What are Jupyter Notebooks</a>\n",
    "\n",
    "---\n",
    "\n",
    "A Jupyter Notebook is an open-source web application that allows you to create and share documents that contain live code, equations, visualizations and narrative text. \n",
    "\n",
    "A Jupyter notebook combines two components:\n",
    "\n",
    " - **A web application:** a browser-based tool for interactive authoring of documents which combine explanatory text, code, and their rich media output.\n",
    " - **Notebook documents:** a representation of all content visible in the web application, including inputs and outputs of the code, explanatory text, images, and rich media representations of objects.\n",
    "\n",
    "Uses include:\n",
    " - Data cleaning and transformation\n",
    " - Statistical modeling\n",
    " - Data visualization\n",
    " - Machine learning\n",
    " - Security investigations!\n",
    "\n",
    "Reference: https://jupyter.org/"
   ]
  },
  {
   "cell_type": "code",
   "execution_count": null,
   "metadata": {},
   "outputs": [],
   "source": [
    "our_variable = \"Hello World\"\n",
    "print(\"Welcome to our MSTICPy training\")"
   ]
  },
  {
   "cell_type": "markdown",
   "metadata": {},
   "source": [
    "Code executed in a cell will display its output below, and any variables or objects created in one cell are accessible to other cells.<br>\n",
    "These persist until the kernel is restarted."
   ]
  },
  {
   "cell_type": "code",
   "execution_count": null,
   "metadata": {},
   "outputs": [],
   "source": [
    "our_variable"
   ]
  },
  {
   "cell_type": "markdown",
   "metadata": {},
   "source": [
    "There are ways to display a wide range of content types via the IPython.display package. <br>\n",
    "These include multimedia features such as the ability to display YouTube videos."
   ]
  },
  {
   "cell_type": "code",
   "execution_count": null,
   "metadata": {},
   "outputs": [],
   "source": [
    "from IPython.display import YouTubeVideo\n",
    "\n",
    "YouTubeVideo('m3YElHwZX1U', width=1000, height=800)"
   ]
  },
  {
   "cell_type": "markdown",
   "metadata": {},
   "source": [
    "By default the last item returned in the cell is displayed. <br>\n",
    "However, if we explicitly request it we can display multiple items from a cell."
   ]
  },
  {
   "cell_type": "code",
   "execution_count": null,
   "metadata": {},
   "outputs": [],
   "source": [
    "from IPython.display import Code\n",
    "display(Code(\"print('Hello World'\"))\n",
    "print(\"This is our second output\")"
   ]
  },
  {
   "cell_type": "markdown",
   "metadata": {},
   "source": [
    "## <a style=\"border: solid; padding:5pt; color:black; background-color:#309030\">1st Exercise - Displaying Output</a>\n",
    "\n",
    "We are going to output some code and a video so far but now we are going to include a few other output types:\n",
    " - HMTL code\n",
    " - An image\n",
    "\n",
    "Write code in the cell below that output some HTML of your choosing (if you need a suggestion try `<font size=48, color=blue>Hello World!</font>`)<br>\n",
    "Display the image at https://www.microsoft.com/security/blog/wp-content/uploads/2020/07/STRONTIUM-Win17_CDOC_N15-BANNER.png\n",
    "\n",
    "Don't worry if you get stuck we will go through the answers together in a couple of minutes.\n",
    "\n",
    "<details>\n",
    "<summary>Hints...</summary>\n",
    "<ul>\n",
    "<li>You are going to need to need to use IPython.display features - <a href=\"https://ipython.readthedocs.io/en/stable/api/generated/IPython.display.html\">https://ipython.readthedocs.io/en/stable/api/generated/IPython.display.html</a></li>\n",
    "<li> Make sure you import HTML and Image from IPython.display</li>\n",
    "<li>By default the last output in a cell is displayed - if you need to display other items you need to explictly display them.</li>\n",
    "</ul>\n",
    "</details>"
   ]
  },
  {
   "cell_type": "code",
   "execution_count": null,
   "metadata": {},
   "outputs": [],
   "source": []
  },
  {
   "cell_type": "markdown",
   "metadata": {},
   "source": [
    "### How does it work?\n",
    "\n",
    "![Architecural diagram showing the relationship between users, Jupyter servers and the kernel](https://raw.githubusercontent.com/OTRF/infosec-jupyterthon/5c2dd571553ad2ae9422ff7941732ae33399b70c/workshops/2021/media/day1/jupyter-notebooks-architecture.png \"Jupyter Architecture\")\n",
    "\n",
    "\n",
    "The Jupyter server is traditionally a single user service, however services like Jupyter Hub are single services that provide servers to multiple users within a group at once.\n",
    "\n",
    "Reference: [https://jupyterhub.readthedocs.io/en/latest/reference/technical-overview.html](\"https://jupyterhub.readthedocs.io/en/latest/reference/technical-overview.html\")"
   ]
  },
  {
   "cell_type": "markdown",
   "metadata": {},
   "source": [
    "Notebooks are supported by a range of clients including:\n",
    " - VSCode (we are here!)\n",
    " - Jupyter classic\n",
    " - Jupyter Lab\n",
    "\n",
    "There are also multiple cloud hosted version of Notebooks where the client, server and kernels are provided to users as a service.\n",
    "Within Azure the primary services are:\n",
    " - [Azure Machine Learning](https://learn.microsoft.com/en-us/azure/machine-learning/overview-what-is-azure-machine-learning)\n",
    " - [Azure Synapse](https://learn.microsoft.com/en-us/azure/synapse-analytics/overview-what-is)\n",
    "\n",
    "Other cloud providers have similar services:\n",
    " - [AWS Sagemaker](https://docs.aws.amazon.com/sagemaker/latest/dg/whatis.html)\n",
    " - [Google Collab](https://colab.research.google.com/)"
   ]
  },
  {
   "cell_type": "markdown",
   "metadata": {},
   "source": [
    "### Environment Hints\n",
    "The best environment is the one that works for you but which should you pick?\n",
    "This flow diagram can help you decide:\n",
    "\n",
    "![Flow diagram to help select the right environment for your use case](media/env_flow_diagram.png \"Environment selection flow diagram\")"
   ]
  },
  {
   "cell_type": "markdown",
   "metadata": {},
   "source": [
    "---\n",
    "\n",
    "# <a style=\"border: solid; padding:5pt; color:black; background-color:#909090\">MSTICPy</a>\n",
    "\n",
    "---\n",
    "\n",
    "MSTICPy is a library for InfoSec investigation and hunting in Jupyter Notebooks. It includes functionality to:\n",
    "\n",
    " - query log data from multiple sources\n",
    " - enrich the data with Threat Intelligence, geo-locations and Azure resource data\n",
    " - extract Indicators of Activity (IoA) from logs and unpack encoded data\n",
    " - perform sophisticated analysis such as anomalous session detection and time series decomposition\n",
    " - visualize data using interactive timelines, process trees and multi-dimensional Morph Charts\n",
    "\n",
    "It also includes some time-saving notebook tools such as widgets to set query time boundaries, select and display items from lists, and configure the notebook environment.\n",
    "\n",
    "Source Code: https://github.com/microsoft/msticpy <br>\n",
    "Python Package: https://pypi.org/project/msticpy/ <br>\n",
    "Docs: https://msticpy.readthedocs.io/en/latest/"
   ]
  },
  {
   "cell_type": "markdown",
   "metadata": {},
   "source": [
    "### Installing MSTICPy\n",
    "\n",
    "MSTICPy is a library with a broad range of functionality. As such installing the whole library can be more than required for a lot of uses. As such MSTICPy has implemented a series of  Extras that allow for the installation of certain part of the library. These Extras are grouped around core technologies that you might want to use with MSTICPy.\n",
    "\n",
    "| Extra      | Functionality \n",
    "|------------|-------------------------------------------------------------|\n",
    "| --none--   | Most functionality (approx 75%) Kqlmagic Jupyter basic\n",
    "| keyvault   | Key Vault and keyring storage of settings secrets\n",
    "| azure      | Azure API data retrieval, Azure storage APIs, Sentinel APIs \n",
    "| kql        | Kqlmagic Jupyter extended functionality\n",
    "| azsentinel | Combination of core install + \"azure\", \"keyvault\", \"kql\"\n",
    "| ml         | Timeseries analysis, Event clustering, Outlier analysis\n",
    "| splunk     | Splunk data queries\n",
    "| vt3        | VirusTotal V3 graph API\n",
    "| riskiq     | RiskIQ Illuminate threat intel provider & pivot functions\n",
    "| all        | Includes all of above packages\n",
    "| dev        | Development tools plus \"base\"\n",
    "| test       | \"dev\" plus \"all\"\n",
    "\n",
    "To install a specific Extra, use the following syntax:\n",
    "`%pip install msticpy[extra]`\n",
    "\n",
    "You can also install multiple extras at once:\n",
    "`%pip install msticpy[extra1,extra2,...]`\n",
    "\n",
    "Ref: https://msticpy.readthedocs.io/en/latest/getting_started/Installing.html"
   ]
  },
  {
   "cell_type": "code",
   "execution_count": null,
   "metadata": {},
   "outputs": [],
   "source": [
    "#pip install msticpy[all]"
   ]
  },
  {
   "cell_type": "markdown",
   "metadata": {},
   "source": [
    "Setting up MSTICPy for use is easy - the preferred method to import the package is with the `mp` alias. <br>\n",
    "Once imported you can then call the `init_notebook` feature that will perform the required imports and other set up to get you up and running.<br>\n",
    "`init_notebook` does a number of things:\n",
    " - Import key features in the package for easy access\n",
    " - Perform set up steps specific to certain environments (such as AML or Synapse) if running notebooks there\n",
    " - Sets up Pivots (more on these later)\n",
    " - Can load a set of default providers (if set)"
   ]
  },
  {
   "cell_type": "code",
   "execution_count": null,
   "metadata": {},
   "outputs": [],
   "source": [
    "#Set up MSTICPy\n",
    "%env MSTICPYCONFIG=./msticpyconfig.yaml\n",
    "import msticpy as mp\n",
    "mp.init_notebook()"
   ]
  },
  {
   "cell_type": "markdown",
   "metadata": {},
   "source": [
    "## Finding features in MSTICPy\n",
    "MSTICPy has a wide range of features, knowing where these are and how to use them is key.\n",
    "\n",
    "You can search for features using the `search` feature. This allows you to search the MSTICPy package for anything matching you search term.\n",
    "\n",
    "Ref: https://msticpy.readthedocs.io/en/latest/getting_started/QuickStart.html#searching-for-a-msticpy-module"
   ]
  },
  {
   "cell_type": "code",
   "execution_count": null,
   "metadata": {},
   "outputs": [],
   "source": [
    "mp.search(\"graph\")"
   ]
  },
  {
   "cell_type": "markdown",
   "metadata": {},
   "source": [
    "## MSTICPy's config file\n",
    "\n",
    "MSTICPy can handle connections to a variety of data sources and services, including Microsoft Sentinel, Defender, and Kusto.\n",
    "\n",
    "To make it easier to manage and re-use the configuration and credentials fo these things MSTICPy has its own config file that holds these items - `msticpyconfig.yaml`\n",
    "\n",
    "We will have a session later covering the configuration file in depth where you will populate your own file with key details.<br>\n",
    "For now we have a skeleton config file for you with a few items populated that we are going to use here.\n",
    "\n",
    "You can populate msticpyconfig manually or you can used MSTICPy's settings editor to view and edit the settings stored there.<br>\n",
    "Here we use settings editor to look at what we currently have populated.\n",
    "\n",
    "Ref: https://msticpy.readthedocs.io/en/latest/getting_started/msticpyconfig.html"
   ]
  },
  {
   "cell_type": "code",
   "execution_count": null,
   "metadata": {},
   "outputs": [],
   "source": [
    "mp.MpConfigEdit()"
   ]
  },
  {
   "cell_type": "markdown",
   "metadata": {},
   "source": [
    "### Lets get some data from Sentinel\n",
    "\n",
    "To show you some of things MSTICPy can do we have a short example of getting some data from Sentinel, enriching it, and visualizing it. We will be deep diving into each of these elements in much more detail during the training.\n",
    "\n",
    "Ref: https://msticpy.readthedocs.io/en/latest/DataAcquisition.html\n",
    "\n",
    "The first step is to load a QueryProvider for Sentinel:"
   ]
  },
  {
   "cell_type": "code",
   "execution_count": null,
   "metadata": {},
   "outputs": [],
   "source": [
    "qry_prov = mp.QueryProvider(\"MSSentinel\")\n",
    "qry_prov.connect(mp.WorkspaceConfig())"
   ]
  },
  {
   "cell_type": "markdown",
   "metadata": {},
   "source": [
    "Now we can run some queries using MSTICPy's built in queries:"
   ]
  },
  {
   "cell_type": "code",
   "execution_count": null,
   "metadata": {},
   "outputs": [],
   "source": [
    "signin_df = qry_prov.Azure.list_all_signins_geo()\n",
    "signin_df.head()"
   ]
  },
  {
   "cell_type": "markdown",
   "metadata": {},
   "source": [
    "Next we will user MSTICPy's threat intelligence features to see if any of the logon IPs in our dataset appear in our Threat Intelligence feeds.\n",
    "\n",
    "Ref: https://msticpy.readthedocs.io/en/latest/data_acquisition/TIProviders.html"
   ]
  },
  {
   "cell_type": "code",
   "execution_count": null,
   "metadata": {},
   "outputs": [],
   "source": [
    "ti_lookup = mp.TILookup()\n",
    "results_df = ti_lookup.lookup_iocs(signin_df[signin_df[\"ResultType\"] != 0].head(100), \"IPAddress\")\n",
    "results_df.head()"
   ]
  },
  {
   "cell_type": "code",
   "execution_count": null,
   "metadata": {},
   "outputs": [],
   "source": [
    "ti_lookup.browse_results(results_df)"
   ]
  },
  {
   "cell_type": "markdown",
   "metadata": {},
   "source": [
    "We can also use MSTICPy's visualization features to look at the data in a different way:\n",
    "\n",
    "Ref: https://msticpy.readthedocs.io/en/latest/visualization/EventTimeline.html"
   ]
  },
  {
   "cell_type": "code",
   "execution_count": null,
   "metadata": {},
   "outputs": [],
   "source": [
    "signin_df.mp_plot.timeline(group_by=\"ResultType\")"
   ]
  },
  {
   "cell_type": "code",
   "execution_count": null,
   "metadata": {},
   "outputs": [],
   "source": [
    "signin_df = signin_df.replace(r'', 0, regex=True)\n",
    "signin_df[\"Latitude\"] = signin_df[\"Latitude\"].astype(float)\n",
    "signin_df[\"Longitude\"] = signin_df[\"Longitude\"].astype(float)\n",
    "signin_df.head(100).mp_plot.folium_map(lat_column=\"Latitude\", long_column=\"Longitude\", layer_column=\"ResultType\")"
   ]
  },
  {
   "cell_type": "markdown",
   "metadata": {},
   "source": [
    "We can also access features through something called Pivots - which allow you to take a common entity (such as an IP address) and performs some common actions on it.\n",
    "\n",
    "Ref: https://msticpy.readthedocs.io/en/latest/data_analysis/PivotFunctions.html"
   ]
  },
  {
   "cell_type": "code",
   "execution_count": null,
   "metadata": {},
   "outputs": [],
   "source": [
    "Url.MSSentinel.DeviceNetworkEvents_url_connections(url=\"www.microsoft.com\").head()"
   ]
  },
  {
   "cell_type": "code",
   "execution_count": null,
   "metadata": {},
   "outputs": [],
   "source": [
    "(\n",
    "    Url.MSSentinel.DeviceNetworkEvents_url_connections(url=\"www.microsoft.com\")\n",
    "    # Lookup IPs\n",
    "    .mp_pivot.run(IpAddress.ti.lookup_ip, column=\"RemoteIP\", join=\"left\")\n",
    "    # lookup whois info for IPs\n",
    "    .mp_pivot.run(IpAddress.util.whois, column=\"Ioc\", join=\"left\").head(50)\n",
    "    # display sample of intermediate results\n",
    "    # Send the output of this to a plot\n",
    "    .mp_plot.timeline(\n",
    "        title=\"Connections to microsoft.com by device\",\n",
    "        time_column=\"TimeGenerated_src\",\n",
    "        source_columns=[\"RemoteIP_src\", \"DeviceName_src\", \"asn_description\"],\n",
    "        group_by=\"DeviceName_src\"\n",
    "    )\n",
    ")"
   ]
  },
  {
   "cell_type": "code",
   "execution_count": null,
   "metadata": {},
   "outputs": [],
   "source": []
  }
 ],
 "metadata": {
  "kernelspec": {
   "display_name": "msticpy_training",
   "language": "python",
   "name": "python3"
  },
  "language_info": {
   "codemirror_mode": {
    "name": "ipython",
    "version": 3
   },
   "file_extension": ".py",
   "mimetype": "text/x-python",
   "name": "python",
   "nbconvert_exporter": "python",
   "pygments_lexer": "ipython3",
   "version": "3.8.13 (default, Oct 19 2022, 22:38:03) [MSC v.1916 64 bit (AMD64)]"
  },
  "orig_nbformat": 4,
  "vscode": {
   "interpreter": {
    "hash": "6095bcd1f13cf4183aa2ae0e347c65ea7e7069a537781621e1c72af4eaf1e436"
   }
  }
 },
 "nbformat": 4,
 "nbformat_minor": 2
}
