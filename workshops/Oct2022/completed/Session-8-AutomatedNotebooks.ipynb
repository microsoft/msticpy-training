{
 "cells": [
  {
   "cell_type": "markdown",
   "metadata": {},
   "source": [
    "## MSTICPy and Notebooks in InfoSec\n",
    "\n",
    "---\n",
    "\n",
    "# <a style=\"border: solid; padding:5pt; color:black; background-color:#909090\">Automated Notebooks</a>\n",
    "\n",
    "---\n",
    "\n",
    "\n",
    "## What this session covers:\n",
    " - Setting Parameters in a Notebook\n",
    " - Injecting Parameters into a Notebook\n",
    " - Automatically executing a Notebook\n",
    "\n",
    "## Prerequisites\n",
    "- Python >= 3.8 Environment\n",
    "- Jupyter installed\n",
    "- MSTICPy\n",
    "- Papermill\n",
    "- The msticpyconfig.yaml file from the training repo"
   ]
  },
  {
   "cell_type": "code",
   "execution_count": null,
   "metadata": {},
   "outputs": [],
   "source": [
    "#Set up MSTICPy\n",
    "%env MSTICPYCONFIG=./msticpyconfig.yaml\n",
    "import msticpy as mp\n",
    "mp.init_notebook()"
   ]
  },
  {
   "cell_type": "code",
   "execution_count": null,
   "metadata": {},
   "outputs": [],
   "source": [
    "# Load our query provider\n",
    "qry_prov = mp.QueryProvider(\"LocalData\")\n",
    "qry_prov.connect()"
   ]
  },
  {
   "cell_type": "markdown",
   "metadata": {},
   "source": [
    "## <a style=\"border: solid; padding:5pt; color:black; background-color:#309030\">Exercise - Set Up a Parameter Cell</a>\n",
    "\n",
    "Set the cell below to accept parameters.\n",
    "The logic of the notebook should also support a default value so if parameters are not provided the notebook still runs, the parameter should have the variable name of `ip`.\n",
    "\n",
    "<details>\n",
    "<summary>Hints...</summary>\n",
    "<ul>\n",
    "<li>https://papermill.readthedocs.io/en/latest/usage-parameterize.html</li>\n",
    "</ul>\n",
    "</details>"
   ]
  },
  {
   "cell_type": "code",
   "execution_count": null,
   "metadata": {},
   "outputs": [],
   "source": [
    "# Set an IP Parameter\n"
   ]
  },
  {
   "cell_type": "markdown",
   "metadata": {},
   "source": [
    "## <a style=\"border: solid; padding:5pt; color:black; background-color:#309030\">Bonus Exercise - Widgets</a>\n",
    "\n",
    "We want to ensure this notebook can be used both via automation as well as interactively.\n",
    "\n",
    "1. Create a widget that allows a user to provide an IP address assigned to the ip variable.\n",
    "2. Have the widget default to the injected parameter value for IP.\n",
    "\n",
    "<details>\n",
    "<summary>Hints...</summary>\n",
    "<ul>\n",
    "<li>https://msticpy.readthedocs.io/en/latest/visualization/NotebookWidgets.html</li>\n",
    "</ul>\n",
    "</details>\n"
   ]
  },
  {
   "cell_type": "code",
   "execution_count": null,
   "metadata": {},
   "outputs": [],
   "source": [
    "# Add a widget that allows a user to set a value but defaults to a parameter if set"
   ]
  },
  {
   "cell_type": "code",
   "execution_count": null,
   "metadata": {},
   "outputs": [],
   "source": [
    "office_df = qry_prov.Office365.list_activity_for_ip(ip)\n",
    "office_df.head()"
   ]
  },
  {
   "cell_type": "code",
   "execution_count": null,
   "metadata": {},
   "outputs": [],
   "source": [
    "office_df.mp_plot.timeline(group_by=\"Operation\")"
   ]
  }
 ],
 "metadata": {
  "kernelspec": {
   "display_name": "dev38",
   "language": "python",
   "name": "python3"
  },
  "language_info": {
   "codemirror_mode": {
    "name": "ipython",
    "version": 3
   },
   "file_extension": ".py",
   "mimetype": "text/x-python",
   "name": "python",
   "nbconvert_exporter": "python",
   "pygments_lexer": "ipython3",
   "version": "3.8.10"
  },
  "orig_nbformat": 4,
  "vscode": {
   "interpreter": {
    "hash": "739aa94d41434660cad201339437bbf6f0b217d6c8b6dd6d17fce87baec5c88f"
   }
  }
 },
 "nbformat": 4,
 "nbformat_minor": 2
}
