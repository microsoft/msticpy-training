{
 "cells": [
  {
   "cell_type": "markdown",
   "metadata": {},
   "source": [
    "## MSTICPy and Notebooks in InfoSec\n",
    "\n",
    "---\n",
    "\n",
    "<h1 style=\"border: solid; padding:5pt; color:black; background-color:#909090\">Session 7 - Visualization</h1>\n",
    "\n",
    "---\n",
    "\n",
    "## What this session covers:\n",
    "\n",
    "- Event timelines\n",
    "  - Basics\n",
    "  - Grouping\n",
    "  - Hover columns\n",
    "  - Variants - timeline_values, timeline_duration\n",
    "- Process Tree\n",
    "- Graphs\n",
    "\n",
    "\n",
    "## Prerequisites\n",
    "- Python >= 3.8 Environment\n",
    "- Jupyter installed\n",
    "- MSTICPy installed\n",
    "- Run az login\n",
    "\n",
    "## Recommended\n",
    "- VS Code\n"
   ]
  },
  {
   "cell_type": "markdown",
   "metadata": {},
   "source": [
    "---\n",
    "\n",
    "# <a style=\"border: solid; padding:5pt; color:black; background-color:#909090\">Notebook Setup</a>\n",
    "\n",
    "---"
   ]
  },
  {
   "cell_type": "code",
   "execution_count": null,
   "metadata": {},
   "outputs": [],
   "source": [
    "%env MSTICPYCONFIG=./msticpyconfig.yaml\n",
    "import msticpy as mp\n",
    "mp.init_notebook()"
   ]
  },
  {
   "cell_type": "markdown",
   "metadata": {},
   "source": [
    "---\n",
    "\n",
    "# <a style=\"border: solid; padding:5pt; color:black; background-color:#909090\">MSTICPy Timeline</a>\n",
    "\n",
    "---\n",
    "\n",
    "### - Use Bokeh plots (Python/Javascript visualization library)\n",
    "### - Will work with any data that has a time stamp\n",
    "### - Grouping by property\n",
    "### - Hover/tooltips\n",
    "### - Invoked from `pandas` accessor\n",
    "#### [Reference: Timeline Documentation](https://msticpy.readthedocs.io/en/latest/visualization/EventTimeline.html)"
   ]
  },
  {
   "cell_type": "markdown",
   "metadata": {},
   "source": [
    "## Note: Read data from an excel sheet\n",
    "\n",
    "- You need to `pip install openpyxl`\n",
    "- `df = pd.read_excel('/path/to/file.xlsx')`\n",
    "\n",
    "#### You may need to play around with things like date formats since Excel\n",
    "- Sometimes gives you dates as string\n",
    "- Doesn't support timezone-aware dates\n",
    "\n",
    "> We're going to use `procs_df = qry_local.WindowsSecurity.list_host_processes_mde()`"
   ]
  },
  {
   "cell_type": "code",
   "execution_count": null,
   "metadata": {},
   "outputs": [],
   "source": [
    "procs_df = pd.read_excel(\"./data/host_procs.xlsx\")\n",
    "procs_df.head()"
   ]
  },
  {
   "cell_type": "code",
   "execution_count": null,
   "metadata": {},
   "outputs": [],
   "source": [
    "qry_local = mp.QueryProvider(\"LocalData\")\n",
    "procs_df = qry_local.M365D.list_host_processes_mde()"
   ]
  },
  {
   "cell_type": "code",
   "execution_count": null,
   "metadata": {},
   "outputs": [],
   "source": [
    "procs_df.mp_plot.timeline(time_column=\"CreatedProcessCreationTime\")"
   ]
  },
  {
   "cell_type": "markdown",
   "metadata": {},
   "source": [
    "## Navigating Bokeh plots\n",
    "\n",
    "### Toolbar\n",
    "\n",
    "![Bokeh toolbar](./media/bokeh_toolbar.png)"
   ]
  },
  {
   "cell_type": "markdown",
   "metadata": {},
   "source": [
    "![Bokeh RangeTool](./media/Bokeh_rangecontrol.png)"
   ]
  },
  {
   "cell_type": "code",
   "execution_count": null,
   "metadata": {},
   "outputs": [],
   "source": [
    "help(procs_df.mp_plot.timeline)"
   ]
  },
  {
   "cell_type": "markdown",
   "metadata": {},
   "source": [
    "## Grouping timeline events\n",
    "\n"
   ]
  },
  {
   "cell_type": "code",
   "execution_count": null,
   "metadata": {},
   "outputs": [],
   "source": [
    "procs_df.mp_plot.timeline(\n",
    "    time_column=\"CreatedProcessCreationTime\",\n",
    "    group_by=\"CreatedProcessAccountName\",\n",
    "    legend=\"none\"\n",
    ")"
   ]
  },
  {
   "cell_type": "markdown",
   "metadata": {},
   "source": [
    "## Adding hover (tooltip) columns\n",
    "\n",
    "## <a style=\"border: solid; padding:5pt; color:black; background-color:#309030\">Task 1 - Add tooltip columnsName</a>\n",
    "\n",
    "Add some informative columns to the the hover/tooltip box\n",
    "\n",
    "1. Choose the columns from the list of available columns\n",
    "2. Use Python `help(procs_df.mp_plot.timeline)` to find the correct parameter name to specify the list of columns\n",
    "3. Extend the previous plot to add the columns\n",
    "\n",
    "\n",
    "<details>\n",
    "<summary>Hints...</summary>\n",
    "<ul>\n",
    "<li>Use the cell below to identify columns in the source dataframe.</li>\n",
    "<li>Use the <b>source_columns</b> to specify a list of columns.</li>\n",
    "<li>Final command should look something like this\n",
    "<pre>\n",
    "procs_df.mp_plot.timeline(\n",
    "    time_column=\"CreatedProcessCreationTime\",\n",
    "    group_by=\"CreatedProcessAccountName\",\n",
    "    legend=\"none\",\n",
    "    source_columns=[\"CreatedProcessName\", \"CreatedProcessCommandLine\"]\n",
    ")\n",
    "</pre>\n",
    "</li>\n",
    "</ul>\n",
    "</details>\n"
   ]
  },
  {
   "cell_type": "code",
   "execution_count": null,
   "metadata": {},
   "outputs": [],
   "source": [
    "procs_df.filter(regex=\"CreatedProcess.*\").columns"
   ]
  },
  {
   "cell_type": "code",
   "execution_count": null,
   "metadata": {},
   "outputs": [],
   "source": [
    "procs_df.mp_plot.timeline(\n",
    "    time_column=\"CreatedProcessCreationTime\",\n",
    "    group_by=\"CreatedProcessAccountName\",\n",
    "    legend=\"none\",\n",
    "    #...\n",
    ")"
   ]
  },
  {
   "cell_type": "markdown",
   "metadata": {},
   "source": [
    "---\n",
    "\n",
    "# <a style=\"border: solid; padding:5pt; color:black; background-color:#909090\">Timeline variants</a>\n",
    "\n",
    "---"
   ]
  },
  {
   "cell_type": "markdown",
   "metadata": {},
   "source": [
    "## Timeline duration\n",
    "\n",
    "Highlight the start and end of activity"
   ]
  },
  {
   "cell_type": "code",
   "execution_count": null,
   "metadata": {},
   "outputs": [],
   "source": [
    "procs_df.mp_plot.timeline_duration(\n",
    "    time_column=\"CreatedProcessCreationTime\",\n",
    "    group_by=\"CreatedProcessAccountName\",\n",
    "    source_columns=[\"CreatedProcessName\", \"CreatedProcessCommandLine\"]\n",
    ")"
   ]
  },
  {
   "cell_type": "markdown",
   "metadata": {},
   "source": [
    "## Timeline values - plot scalar values\n"
   ]
  },
  {
   "cell_type": "code",
   "execution_count": null,
   "metadata": {},
   "outputs": [],
   "source": [
    "help(procs_df.mp_plot.timeline_values)"
   ]
  },
  {
   "cell_type": "markdown",
   "metadata": {},
   "source": [
    "### Breakdown of the following command\n",
    "\n",
    "\n",
    "| `qry_local` | `.Network `    | `.list_azure_network_flows_by_ip()` | `.mp_plot`  | `.timeline_values(` |\n",
    "|-------------|----------------|-------------------------------------|-------------|---------------------|\n",
    "| provider    | query_category | query (returns DF)                  | pd accessor | plot function       |"
   ]
  },
  {
   "cell_type": "code",
   "execution_count": null,
   "metadata": {},
   "outputs": [],
   "source": [
    "qry_local.Network.list_azure_network_flows_by_ip().mp_plot.timeline_values(\n",
    "    time_column=\"FlowStartTime\",\n",
    "    value_column=\"TotalAllowedFlows\",\n",
    "    group_by=\"L7Protocol\",\n",
    "    kind=[\"circle\", \"vbar\"],\n",
    "    source_columns=[\"AllExtIPs\"]\n",
    ")\n"
   ]
  },
  {
   "cell_type": "markdown",
   "metadata": {},
   "source": [
    "---\n",
    "\n",
    "# <a style=\"border: solid; padding:5pt; color:black; background-color:#909090\">Process Tree</a>\n",
    "\n",
    "---\n",
    "\n",
    "### [Reference: Process Tree](https://msticpy.readthedocs.io/en/latest/visualization/ProcessTree.html)"
   ]
  },
  {
   "cell_type": "code",
   "execution_count": null,
   "metadata": {},
   "outputs": [],
   "source": [
    "procs_df.mp_plot.process_tree()"
   ]
  },
  {
   "cell_type": "markdown",
   "metadata": {},
   "source": [
    "## <a style=\"border: solid; padding:5pt; color:black; background-color:#309030\">Task 2 - Process Tree</a>\n",
    "\n",
    "Plot process tree with legend highlighting process name.\n",
    "\n",
    "1. Extend the previous plot command to color by process name\n",
    "2. Optionally, hide the legend box \n",
    "\n",
    "Use help(procs_df.mp_plot.process_tree) to see function help\n",
    "<details>\n",
    "<summary>Hints...</summary>\n",
    "<ul>\n",
    "\n",
    "<li>Use <b>legend_col={col_name}</b>parameter</li>\n",
    "<li>Use <b>hide_legend=True</b>parameter</li>\n",
    "<li>Command should look like this\n",
    "<pre>\n",
    "procs_df.mp_plot.process_tree(\n",
    "    legend_col=\"CreatedProcessName\",\n",
    "    hide_legend=True\n",
    ")\n",
    "</pre>\n",
    "</li>\n",
    "</ul>\n",
    "</details>\n"
   ]
  },
  {
   "cell_type": "code",
   "execution_count": null,
   "metadata": {},
   "outputs": [],
   "source": [
    "procs_df.mp_plot.process_tree(\n",
    "    # ...\n",
    ")"
   ]
  },
  {
   "cell_type": "markdown",
   "metadata": {},
   "source": [
    "## Mini appendix\n",
    "### Process tree utilities to investigation parts of the tree"
   ]
  },
  {
   "cell_type": "code",
   "execution_count": null,
   "metadata": {},
   "outputs": [],
   "source": [
    "# build a process tree DF\n",
    "proc_tree = procs_df.mp.build_process_tree()"
   ]
  },
  {
   "cell_type": "code",
   "execution_count": null,
   "metadata": {},
   "outputs": [],
   "source": [
    "from msticpy.transform.process_tree_utils import get_children, get_ancestors, get_siblings, get_roots, get_descendents\n",
    "\n",
    "# return root processes\n",
    "get_roots(proc_tree)"
   ]
  },
  {
   "cell_type": "code",
   "execution_count": null,
   "metadata": {},
   "outputs": [],
   "source": [
    "get_children(proc_tree, source=\"outlook.exe|10576|2021-06-22 00:42:37.789900\")"
   ]
  },
  {
   "cell_type": "code",
   "execution_count": null,
   "metadata": {},
   "outputs": [],
   "source": [
    "get_descendents(proc_tree, source=\"outlook.exe|10576|2021-06-22 00:42:37.789900\")"
   ]
  },
  {
   "cell_type": "code",
   "execution_count": null,
   "metadata": {},
   "outputs": [],
   "source": [
    "proc_tree[proc_tree.index.str.startswith(\"powershell.exe\")].head()"
   ]
  },
  {
   "cell_type": "code",
   "execution_count": null,
   "metadata": {},
   "outputs": [],
   "source": [
    "get_descendents(proc_tree, source=\"outlook.exe|10576|2021-06-22 00:42:37.789900\").mp_plot.process_tree()"
   ]
  },
  {
   "cell_type": "markdown",
   "metadata": {},
   "source": [
    "---\n",
    "\n",
    "# <a style=\"border: solid; padding:5pt; color:black; background-color:#909090\">Creating and plotting graphs</a>\n",
    "\n",
    "---\n",
    "\n",
    "### [Reference: Graphs/Networks](https://msticpy.readthedocs.io/en/latest/visualization/NetworkGraph.html)"
   ]
  },
  {
   "cell_type": "code",
   "execution_count": null,
   "metadata": {},
   "outputs": [],
   "source": [
    "help(procs_df.mp.to_graph)"
   ]
  },
  {
   "cell_type": "code",
   "execution_count": null,
   "metadata": {},
   "outputs": [],
   "source": [
    "procs_df.mp_plot.network(\n",
    "    source_col=\"CreatedProcessAccountName\",\n",
    "    target_col=\"CreatedProcessName\"\n",
    ")\n"
   ]
  },
  {
   "cell_type": "markdown",
   "metadata": {},
   "source": [
    "## Adding node attributes"
   ]
  },
  {
   "cell_type": "code",
   "execution_count": null,
   "metadata": {},
   "outputs": [],
   "source": [
    "procs_df.mp_plot.network(\n",
    "    source_col=\"CreatedProcessParentName\",\n",
    "    target_col=\"CreatedProcessName\",\n",
    "    target_attrs=[\"CreatedProcessAccountName\"],\n",
    "    # source_attrs=[...],\n",
    "    # edge_attr=[...],\n",
    ")"
   ]
  },
  {
   "cell_type": "markdown",
   "metadata": {},
   "source": [
    "## <a style=\"border: solid; padding:5pt; color:black; background-color:#309030\">Task 3 - Plot a graph of processes spawned by cmd.exe</a>\n",
    "\n",
    "Filter the input DataFrame and replot.\n",
    "\n",
    "1. Filter the input data frame to only child processes of `cmd.exe`\n",
    "2. Plot a graph\n",
    "3. Add \"CreatedProcessCommandLine\", \"CreatedProcessCreationTime\" as source node attributes\n",
    "\n",
    "<details>\n",
    "<summary>Hints...</summary>\n",
    "<ul>\n",
    "<li>Use pandas filtering to get only processes whose parent is cmd.exe\n",
    "<pre>\n",
    "procs_df[procs_df[\"CreatedProcessParentName\"].str.contains(\"cmd.exe\")]\n",
    "</pre>\n",
    "</li>\n",
    "<li>Plot the filtered result using the mp_plot.network accessor</li>\n",
    "<li>Add \"CreatedProcessCommandLine\", \"CreatedProcessCreationTime\" to the \"target_attrs\" parameter list</li>\n",
    "<li>Solution should look something like this\n",
    "<pre>\n",
    "procs_df[procs_df[\"CreatedProcessParentName\"].str.contains(\"cmd.exe\")].mp_plot.network(\n",
    "    source_col=\"CreatedProcessParentName\",\n",
    "    target_col=\"CreatedProcessName\",\n",
    "    target_attrs=[\"CreatedProcessAccountName\", \"CreatedProcessCommandLine\"]\n",
    ")\n",
    "</pre>\n",
    "</ul>\n",
    "</details>\n",
    " \n"
   ]
  },
  {
   "cell_type": "code",
   "execution_count": null,
   "metadata": {},
   "outputs": [],
   "source": [
    "procs_cmd_df = # filtered procs_df\n",
    "\n",
    "procs_cmd_df.mp_plot.network(\n",
    "    # params\n",
    ")"
   ]
  },
  {
   "cell_type": "markdown",
   "metadata": {},
   "source": [
    "### Can output NetworkX Graph for graph analysis, export to other display tools, etc."
   ]
  },
  {
   "cell_type": "code",
   "execution_count": null,
   "metadata": {},
   "outputs": [],
   "source": [
    "nxgraph = procs_df.mp.to_graph(\n",
    "    source_col=\"CreatedProcessParentName\",\n",
    "    target_col=\"CreatedProcessName\",\n",
    "    target_attrs=[\"CreatedProcessAccountName\", \"CreatedProcessCommandLine\"]\n",
    ")\n",
    "nxgraph"
   ]
  },
  {
   "cell_type": "code",
   "execution_count": null,
   "metadata": {},
   "outputs": [],
   "source": [
    "import networkx as nx\n",
    "nx.draw(nxgraph)"
   ]
  },
  {
   "cell_type": "markdown",
   "metadata": {},
   "source": [
    "---\n",
    "\n",
    "# <a style=\"border: solid; padding:5pt; color:black; background-color:#909090\">Appendix - Other visualizations</a>\n",
    "\n",
    "---\n",
    "\n",
    "## Matrix plots\n",
    "\n",
    "### `df.mp_plot.matrix(...)`"
   ]
  },
  {
   "cell_type": "code",
   "execution_count": null,
   "metadata": {},
   "outputs": [],
   "source": [
    "procs_df.mp_plot.matrix(\n",
    "    x=\"CreatedProcessParentName\",\n",
    "    y=\"CreatedProcessName\",\n",
    "    height=1600,\n",
    ")"
   ]
  },
  {
   "cell_type": "markdown",
   "metadata": {},
   "source": [
    "## Plot inverse - fewer interactions == larger circle"
   ]
  },
  {
   "cell_type": "code",
   "execution_count": null,
   "metadata": {},
   "outputs": [],
   "source": [
    "procs_df.mp_plot.matrix(\n",
    "    x=\"CreatedProcessParentName\",\n",
    "    y=\"CreatedProcessName\",\n",
    "    height=1600,\n",
    "    invert=True\n",
    ")"
   ]
  },
  {
   "cell_type": "code",
   "execution_count": null,
   "metadata": {},
   "outputs": [],
   "source": [
    "procs_df[~procs_df[\"CreatedProcessAccountName\"].isin([\"LOCAL SERVICE\", \"SYSTEM\", \"NETWORK SERVICE\"])].mp_plot.matrix(\n",
    "    x=\"CreatedProcessAccountName\",\n",
    "    y=\"CreatedProcessName\",\n",
    "    height=800,\n",
    "    invert=True,\n",
    "    title=\"Processes executed by user (rarity)\"\n",
    ")"
   ]
  },
  {
   "cell_type": "markdown",
   "metadata": {},
   "source": [
    "## Folium Map\n",
    "\n",
    "### `df.mp_plot.folium_map(...)`"
   ]
  },
  {
   "cell_type": "code",
   "execution_count": null,
   "metadata": {},
   "outputs": [],
   "source": [
    "\n",
    "ioc_df = pd.read_csv(\"./data/cobalt_strike_c2_otx.csv\")\n",
    "ioc_ip_df = ioc_df[ioc_df[\"Indicator type\"] == \"IPv4\"]\n",
    "\n",
    "ioc_ip_df.mp_plot.folium_map(ip_column=\"Indicator\")"
   ]
  }
 ],
 "metadata": {
  "kernelspec": {
   "display_name": "msticpy",
   "language": "python",
   "name": "python3"
  },
  "language_info": {
   "codemirror_mode": {
    "name": "ipython",
    "version": 3
   },
   "file_extension": ".py",
   "mimetype": "text/x-python",
   "name": "python",
   "nbconvert_exporter": "python",
   "pygments_lexer": "ipython3",
   "version": "3.9.7"
  },
  "orig_nbformat": 4,
  "vscode": {
   "interpreter": {
    "hash": "0f1a8e166ce5c1ec1911a36e4fdbd34b2f623e2a3442791008b8ac429a1d6070"
   }
  }
 },
 "nbformat": 4,
 "nbformat_minor": 2
}
